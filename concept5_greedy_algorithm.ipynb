{
    "cells": [
        {
            "cell_type": "markdown",
            "source": [
                "## Greedy Algorithm"
            ],
            "metadata": {}
        },
        {
            "cell_type": "markdown",
            "source": [
                " - 다른 알고리즘이 느릴 경우, **빠른 알고리즘으로서, 부분문제들로 답을 구할 때, 경우의 수를 모두 비교하지 않고, 1개만 선택되는 알고리즘으로 빠른 연산을 함. 그런 만큼 필요충분조건이 있다.**\r\n",
                "     - 최적 부분 구조(Optimal Substructure) : 부분 문제들로 답이 나온다.\r\n",
                "     - 탐욕적 선택 속성(Greedy Choice Property) : 부분 문제로 풀 때, 각 단계에서 탐욕적인 선택(ex> 최대값)이 곧 답(가장 좋은 선택)인 경우\r\n",
                "         - ex> 최대한 적은 동전을 거슬러주기\r\n",
                "             - 최적 부분 구조 있나? 1000원 -> 500원 선택 + 500원 최소동전 / 100원 선택 + 900원 최소동전 ... / 50원 / 10원 -> 총 4가지 경우의수를 가진다.\r\n",
                "             - 탐욕적 선택 속성 있나? 4가지 경우의수 비교시, 가장 동전 값이 큰 500을 선택하면 됨. (일일히 각 경우의 수를 다 비교(max())해서 찾을 필요X)\r\n",
                "             "
            ],
            "metadata": {}
        },
        {
            "cell_type": "markdown",
            "source": [
                " - 개념확인\r\n",
                "     - 동전 거슬러준다고 해서 항상 그리디는 아니다.\r\n",
                "     - 예를 들어, 500/100/50/10의 각 단위들은 **직전단위의 배수들이라 그리디 적용됨**\r\n",
                "     - 예를 들어, 100/70/10의 각 단위들은 배수가 아님. 직후단위가 효율적으로 사용되지 않을 수 있음.\r\n",
                "         - 140원: 100원 1개 + 10원 4개 <<< 70원 2개"
            ],
            "metadata": {}
        },
        {
            "cell_type": "markdown",
            "source": [
                "## 그리디 예시"
            ],
            "metadata": {}
        },
        {
            "cell_type": "markdown",
            "source": [
                "### (쳌)최소 동전으로 거슬러 주기"
            ],
            "metadata": {}
        },
        {
            "cell_type": "markdown",
            "source": [
                "최소 동전으로 돈을 거슬러 주는 함수를 Greedy Algorithm으로 구현해 보겠습니다.\r\n",
                "\r\n",
                "우리가 작성할 함수 min_coin_count는 거슬러 줘야 하는 총액 value와 동전 리스트 coin_list를 파라미터로 받고, 거슬러 주기 위해 필요한 최소 동전 개수를 리턴합니다.\r\n",
                "\r\n",
                "예를 들어 1170원을 거슬러 주기 위해서는 500원 2개, 100원 1개, 50원 1개, 10원 2개를 줄 수 있기 때문에 6을 리턴하면 되겠죠?\r\n",
                "\r\n",
                "동전의 조합은 항상 500원, 100원, 50원, 10원이라고 가정합시다.\r\n",
                "\r\n",
                "```python\r\n",
                "def min_coin_count(value, coin_list):\r\n",
                "    # 코드를 작성하세요.\r\n",
                "\r\n",
                "# 테스트\r\n",
                "default_coin_list = [100, 500, 10, 50]\r\n",
                "print(min_coin_count(1440, default_coin_list))\r\n",
                "print(min_coin_count(1700, default_coin_list))\r\n",
                "print(min_coin_count(23520, default_coin_list))\r\n",
                "print(min_coin_count(32590, default_coin_list))\r\n",
                "```"
            ],
            "metadata": {}
        },
        {
            "cell_type": "code",
            "execution_count": null,
            "source": [
                "# Greedy종특 : N + unit_list를 받음.\r\n",
                "# - 여기선  input:N이 부분문제가 재귀로 안펼쳐짐. n-500 , n//2 의 수준이 아님.\r\n",
                "# **greedy는 문제에서 주어지는 것이 memo나 tabul과 비슷하게 (N,[단위리스트])형태지만, N이 범주형(N번째 등)가 아니라 숫자형(value)일 수 있으며, (value, [단위리스트])가 부분문제로 안나눠질 수 있다. 그럴 땐 탐욕적 속성이 풀리도록 update해서 풀어버린다. update과정에서 value가 unit_list(역순정렬, greedy)에 의해 기하급수적으로 쪼개진다.**\r\n",
                "# **여기서는 ... 부분문제도 안나타나고 + unit_list를 역순으로 돌면서+ unit_list를 다할 때까지 반복하는 것도 신선함.**\r\n",
                "# -- 1500 -> 500 + 1100? , 100 + 1400? (X)\r\n",
                "# -- 1500을 unit 제일 큰것으로 나눠서  1500//x 를 누적으로 세고 + 1500 % x를 가 부분문제의 input:N이 된다.\r\n",
                "# -- top-down이나, bottom-up의 순차적인 패턴이 아니다.\r\n",
                "# --> 할수있는 만큼 해버리는 greedy(그냥 1가지 방법으로 푸는) update방식이며, 부분문제가 없다.\r\n",
                "\r\n",
                "# - 부분문제(재귀)로 안풀고, 끝까지 1가지 방식으로 풀어버리는 greedy가 있다.\r\n",
                "\r\n",
                "def min_coin_count(money, coin_list):\r\n",
                "    # return: 사용된 동전의 갯수\r\n",
                "    curr_count = 0\r\n",
                "\r\n",
                "    # unit_list가 큰순으로 쓰일 예정인데, 정렬을 보장 못받음.\r\n",
                "    sorted_coin_list = sorted(coin_list, reverse=True)\r\n",
                "    # 동전을 큰순으로 시작해서, 몇개까지 들어가는지 세면서, 금액을 나머지로 업데이트 해준다.\r\n",
                "    for coin in sorted_coin_list:\r\n",
                "        count, money = divmod(money, coin)\r\n",
                "        curr_count += count\r\n",
                "    \r\n",
                "    return curr_count\r\n",
                "\r\n",
                "min_coin_count(23520,  [100, 500, 50, 10])\r\n",
                "\r\n",
                "\r\n",
                "\r\n",
                "\r\n"
            ],
            "outputs": [],
            "metadata": {}
        },
        {
            "cell_type": "code",
            "execution_count": null,
            "source": [
                "# my) tabulation의 문제들(최소동전거슬, 계단올라가기)는 (n번째, [단위리스트])의 2가지 인자를 받는 것 같다.\r\n",
                "# - 부분문제를 풀 input: N,  + 단위리스트..\r\n",
                "# - 예시를 들어서 부분문제가 있는지 확인하기. \r\n",
                "# ex> Q1700 = 500+Q1500 or 100+Q1600 or ...\r\n",
                "# - 부분문제로 나뉠 때, 가장 큰 동전을 선택해야 문제가 풀어진다. -> Greedy\r\n",
                "# - Greedy는 각 배반의 경우들(동전들)을 for sorted( 배반list, reverse=True)로 큰 순서대로 돌면서, 처리만 해주면 된다.\r\n",
                "\r\n",
                "def min_coin_count(value, coin_list):\r\n",
                "    # 누적 동전 개수\r\n",
                "    count = 0\r\n",
                "\r\n",
                "    # coin_list의 값들을 큰 순서대로 본다\r\n",
                "    for coin in sorted(coin_list, reverse=True):\r\n",
                "        # 현재 동전으로 몇 개 거슬러 줄 수 있는지 확인한다\r\n",
                "        count += (value // coin)\r\n",
                "\r\n",
                "        # 잔액을 계산한다\r\n",
                "        value %= coin\r\n",
                "\r\n",
                "    return count\r\n",
                "\r\n",
                "# 테스트\r\n",
                "default_coin_list = [100, 500, 10, 50]\r\n",
                "print(min_coin_count(1440, default_coin_list))\r\n",
                "print(min_coin_count(1700, default_coin_list))\r\n",
                "print(min_coin_count(23520, default_coin_list))\r\n",
                "print(min_coin_count(32590, default_coin_list))"
            ],
            "outputs": [
                {
                    "output_type": "stream",
                    "name": "stdout",
                    "text": [
                        "10\n",
                        "5\n",
                        "49\n",
                        "70\n"
                    ]
                }
            ],
            "metadata": {}
        },
        {
            "cell_type": "code",
            "execution_count": null,
            "source": [
                "# 더 간추려서 해설\r\n",
                "def sublist_max(profits):\r\n",
                "    # BF 가능 -> 억지로 n//2의 DC가능 -> n미포함/n포함 의 DC후 둘중에 max를 찾는 greedy\r\n",
                "    # 1. 부분1) 직전까지의 최대수익=직전정답\r\n",
                "    max_profit_so_far = profits[0]\r\n",
                "    # 2. 부분2) n-1조합에 마지막항을 포함하였을 때의 최대수익\r\n",
                "    max_check = profits[0]\r\n",
                "\r\n",
                "    for i in range(1, len(profits)):\r\n",
                "        # 4. 부분2) 마지막항을 포함하는 조합들의 최대수익을 계산하는데,\r\n",
                "        # - 직전max_check는 [1,2,3]이었다면, [3]. [1,3], [2,3], [1,2,3]이다.\r\n",
                "        # - 현재max_check는 <마지막항=현재항[i] 단독> + <마지막항 + [3]. [1,3], [2,3], [1,2,3]>\r\n",
                "        max_check = max(max_check + profits[i], profits[i])\r\n",
                "        # 3. 부분1)을 업뎃시킬려고 보니, max_check가 들어간다.\r\n",
                "        # - 위에서 max_check(직전에, 마지막항을 포함한 조합들의 최대수익)\r\n",
                "        max_profit_so_far = max(max_profit_so_far, max_check)\r\n",
                "\r\n",
                "    return max_profit_so_far\r\n",
                "    "
            ],
            "outputs": [],
            "metadata": {}
        },
        {
            "cell_type": "code",
            "execution_count": null,
            "source": [],
            "outputs": [],
            "metadata": {}
        }
    ],
    "metadata": {
        "orig_nbformat": 4,
        "language_info": {
            "name": "python",
            "version": "3.8.5",
            "mimetype": "text/x-python",
            "codemirror_mode": {
                "name": "ipython",
                "version": 3
            },
            "pygments_lexer": "ipython3",
            "nbconvert_exporter": "python",
            "file_extension": ".py"
        },
        "kernelspec": {
            "name": "python3",
            "display_name": "Python 3.8.5 64-bit (conda)"
        },
        "interpreter": {
            "hash": "b3ba2566441a7c06988d0923437866b63cedc61552a5af99d1f4fb67d367b25f"
        }
    },
    "nbformat": 4,
    "nbformat_minor": 2
}