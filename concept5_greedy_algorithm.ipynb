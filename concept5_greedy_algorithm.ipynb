{
    "cells": [
        {
            "cell_type": "markdown",
            "source": [
                "## Greedy Algorithm"
            ],
            "metadata": {}
        },
        {
            "cell_type": "markdown",
            "source": [
                "### 최소 동전으로 거슬러 주기"
            ],
            "metadata": {}
        },
        {
            "cell_type": "markdown",
            "source": [
                "최소 동전으로 돈을 거슬러 주는 함수를 Greedy Algorithm으로 구현해 보겠습니다.\r\n",
                "\r\n",
                "우리가 작성할 함수 min_coin_count는 거슬러 줘야 하는 총액 value와 동전 리스트 coin_list를 파라미터로 받고, 거슬러 주기 위해 필요한 최소 동전 개수를 리턴합니다.\r\n",
                "\r\n",
                "예를 들어 1170원을 거슬러 주기 위해서는 500원 2개, 100원 1개, 50원 1개, 10원 2개를 줄 수 있기 때문에 6을 리턴하면 되겠죠?\r\n",
                "\r\n",
                "동전의 조합은 항상 500원, 100원, 50원, 10원이라고 가정합시다.\r\n",
                "\r\n",
                "```python\r\n",
                "def min_coin_count(value, coin_list):\r\n",
                "    # 코드를 작성하세요.\r\n",
                "\r\n",
                "# 테스트\r\n",
                "default_coin_list = [100, 500, 10, 50]\r\n",
                "print(min_coin_count(1440, default_coin_list))\r\n",
                "print(min_coin_count(1700, default_coin_list))\r\n",
                "print(min_coin_count(23520, default_coin_list))\r\n",
                "print(min_coin_count(32590, default_coin_list))\r\n",
                "```"
            ],
            "metadata": {}
        },
        {
            "cell_type": "code",
            "execution_count": null,
            "source": [
                "# - 예시를 들어서 부분문제가 있는지 확인하기. \r\n",
                "# ex> Q1700 = 500+Q1500 or 100+Q1600 or ...\r\n",
                "# - 부분문제로 나뉠 때, 가장 큰 동전을 선택해야 문제가 풀어진다. -> Greedy\r\n",
                "# - Greedy는 각 배반의 경우들(동전들)을 for sorted( 배반list, reverse=True)로 큰 순서대로 돌면서, 처리만 해주면 된다.\r\n",
                "\r\n",
                "def min_coin_count(value, coin_list):\r\n",
                "    # 누적 동전 개수\r\n",
                "    count = 0\r\n",
                "\r\n",
                "    # coin_list의 값들을 큰 순서대로 본다\r\n",
                "    for coin in sorted(coin_list, reverse=True):\r\n",
                "        # 현재 동전으로 몇 개 거슬러 줄 수 있는지 확인한다\r\n",
                "        count += (value // coin)\r\n",
                "\r\n",
                "        # 잔액을 계산한다\r\n",
                "        value %= coin\r\n",
                "\r\n",
                "    return count\r\n",
                "\r\n",
                "# 테스트\r\n",
                "default_coin_list = [100, 500, 10, 50]\r\n",
                "print(min_coin_count(1440, default_coin_list))\r\n",
                "print(min_coin_count(1700, default_coin_list))\r\n",
                "print(min_coin_count(23520, default_coin_list))\r\n",
                "print(min_coin_count(32590, default_coin_list))"
            ],
            "outputs": [
                {
                    "output_type": "stream",
                    "name": "stdout",
                    "text": [
                        "10\n",
                        "5\n",
                        "49\n",
                        "70\n"
                    ]
                }
            ],
            "metadata": {}
        },
        {
            "cell_type": "code",
            "execution_count": null,
            "source": [],
            "outputs": [],
            "metadata": {}
        },
        {
            "cell_type": "code",
            "execution_count": null,
            "source": [],
            "outputs": [],
            "metadata": {}
        }
    ],
    "metadata": {
        "orig_nbformat": 4,
        "language_info": {
            "name": "python",
            "version": "3.8.5",
            "mimetype": "text/x-python",
            "codemirror_mode": {
                "name": "ipython",
                "version": 3
            },
            "pygments_lexer": "ipython3",
            "nbconvert_exporter": "python",
            "file_extension": ".py"
        },
        "kernelspec": {
            "name": "python3",
            "display_name": "Python 3.8.5 64-bit (conda)"
        },
        "interpreter": {
            "hash": "b3ba2566441a7c06988d0923437866b63cedc61552a5af99d1f4fb67d367b25f"
        }
    },
    "nbformat": 4,
    "nbformat_minor": 2
}