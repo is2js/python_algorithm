{
    "cells": [
        {
            "cell_type": "code",
            "execution_count": 3,
            "source": [
                "# 복습1. x를 y번 누적:  y번 반복하는  ---> O(y)\r\n",
                "def power(x,y):\r\n",
                "    total  = 1 \r\n",
                "    for _ in range(y):\r\n",
                "        total *= x \r\n",
                "    \r\n",
                "    return total\r\n",
                "\r\n",
                "power(2,10)"
            ],
            "outputs": [
                {
                    "output_type": "execute_result",
                    "data": {
                        "text/plain": [
                            "1024"
                        ]
                    },
                    "metadata": {},
                    "execution_count": 3
                }
            ],
            "metadata": {}
        },
        {
            "cell_type": "code",
            "execution_count": 4,
            "source": [
                "# 복습2. 재귀인 f(y) = f(y-1) * x로 바꿔도 ---> O(y) \r\n",
                "def power(x,y):\r\n",
                "    # base\r\n",
                "    if y == 0:\r\n",
                "        return 1 \r\n",
                "\r\n",
                "    return power(x,y-1)  * x\r\n",
                "    \r\n",
                "power(2,10)"
            ],
            "outputs": [
                {
                    "output_type": "execute_result",
                    "data": {
                        "text/plain": [
                            "1024"
                        ]
                    },
                    "metadata": {},
                    "execution_count": 4
                }
            ],
            "metadata": {}
        },
        {
            "cell_type": "code",
            "execution_count": 6,
            "source": [
                "# 복습3. O(y)를  O(lg y)로 줄이는 재귀 + 부분문제 divide가 [ y//2 ]가 적용가능한지 보기\r\n",
                "# - y//2가 똑같은 것이 등장한다?  y-1,y-2는 tabulation -> 공간최적화 가능  y//2 등 팍팍주는 것은 top-down으로 -> memoization 사용\r\n",
                "# - y//2: 절반씩 줄어들 때, //2에서 2의배수가 아니라면(당연히 나누어지는 것을 int목적으로 나누기대신 사용하는게 아니라면), 홀수인지 짝수인지 판단필수!!\r\n",
                "# -- 6//2 = 3,  5//2 = 2 -> 2 * 2 -> 1더 필요.. -> x를 그냥 한번 더 곱해줘야한다.\r\n",
                "def power(x,y):\r\n",
                "    # base\r\n",
                "    if y == 0:\r\n",
                "        return 1 \r\n",
                "\r\n",
                "    # recursive\r\n",
                "    if y%2==0:\r\n",
                "        return power(x, y//2)  * power(x, y//2)\r\n",
                "    else:\r\n",
                "        return x * power(x, y//2)  * power(x, y//2)\r\n",
                "\r\n",
                "    \r\n",
                "    \r\n",
                "power(2,10)\r\n"
            ],
            "outputs": [
                {
                    "output_type": "execute_result",
                    "data": {
                        "text/plain": [
                            "1024"
                        ]
                    },
                    "metadata": {},
                    "execution_count": 6
                }
            ],
            "metadata": {}
        },
        {
            "cell_type": "code",
            "execution_count": 20,
            "source": [
                "import itertools\r\n",
                "\r\n",
                "[ ''.join(x) for x in itertools.permutations('ABCD', 2)]"
            ],
            "outputs": [
                {
                    "output_type": "execute_result",
                    "data": {
                        "text/plain": [
                            "['AB', 'AC', 'AD', 'BA', 'BC', 'BD', 'CA', 'CB', 'CD', 'DA', 'DB', 'DC']"
                        ]
                    },
                    "metadata": {},
                    "execution_count": 20
                }
            ],
            "metadata": {}
        },
        {
            "cell_type": "code",
            "execution_count": 23,
            "source": [
                "list(map(''.join, itertools.permutations('ABCD', 2)))"
            ],
            "outputs": [
                {
                    "output_type": "execute_result",
                    "data": {
                        "text/plain": [
                            "['AB', 'AC', 'AD', 'BA', 'BC', 'BD', 'CA', 'CB', 'CD', 'DA', 'DB', 'DC']"
                        ]
                    },
                    "metadata": {},
                    "execution_count": 23
                }
            ],
            "metadata": {}
        },
        {
            "cell_type": "code",
            "execution_count": 44,
            "source": [
                "import collections \r\n",
                "\r\n",
                "string = 'asasdfdafwerasdfasdf'\r\n",
                "\r\n",
                "answer = collections.Counter(string)\r\n",
                "\r\n",
                "# answer\r\n",
                "# answer.most_common()\r\n",
                "max_count = max(answer.values())\r\n",
                "\r\n",
                "[ word for word, count in answer.items() if count == max_count ]\r\n",
                "\r\n"
            ],
            "outputs": [
                {
                    "output_type": "execute_result",
                    "data": {
                        "text/plain": [
                            "['a']"
                        ]
                    },
                    "metadata": {},
                    "execution_count": 44
                }
            ],
            "metadata": {}
        },
        {
            "cell_type": "code",
            "execution_count": 30,
            "source": [
                "# z\r\n",
                "collections.Counter([1,2,3,1,23,1])\r\n",
                "\r\n",
                "collections.Counter(['조재성','조재경', '조재성'])"
            ],
            "outputs": [
                {
                    "output_type": "execute_result",
                    "data": {
                        "text/plain": [
                            "Counter({'조재성': 2, '조재경': 1})"
                        ]
                    },
                    "metadata": {},
                    "execution_count": 30
                }
            ],
            "metadata": {}
        },
        {
            "cell_type": "code",
            "execution_count": 48,
            "source": [
                "import bisect\r\n",
                "\r\n",
                "mylist = [1, 2, 3, 7, 9, 11, 33] # 정렬된 리스트\r\n",
                "\r\n",
                "insert_point = bisect.bisect(mylist, 7) \r\n",
                "\r\n",
                "if mylist[insert_point-1] == 7:\r\n",
                "    print(insert_point-1)\r\n",
                "else:\r\n",
                "    print(-1)"
            ],
            "outputs": [
                {
                    "output_type": "stream",
                    "name": "stdout",
                    "text": [
                        "3\n"
                    ]
                }
            ],
            "metadata": {}
        },
        {
            "cell_type": "code",
            "execution_count": 55,
            "source": [
                "import bisect\r\n",
                "\r\n",
                "def bs_by_bisect(sorted_list, val):\r\n",
                "    insert_point = bisect.bisect(sorted_list, val)\r\n",
                "    return insert_point-1 if sorted_list[insert_point-1] == val else -1, f\"insert to {insert_point}\"\r\n",
                "\r\n",
                "\r\n",
                "bs_by_bisect(mylist, 8)"
            ],
            "outputs": [
                {
                    "output_type": "execute_result",
                    "data": {
                        "text/plain": [
                            "(-1, 'insert to 4')"
                        ]
                    },
                    "metadata": {},
                    "execution_count": 55
                }
            ],
            "metadata": {}
        },
        {
            "cell_type": "code",
            "execution_count": 80,
            "source": [
                "class ArrayStack():\r\n",
                "\r\n",
                "    def __init__(self):\r\n",
                "        self.data = []\r\n",
                "\r\n",
                "    def size(self):\r\n",
                "        return len(self.data)\r\n",
                "\r\n",
                "    def isEmpty(self):\r\n",
                "        return len(self.data) == 0\r\n",
                "\r\n",
                "    def push(self, item):\r\n",
                "        self.data.append(item)\r\n",
                "\r\n",
                "    def pop(self):\r\n",
                "        return self.data.pop()\r\n",
                "    \r\n",
                "    def peek(self):\r\n",
                "        return self.data[-1]\r\n",
                "\r\n",
                "\r\n",
                "#### ArrayStack 1-1: 괄호 유효성 검사\r\n",
                "expr = \"([ㅋㅋㅋㅇㄹ{ㄴㅇㄹ}ㄴㅁㅇㄹ]ㅁㄴㅇ)\"\r\n",
                "\r\n",
                "def 괄호_유효성_검사(expr):\r\n",
                "    match = {\r\n",
                "        ')' : '(',\r\n",
                "        '}' : '{',\r\n",
                "        ']' : '[',\r\n",
                "    }\r\n",
                "\r\n",
                "    S = ArrayStack()\r\n",
                "\r\n",
                "    for c in expr:\r\n",
                "        if c in '({[':\r\n",
                "            S.push(c)\r\n",
                "\r\n",
                "        elif c in match:\r\n",
                "            if S.isEmpty():\r\n",
                "                return False\r\n",
                "            else:\r\n",
                "                t = S.pop()\r\n",
                "                if t != match.get(c):\r\n",
                "                    return False\r\n",
                "                    \r\n",
                "    return S.isEmpty()"
            ],
            "outputs": [
                {
                    "output_type": "stream",
                    "name": "stdout",
                    "text": [
                        "True\n"
                    ]
                }
            ],
            "metadata": {}
        },
        {
            "cell_type": "code",
            "execution_count": 87,
            "source": [
                "#### ArrayStack 1-2: 중위->후위표기식 변환\r\n",
                "def 중위_To_후위(S):\r\n",
                "    prec = {\r\n",
                "        '*':3,'/':3,\r\n",
                "        '+':2, '-':2,\r\n",
                "        '(':1, \r\n",
                "    }\r\n",
                "\r\n",
                "\r\n",
                "    opStack = ArrayStack()\r\n",
                "\r\n",
                "    answer = ''\r\n",
                "\r\n",
                "\r\n",
                "    for s in S:\r\n",
                "        # 1. 여는괄호만나기\r\n",
                "        if s == '(':\r\n",
                "            opStack.push(s)\r\n",
                "        # 2. 그외 연산자 만나기\r\n",
                "        elif s in prec:\r\n",
                "            if opStack.isEmpty():\r\n",
                "                opStack.push(s)\r\n",
                "            else:\r\n",
                "                # stack에 연산자가 차있는 상황이라면, 계속 비교판단해야한다.\r\n",
                "                # 그게.. 경우에 따라, \r\n",
                "                # 1) 우선순위 높은놈이 peek push되있다? pop&출력 후 -> **그 다음 peek과 비교하는 if루프반복 ->while**\r\n",
                "                while not opStack.isEmpty():\r\n",
                "                    if prec[opStack.peek()]  >= prec[s]:\r\n",
                "                        answer += opStack.pop() \r\n",
                "                # 2) 우선순위 낮은놈이 peek push되있다? 빌때까지?ㄴㄴ break로 빠져나와서, 날 peek으로 push해주면 됨. (내가 수식마지막이라서 pop&출력검사는 맨 나중에 한번 더 함.)\r\n",
                "                    else: break\r\n",
                "                opStack.push(s)\r\n",
                "        # 3. 닫는 괄호만나기\r\n",
                "        elif s == ')':\r\n",
                "            # peek로 여는 괄호가 나올때까지 모두 pop()~ 없애주도록 update\r\n",
                "            while opStack.peek() != '(':\r\n",
                "                answer+=opStack.pop() \r\n",
                "            # while특성상 현재 peek ( 여는 괄호 상태다.-> 괄호는 pop으로 날린다.\r\n",
                "            opStack.pop()\r\n",
                "        # 4. 이제 나머지 피연산자들(숫자 혹은 ABCD)\r\n",
                "        # -> 나올때마다 출력만.\r\n",
                "        else:\r\n",
                "            answer+=s\r\n",
                "\r\n",
                "\r\n",
                "    # 5. 스택(연산자push)에 남아있는 것은 없는지 확인해서 다 pop & 출력\r\n",
                "    while not opStack.isEmpty():\r\n",
                "        answer += opStack.pop()\r\n",
                "\r\n",
                "    return answer\r\n",
                "\r\n",
                "\r\n",
                "중위_To_후위('A*(B+C)')"
            ],
            "outputs": [
                {
                    "output_type": "execute_result",
                    "data": {
                        "text/plain": [
                            "'ABC+*'"
                        ]
                    },
                    "metadata": {},
                    "execution_count": 87
                }
            ],
            "metadata": {}
        },
        {
            "cell_type": "code",
            "execution_count": 92,
            "source": [
                "from pythonds.basic.queue import Queue\r\n",
                "\r\n",
                "Q = Queue()\r\n",
                "\r\n",
                "[x for x in dir(Q) if '__' not in x ]"
            ],
            "outputs": [
                {
                    "output_type": "execute_result",
                    "data": {
                        "text/plain": [
                            "['dequeue', 'enqueue', 'isEmpty', 'items', 'size']"
                        ]
                    },
                    "metadata": {},
                    "execution_count": 92
                }
            ],
            "metadata": {}
        },
        {
            "cell_type": "code",
            "execution_count": 95,
            "source": [
                "from collections import deque\r\n",
                "\r\n",
                "\r\n",
                "que = deque()\r\n",
                "\r\n",
                "[x for x in dir(que) if '__' not in x ]"
            ],
            "outputs": [
                {
                    "output_type": "execute_result",
                    "data": {
                        "text/plain": [
                            "['append',\n",
                            " 'appendleft',\n",
                            " 'clear',\n",
                            " 'copy',\n",
                            " 'count',\n",
                            " 'extend',\n",
                            " 'extendleft',\n",
                            " 'index',\n",
                            " 'insert',\n",
                            " 'maxlen',\n",
                            " 'pop',\n",
                            " 'popleft',\n",
                            " 'remove',\n",
                            " 'reverse',\n",
                            " 'rotate']"
                        ]
                    },
                    "metadata": {},
                    "execution_count": 95
                }
            ],
            "metadata": {}
        },
        {
            "cell_type": "code",
            "execution_count": 99,
            "source": [
                "import math\r\n",
                "\r\n",
                "list_ = [2, 4,2,5,1]\r\n",
                "multiple = 1\r\n",
                "\r\n",
                "for x in list_:\r\n",
                "    multiple *= x\r\n",
                "    if type(math.sqrt(multiple)) is int:\r\n",
                "        print(\"found\")\r\n",
                "else:\r\n",
                "    print(\"not found\")\r\n"
            ],
            "outputs": [
                {
                    "output_type": "stream",
                    "name": "stdout",
                    "text": [
                        "not found\n"
                    ]
                }
            ],
            "metadata": {}
        }
    ],
    "metadata": {
        "orig_nbformat": 4,
        "language_info": {
            "name": "python",
            "version": "3.8.5",
            "mimetype": "text/x-python",
            "codemirror_mode": {
                "name": "ipython",
                "version": 3
            },
            "pygments_lexer": "ipython3",
            "nbconvert_exporter": "python",
            "file_extension": ".py"
        },
        "kernelspec": {
            "name": "python3",
            "display_name": "Python 3.8.5 64-bit (conda)"
        },
        "interpreter": {
            "hash": "b3ba2566441a7c06988d0923437866b63cedc61552a5af99d1f4fb67d367b25f"
        }
    },
    "nbformat": 4,
    "nbformat_minor": 2
}