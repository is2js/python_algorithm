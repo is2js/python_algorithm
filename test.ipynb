{
    "cells": [
        {
            "cell_type": "code",
            "execution_count": 3,
            "source": [
                "# 복습1. x를 y번 누적:  y번 반복하는  ---> O(y)\r\n",
                "def power(x,y):\r\n",
                "    total  = 1 \r\n",
                "    for _ in range(y):\r\n",
                "        total *= x \r\n",
                "    \r\n",
                "    return total\r\n",
                "\r\n",
                "power(2,10)"
            ],
            "outputs": [
                {
                    "output_type": "execute_result",
                    "data": {
                        "text/plain": [
                            "1024"
                        ]
                    },
                    "metadata": {},
                    "execution_count": 3
                }
            ],
            "metadata": {}
        },
        {
            "cell_type": "code",
            "execution_count": 4,
            "source": [
                "# 복습2. 재귀인 f(y) = f(y-1) * x로 바꿔도 ---> O(y) \r\n",
                "def power(x,y):\r\n",
                "    # base\r\n",
                "    if y == 0:\r\n",
                "        return 1 \r\n",
                "\r\n",
                "    return power(x,y-1)  * x\r\n",
                "    \r\n",
                "power(2,10)"
            ],
            "outputs": [
                {
                    "output_type": "execute_result",
                    "data": {
                        "text/plain": [
                            "1024"
                        ]
                    },
                    "metadata": {},
                    "execution_count": 4
                }
            ],
            "metadata": {}
        },
        {
            "cell_type": "code",
            "execution_count": 6,
            "source": [
                "# 복습3. O(y)를  O(lg y)로 줄이는 재귀 + 부분문제 divide가 [ y//2 ]가 적용가능한지 보기\r\n",
                "# - y//2가 똑같은 것이 등장한다?  y-1,y-2는 tabulation -> 공간최적화 가능  y//2 등 팍팍주는 것은 top-down으로 -> memoization 사용\r\n",
                "# - y//2: 절반씩 줄어들 때, //2에서 2의배수가 아니라면(당연히 나누어지는 것을 int목적으로 나누기대신 사용하는게 아니라면), 홀수인지 짝수인지 판단필수!!\r\n",
                "# -- 6//2 = 3,  5//2 = 2 -> 2 * 2 -> 1더 필요.. -> x를 그냥 한번 더 곱해줘야한다.\r\n",
                "def power(x,y):\r\n",
                "    # base\r\n",
                "    if y == 0:\r\n",
                "        return 1 \r\n",
                "\r\n",
                "    # recursive\r\n",
                "    if y%2==0:\r\n",
                "        return power(x, y//2)  * power(x, y//2)\r\n",
                "    else:\r\n",
                "        return x * power(x, y//2)  * power(x, y//2)\r\n",
                "\r\n",
                "    \r\n",
                "    \r\n",
                "power(2,10)\r\n"
            ],
            "outputs": [
                {
                    "output_type": "execute_result",
                    "data": {
                        "text/plain": [
                            "1024"
                        ]
                    },
                    "metadata": {},
                    "execution_count": 6
                }
            ],
            "metadata": {}
        },
        {
            "cell_type": "code",
            "execution_count": 20,
            "source": [
                "import itertools\r\n",
                "\r\n",
                "[ ''.join(x) for x in itertools.permutations('ABCD', 2)]"
            ],
            "outputs": [
                {
                    "output_type": "execute_result",
                    "data": {
                        "text/plain": [
                            "['AB', 'AC', 'AD', 'BA', 'BC', 'BD', 'CA', 'CB', 'CD', 'DA', 'DB', 'DC']"
                        ]
                    },
                    "metadata": {},
                    "execution_count": 20
                }
            ],
            "metadata": {}
        },
        {
            "cell_type": "code",
            "execution_count": 23,
            "source": [
                "list(map(''.join, itertools.permutations('ABCD', 2)))"
            ],
            "outputs": [
                {
                    "output_type": "execute_result",
                    "data": {
                        "text/plain": [
                            "['AB', 'AC', 'AD', 'BA', 'BC', 'BD', 'CA', 'CB', 'CD', 'DA', 'DB', 'DC']"
                        ]
                    },
                    "metadata": {},
                    "execution_count": 23
                }
            ],
            "metadata": {}
        },
        {
            "cell_type": "code",
            "execution_count": 44,
            "source": [
                "import collections \r\n",
                "\r\n",
                "string = 'asasdfdafwerasdfasdf'\r\n",
                "\r\n",
                "answer = collections.Counter(string)\r\n",
                "\r\n",
                "# answer\r\n",
                "# answer.most_common()\r\n",
                "max_count = max(answer.values())\r\n",
                "\r\n",
                "[ word for word, count in answer.items() if count == max_count ]\r\n",
                "\r\n"
            ],
            "outputs": [
                {
                    "output_type": "execute_result",
                    "data": {
                        "text/plain": [
                            "['a']"
                        ]
                    },
                    "metadata": {},
                    "execution_count": 44
                }
            ],
            "metadata": {}
        },
        {
            "cell_type": "code",
            "execution_count": 30,
            "source": [
                "# z\r\n",
                "collections.Counter([1,2,3,1,23,1])\r\n",
                "\r\n",
                "collections.Counter(['조재성','조재경', '조재성'])"
            ],
            "outputs": [
                {
                    "output_type": "execute_result",
                    "data": {
                        "text/plain": [
                            "Counter({'조재성': 2, '조재경': 1})"
                        ]
                    },
                    "metadata": {},
                    "execution_count": 30
                }
            ],
            "metadata": {}
        },
        {
            "cell_type": "code",
            "execution_count": 48,
            "source": [
                "import bisect\r\n",
                "\r\n",
                "mylist = [1, 2, 3, 7, 9, 11, 33] # 정렬된 리스트\r\n",
                "\r\n",
                "insert_point = bisect.bisect(mylist, 7) \r\n",
                "\r\n",
                "if mylist[insert_point-1] == 7:\r\n",
                "    print(insert_point-1)\r\n",
                "else:\r\n",
                "    print(-1)"
            ],
            "outputs": [
                {
                    "output_type": "stream",
                    "name": "stdout",
                    "text": [
                        "3\n"
                    ]
                }
            ],
            "metadata": {}
        },
        {
            "cell_type": "code",
            "execution_count": 55,
            "source": [
                "import bisect\r\n",
                "\r\n",
                "def bs_by_bisect(sorted_list, val):\r\n",
                "    insert_point = bisect.bisect(sorted_list, val)\r\n",
                "    return insert_point-1 if sorted_list[insert_point-1] == val else -1, f\"insert to {insert_point}\"\r\n",
                "\r\n",
                "\r\n",
                "bs_by_bisect(mylist, 8)"
            ],
            "outputs": [
                {
                    "output_type": "execute_result",
                    "data": {
                        "text/plain": [
                            "(-1, 'insert to 4')"
                        ]
                    },
                    "metadata": {},
                    "execution_count": 55
                }
            ],
            "metadata": {}
        },
        {
            "cell_type": "code",
            "execution_count": 109,
            "source": [
                "def quick_sort(array):\r\n",
                "    if len(array) <= 1:\r\n",
                "        return array \r\n",
                "\r\n",
                "    pivot = array[0]\r\n",
                "    tail = array[1:]\r\n",
                "\r\n",
                "    left_side = [ x for x in tail if x <= pivot]\r\n",
                "    right_side = [ x for x in tail if x > pivot]\r\n",
                "\r\n",
                "    return quick_sort(left_side) + [pivot] + quick_sort(right_side)\r\n",
                "\r\n",
                "quick_sort([5, 7, 9, 0, 3, 1, 6, 2, 4, 8])\r\n"
            ],
            "outputs": [
                {
                    "output_type": "execute_result",
                    "data": {
                        "text/plain": [
                            "[0, 1, 2, 3, 4, 5, 6, 7, 8, 9]"
                        ]
                    },
                    "metadata": {},
                    "execution_count": 109
                }
            ],
            "metadata": {}
        },
        {
            "cell_type": "code",
            "execution_count": 110,
            "source": [
                "class Node:\r\n",
                "    def __init__(self, item):\r\n",
                "        self.data = item\r\n",
                "        self.prev = None\r\n",
                "        self.next = None"
            ],
            "outputs": [],
            "metadata": {}
        },
        {
            "cell_type": "code",
            "execution_count": 92,
            "source": [
                "from pythonds.basic.queue import Queue\r\n",
                "\r\n",
                "Q = Queue()\r\n",
                "\r\n",
                "[x for x in dir(Q) if '__' not in x ]"
            ],
            "outputs": [
                {
                    "output_type": "execute_result",
                    "data": {
                        "text/plain": [
                            "['dequeue', 'enqueue', 'isEmpty', 'items', 'size']"
                        ]
                    },
                    "metadata": {},
                    "execution_count": 92
                }
            ],
            "metadata": {}
        },
        {
            "cell_type": "code",
            "execution_count": 95,
            "source": [
                "from collections import deque\r\n",
                "\r\n",
                "\r\n",
                "que = deque()\r\n",
                "\r\n",
                "[x for x in dir(que) if '__' not in x ]"
            ],
            "outputs": [
                {
                    "output_type": "execute_result",
                    "data": {
                        "text/plain": [
                            "['append',\n",
                            " 'appendleft',\n",
                            " 'clear',\n",
                            " 'copy',\n",
                            " 'count',\n",
                            " 'extend',\n",
                            " 'extendleft',\n",
                            " 'index',\n",
                            " 'insert',\n",
                            " 'maxlen',\n",
                            " 'pop',\n",
                            " 'popleft',\n",
                            " 'remove',\n",
                            " 'reverse',\n",
                            " 'rotate']"
                        ]
                    },
                    "metadata": {},
                    "execution_count": 95
                }
            ],
            "metadata": {}
        },
        {
            "cell_type": "code",
            "execution_count": 107,
            "source": [
                "import math\r\n",
                "\r\n",
                "list_ = [2, 4,2,5,1]\r\n",
                "multiple = 1\r\n",
                "\r\n",
                "for x in list_:\r\n",
                "    multiple *= x\r\n",
                "    if int(math.sqrt(multiple)) == math.sqrt(multiple):\r\n",
                "    #if type(int(math.sqrt(multiple))) is int:\r\n",
                "        print(\"found\")\r\n",
                "        break\r\n",
                "else:\r\n",
                "    print(\"not found\")\r\n"
            ],
            "outputs": [
                {
                    "output_type": "stream",
                    "name": "stdout",
                    "text": [
                        "found\n"
                    ]
                }
            ],
            "metadata": {}
        },
        {
            "cell_type": "code",
            "execution_count": null,
            "source": [],
            "outputs": [],
            "metadata": {}
        },
        {
            "cell_type": "code",
            "execution_count": null,
            "source": [],
            "outputs": [],
            "metadata": {}
        }
    ],
    "metadata": {
        "orig_nbformat": 4,
        "language_info": {
            "name": "python",
            "version": "3.8.5",
            "mimetype": "text/x-python",
            "codemirror_mode": {
                "name": "ipython",
                "version": 3
            },
            "pygments_lexer": "ipython3",
            "nbconvert_exporter": "python",
            "file_extension": ".py"
        },
        "kernelspec": {
            "name": "python3",
            "display_name": "Python 3.8.5 64-bit (conda)"
        },
        "interpreter": {
            "hash": "b3ba2566441a7c06988d0923437866b63cedc61552a5af99d1f4fb67d367b25f"
        }
    },
    "nbformat": 4,
    "nbformat_minor": 2
}