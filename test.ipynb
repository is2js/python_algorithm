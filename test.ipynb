{
    "cells": [
        {
            "cell_type": "code",
            "execution_count": 15,
            "metadata": {},
            "outputs": [
                {
                    "data": {
                        "text/plain": [
                            "'dd|dd'"
                        ]
                    },
                    "execution_count": 15,
                    "metadata": {},
                    "output_type": "execute_result"
                }
            ],
            "source": [
                "\"[dd|dd)]\".strip(\"()[]|\")"
            ]
        },
        {
            "cell_type": "code",
            "execution_count": 3,
            "metadata": {},
            "outputs": [
                {
                    "data": {
                        "text/plain": [
                            "1024"
                        ]
                    },
                    "execution_count": 3,
                    "metadata": {},
                    "output_type": "execute_result"
                }
            ],
            "source": [
                "# 복습1. x를 y번 누적:  y번 반복하는  ---> O(y)\n",
                "def power(x,y):\n",
                "    total  = 1 \n",
                "    for _ in range(y):\n",
                "        total *= x \n",
                "    \n",
                "    return total\n",
                "\n",
                "power(2,10)"
            ]
        },
        {
            "cell_type": "code",
            "execution_count": 4,
            "metadata": {},
            "outputs": [
                {
                    "data": {
                        "text/plain": [
                            "1024"
                        ]
                    },
                    "execution_count": 4,
                    "metadata": {},
                    "output_type": "execute_result"
                }
            ],
            "source": [
                "# 복습2. 재귀인 f(y) = f(y-1) * x로 바꿔도 ---> O(y) \n",
                "def power(x,y):\n",
                "    # base\n",
                "    if y == 0:\n",
                "        return 1 \n",
                "\n",
                "    return power(x,y-1)  * x\n",
                "    \n",
                "power(2,10)"
            ]
        },
        {
            "cell_type": "code",
            "execution_count": 6,
            "metadata": {},
            "outputs": [
                {
                    "data": {
                        "text/plain": [
                            "1024"
                        ]
                    },
                    "execution_count": 6,
                    "metadata": {},
                    "output_type": "execute_result"
                }
            ],
            "source": [
                "# 복습3. O(y)를  O(lg y)로 줄이는 재귀 + 부분문제 divide가 [ y//2 ]가 적용가능한지 보기\n",
                "# - y//2가 똑같은 것이 등장한다?  y-1,y-2는 tabulation -> 공간최적화 가능  y//2 등 팍팍주는 것은 top-down으로 -> memoization 사용\n",
                "# - y//2: 절반씩 줄어들 때, //2에서 2의배수가 아니라면(당연히 나누어지는 것을 int목적으로 나누기대신 사용하는게 아니라면), 홀수인지 짝수인지 판단필수!!\n",
                "# -- 6//2 = 3,  5//2 = 2 -> 2 * 2 -> 1더 필요.. -> x를 그냥 한번 더 곱해줘야한다.\n",
                "def power(x,y):\n",
                "    # base\n",
                "    if y == 0:\n",
                "        return 1 \n",
                "\n",
                "    # recursive\n",
                "    if y%2==0:\n",
                "        return power(x, y//2)  * power(x, y//2)\n",
                "    else:\n",
                "        return x * power(x, y//2)  * power(x, y//2)\n",
                "\n",
                "    \n",
                "    \n",
                "power(2,10)\n"
            ]
        },
        {
            "cell_type": "code",
            "execution_count": 20,
            "metadata": {},
            "outputs": [
                {
                    "data": {
                        "text/plain": [
                            "['AB', 'AC', 'AD', 'BA', 'BC', 'BD', 'CA', 'CB', 'CD', 'DA', 'DB', 'DC']"
                        ]
                    },
                    "execution_count": 20,
                    "metadata": {},
                    "output_type": "execute_result"
                }
            ],
            "source": [
                "import itertools\n",
                "\n",
                "[ ''.join(x) for x in itertools.permutations('ABCD', 2)]"
            ]
        },
        {
            "cell_type": "code",
            "execution_count": 23,
            "metadata": {},
            "outputs": [
                {
                    "data": {
                        "text/plain": [
                            "['AB', 'AC', 'AD', 'BA', 'BC', 'BD', 'CA', 'CB', 'CD', 'DA', 'DB', 'DC']"
                        ]
                    },
                    "execution_count": 23,
                    "metadata": {},
                    "output_type": "execute_result"
                }
            ],
            "source": [
                "list(map(''.join, itertools.permutations('ABCD', 2)))"
            ]
        },
        {
            "cell_type": "code",
            "execution_count": 44,
            "metadata": {},
            "outputs": [
                {
                    "data": {
                        "text/plain": [
                            "['a']"
                        ]
                    },
                    "execution_count": 44,
                    "metadata": {},
                    "output_type": "execute_result"
                }
            ],
            "source": [
                "import collections \n",
                "\n",
                "string = 'asasdfdafwerasdfasdf'\n",
                "\n",
                "answer = collections.Counter(string)\n",
                "\n",
                "# answer\n",
                "# answer.most_common()\n",
                "max_count = max(answer.values())\n",
                "\n",
                "[ word for word, count in answer.items() if count == max_count ]\n",
                "\n"
            ]
        },
        {
            "cell_type": "code",
            "execution_count": 30,
            "metadata": {},
            "outputs": [
                {
                    "data": {
                        "text/plain": [
                            "Counter({'조재성': 2, '조재경': 1})"
                        ]
                    },
                    "execution_count": 30,
                    "metadata": {},
                    "output_type": "execute_result"
                }
            ],
            "source": [
                "# z\n",
                "collections.Counter([1,2,3,1,23,1])\n",
                "\n",
                "collections.Counter(['조재성','조재경', '조재성'])"
            ]
        },
        {
            "cell_type": "code",
            "execution_count": 48,
            "metadata": {},
            "outputs": [
                {
                    "name": "stdout",
                    "output_type": "stream",
                    "text": [
                        "3\n"
                    ]
                }
            ],
            "source": [
                "import bisect\n",
                "\n",
                "mylist = [1, 2, 3, 7, 9, 11, 33] # 정렬된 리스트\n",
                "\n",
                "insert_point = bisect.bisect(mylist, 7) \n",
                "\n",
                "if mylist[insert_point-1] == 7:\n",
                "    print(insert_point-1)\n",
                "else:\n",
                "    print(-1)"
            ]
        },
        {
            "cell_type": "code",
            "execution_count": 55,
            "metadata": {},
            "outputs": [
                {
                    "data": {
                        "text/plain": [
                            "(-1, 'insert to 4')"
                        ]
                    },
                    "execution_count": 55,
                    "metadata": {},
                    "output_type": "execute_result"
                }
            ],
            "source": [
                "import bisect\n",
                "\n",
                "def bs_by_bisect(sorted_list, val):\n",
                "    insert_point = bisect.bisect(sorted_list, val)\n",
                "    return insert_point-1 if sorted_list[insert_point-1] == val else -1, f\"insert to {insert_point}\"\n",
                "\n",
                "\n",
                "bs_by_bisect(mylist, 8)"
            ]
        },
        {
            "cell_type": "code",
            "execution_count": 109,
            "metadata": {},
            "outputs": [
                {
                    "data": {
                        "text/plain": [
                            "[0, 1, 2, 3, 4, 5, 6, 7, 8, 9]"
                        ]
                    },
                    "execution_count": 109,
                    "metadata": {},
                    "output_type": "execute_result"
                }
            ],
            "source": [
                "def quick_sort(array):\n",
                "    if len(array) <= 1:\n",
                "        return array \n",
                "\n",
                "    pivot = array[0]\n",
                "    tail = array[1:]\n",
                "\n",
                "    left_side = [ x for x in tail if x <= pivot]\n",
                "    right_side = [ x for x in tail if x > pivot]\n",
                "\n",
                "    return quick_sort(left_side) + [pivot] + quick_sort(right_side)\n",
                "\n",
                "quick_sort([5, 7, 9, 0, 3, 1, 6, 2, 4, 8])\n"
            ]
        },
        {
            "cell_type": "code",
            "execution_count": 110,
            "metadata": {},
            "outputs": [],
            "source": [
                "class Node:\n",
                "    def __init__(self, item):\n",
                "        self.data = item\n",
                "        self.prev = None\n",
                "        self.next = None"
            ]
        },
        {
            "cell_type": "code",
            "execution_count": 92,
            "metadata": {},
            "outputs": [
                {
                    "data": {
                        "text/plain": [
                            "['dequeue', 'enqueue', 'isEmpty', 'items', 'size']"
                        ]
                    },
                    "execution_count": 92,
                    "metadata": {},
                    "output_type": "execute_result"
                }
            ],
            "source": [
                "from pythonds.basic.queue import Queue\n",
                "\n",
                "Q = Queue()\n",
                "\n",
                "[x for x in dir(Q) if '__' not in x ]"
            ]
        },
        {
            "cell_type": "code",
            "execution_count": 95,
            "metadata": {},
            "outputs": [
                {
                    "data": {
                        "text/plain": [
                            "['append',\n",
                            " 'appendleft',\n",
                            " 'clear',\n",
                            " 'copy',\n",
                            " 'count',\n",
                            " 'extend',\n",
                            " 'extendleft',\n",
                            " 'index',\n",
                            " 'insert',\n",
                            " 'maxlen',\n",
                            " 'pop',\n",
                            " 'popleft',\n",
                            " 'remove',\n",
                            " 'reverse',\n",
                            " 'rotate']"
                        ]
                    },
                    "execution_count": 95,
                    "metadata": {},
                    "output_type": "execute_result"
                }
            ],
            "source": [
                "from collections import deque\n",
                "\n",
                "\n",
                "que = deque()\n",
                "\n",
                "[x for x in dir(que) if '__' not in x ]"
            ]
        },
        {
            "cell_type": "code",
            "execution_count": 107,
            "metadata": {},
            "outputs": [
                {
                    "name": "stdout",
                    "output_type": "stream",
                    "text": [
                        "found\n"
                    ]
                }
            ],
            "source": [
                "import math\n",
                "\n",
                "list_ = [2, 4,2,5,1]\n",
                "multiple = 1\n",
                "\n",
                "for x in list_:\n",
                "    multiple *= x\n",
                "    if int(math.sqrt(multiple)) == math.sqrt(multiple):\n",
                "    #if type(int(math.sqrt(multiple))) is int:\n",
                "        print(\"found\")\n",
                "        break\n",
                "else:\n",
                "    print(\"not found\")\n"
            ]
        },
        {
            "cell_type": "code",
            "execution_count": null,
            "metadata": {},
            "outputs": [],
            "source": []
        },
        {
            "cell_type": "code",
            "execution_count": null,
            "metadata": {},
            "outputs": [],
            "source": []
        }
    ],
    "metadata": {
        "interpreter": {
            "hash": "b3ba2566441a7c06988d0923437866b63cedc61552a5af99d1f4fb67d367b25f"
        },
        "kernelspec": {
            "display_name": "Python 3.8.5 64-bit ('base': conda)",
            "name": "python3"
        },
        "language_info": {
            "codemirror_mode": {
                "name": "ipython",
                "version": 3
            },
            "file_extension": ".py",
            "mimetype": "text/x-python",
            "name": "python",
            "nbconvert_exporter": "python",
            "pygments_lexer": "ipython3",
            "version": "3.8.5"
        },
        "orig_nbformat": 4
    },
    "nbformat": 4,
    "nbformat_minor": 2
}
