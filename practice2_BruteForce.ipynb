{
 "cells": [
  {
   "cell_type": "markdown",
   "source": [
    "## BruteForce문제만 모아서 보기"
   ],
   "metadata": {}
  },
  {
   "cell_type": "markdown",
   "source": [
    "### lv1 투자의 귀재 규식이1 (BF)\r\n",
    "\r\n",
    "규식이는 친구들 사이에서 투자의 귀재로 알려져 있습니다. 페이수북과 인수타그램에 자신의 성과를 과시하기 때문인데요. 사실 규식이가 그 정도의 실력자는 아닙니다. 성과가 좋을 때에만 SNS에 공유해서 그렇게 비춰질 뿐이죠.\r\n",
    "\r\n",
    "계속해서 멋진 모습을 보여주기 위해, 특정 기간 중 수익이 가장 큰 구간을 찾아내는 함수 sublist_max를 작성해 보려고 합니다.\r\n",
    "\r\n",
    "Brute Force 방법을 이용해서 이 문제를 한 번 풀어봅시다!\r\n",
    "\r\n",
    "함수 설명\r\n",
    "우선 함수 sublist_max는 파라미터로 리스트 profits를 받는데요. profits에는 며칠 동안의 수익이 담겨 있습니다. 예를 들어서 profits가 [7, -3, 4, -8]이라면 첫 날에는 7달러를 벌었고, 둘째 날에는 3달러를 잃었고, 셋째 날에는 4달러를 벌었고, 마지막 날에는 8달러를 잃은 거죠.\r\n",
    "\r\n",
    "sublist_max 함수는 profits에서 최대 수익을 내는 구간의 수익을 리턴합니다.\r\n",
    "\r\n",
    "profits가 [7, -3, 4, -8]이라면 무엇을 리턴해야 할까요? profits에서 가장 많은 수익을 낸 구간은 [7, -3, 4]입니다. 이 구간에서 낸 수익은 8달러이니, 8을 리턴하면 되겠죠!\r\n",
    "\r\n",
    "만약 profits가 [-2, -3, 4, -1, -2, 1, 5, -3]이라면? profits에서 수익이 가장 큰 구간은 [4, -1, -2, 1, 5]입니다. 이 구간에서 낸 수익은 7달러이니, 7을 리턴하겠죠\r\n",
    "\r\n",
    "```python\r\n",
    "def sublist_max(profits):\r\n",
    "    # 코드를 작성하세요. \r\n",
    "\r\n",
    "\r\n",
    "# 테스트\r\n",
    "print(sublist_max([4, 3, 8, -2, -5, -3, -5, -3]))\r\n",
    "print(sublist_max([2, 3, 1, -1, -2, 5, -1, -1]))\r\n",
    "print(sublist_max([7, -3, 14, -8, -5, 6, 8, -5, -4, 10, -1, 8]))\r\n",
    "```"
   ],
   "metadata": {}
  },
  {
   "cell_type": "code",
   "execution_count": 1,
   "source": [
    "# for위의 변수는, 매 for문마다 직전값(원소, 누적합, 누적곱)을 담아두는 놈이다.\r\n",
    "\r\n",
    "# - 누적합 -> [4], [4,3]을 도는(+ 그들의합) 과정이라고 생각하자.\r\n",
    "# - 누적합이든 / 최대/최소값 저장이든 for문앞에 -> 변수 선언후 쌓아두기 or 치환하기\r\n",
    "# - 순서대로 가면서for1(시작점), 순서대로 for2 보태서 커지는 누적합들을 비교해야함.\r\n",
    "# ex> 1 시작 -> 1과 1+3과 1+3-2와...    1+3-2+4-1+7 등 누적합들을 비교하면서 커져야한다.\r\n",
    "# - j~끝 까지 커지면서 누적되는 것들의 합을 비교하기 위해서는\r\n",
    "# - i용 최대누적합 변수빼기 -> for i 시작  +  j용 total변수빼기 for  total +=[j] 누적합산 후,\r\n",
    "# -   각 j누적된 total마다 i바깥의 전체누적합변수와 max()로 비교해서 갈아치우기\r\n",
    "# - 원래 있던 값(max_profits)에 대해 새로운 값(total)과 비교해서 큰값으로 대치하기\r\n",
    "# -   x = max(x, y)\r\n",
    "def sublist_max(profits):\r\n",
    "    max_profit = profits[0]\r\n",
    "    \r\n",
    "    for i in range(len(profits)):\r\n",
    "        # 2. \r\n",
    "        # i부터 ~ 끝까지 j로 돌면서, 각 합들을 append해줄 총액 변수\r\n",
    "        # i=0 : 01 누적합, 012 누적합, 0123 누적합이 저장된다. for j 바깥에 선언해야 각 i마다 j로 돌아도 유지된다.\r\n",
    "        # **누적되는 과정( += 로 실시간 j에서 누적) 에서 max()로 비교해서 현재 최대누적합 i전체용 max_profit과 비교해줘야한다.**\r\n",
    "        total = 0\r\n",
    "        for j in range(i, len(profits)):\r\n",
    "            # 1. \r\n",
    "            # 리스트가 1개라 i는 인덱싱에 사용하지 않는다. 바깥에서 j의 시작점을 내려준다.\r\n",
    "            # 0-0123, 1-123, 2-23, 3-3\r\n",
    "\r\n",
    "            # 3.\r\n",
    "            total += profits[j]  # for j를 돌면서 조합마다의 누적합이 total에 저장된다. \r\n",
    "            # 각 i~끝까지의 조합마다 현재의 최강값과 비교해줘야한다.\r\n",
    "            max_profit = max(max_profit, total)\r\n",
    "            \r\n",
    "        return max_profit\r\n",
    "    \r\n",
    "sublist_max([4, 3, 8, -2, -5, -3, -5, -3])"
   ],
   "outputs": [
    {
     "output_type": "execute_result",
     "data": {
      "text/plain": [
       "15"
      ]
     },
     "metadata": {},
     "execution_count": 1
    }
   ],
   "metadata": {}
  },
  {
   "cell_type": "markdown",
   "source": [
    "### lv1 중복되는 항목찾기1(BF->메모활용)"
   ],
   "metadata": {}
  },
  {
   "cell_type": "markdown",
   "source": [
    "(N + 1)의 크기인 리스트에, 1부터 N까지의 임의의 자연수가 요소로 할당되어 있습니다. 그렇다면 어떤 수는 꼭 한 번은 반복되겠지요.\r\n",
    "\r\n",
    "예를 들어 [1, 3, 4, 2, 5, 4]와 같은 리스트 있을 수도 있고, [1, 1, 1, 6, 2, 2, 3]과 같은 리스트가 있을 수도 있습니다. (몇 개의 수가 여러 번 중복되어 있을 수도 있습니다.)\r\n",
    "\r\n",
    "이런 리스트에서 반복되는 요소를 찾아내려고 합니다.\r\n",
    "\r\n",
    "중복되는 어떠한 수 ‘하나’만 찾아내도 됩니다. 즉 [1, 1, 1, 6, 2, 2, 3] 예시에서 1, 2를 모두 리턴하지 않고, 1 또는 2 하나만 리턴하게 하면 됩니다.\r\n",
    "\r\n",
    "중복되는 수를 찾는 시간 효율적인 함수를 설계해보세요.\r\n",
    "```python\r\n",
    "def find_same_number(some_list):\r\n",
    "    # 코드를 쓰세요\r\n",
    "    \r\n",
    "\r\n",
    "# 중복되는 수 ‘하나’만 리턴합니다.\r\n",
    "print(find_same_number([1, 4, 3, 5, 3, 2]))\r\n",
    "print(find_same_number([4, 1, 5, 2, 3, 5]))\r\n",
    "print(find_same_number([5, 2, 3, 4, 1, 6, 7, 8, 9, 3]))\r\n",
    "\r\n",
    "```"
   ],
   "metadata": {}
  },
  {
   "cell_type": "code",
   "execution_count": null,
   "source": [
    "# 처음에는 딱 봐도 2중for문으로 BF로 돌면서 푸는 문제다\r\n",
    "# i와 i+1~끝까지를 비교해서 같으면 반환해버면 끝.\r\n",
    "def find_same_number(some_list):\r\n",
    "    for i in range(len(some_list)):\r\n",
    "        for j in range(i+1, len(some_list)):\r\n",
    "            if some_list[i] == some_list[j]:\r\n",
    "                return some_list[i]"
   ],
   "outputs": [],
   "metadata": {}
  },
  {
   "cell_type": "code",
   "execution_count": 2,
   "source": [
    "# 하지만 2중 for문은 시간복잡도가 n^2이상으로 너무 비효율적이다.\r\n",
    "# - 이때마다 다르게 풀 수 있는지 확인한다. \r\n",
    "# - 중복되는 부분문제 뿐만 아니라, [for문을 돌면서 중복되는 경우]도 dp처럼 memo를 활용한다.\r\n",
    "# 즉, 풀이과정에서 if필터링에 <들어오는 조합input>이 반복된다 싶으면(ex> i,j), memoization(dict-key중복허용X)를 활용하자\r\n",
    "# 모든 경우를 하나씩 본다? -> 돌면서 같은 경우도 있었을 것이다. -> memo로 저장하면서확인한다.\r\n",
    "# - memo생성 -> for문을 돌면서 memo에 있나부터 확인 ->  있으면 반환부터 / 없으면 memo 넣기\r\n",
    "# - [있으면 반환]으로 다른 처리가 필요없어진다. Q문제가 단순하게 같은게 있을 때 반환만 하면 되는 문제이므로\r\n",
    "\r\n",
    "# 리스트에서 중복되는 것이 있나? -> 하나씩 dict key에 넣어놓고 확인하기 문제랑 같음.\r\n",
    "\r\n",
    "def find_same_number(some_list):\r\n",
    "    # 1. memo용 사전 생성\r\n",
    "    elements_seen_so_far={}\r\n",
    "\r\n",
    "    for element in some_list:\r\n",
    "        # 2. 먼저 있나없나 확인\r\n",
    "        if element in elements_seen_so_far:\r\n",
    "            return element\r\n",
    "        \r\n",
    "        # 3. 없으면, memo에 넣어죽기만 하면, 위에 중복될때 반환되고 끝남.\r\n",
    "        # - dict에 1개만 넣어줄때는 key값으로만 넣어주면 됨.\r\n",
    "        elements_seen_so_far[element] = True\r\n",
    "    \r\n",
    "\r\n",
    "print(find_same_number([1, 4, 3, 5, 3, 2]))\r\n",
    "print(find_same_number([4, 1, 5, 2, 3, 5]))\r\n",
    "print(find_same_number([5, 2, 3, 4, 1, 6, 7, 8, 9, 3]))"
   ],
   "outputs": [
    {
     "output_type": "stream",
     "name": "stdout",
     "text": [
      "3\n",
      "5\n",
      "3\n"
     ]
    }
   ],
   "metadata": {}
  },
  {
   "cell_type": "code",
   "execution_count": 1,
   "source": [
    "# my) value는 True만 저장하고, key로 입력시킨 기억이 있는지 확인한 뒤\r\n",
    "#      for문을 돌면서 <if 필터링으로 확인훈 return + 노확인이라서 True입력 > -> 돌다보면 ㄴ확인되어 return되는 경우가 생긴다.\r\n",
    "def find_same_number(some_list):\r\n",
    "    # 이미 나온 요소를 저장시켜줄 사전\r\n",
    "    elements_seen_so_far = {}\r\n",
    "\r\n",
    "    for element in some_list:\r\n",
    "        # 이미 나온 요소인지 확인하고 맞으면 요소를 리턴한다\r\n",
    "        if element in elements_seen_so_far:\r\n",
    "            return element\r\n",
    "\r\n",
    "        # 해당 요소를 사전에 저장시킨다\r\n",
    "        elements_seen_so_far[element] = True\r\n",
    "\r\n",
    "print(find_same_number([1, 4, 3, 5, 3, 2]))\r\n",
    "print(find_same_number([4, 1, 5, 2, 3, 5]))\r\n",
    "print(find_same_number([5, 2, 3, 4, 1, 6, 7, 8, 9, 3]))"
   ],
   "outputs": [
    {
     "output_type": "stream",
     "name": "stdout",
     "text": [
      "3\n",
      "5\n",
      "3\n"
     ]
    }
   ],
   "metadata": {}
  },
  {
   "cell_type": "code",
   "execution_count": null,
   "source": [],
   "outputs": [],
   "metadata": {}
  },
  {
   "cell_type": "code",
   "execution_count": null,
   "source": [],
   "outputs": [],
   "metadata": {}
  },
  {
   "cell_type": "code",
   "execution_count": null,
   "source": [],
   "outputs": [],
   "metadata": {}
  },
  {
   "cell_type": "code",
   "execution_count": null,
   "source": [],
   "outputs": [],
   "metadata": {}
  }
 ],
 "metadata": {
  "orig_nbformat": 4,
  "language_info": {
   "name": "python",
   "version": "3.8.5",
   "mimetype": "text/x-python",
   "codemirror_mode": {
    "name": "ipython",
    "version": 3
   },
   "pygments_lexer": "ipython3",
   "nbconvert_exporter": "python",
   "file_extension": ".py"
  },
  "kernelspec": {
   "name": "python3",
   "display_name": "Python 3.8.5 64-bit (conda)"
  },
  "interpreter": {
   "hash": "b3ba2566441a7c06988d0923437866b63cedc61552a5af99d1f4fb67d367b25f"
  }
 },
 "nbformat": 4,
 "nbformat_minor": 2
}