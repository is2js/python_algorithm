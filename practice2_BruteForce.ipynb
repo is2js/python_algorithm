{
 "cells": [
  {
   "cell_type": "markdown",
   "source": [
    "## BruteForce문제만 모아서 보기"
   ],
   "metadata": {}
  },
  {
   "cell_type": "markdown",
   "source": [
    "## level 1"
   ],
   "metadata": {}
  },
  {
   "cell_type": "markdown",
   "source": [
    "### lv1 투자의 귀재 규식이1 (BF)\r\n",
    "\r\n",
    "규식이는 친구들 사이에서 투자의 귀재로 알려져 있습니다. 페이수북과 인수타그램에 자신의 성과를 과시하기 때문인데요. 사실 규식이가 그 정도의 실력자는 아닙니다. 성과가 좋을 때에만 SNS에 공유해서 그렇게 비춰질 뿐이죠.\r\n",
    "\r\n",
    "계속해서 멋진 모습을 보여주기 위해, 특정 기간 중 수익이 가장 큰 구간을 찾아내는 함수 sublist_max를 작성해 보려고 합니다.\r\n",
    "\r\n",
    "Brute Force 방법을 이용해서 이 문제를 한 번 풀어봅시다!\r\n",
    "\r\n",
    "함수 설명\r\n",
    "우선 함수 sublist_max는 파라미터로 리스트 profits를 받는데요. profits에는 며칠 동안의 수익이 담겨 있습니다. 예를 들어서 profits가 [7, -3, 4, -8]이라면 첫 날에는 7달러를 벌었고, 둘째 날에는 3달러를 잃었고, 셋째 날에는 4달러를 벌었고, 마지막 날에는 8달러를 잃은 거죠.\r\n",
    "\r\n",
    "sublist_max 함수는 profits에서 최대 수익을 내는 구간의 수익을 리턴합니다.\r\n",
    "\r\n",
    "profits가 [7, -3, 4, -8]이라면 무엇을 리턴해야 할까요? profits에서 가장 많은 수익을 낸 구간은 [7, -3, 4]입니다. 이 구간에서 낸 수익은 8달러이니, 8을 리턴하면 되겠죠!\r\n",
    "\r\n",
    "만약 profits가 [-2, -3, 4, -1, -2, 1, 5, -3]이라면? profits에서 수익이 가장 큰 구간은 [4, -1, -2, 1, 5]입니다. 이 구간에서 낸 수익은 7달러이니, 7을 리턴하겠죠\r\n",
    "\r\n",
    "```python\r\n",
    "def sublist_max(profits):\r\n",
    "    # 코드를 작성하세요. \r\n",
    "\r\n",
    "\r\n",
    "# 테스트\r\n",
    "print(sublist_max([4, 3, 8, -2, -5, -3, -5, -3]))\r\n",
    "print(sublist_max([2, 3, 1, -1, -2, 5, -1, -1]))\r\n",
    "print(sublist_max([7, -3, 14, -8, -5, 6, 8, -5, -4, 10, -1, 8]))\r\n",
    "```"
   ],
   "metadata": {}
  },
  {
   "cell_type": "code",
   "execution_count": 1,
   "source": [
    "# for위의 변수는, 매 for문마다 직전값(원소, 누적합, 누적곱)을 담아두는 놈이다.\r\n",
    "\r\n",
    "# - 누적합 -> [4], [4,3]을 도는(+ 그들의합) 과정이라고 생각하자.\r\n",
    "# - 누적합이든 / 최대/최소값 저장이든 for문앞에 -> 변수 선언후 쌓아두기 or 치환하기\r\n",
    "# - 순서대로 가면서for1(시작점), 순서대로 for2 보태서 커지는 누적합들을 비교해야함.\r\n",
    "# ex> 1 시작 -> 1과 1+3과 1+3-2와...    1+3-2+4-1+7 등 누적합들을 비교하면서 커져야한다.\r\n",
    "# - j~끝 까지 커지면서 누적되는 것들의 합을 비교하기 위해서는\r\n",
    "# - i용 최대누적합 변수빼기 -> for i 시작  +  j용 total변수빼기 for  total +=[j] 누적합산 후,\r\n",
    "# -   각 j누적된 total마다 i바깥의 전체누적합변수와 max()로 비교해서 갈아치우기\r\n",
    "# - 원래 있던 값(max_profits)에 대해 새로운 값(total)과 비교해서 큰값으로 대치하기\r\n",
    "# -   x = max(x, y)\r\n",
    "def sublist_max(profits):\r\n",
    "    max_profit = profits[0]\r\n",
    "    \r\n",
    "    for i in range(len(profits)):\r\n",
    "        # 2. \r\n",
    "        # i부터 ~ 끝까지 j로 돌면서, 각 합들을 append해줄 총액 변수\r\n",
    "        # i=0 : 01 누적합, 012 누적합, 0123 누적합이 저장된다. for j 바깥에 선언해야 각 i마다 j로 돌아도 유지된다.\r\n",
    "        # **누적되는 과정( += 로 실시간 j에서 누적) 에서 max()로 비교해서 현재 최대누적합 i전체용 max_profit과 비교해줘야한다.**\r\n",
    "        total = 0\r\n",
    "        for j in range(i, len(profits)):\r\n",
    "            # 1. \r\n",
    "            # 리스트가 1개라 i는 인덱싱에 사용하지 않는다. 바깥에서 j의 시작점을 내려준다.\r\n",
    "            # 0-0123, 1-123, 2-23, 3-3\r\n",
    "\r\n",
    "            # 3.\r\n",
    "            total += profits[j]  # for j를 돌면서 조합마다의 누적합이 total에 저장된다. \r\n",
    "            # 각 i~끝까지의 조합마다 현재의 최강값과 비교해줘야한다.\r\n",
    "            max_profit = max(max_profit, total)\r\n",
    "            \r\n",
    "        return max_profit\r\n",
    "    \r\n",
    "sublist_max([4, 3, 8, -2, -5, -3, -5, -3])"
   ],
   "outputs": [
    {
     "output_type": "execute_result",
     "data": {
      "text/plain": [
       "15"
      ]
     },
     "metadata": {},
     "execution_count": 1
    }
   ],
   "metadata": {}
  },
  {
   "cell_type": "markdown",
   "source": [
    "### lv1 중복되는 항목찾기1(BF-> 중복검사시 메모활용)"
   ],
   "metadata": {}
  },
  {
   "cell_type": "markdown",
   "source": [
    " (N + 1)의 크기인 리스트에, 1부터 N까지의 임의의 자연수가 요소로 할당되어 있습니다. 그렇다면 어떤 수는 꼭 한 번은 반복되겠지요.\r\n",
    "\r\n",
    "예를 들어 [1, 3, 4, 2, 5, 4]와 같은 리스트 있을 수도 있고, [1, 1, 1, 6, 2, 2, 3]과 같은 리스트가 있을 수도 있습니다. (몇 개의 수가 여러 번 중복되어 있을 수도 있습니다.)\r\n",
    "\r\n",
    "이런 리스트에서 반복되는 요소를 찾아내려고 합니다.\r\n",
    "\r\n",
    "중복되는 어떠한 수 ‘하나’만 찾아내도 됩니다. 즉 [1, 1, 1, 6, 2, 2, 3] 예시에서 1, 2를 모두 리턴하지 않고, 1 또는 2 하나만 리턴하게 하면 됩니다.\r\n",
    "\r\n",
    "중복되는 수를 찾는 시간 효율적인 함수를 설계해보세요.\r\n",
    "```python\r\n",
    "def find_same_number(some_list):\r\n",
    "    # 코드를 쓰세요\r\n",
    "    \r\n",
    "\r\n",
    "# 중복되는 수 ‘하나’만 리턴합니다.\r\n",
    "print(find_same_number([1, 4, 3, 5, 3, 2]))\r\n",
    "print(find_same_number([4, 1, 5, 2, 3, 5]))\r\n",
    "print(find_same_number([5, 2, 3, 4, 1, 6, 7, 8, 9, 3]))\r\n",
    "\r\n",
    "```"
   ],
   "metadata": {}
  },
  {
   "cell_type": "code",
   "execution_count": null,
   "source": [
    "# 처음에는 딱 봐도 2중for문으로 BF로 돌면서 푸는 문제다\r\n",
    "# i와 i+1~끝까지를 비교해서 같으면 반환해버면 끝.\r\n",
    "def find_same_number(some_list):\r\n",
    "    for i in range(len(some_list)):\r\n",
    "        for j in range(i+1, len(some_list)):\r\n",
    "            if some_list[i] == some_list[j]:\r\n",
    "                return some_list[i]"
   ],
   "outputs": [],
   "metadata": {}
  },
  {
   "cell_type": "code",
   "execution_count": 2,
   "source": [
    "# 하지만 2중 for문은 시간복잡도가 n^2이상으로 너무 비효율적이다.\r\n",
    "# - 이때마다 다르게 풀 수 있는지 확인한다. \r\n",
    "# - 중복되는 부분문제 뿐만 아니라, [for문을 돌면서 중복되는 경우]도 dp처럼 memo를 활용한다.\r\n",
    "# 즉, 풀이과정에서 if필터링에 <들어오는 조합input>이 반복된다 싶으면(ex> i,j), memoization(dict-key중복허용X)를 활용하자\r\n",
    "# 모든 경우를 하나씩 본다? -> 돌면서 같은 경우도 있었을 것이다. -> memo로 저장하면서확인한다.\r\n",
    "# - memo생성 -> for문을 돌면서 memo에 있나부터 확인 ->  있으면 반환부터 / 없으면 memo 넣기\r\n",
    "# - [있으면 반환]으로 다른 처리가 필요없어진다. Q문제가 단순하게 같은게 있을 때 반환만 하면 되는 문제이므로\r\n",
    "\r\n",
    "# 리스트에서 중복되는 것이 있나? -> 하나씩 dict key에 넣어놓고 확인하기 문제랑 같음.\r\n",
    "\r\n",
    "def find_same_number(some_list):\r\n",
    "    # 1. memo용 사전 생성\r\n",
    "    elements_seen_so_far={}\r\n",
    "\r\n",
    "    for element in some_list:\r\n",
    "        # 2. 먼저 있나없나 확인\r\n",
    "        if element in elements_seen_so_far:\r\n",
    "            return element\r\n",
    "        \r\n",
    "        # 3. 없으면, memo에 넣어죽기만 하면, 위에 중복될때 반환되고 끝남.\r\n",
    "        # - dict에 1개만 넣어줄때는 key값으로만 넣어주면 됨.\r\n",
    "        elements_seen_so_far[element] = True\r\n",
    "    \r\n",
    "\r\n",
    "print(find_same_number([1, 4, 3, 5, 3, 2]))\r\n",
    "print(find_same_number([4, 1, 5, 2, 3, 5]))\r\n",
    "print(find_same_number([5, 2, 3, 4, 1, 6, 7, 8, 9, 3]))"
   ],
   "outputs": [
    {
     "output_type": "stream",
     "name": "stdout",
     "text": [
      "3\n",
      "5\n",
      "3\n"
     ]
    }
   ],
   "metadata": {}
  },
  {
   "cell_type": "code",
   "execution_count": 1,
   "source": [
    "# my) tabulations은 default값을 list의 index 0 or 0과1에 값을 넣어놓고 차례대로 올라간다.\r\n",
    "# - but memoization은 default값 없이 시작한다. 그러나, 둘다 for문에서 활용 -> 업뎃은 똑같다.\r\n",
    "\r\n",
    "# my) value는 True만 저장하고, key로 입력시킨 기억이 있는지 확인한 뒤\r\n",
    "#      for문을 돌면서 <if 필터링으로 확인훈 return + 노확인이라서 True입력 > -> 돌다보면 ㄴ확인되어 return되는 경우가 생긴다.\r\n",
    "def find_same_number(some_list):\r\n",
    "    # 이미 나온 요소를 저장시켜줄 사전\r\n",
    "    elements_seen_so_far = {}\r\n",
    "\r\n",
    "    for element in some_list:\r\n",
    "        # 이미 나온 요소인지 확인하고 맞으면 요소를 리턴한다\r\n",
    "        if element in elements_seen_so_far:\r\n",
    "            return element\r\n",
    "\r\n",
    "        # 해당 요소를 사전에 저장시킨다\r\n",
    "        elements_seen_so_far[element] = True\r\n",
    "\r\n",
    "print(find_same_number([1, 4, 3, 5, 3, 2]))\r\n",
    "print(find_same_number([4, 1, 5, 2, 3, 5]))\r\n",
    "print(find_same_number([5, 2, 3, 4, 1, 6, 7, 8, 9, 3]))"
   ],
   "outputs": [
    {
     "output_type": "stream",
     "name": "stdout",
     "text": [
      "3\n",
      "5\n",
      "3\n"
     ]
    }
   ],
   "metadata": {}
  },
  {
   "cell_type": "markdown",
   "source": [
    "## level 2"
   ],
   "metadata": {}
  },
  {
   "cell_type": "markdown",
   "source": [
    "### 삼송전자 주식 분석(BF-> 기준 정하고 최대/최소값 찾기)"
   ],
   "metadata": {}
  },
  {
   "cell_type": "markdown",
   "source": [
    "\r\n",
    "\r\n",
    "태호는 주식 분석이 취미입니다.\r\n",
    "\r\n",
    "요즘 제일 핫한 종목은 삼송전자인데요. 삼송전자의 주식을 딱 한 번 사고 팔았다면 최대 얼마의 수익이 가능했을지 궁금합니다. 그것을 계산해 주는 O(n) 함수 max_profit을 작성하세요.\r\n",
    "\r\n",
    "max_profit은 파라미터로 일별 주식 가격이 들어 있는 리스트 stock_prices를 받고 최대 수익을 리턴합니다. 주식은 딱 한 번만 사고 한 번만 팝니다. 그리고 사는 당일에 팔 수는 없습니다.\r\n",
    "\r\n",
    "하나의 예시로, 지난 6일간 삼송전자의 주식 가격이 이렇다고 가정합시다.\r\n",
    "```python\r\n",
    "max_profit([7, 1, 5, 3, 6, 4])\r\n",
    "\r\n",
    "```\r\n",
    "이 기간 동안 낼 수 있는 최대 수익은 얼마일까요? 둘째 날 1에 사서 다섯째 날 6에 팔면 총 5의 수익이 생깁니다.\r\n",
    "\r\n",
    "또 다른 예시를 봅시다.\r\n",
    "```python\r\n",
    "max_profit([7, 6, 4, 3, 1])\r\n",
    "\r\n",
    "```\r\n",
    "이 기간 동안 가능한 최대 수익은 얼마일까요? 이번에는 주식이 계속 떨어지기만 하네요. 하지만 꼭 한 번은 사고 팔아야 하기 때문에, 첫 날 7에 사고 둘째 날 6에 팔아서 나오는 −1이 최대 수익입니다.\r\n",
    "```python\r\n",
    "def max_profit(stock_list):\r\n",
    "    # 코드를 작성하세요. \r\n",
    "\r\n",
    "\r\n",
    "# 테스트\r\n",
    "print(max_profit([7, 1, 5, 3, 6, 4]))\r\n",
    "print(max_profit([7, 6, 4, 3, 1]))\r\n",
    "print(max_profit([11, 13, 9, 13, 20, 14, 19, 12, 19, 13]))\r\n",
    "print(max_profit([12, 4, 11, 18, 17, 19, 1, 19, 14, 13, 7, 15, 10, 1, 3, 6]))\r\n",
    "```"
   ],
   "metadata": {}
  },
  {
   "cell_type": "code",
   "execution_count": 3,
   "source": [
    "# 1) BF 2중 포문으로 풀기\r\n",
    "# 먼저 변수가 2개다. 사는날 -> 파는날 2개다 돌아다닌다.\r\n",
    "# - 1개를 특정하면, 나머지날은 사는날:고가 or 파는날:저가 를 찾으면 된다.\r\n",
    "# - 2개를 2중 for문으로 특정할 경우, 파는날-사는날 을 계산해주면 된다.\r\n",
    "def max_profit(stock_list):\r\n",
    "    # 파는날-사는날의 최대수익 직전값 보관용\r\n",
    "    # - 초기값은 최소 2개이상부터 움직이니 이렇게 둔다. 0번째, 처음 것을 둬도 max로 치환된다.\r\n",
    "    max_profit_so_far = stock_list[1] - stock_list[0]\r\n",
    "\r\n",
    "    # 사는날의 마지막은, 마지막항 앞에까지. \r\n",
    "    for i in range(len(stock_list)-1):\r\n",
    "        # 누적(합)조합 아니므로, 여기에 직전j까지의 값을 저장할 변수를 생성할 필요는 없다.\r\n",
    "        for j in range(i+1, len(stock_list)):\r\n",
    "            max_profit_so_far = max(stock_list[j] - stock_list[i], max_profit_so_far)\r\n",
    "\r\n",
    "    return max_profit_so_far\r\n",
    "\r\n",
    "            \r\n",
    "\r\n",
    "\r\n",
    "print(max_profit([7, 1, 5, 3, 6, 4]))\r\n",
    "print(max_profit([7, 6, 4, 3, 1]))\r\n",
    "print(max_profit([11, 13, 9, 13, 20, 14, 19, 12, 19, 13]))\r\n",
    "print(max_profit([12, 4, 11, 18, 17, 19, 1, 19, 14, 13, 7, 15, 10, 1, 3, 6]))"
   ],
   "outputs": [
    {
     "output_type": "stream",
     "name": "stdout",
     "text": [
      "5\n",
      "-1\n",
      "11\n",
      "18\n"
     ]
    }
   ],
   "metadata": {}
  },
  {
   "cell_type": "code",
   "execution_count": 5,
   "source": [
    "# 2) BF 의 움직이는 변수 2개 중 1개를 고정시켜 풀기\r\n",
    "# - 변수2개를 모두 돌아다니면, 2중for문-> O(n^2)이 걸린다.\r\n",
    "# - 변수 1개를 특정하면, 나머지날은 사는날:고가 or 파는날:저가 를 찾으면 된다.\r\n",
    "# -> 최소값을 찾을 때, for문위변수로 직전까지의 최소값 = min()때린 것을 챙겨야한다\r\n",
    "# AAA 직전까지의 최소값? -> for문위에서 계속 min()으로 업데이트 되는 것이다.\r\n",
    "# AAA 현재파는날이 i라고 치면, 직전까지의 최소값 -> for문위변수를 그냥 사용만 하면 된다.\r\n",
    "# AAA list[i] - min_so_far -> 파는날i값 - 직전까지의 최소값 => 파는날i의 최대수익.\r\n",
    "# AAA 남은일) 직전까지의최소값 업뎃 + 기존까지의 최대수익(for문위변수, 파는날i마다 챙겨짐)과 비교후 챙기기\r\n",
    "# AAA **직전까지의 최소값 업뎃 = min( 변수, 현재항=마지막항[i] 활용 )**\r\n",
    "# - 여기서는 특이하게 파는날(2번째~마지막까지)을 for문으로 고정해서 -> 사는 날 중 최대값을 찾는다.\r\n",
    "def max_profit(stock_list):\r\n",
    "    # 1.\r\n",
    "    # 계산의 default -> 가장 적은 갯수일 때 -> 차이니까 최소 2개로 연산\r\n",
    "    # 누적합->for문 시작 주의 / max,min-> 그냥.. 최소갯수의 상태로 넣어놓기.\r\n",
    "    max_profit_so_far = stock_list[1] - stock_list[0]\r\n",
    "    # 4. 돌면서 챙길, 직전까지의 최소값\r\n",
    "    # - 최소갯수의 default상태에서 그냥 min때려 보관한다.\r\n",
    "    min_so_far = min(stock_list[0], stock_list[1])\r\n",
    "\r\n",
    "    # 2.\r\n",
    "    # 파는 날을 고정[i]하면, 2일부터 마지막항까지다.\r\n",
    "    for i in range(2, len(stock_list)-1):\r\n",
    "        # 3.\r\n",
    "        # 누적(합)조합 아니므로, 여기에 직전j까지의 값을 저장할 변수를 생성할 필요는 없다.\r\n",
    "        # 파는날 고정했으면, 뒤로 가면서 최소값을 찾아서 샀다고 치면 된다.\r\n",
    "        # 돌아가면서 최소값을 챙겨야하니, for문위에변수를 생성한다.\r\n",
    "\r\n",
    "        # 4. 사는날의 최소값은 -> min()업뎃으로 자동으로 챙겨왔다. \r\n",
    "        # -> 이를 바탕으로 만든 해당 파는날의 최대수익이, 직전까지의 최대수익과 max비교=업뎃 + min업뎃해주기\r\n",
    "        max_profit_so_far = max(max_profit_so_far, stock_list[i] - min_so_far)\r\n",
    "        # 4-1) 남은일로서, 다음사용을 위한, 직전까지의 최소값 업뎃해주기\r\n",
    "        min_so_far = min(min_so_far, stock_list[i])\r\n",
    "\r\n",
    "\r\n",
    "        \r\n",
    "\r\n",
    "    return max_profit_so_far\r\n",
    "\r\n",
    "            \r\n",
    "\r\n",
    "\r\n",
    "print(max_profit([7, 1, 5, 3, 6, 4]))\r\n",
    "print(max_profit([7, 6, 4, 3, 1]))\r\n",
    "print(max_profit([11, 13, 9, 13, 20, 14, 19, 12, 19, 13]))\r\n",
    "print(max_profit([12, 4, 11, 18, 17, 19, 1, 19, 14, 13, 7, 15, 10, 1, 3, 6]))"
   ],
   "outputs": [
    {
     "output_type": "stream",
     "name": "stdout",
     "text": [
      "5\n",
      "-1\n",
      "11\n",
      "18\n"
     ]
    }
   ],
   "metadata": {}
  },
  {
   "cell_type": "code",
   "execution_count": 7,
   "source": [
    "# 다시 정리하여 푼 것\r\n",
    "# 파는날을 고정시켜놓고, 직전까지의 최소값은 쉽게 업데이트 시켜 구할 수 있으므로\r\n",
    "# 파는날의 주식가격[i] - 직전까지의 최소값 -> 파는날의 최대수익을 모아서\r\n",
    "# -> 파는날의 최대 수익을 변수에서 업뎃한다.\r\n",
    "def max_profit(stock_list):\r\n",
    "    # 1. 직전까지의 최대수익(마지막 업뎃후엔 현재까지 최대수익-> return가능)\r\n",
    "    max_profit_so_far = stock_list[1] - stock_list[0]\r\n",
    "    # 4. 직전까지의 최소값을 보관할 변수\r\n",
    "    min_so_far = min(stock_list[0], stock_list[1])\r\n",
    "\r\n",
    "    # 2. 파는날을 고정시켜놓고, 직전까지의 최소값과 차이를 -> 현재의 최대수익으로\r\n",
    "    for i in range(2, len(stock_list)):\r\n",
    "        # 3. 직전까지의 최소값???생성후 현재값과 비교하여 현재 최대수익 구하기 -> for문위에 선언 + 활용 + 뒤에서 업뎃\r\n",
    "        max_profit = stock_list[i] - min_so_far\r\n",
    "        # 6. 직전까지의 최대수익 vs 현재의 최대수익 비교후 업데이트\r\n",
    "        max_profit_so_far = max(max_profit_so_far, max_profit)\r\n",
    "        # 5. 최소값 업뎃\r\n",
    "        min_so_far = min( min_so_far, stock_list[i])\r\n",
    "        \r\n",
    "    # 7. 직전까지의 최대or최소값의 업데이트만 -> 마지막까지 한 뒤 밖에서 활용orreturn\r\n",
    "    return max_profit_so_far\r\n",
    "\r\n",
    " \r\n",
    "# 테스트\r\n",
    "print(max_profit([7, 1, 5, 3, 6, 4]))\r\n",
    "print(max_profit([7, 6, 4, 3, 1]))\r\n",
    "print(max_profit([11, 13, 9, 13, 20, 14, 19, 12, 19, 13]))\r\n",
    "print(max_profit([12, 4, 11, 18, 17, 19, 1, 19, 14, 13, 7, 15, 10, 1, 3, 6]))"
   ],
   "outputs": [
    {
     "output_type": "stream",
     "name": "stdout",
     "text": [
      "5\n",
      "-1\n",
      "11\n",
      "18\n"
     ]
    }
   ],
   "metadata": {}
  },
  {
   "cell_type": "code",
   "execution_count": null,
   "source": [
    "# AAA 앞에 것을 고정하면, 뒤에것 ~ 끝까지 중 최대/최소 찾는 과정에서 slicing을 또 해야한다.\r\n",
    "# AAA 2변수가 움직일 때는, 거져먹어서 시간복잡도를 낮추려면, 뒤에 것을 고정하자!!! \r\n",
    "\r\n",
    "# if 사는 날 고정시 -> i~끝까지 중 최대값 찾기\r\n",
    "# -> 일단 [[i~끝까지의]] 최대값 보다는 <<< [[직전까지의]] 최소값이 더 편하다.\r\n",
    "# **할 수 있다면, 뒤에 것을 고정시키고 앞에서부터 찾자~!!**\r\n",
    "# 사는 날의 주식가격[i] - [i+1~끝]까지 중 최대 값\r\n",
    "# -> i+1부터~끝까지는... 사는날을 i로 두고 돌아도-> 또 j로 돌아야한다.\r\n",
    "# -> if 뒤에것=파는날을 for i로 고정한다면, \r\n",
    "# **뒤에것을 for i 고정하면, 앞에 것 중 최대or최소값은 뒤에것 i를 도는 과정에서, 현재[i] 최대수익계산를 하면서 && 현재[i]값과 직전까지=앞에것을 업데이트하며 진행할 수 있음.  **\r\n",
    "# my) 뒤에 것을 i고정시켜서 돌면 -> 뒤에 것이 옮겨다니는 동안 앞에 것들을 update시키면서 최대or최소를 업뎃하며 챙겨놓을 수 있다.\r\n",
    "def max_profit(stock_list):\r\n",
    "    # 1. 사는날 0일 때의 최대수익\r\n",
    "    max_profit_so_far = stock_list[1] - stock_list[0]\r\n",
    "    # 4. i+1부터 끝까지 중  최대값을 보관할 변수\r\n",
    "    max_after = max(stock_list[1:])\r\n",
    "\r\n",
    "    # 2. 사는날을 고정시켜놓고, i+1~끝까지의 최대값과 차이를 -> 현재의 최대수익으로\r\n",
    "    for i in range(1, len(stock_list)-1):\r\n",
    "        # 3. i+1~끝중 최대 값 변수 생성후 현재값과 비교하여 현재 최대수익 구하기 -> for문위에 선언 + 활용 + 뒤에서 업뎃\r\n",
    "        max_profit = max_after - stock_list[i]\r\n",
    "        # 6. 직전까지의 최대수익 vs 현재의 최대수익 비교후 업데이트\r\n",
    "        max_profit_so_far = max(max_profit_so_far, max_profit)\r\n",
    "        # 5. i+1~끝까지 중 최대값 업뎃\r\n",
    "        max_after = max( max_after, max(stock_list[i+1:]))\r\n",
    "        \r\n",
    "    # 7. 직전까지의 최대or최소값의 업데이트만 -> 마지막까지 한 뒤 밖에서 활용orreturn\r\n",
    "    return max_profit_so_far\r\n",
    "\r\n",
    " \r\n",
    "# 테스트\r\n",
    "print(max_profit([7, 1, 5, 3, 6, 4]))\r\n",
    "print(max_profit([7, 6, 4, 3, 1]))\r\n",
    "print(max_profit([11, 13, 9, 13, 20, 14, 19, 12, 19, 13]))\r\n",
    "print(max_profit([12, 4, 11, 18, 17, 19, 1, 19, 14, 13, 7, 15, 10, 1, 3, 6]))"
   ],
   "outputs": [],
   "metadata": {}
  },
  {
   "cell_type": "markdown",
   "source": [
    "## level 3\r\n"
   ],
   "metadata": {}
  },
  {
   "cell_type": "markdown",
   "source": [
    "### 리스트 항목 합 탐색1(BF -> 두 요소의 합 + 이진탐색 응용)"
   ],
   "metadata": {}
  },
  {
   "cell_type": "markdown",
   "source": [
    "[1, 2, 5, 6, 7, 9, 11] 안에 합이 15가 되는 두 요소의 조합이 있는지 확인하고 싶습니다. 두 요소 6과 9의 합이 15가 되죠? 이 조합이 있는지 없는지를 알고 싶은 거죠.\r\n",
    "\r\n",
    "함수 설명  \r\n",
    "함수 sum_in_list은 정수 search_sum와 정렬된 정수 리스트 sorted_list를 받아서 sorted_list안의 두 요소의 합이 search_sum가 되는 조합이 있는지 없는지를 불린으로 리턴합니다.\r\n",
    "\r\n",
    "sum_in_list(15, [1, 2, 5, 6, 7, 9, 11])은 불린 True를 리턴합니다\r\n",
    "\r\n",
    "```python\r\n",
    "def sum_in_list(search_sum, sorted_list):\r\n",
    "    # 코드를 쓰세요\r\n",
    "\r\n",
    "\r\n",
    "print(sum_in_list(15, [1, 2, 5, 6, 7, 9, 11]))\r\n",
    "print(sum_in_list(15, [1, 2, 5, 7, 9, 11]))\r\n",
    "```"
   ],
   "metadata": {}
  },
  {
   "cell_type": "code",
   "execution_count": 2,
   "source": [
    "# BF로 모든 요소를 돌 순 있다.\r\n",
    "# -> 하지만, n^2 시복은 다른 방법이 있다.\r\n",
    "# -> 정렬된 인풋 리스트를 받는다? -> 이진탐색도 생각하자.\r\n",
    "# cf)이진탐색 : 오름차순 정렬을 전제로, mid index의 값을 뽑아보아, 크냐? 작냐? -> 탐색범위 절반으로\r\n",
    "# -> n^2을 이진탐색으로 n*logn으로 줄여준다.\r\n",
    "def sum_in_list(search_sum, sorted_list):\r\n",
    "    for i in range(len(sorted_list)):\r\n",
    "        for j in range(len(sorted_list)):\r\n",
    "            if sum([sorted_list[i], sorted_list[j]]) == search_sum:\r\n",
    "                return True\r\n",
    "\r\n",
    "\r\n",
    "print(sum_in_list(15, [1, 2, 5, 6, 7, 9, 11]))\r\n",
    "print(sum_in_list(15, [1, 2, 5, 7, 9, 11]))"
   ],
   "outputs": [
    {
     "output_type": "stream",
     "name": "stdout",
     "text": [
      "True\n",
      "None\n"
     ]
    }
   ],
   "metadata": {}
  },
  {
   "cell_type": "code",
   "execution_count": 3,
   "source": [
    "# 15, [1, 2, 6, 7, 9, 11]\r\n",
    "# 정렬된 상태에서 제일 작은 것 1 -> 고정되어 -> 제일 큰 것 과 비교 (안되는 것을 걸러내고 시작함.)\r\n",
    "# 1 -> 제일 큰것과 합 1+11 =12 -> 1고정으로는 15는 나올 수 없다 -> 오른쪽 한칸 이동\r\n",
    "# 2-> 제일 큰것과 합 2+11 = 13 -> 오른쪽이동\r\n",
    "# 6 -> 6+11 = 17-> 가능한데 더 작은 값에서 찾아야하므로 왼쪽으로 이동\r\n",
    "#   -> 6+9 = 15 -> return True\r\n",
    "# **for i로 고정 출발이 아니라, while + index받아서 낮은 건 높이고(+=) / 높은건 낮추면서(-=) 진행된다.**\r\n",
    "\r\n",
    "\r\n",
    "# - 값 찾기의 이진탐색은 정렬된 리스트 -> 스스로 변수 index start/end 설정 -> mid값과 찾는값 비교하여 한쪽 선택이었다.\r\n",
    "# - 중복 value탐색의 이진탐색은 -> 재귀도써야해서 인자 start, end받아가며 -> if조건에 따라 함수(start,mid) 형식으로 줄임. 전체list돌면서 if <= value <= count +=1해서 count == 구간 갯수 동일해야함\r\n",
    "# - 합 찾기의 정렬된 리스트 -> 스스로 index low/high 설정 -> while low < high : low+= / high-= 2개를 동시에 움직인다. \r\n",
    "# -- 이진탐색을 low와 high가 -> <- 오면서 붙기직전까지 돌면서 탐색하며, \r\n",
    "# -- if1 : 정답이냐 if2 합이작냐? low+=1 if3 합이크냐? high-=1\r\n",
    "# -- 정렬된 리스트의 양<끝>을 +/-로 움직이면서, 붙을때까지 작은면 작은 것을 올리고/크면 큰것을 낮추는 전략\r\n",
    "\r\n",
    "# 정렬된 리스트에서의 탐색은 이진탐색 or 다른규칙활용을 생각하자\r\n",
    "def sum_in_list(search_sum, sorted_list):\r\n",
    "    # 1. 정렬된 리스트에서 2요소의 합을 찾을 대는, 젤작index, 젤큰index에서의 합 -> 작으면 low+1, 크면 high-1 작전을 쓴다.\r\n",
    "    low = 0\r\n",
    "    high = len(sorted_list) - 1\r\n",
    "    \r\n",
    "    # 2. while + +=1 or -=1을 활용한다. 가까워질 때는, 똑같아지는 것은 의미가 없으므로 클 때까지만 지속되도록 한다.\r\n",
    "    while low < high:\r\n",
    "        candidate_sum = sorted_list[low] + sorted_list[high]\r\n",
    "        \r\n",
    "        # 3. 끝낼 수 있는 조건을 제일 먼저 확인한다.\r\n",
    "        if candidate_sum == search_sum: # 합이 찾으려는 숫자일 때\r\n",
    "            return True\r\n",
    "\r\n",
    "        # 4. 끝낼 수 없으면, 업데이트 시킨다. 업데이트 방법이 2개인 경우다.\r\n",
    "        if candidate_sum < search_sum:  # 합이 찾으려는 숫자보다 작을 때\r\n",
    "            low += 1\r\n",
    "        \r\n",
    "        else: # 합이 찾으려는 숫자보다 클 때\r\n",
    "            high -= 1\r\n",
    "    \r\n",
    "    # 5. while문은 다돌았는데도 없으면 없는 거다.\r\n",
    "    return False\r\n",
    "    \r\n",
    "# 테스트\r\n",
    "print(sum_in_list(15, [1, 2, 5, 6, 7, 9, 11]))\r\n",
    "print(sum_in_list(15, [1, 2, 5, 7, 9, 11]))"
   ],
   "outputs": [
    {
     "output_type": "stream",
     "name": "stdout",
     "text": [
      "True\n",
      "False\n"
     ]
    }
   ],
   "metadata": {}
  },
  {
   "cell_type": "code",
   "execution_count": null,
   "source": [
    "# 다시 풀기\r\n",
    "# 1.  2요소의 합이므로 2개가 움직인다.\r\n",
    "# - 보통은 하나를 고정for시키고, 나머지를 고정for시키며서 돌거나\r\n",
    "# - 또는, 나머지하나를 정렬된 상태로서 이진탐색을 해도된다.\r\n",
    "# - 하지만, 정렬된 상태에서는 2개를 동시에 움직이며 조절하는 것이 가능하다.\r\n",
    "def sum_in_list(search_sum, sorted_list):\r\n",
    "    # 2. 동시에 컨트롤할 index가 필요함.\r\n",
    "    # - 젤 큰것과 젤 작은 것을 서로 좁혀나가면서 탐색한다.\r\n",
    "    low = 0\r\n",
    "    high = len(sorted_list)-1\r\n",
    "\r\n",
    "    while low < high:\r\n",
    "        # 3. 성공탈출 조건을 제일 먼저 기입한다.\r\n",
    "        candidate_sum = sorted_list[low] + sorted_list[high]\r\n",
    "        if candidate_sum == search_sum:\r\n",
    "            return True \r\n",
    "\r\n",
    "        # 4. 성공이 아닐 때, 업데이트 시킨다.\r\n",
    "        # - 합이 작다? 키워야한다? 작은 것을 오른쪽으로 땡겨 키운다.\r\n",
    "        if candidate_sum < search_sum:\r\n",
    "            low+=1\r\n",
    "        else:\r\n",
    "            high-=1\r\n",
    "    \r\n",
    "    # 마지막끝까지 업데이트 시켰는데도 없다?\r\n",
    "    return False"
   ],
   "outputs": [],
   "metadata": {}
  },
  {
   "cell_type": "markdown",
   "source": [
    "### 강남역 폭우2 (BF slicing 풀어헤치기 )"
   ],
   "metadata": {}
  },
  {
   "cell_type": "markdown",
   "source": [
    "강남역에 엄청난 폭우가 쏟아진다고 가정합시다. 정말 재난 영화에서나 나올 법한 양의 비가 내려서, 고층 건물이 비에 잠길 정도입니다.\r\n",
    "\r\n",
    "그렇게 되었을 때, 건물과 건물 사이에 얼마큼의 빗물이 담길 수 있는지 알고 싶은데요. 그것을 계산해 주는 함수 trapping_rain을 작성해 보려고 합니다.\r\n",
    "\r\n",
    "함수 trapping_rain은 건물 높이 정보를 보관하는 리스트 buildings를 파라미터로 받고, 담기는 빗물의 총량을 리턴해 줍니다.\r\n",
    "\r\n",
    "예를 들어서 파라미터 buildings로 [3, 0, 0, 2, 0, 4]가 들어왔다고 합시다. 그러면 0번 인덱스에 높이 3의 건물이, 3번 인덱스에 높이 2의 건물이, 5번 인덱스에 높이 4의 건물이 있다는 뜻입니다. 1번, 2번, 4번 인덱스에는 건물이 없습니다.\r\n",
    "\r\n",
    "그러면 아래의 사진에 따라 총 10 만큼의 빗물이 담길 수 있습니다. 따라서 trapping_rain 함수는 10을 리턴하는 거죠.\r\n",
    "\r\n",
    "![](https://raw.githubusercontent.com/is3js/screenshots/main/995ADA4B5D87BB3E0372F3)\r\n",
    "\r\n",
    "* 3차원 말고, 2차원으로 생각해 주세요!\r\n",
    "  이번에는 파라미터 buildings로 [0, 1, 0, 2, 1, 0, 1, 3, 2, 1, 2, 1]가 들어왔다고 합시다. 그러면 아래의 사진에 따라 총 6 만큼의 빗물이 담길 수 있습니다. 따라서 trapping_rain 함수는 6을 리턴하는 거죠.\r\n",
    "\r\n",
    "![](https://raw.githubusercontent.com/is3js/screenshots/main/996D9E3F5D87BB6904FC3B)\r\n",
    "\r\n",
    "* 리스트 [0, 1, 0, 2, 1, 0, 1, 3, 2, 1, 2, 1]\r\n",
    "  이 정보를 기반으로, trapping_rain 함수를 작성해 보세요!\r\n",
    "\r\n",
    "Brute Force 단원에서는 이 문제를 시간 복잡도 O(n^2)로 풀었었는데요, 더 많은 공간을 쓰더라도 조금 더 효율적인 시간 복잡도로 문제를 풀어볼까요?\r\n",
    "\r\n",
    "```python\r\n",
    "def trapping_rain(buildings):\r\n",
    "    # 코드를 작성하세요\r\n",
    "\r\n",
    "    \r\n",
    "# 테스트\r\n",
    "print(trapping_rain([3, 0, 0, 2, 0, 4]))\r\n",
    "print(trapping_rain([0, 1, 0, 2, 1, 0, 1, 3, 2, 1, 2, 1]))\r\n",
    "```\r\n"
   ],
   "metadata": {}
  },
  {
   "cell_type": "code",
   "execution_count": 4,
   "source": [
    "# BF(for + max(slicing))을 활용한 경우\r\n",
    "def trapping_rain(buildings):\r\n",
    "\r\n",
    "    # 1. 누적합을 계산하여 반환할 변수(for문 안에서는 직전까지 action한 변수)\r\n",
    "    total_height = 0\r\n",
    "    # 2. 문제상 0번째 건물과 n-1번째 건물은 양쪽 중 한쪽 건물이 없어서 채울 수가 없다.\r\n",
    "    # - 1 ~ n-2까지만 돌면서, 각 i번째의 왼쪽에서의 제일높은 & 오른쪽에서 젤 높은 곳을 구한 뒤, 둘중에 작은 건물높이가 빗물 높이\r\n",
    "    for i in range(1, len(buildings)-1 ):\r\n",
    "        left_max = max(buildings[:i]) # 직전까지와 비교 대신 1~직전까지 중 max를 매번 찾음.\r\n",
    "        right_max = max(buildings[i+1:])\r\n",
    "        #  3. 찾을때마다 물 높이까지 해결해야함. \r\n",
    "        # - 둘중 낮은 건물위치 = 물높이(upper_bound) -> 현재 건물높이와 빼면 순수 물높이가 나옴\r\n",
    "        upper_bound = min(left_max, right_max)\r\n",
    "\r\n",
    "        # 4. 현재 물높이는 건물높이와 같을 수도. 건물높이보다 작은 상태일 수도 있다. \r\n",
    "        # -  \\\\  [///]  \\\\\\\\  물높이만 계산시 2 -> 건물높이는 3 물이 안고였는데, 좌우건물높이 -> 물만 먼저 생각하다보니\r\n",
    "        # - 먼저 계산한 물높이보다 건물높이가 더 큰경우를 방지하기 위해 -> max(0, )으로 최소 0이 되게 해준다.\r\n",
    "        # - 음수가 나올지도 모른다면, 최소 0으로 맞춰서 누적합에 0으로 들어가게 한다.\r\n",
    "        water_height = max(upper_bound - buildings[i], 0) \r\n",
    "        total_height += water_height\r\n",
    "\r\n",
    "    return total_height\r\n",
    "\r\n",
    "    \r\n",
    "# 테스트\r\n",
    "print(trapping_rain([3, 0, 0, 2, 0, 4]))\r\n",
    "print(trapping_rain([0, 1, 0, 2, 1, 0, 1, 3, 2, 1, 2, 1]))"
   ],
   "outputs": [
    {
     "output_type": "stream",
     "name": "stdout",
     "text": [
      "10\n",
      "6\n"
     ]
    }
   ],
   "metadata": {}
  },
  {
   "cell_type": "code",
   "execution_count": null,
   "source": [
    "# <new> BF(for + max(slicing))을 활용한 경우\r\n",
    "# i때마다 양쪽의 최대값을 max([:i]) max([i+1:])의 slicing으로 찾던 것을\r\n",
    "# -> slicing 풀어주기 by 직전까지의 [변수->] list[i-1] or list[i+1]과  현재 data[i]를 비교해서 누적해서 데이터 쌓고, 다시 한번 돌면서 꺼내기\r\n",
    "def trapping_rain(buildings):\r\n",
    "    total_height = 0\r\n",
    "\r\n",
    "    # 1. 처음(1)부터 현재까지(i)의 slicing을 풀어주려면\r\n",
    "    # 1-1. for문을 돌면서 직전과 비교하여 최대값을 누적시킬 -> [default]*n의 list가 필요하다. \r\n",
    "    # - 변수가 아니라 각 index마다의 정보를 누적시키며, default값이 있어야 for문을 돌면서 바로바로 누적된다.\r\n",
    "    # - 최대값 update를 위해서는 for문위변수에 default로 시작값을 지정해줘야하는데, 여기서는 for문위 list[0]에 지정해주고, 1부터 for문을 돌린다.\r\n",
    "    # - 슬라이싱이 2개라면 각각 for 2개가 필요하다. 특히 for문으로 지켜보지 못하면 안되므로.. for문을 거꾸로 돌게 된다.\r\n",
    "    # - 오른쪽은 완전 별개로 거꾸로 돈다. + 각각 도니 for + slicing (n^2) 보다는 for + for 의 (n)이 된다.\r\n",
    "    n = len(buildings)\r\n",
    "    left_list = [0] * n # 각 i의 정보(숫자)를 저장할 n길이의 list\r\n",
    "    right_list = [0] * n \r\n",
    "\r\n",
    "    # 2. for문을 돌면서 각 i 때, 시작~i-1까지에 정보를 누적한 상태의  i-1과 비교하여 최대값 정보를 list에 저장한다.\r\n",
    "        # - 여기서 직전까지의 변수는, 각 list에 차지하는 시작index 값이 된다.\r\n",
    "    left_list[0] = buildings[0]\r\n",
    "    right_list[-1] = buildings[-1] # 우측 list는 끝(-1)부터 채운다. 그래서 default값도 -1로 준다.\r\n",
    "    # [k, 0, 0, 0]\r\n",
    "    # [0, 0, 0, k]\r\n",
    "\r\n",
    "    # 3. 이제 각 i일때, 직전까지의 정보[i-1] or [i+1]과 비교해서 max값 업데이트를 list에다가 기록해준다. \r\n",
    "    # - 왼쪽list는 1부터 채워나가면 되고, 오른쪽list는 끝에더서 2번재항인 n-2부터 거꾸로 채워나가면 된다.\r\n",
    "    # - 왼쪽을 보는 것은 마지막항(n-1)도 가능하다.\r\n",
    "    # - 오른쪽을 보는 것은 1(0)까지 가능하다\r\n",
    "\r\n",
    "    # 3-1) 왼쪽부터 max정보를 1~직전항까지의 max정보(list[i-1])을 이용해서 list에 채워나가기\r\n",
    "    for i in range(1, n):\r\n",
    "        left_list[i] =  max(left_list[i-1], buildings[i])\r\n",
    "\r\n",
    "    for i in range(n-2, 0, -1):\r\n",
    "        right_list[i] = max(right_list[i+1], buildings[i])\r\n",
    "\r\n",
    "    # 4. 이제 다 채워진 i마다의 왼쪽중 최대 / 오른쪽중 최대 building높이를 for문으로 2개 list를 동시에 꺼낸다.\r\n",
    "    # - 각 list의 i번째 값 중 작은 것이 물높이\r\n",
    "    for i in range(n):\r\n",
    "        upper_bound = min( left_list[i], right_list[i] )\r\n",
    "\r\n",
    "        total_height += max(upper_bound - buildings[i], 0)\r\n",
    "\r\n",
    "    return total_height\r\n",
    "    \r\n",
    "    # 주석처리22. \r\n",
    "    # for i in range(1, len(buildings)-1 ):\r\n",
    "    #     # 주석1. \r\n",
    "    #     # left_max = max(buildings[:i]) \r\n",
    "    #     # right_max = max(buildings[i+1:])\r\n",
    "    #     upper_bound = min(left_max, right_max)\r\n",
    "    #     water_height = max(upper_bound - buildings[i], 0) \r\n",
    "        \r\n",
    "    #     total_height += water_height\r\n",
    "\r\n",
    "    # return total_height\r\n",
    "\r\n",
    "    \r\n",
    "# 테스트\r\n",
    "print(trapping_rain([3, 0, 0, 2, 0, 4]))\r\n",
    "print(trapping_rain([0, 1, 0, 2, 1, 0, 1, 3, 2, 1, 2, 1]))"
   ],
   "outputs": [],
   "metadata": {}
  }
 ],
 "metadata": {
  "orig_nbformat": 4,
  "language_info": {
   "name": "python",
   "version": "3.8.5",
   "mimetype": "text/x-python",
   "codemirror_mode": {
    "name": "ipython",
    "version": 3
   },
   "pygments_lexer": "ipython3",
   "nbconvert_exporter": "python",
   "file_extension": ".py"
  },
  "kernelspec": {
   "name": "python3",
   "display_name": "Python 3.8.5 64-bit (conda)"
  },
  "interpreter": {
   "hash": "b3ba2566441a7c06988d0923437866b63cedc61552a5af99d1f4fb67d367b25f"
  }
 },
 "nbformat": 4,
 "nbformat_minor": 2
}