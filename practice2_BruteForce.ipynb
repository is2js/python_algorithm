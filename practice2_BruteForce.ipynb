{
 "cells": [
  {
   "cell_type": "markdown",
   "source": [
    "## BruteForce문제만 모아서 보기"
   ],
   "metadata": {}
  },
  {
   "cell_type": "markdown",
   "source": [
    "## level 1"
   ],
   "metadata": {}
  },
  {
   "cell_type": "markdown",
   "source": [
    "### lv1 투자의 귀재 규식이1 (BF)\r\n",
    "\r\n",
    "규식이는 친구들 사이에서 투자의 귀재로 알려져 있습니다. 페이수북과 인수타그램에 자신의 성과를 과시하기 때문인데요. 사실 규식이가 그 정도의 실력자는 아닙니다. 성과가 좋을 때에만 SNS에 공유해서 그렇게 비춰질 뿐이죠.\r\n",
    "\r\n",
    "계속해서 멋진 모습을 보여주기 위해, 특정 기간 중 수익이 가장 큰 구간을 찾아내는 함수 sublist_max를 작성해 보려고 합니다.\r\n",
    "\r\n",
    "Brute Force 방법을 이용해서 이 문제를 한 번 풀어봅시다!\r\n",
    "\r\n",
    "함수 설명\r\n",
    "우선 함수 sublist_max는 파라미터로 리스트 profits를 받는데요. profits에는 며칠 동안의 수익이 담겨 있습니다. 예를 들어서 profits가 [7, -3, 4, -8]이라면 첫 날에는 7달러를 벌었고, 둘째 날에는 3달러를 잃었고, 셋째 날에는 4달러를 벌었고, 마지막 날에는 8달러를 잃은 거죠.\r\n",
    "\r\n",
    "sublist_max 함수는 profits에서 최대 수익을 내는 구간의 수익을 리턴합니다.\r\n",
    "\r\n",
    "profits가 [7, -3, 4, -8]이라면 무엇을 리턴해야 할까요? profits에서 가장 많은 수익을 낸 구간은 [7, -3, 4]입니다. 이 구간에서 낸 수익은 8달러이니, 8을 리턴하면 되겠죠!\r\n",
    "\r\n",
    "만약 profits가 [-2, -3, 4, -1, -2, 1, 5, -3]이라면? profits에서 수익이 가장 큰 구간은 [4, -1, -2, 1, 5]입니다. 이 구간에서 낸 수익은 7달러이니, 7을 리턴하겠죠\r\n",
    "\r\n",
    "```python\r\n",
    "def sublist_max(profits):\r\n",
    "    # 코드를 작성하세요. \r\n",
    "\r\n",
    "\r\n",
    "# 테스트\r\n",
    "print(sublist_max([4, 3, 8, -2, -5, -3, -5, -3]))\r\n",
    "print(sublist_max([2, 3, 1, -1, -2, 5, -1, -1]))\r\n",
    "print(sublist_max([7, -3, 14, -8, -5, 6, 8, -5, -4, 10, -1, 8]))\r\n",
    "```"
   ],
   "metadata": {}
  },
  {
   "cell_type": "code",
   "execution_count": 1,
   "source": [
    "# for위의 변수는, 매 for문마다 직전값(원소, 누적합, 누적곱)을 담아두는 놈이다.\r\n",
    "\r\n",
    "# - 누적합 -> [4], [4,3]을 도는(+ 그들의합) 과정이라고 생각하자.\r\n",
    "# - 누적합이든 / 최대/최소값 저장이든 for문앞에 -> 변수 선언후 쌓아두기 or 치환하기\r\n",
    "# - 순서대로 가면서for1(시작점), 순서대로 for2 보태서 커지는 누적합들을 비교해야함.\r\n",
    "# ex> 1 시작 -> 1과 1+3과 1+3-2와...    1+3-2+4-1+7 등 누적합들을 비교하면서 커져야한다.\r\n",
    "# - j~끝 까지 커지면서 누적되는 것들의 합을 비교하기 위해서는\r\n",
    "# - i용 최대누적합 변수빼기 -> for i 시작  +  j용 total변수빼기 for  total +=[j] 누적합산 후,\r\n",
    "# -   각 j누적된 total마다 i바깥의 전체누적합변수와 max()로 비교해서 갈아치우기\r\n",
    "# - 원래 있던 값(max_profits)에 대해 새로운 값(total)과 비교해서 큰값으로 대치하기\r\n",
    "# -   x = max(x, y)\r\n",
    "def sublist_max(profits):\r\n",
    "    max_profit = profits[0]\r\n",
    "    \r\n",
    "    for i in range(len(profits)):\r\n",
    "        # 2. \r\n",
    "        # i부터 ~ 끝까지 j로 돌면서, 각 합들을 append해줄 총액 변수\r\n",
    "        # i=0 : 01 누적합, 012 누적합, 0123 누적합이 저장된다. for j 바깥에 선언해야 각 i마다 j로 돌아도 유지된다.\r\n",
    "        # **누적되는 과정( += 로 실시간 j에서 누적) 에서 max()로 비교해서 현재 최대누적합 i전체용 max_profit과 비교해줘야한다.**\r\n",
    "        total = 0\r\n",
    "        for j in range(i, len(profits)):\r\n",
    "            # 1. \r\n",
    "            # 리스트가 1개라 i는 인덱싱에 사용하지 않는다. 바깥에서 j의 시작점을 내려준다.\r\n",
    "            # 0-0123, 1-123, 2-23, 3-3\r\n",
    "\r\n",
    "            # 3.\r\n",
    "            total += profits[j]  # for j를 돌면서 조합마다의 누적합이 total에 저장된다. \r\n",
    "            # 각 i~끝까지의 조합마다 현재의 최강값과 비교해줘야한다.\r\n",
    "            max_profit = max(max_profit, total)\r\n",
    "            \r\n",
    "        return max_profit\r\n",
    "    \r\n",
    "sublist_max([4, 3, 8, -2, -5, -3, -5, -3])"
   ],
   "outputs": [
    {
     "output_type": "execute_result",
     "data": {
      "text/plain": [
       "15"
      ]
     },
     "metadata": {},
     "execution_count": 1
    }
   ],
   "metadata": {}
  },
  {
   "cell_type": "markdown",
   "source": [
    "### lv1 중복되는 항목찾기1(BF->메모활용)"
   ],
   "metadata": {}
  },
  {
   "cell_type": "markdown",
   "source": [
    " (N + 1)의 크기인 리스트에, 1부터 N까지의 임의의 자연수가 요소로 할당되어 있습니다. 그렇다면 어떤 수는 꼭 한 번은 반복되겠지요.\r\n",
    "\r\n",
    "예를 들어 [1, 3, 4, 2, 5, 4]와 같은 리스트 있을 수도 있고, [1, 1, 1, 6, 2, 2, 3]과 같은 리스트가 있을 수도 있습니다. (몇 개의 수가 여러 번 중복되어 있을 수도 있습니다.)\r\n",
    "\r\n",
    "이런 리스트에서 반복되는 요소를 찾아내려고 합니다.\r\n",
    "\r\n",
    "중복되는 어떠한 수 ‘하나’만 찾아내도 됩니다. 즉 [1, 1, 1, 6, 2, 2, 3] 예시에서 1, 2를 모두 리턴하지 않고, 1 또는 2 하나만 리턴하게 하면 됩니다.\r\n",
    "\r\n",
    "중복되는 수를 찾는 시간 효율적인 함수를 설계해보세요.\r\n",
    "```python\r\n",
    "def find_same_number(some_list):\r\n",
    "    # 코드를 쓰세요\r\n",
    "    \r\n",
    "\r\n",
    "# 중복되는 수 ‘하나’만 리턴합니다.\r\n",
    "print(find_same_number([1, 4, 3, 5, 3, 2]))\r\n",
    "print(find_same_number([4, 1, 5, 2, 3, 5]))\r\n",
    "print(find_same_number([5, 2, 3, 4, 1, 6, 7, 8, 9, 3]))\r\n",
    "\r\n",
    "```"
   ],
   "metadata": {}
  },
  {
   "cell_type": "code",
   "execution_count": null,
   "source": [
    "# 처음에는 딱 봐도 2중for문으로 BF로 돌면서 푸는 문제다\r\n",
    "# i와 i+1~끝까지를 비교해서 같으면 반환해버면 끝.\r\n",
    "def find_same_number(some_list):\r\n",
    "    for i in range(len(some_list)):\r\n",
    "        for j in range(i+1, len(some_list)):\r\n",
    "            if some_list[i] == some_list[j]:\r\n",
    "                return some_list[i]"
   ],
   "outputs": [],
   "metadata": {}
  },
  {
   "cell_type": "code",
   "execution_count": 2,
   "source": [
    "# 하지만 2중 for문은 시간복잡도가 n^2이상으로 너무 비효율적이다.\r\n",
    "# - 이때마다 다르게 풀 수 있는지 확인한다. \r\n",
    "# - 중복되는 부분문제 뿐만 아니라, [for문을 돌면서 중복되는 경우]도 dp처럼 memo를 활용한다.\r\n",
    "# 즉, 풀이과정에서 if필터링에 <들어오는 조합input>이 반복된다 싶으면(ex> i,j), memoization(dict-key중복허용X)를 활용하자\r\n",
    "# 모든 경우를 하나씩 본다? -> 돌면서 같은 경우도 있었을 것이다. -> memo로 저장하면서확인한다.\r\n",
    "# - memo생성 -> for문을 돌면서 memo에 있나부터 확인 ->  있으면 반환부터 / 없으면 memo 넣기\r\n",
    "# - [있으면 반환]으로 다른 처리가 필요없어진다. Q문제가 단순하게 같은게 있을 때 반환만 하면 되는 문제이므로\r\n",
    "\r\n",
    "# 리스트에서 중복되는 것이 있나? -> 하나씩 dict key에 넣어놓고 확인하기 문제랑 같음.\r\n",
    "\r\n",
    "def find_same_number(some_list):\r\n",
    "    # 1. memo용 사전 생성\r\n",
    "    elements_seen_so_far={}\r\n",
    "\r\n",
    "    for element in some_list:\r\n",
    "        # 2. 먼저 있나없나 확인\r\n",
    "        if element in elements_seen_so_far:\r\n",
    "            return element\r\n",
    "        \r\n",
    "        # 3. 없으면, memo에 넣어죽기만 하면, 위에 중복될때 반환되고 끝남.\r\n",
    "        # - dict에 1개만 넣어줄때는 key값으로만 넣어주면 됨.\r\n",
    "        elements_seen_so_far[element] = True\r\n",
    "    \r\n",
    "\r\n",
    "print(find_same_number([1, 4, 3, 5, 3, 2]))\r\n",
    "print(find_same_number([4, 1, 5, 2, 3, 5]))\r\n",
    "print(find_same_number([5, 2, 3, 4, 1, 6, 7, 8, 9, 3]))"
   ],
   "outputs": [
    {
     "output_type": "stream",
     "name": "stdout",
     "text": [
      "3\n",
      "5\n",
      "3\n"
     ]
    }
   ],
   "metadata": {}
  },
  {
   "cell_type": "code",
   "execution_count": 1,
   "source": [
    "# my) value는 True만 저장하고, key로 입력시킨 기억이 있는지 확인한 뒤\r\n",
    "#      for문을 돌면서 <if 필터링으로 확인훈 return + 노확인이라서 True입력 > -> 돌다보면 ㄴ확인되어 return되는 경우가 생긴다.\r\n",
    "def find_same_number(some_list):\r\n",
    "    # 이미 나온 요소를 저장시켜줄 사전\r\n",
    "    elements_seen_so_far = {}\r\n",
    "\r\n",
    "    for element in some_list:\r\n",
    "        # 이미 나온 요소인지 확인하고 맞으면 요소를 리턴한다\r\n",
    "        if element in elements_seen_so_far:\r\n",
    "            return element\r\n",
    "\r\n",
    "        # 해당 요소를 사전에 저장시킨다\r\n",
    "        elements_seen_so_far[element] = True\r\n",
    "\r\n",
    "print(find_same_number([1, 4, 3, 5, 3, 2]))\r\n",
    "print(find_same_number([4, 1, 5, 2, 3, 5]))\r\n",
    "print(find_same_number([5, 2, 3, 4, 1, 6, 7, 8, 9, 3]))"
   ],
   "outputs": [
    {
     "output_type": "stream",
     "name": "stdout",
     "text": [
      "3\n",
      "5\n",
      "3\n"
     ]
    }
   ],
   "metadata": {}
  },
  {
   "cell_type": "markdown",
   "source": [
    "## level 2"
   ],
   "metadata": {}
  },
  {
   "cell_type": "markdown",
   "source": [
    "### 삼송전자 주식 분석(BF-> 기준 정하고 최대/최소값 찾기)"
   ],
   "metadata": {}
  },
  {
   "cell_type": "markdown",
   "source": [
    "\r\n",
    "\r\n",
    "태호는 주식 분석이 취미입니다.\r\n",
    "\r\n",
    "요즘 제일 핫한 종목은 삼송전자인데요. 삼송전자의 주식을 딱 한 번 사고 팔았다면 최대 얼마의 수익이 가능했을지 궁금합니다. 그것을 계산해 주는 O(n) 함수 max_profit을 작성하세요.\r\n",
    "\r\n",
    "max_profit은 파라미터로 일별 주식 가격이 들어 있는 리스트 stock_prices를 받고 최대 수익을 리턴합니다. 주식은 딱 한 번만 사고 한 번만 팝니다. 그리고 사는 당일에 팔 수는 없습니다.\r\n",
    "\r\n",
    "하나의 예시로, 지난 6일간 삼송전자의 주식 가격이 이렇다고 가정합시다.\r\n",
    "```python\r\n",
    "max_profit([7, 1, 5, 3, 6, 4])\r\n",
    "\r\n",
    "```\r\n",
    "이 기간 동안 낼 수 있는 최대 수익은 얼마일까요? 둘째 날 1에 사서 다섯째 날 6에 팔면 총 5의 수익이 생깁니다.\r\n",
    "\r\n",
    "또 다른 예시를 봅시다.\r\n",
    "```python\r\n",
    "max_profit([7, 6, 4, 3, 1])\r\n",
    "\r\n",
    "```\r\n",
    "이 기간 동안 가능한 최대 수익은 얼마일까요? 이번에는 주식이 계속 떨어지기만 하네요. 하지만 꼭 한 번은 사고 팔아야 하기 때문에, 첫 날 7에 사고 둘째 날 6에 팔아서 나오는 −1이 최대 수익입니다.\r\n",
    "```python\r\n",
    "def max_profit(stock_list):\r\n",
    "    # 코드를 작성하세요. \r\n",
    "\r\n",
    "\r\n",
    "# 테스트\r\n",
    "print(max_profit([7, 1, 5, 3, 6, 4]))\r\n",
    "print(max_profit([7, 6, 4, 3, 1]))\r\n",
    "print(max_profit([11, 13, 9, 13, 20, 14, 19, 12, 19, 13]))\r\n",
    "print(max_profit([12, 4, 11, 18, 17, 19, 1, 19, 14, 13, 7, 15, 10, 1, 3, 6]))\r\n",
    "```"
   ],
   "metadata": {}
  },
  {
   "cell_type": "code",
   "execution_count": 3,
   "source": [
    "# 1) BF 2중 포문으로 풀기\r\n",
    "# 먼저 변수가 2개다. 사는날 -> 파는날 2개다 돌아다닌다.\r\n",
    "# - 1개를 특정하면, 나머지날은 사는날:고가 or 파는날:저가 를 찾으면 된다.\r\n",
    "# - 2개를 2중 for문으로 특정할 경우, 파는날-사는날 을 계산해주면 된다.\r\n",
    "def max_profit(stock_list):\r\n",
    "    # 파는날-사는날의 최대수익 직전값 보관용\r\n",
    "    # - 초기값은 최소 2개이상부터 움직이니 이렇게 둔다. 0번째, 처음 것을 둬도 max로 치환된다.\r\n",
    "    max_profit_so_far = stock_list[1] - stock_list[0]\r\n",
    "\r\n",
    "    # 사는날의 마지막은, 마지막항 앞에까지. \r\n",
    "    for i in range(len(stock_list)-1):\r\n",
    "        # 누적(합)조합 아니므로, 여기에 직전j까지의 값을 저장할 변수를 생성할 필요는 없다.\r\n",
    "        for j in range(i+1, len(stock_list)):\r\n",
    "            max_profit_so_far = max(stock_list[j] - stock_list[i], max_profit_so_far)\r\n",
    "\r\n",
    "    return max_profit_so_far\r\n",
    "\r\n",
    "            \r\n",
    "\r\n",
    "\r\n",
    "print(max_profit([7, 1, 5, 3, 6, 4]))\r\n",
    "print(max_profit([7, 6, 4, 3, 1]))\r\n",
    "print(max_profit([11, 13, 9, 13, 20, 14, 19, 12, 19, 13]))\r\n",
    "print(max_profit([12, 4, 11, 18, 17, 19, 1, 19, 14, 13, 7, 15, 10, 1, 3, 6]))"
   ],
   "outputs": [
    {
     "output_type": "stream",
     "name": "stdout",
     "text": [
      "5\n",
      "-1\n",
      "11\n",
      "18\n"
     ]
    }
   ],
   "metadata": {}
  },
  {
   "cell_type": "code",
   "execution_count": 5,
   "source": [
    "# 2) BF 의 움직이는 변수 2개 중 1개를 고정시켜 풀기\r\n",
    "# - 변수2개를 모두 돌아다니면, 2중for문-> O(n^2)이 걸린다.\r\n",
    "# - 변수 1개를 특정하면, 나머지날은 사는날:고가 or 파는날:저가 를 찾으면 된다.\r\n",
    "# -> 최소값을 찾을 때, for문위변수로 직전까지의 최소값 = min()때린 것을 챙겨야한다\r\n",
    "# AAA 직전까지의 최소값? -> for문위에서 계속 min()으로 업데이트 되는 것이다.\r\n",
    "# AAA 현재파는날이 i라고 치면, 직전까지의 최소값 -> for문위변수를 그냥 사용만 하면 된다.\r\n",
    "# AAA list[i] - min_so_far -> 파는날i값 - 직전까지의 최소값 => 파는날i의 최대수익.\r\n",
    "# AAA 남은일) 직전까지의최소값 업뎃 + 기존까지의 최대수익(for문위변수, 파는날i마다 챙겨짐)과 비교후 챙기기\r\n",
    "# AAA **직전까지의 최소값 업뎃 = min( 변수, 현재항=마지막항[i] 활용 )**\r\n",
    "# - 여기서는 특이하게 파는날(2번째~마지막까지)을 for문으로 고정해서 -> 사는 날 중 최대값을 찾는다.\r\n",
    "def max_profit(stock_list):\r\n",
    "    # 1.\r\n",
    "    # 계산의 default -> 가장 적은 갯수일 때 -> 차이니까 최소 2개로 연산\r\n",
    "    # 누적합->for문 시작 주의 / max,min-> 그냥.. 최소갯수의 상태로 넣어놓기.\r\n",
    "    max_profit_so_far = stock_list[1] - stock_list[0]\r\n",
    "    # 4. 돌면서 챙길, 직전까지의 최소값\r\n",
    "    # - 최소갯수의 default상태에서 그냥 min때려 보관한다.\r\n",
    "    min_so_far = min(stock_list[0], stock_list[1])\r\n",
    "\r\n",
    "    # 2.\r\n",
    "    # 파는 날을 고정[i]하면, 2일부터 마지막항까지다.\r\n",
    "    for i in range(2, len(stock_list)-1):\r\n",
    "        # 3.\r\n",
    "        # 누적(합)조합 아니므로, 여기에 직전j까지의 값을 저장할 변수를 생성할 필요는 없다.\r\n",
    "        # 파는날 고정했으면, 뒤로 가면서 최소값을 찾아서 샀다고 치면 된다.\r\n",
    "        # 돌아가면서 최소값을 챙겨야하니, for문위에변수를 생성한다.\r\n",
    "\r\n",
    "        # 4. 사는날의 최소값은 -> min()업뎃으로 자동으로 챙겨왔다. \r\n",
    "        # -> 이를 바탕으로 만든 해당 파는날의 최대수익이, 직전까지의 최대수익과 max비교=업뎃 + min업뎃해주기\r\n",
    "        max_profit_so_far = max(max_profit_so_far, stock_list[i] - min_so_far)\r\n",
    "        # 4-1) 남은일로서, 다음사용을 위한, 직전까지의 최소값 업뎃해주기\r\n",
    "        min_so_far = min(min_so_far, stock_list[i])\r\n",
    "\r\n",
    "\r\n",
    "        \r\n",
    "\r\n",
    "    return max_profit_so_far\r\n",
    "\r\n",
    "            \r\n",
    "\r\n",
    "\r\n",
    "print(max_profit([7, 1, 5, 3, 6, 4]))\r\n",
    "print(max_profit([7, 6, 4, 3, 1]))\r\n",
    "print(max_profit([11, 13, 9, 13, 20, 14, 19, 12, 19, 13]))\r\n",
    "print(max_profit([12, 4, 11, 18, 17, 19, 1, 19, 14, 13, 7, 15, 10, 1, 3, 6]))"
   ],
   "outputs": [
    {
     "output_type": "stream",
     "name": "stdout",
     "text": [
      "5\n",
      "-1\n",
      "11\n",
      "18\n"
     ]
    }
   ],
   "metadata": {}
  },
  {
   "cell_type": "code",
   "execution_count": 7,
   "source": [
    "# 다시 정리하여 푼 것\r\n",
    "# 파는날을 고정시켜놓고, 직전까지의 최소값은 쉽게 업데이트 시켜 구할 수 있으므로\r\n",
    "# 파는날의 주식가격[i] - 직전까지의 최소값 -> 파는날의 최대수익을 모아서\r\n",
    "# -> 파는날의 최대 수익을 변수에서 업뎃한다.\r\n",
    "def max_profit(stock_list):\r\n",
    "    # 1. 직전까지의 최대수익(마지막 업뎃후엔 현재까지 최대수익-> return가능)\r\n",
    "    max_profit_so_far = stock_list[1] - stock_list[0]\r\n",
    "    # 4. 직전까지의 최소값을 보관할 변수\r\n",
    "    min_so_far = min(stock_list[0], stock_list[1])\r\n",
    "\r\n",
    "    # 2. 파는날을 고정시켜놓고, 직전까지의 최소값과 차이를 -> 현재의 최대수익으로\r\n",
    "    for i in range(2, len(stock_list)):\r\n",
    "        # 3. 직전까지의 최소값???생성후 현재값과 비교하여 현재 최대수익 구하기 -> for문위에 선언 + 활용 + 뒤에서 업뎃\r\n",
    "        max_profit = stock_list[i] - min_so_far\r\n",
    "        # 6. 직전까지의 최대수익 vs 현재의 최대수익 비교후 업데이트\r\n",
    "        max_profit_so_far = max(max_profit_so_far, max_profit)\r\n",
    "        # 5. 최소값 업뎃\r\n",
    "        min_so_far = min( min_so_far, stock_list[i])\r\n",
    "        \r\n",
    "    # 7. 직전까지의 최대or최소값의 업데이트만 -> 마지막까지 한 뒤 밖에서 활용orreturn\r\n",
    "    return max_profit_so_far\r\n",
    "\r\n",
    " \r\n",
    "# 테스트\r\n",
    "print(max_profit([7, 1, 5, 3, 6, 4]))\r\n",
    "print(max_profit([7, 6, 4, 3, 1]))\r\n",
    "print(max_profit([11, 13, 9, 13, 20, 14, 19, 12, 19, 13]))\r\n",
    "print(max_profit([12, 4, 11, 18, 17, 19, 1, 19, 14, 13, 7, 15, 10, 1, 3, 6]))"
   ],
   "outputs": [
    {
     "output_type": "stream",
     "name": "stdout",
     "text": [
      "5\n",
      "-1\n",
      "11\n",
      "18\n"
     ]
    }
   ],
   "metadata": {}
  },
  {
   "cell_type": "code",
   "execution_count": null,
   "source": [
    "# AAA 앞에 것을 고정하면, 뒤에것 ~ 끝까지 중 최대/최소 찾는 과정에서 slicing을 또 해야한다.\r\n",
    "# AAA 2변수가 움직일 때는, 거져먹어서 시간복잡도를 낮추려면, 뒤에 것을 고정하자!!! \r\n",
    "\r\n",
    "# if 사는 날 고정시 -> i~끝까지 중 최대값 찾기\r\n",
    "# -> 일단 [[i~끝까지의]] 최대값 보다는 <<< [[직전까지의]] 최소값이 더 편하다.\r\n",
    "# **할 수 있다면, 뒤에 것을 고정시키고 앞에서부터 찾자~!!**\r\n",
    "# 사는 날의 주식가격[i] - [i+1~끝]까지 중 최대 값\r\n",
    "# -> i+1부터~끝까지는... 사는날을 i로 두고 돌아도-> 또 j로 돌아야한다.\r\n",
    "# -> if 뒤에것=파는날을 for i로 고정한다면, \r\n",
    "# **뒤에것을 for i 고정하면, 앞에 것 중 최대or최소값은 뒤에것 i를 도는 과정에서, 현재[i] 최대수익계산를 하면서 && 현재[i]값과 직전까지=앞에것을 업데이트하며 진행할 수 있음.  **\r\n",
    "# my) 뒤에 것을 i고정시켜서 돌면 -> 뒤에 것이 옮겨다니는 동안 앞에 것들을 update시키면서 최대or최소를 업뎃하며 챙겨놓을 수 있다.\r\n",
    "def max_profit(stock_list):\r\n",
    "    # 1. 사는날 0일 때의 최대수익\r\n",
    "    max_profit_so_far = stock_list[1] - stock_list[0]\r\n",
    "    # 4. i+1부터 끝까지 중  최대값을 보관할 변수\r\n",
    "    max_after = max(stock_list[1:])\r\n",
    "\r\n",
    "    # 2. 사는날을 고정시켜놓고, i+1~끝까지의 최대값과 차이를 -> 현재의 최대수익으로\r\n",
    "    for i in range(1, len(stock_list)-1):\r\n",
    "        # 3. i+1~끝중 최대 값 변수 생성후 현재값과 비교하여 현재 최대수익 구하기 -> for문위에 선언 + 활용 + 뒤에서 업뎃\r\n",
    "        max_profit = max_after - stock_list[i]\r\n",
    "        # 6. 직전까지의 최대수익 vs 현재의 최대수익 비교후 업데이트\r\n",
    "        max_profit_so_far = max(max_profit_so_far, max_profit)\r\n",
    "        # 5. i+1~끝까지 중 최대값 업뎃\r\n",
    "        max_after = max( max_after, max(stock_list[i+1:]))\r\n",
    "        \r\n",
    "    # 7. 직전까지의 최대or최소값의 업데이트만 -> 마지막까지 한 뒤 밖에서 활용orreturn\r\n",
    "    return max_profit_so_far\r\n",
    "\r\n",
    " \r\n",
    "# 테스트\r\n",
    "print(max_profit([7, 1, 5, 3, 6, 4]))\r\n",
    "print(max_profit([7, 6, 4, 3, 1]))\r\n",
    "print(max_profit([11, 13, 9, 13, 20, 14, 19, 12, 19, 13]))\r\n",
    "print(max_profit([12, 4, 11, 18, 17, 19, 1, 19, 14, 13, 7, 15, 10, 1, 3, 6]))"
   ],
   "outputs": [],
   "metadata": {}
  },
  {
   "cell_type": "code",
   "execution_count": null,
   "source": [],
   "outputs": [],
   "metadata": {}
  }
 ],
 "metadata": {
  "orig_nbformat": 4,
  "language_info": {
   "name": "python",
   "version": "3.8.5",
   "mimetype": "text/x-python",
   "codemirror_mode": {
    "name": "ipython",
    "version": 3
   },
   "pygments_lexer": "ipython3",
   "nbconvert_exporter": "python",
   "file_extension": ".py"
  },
  "kernelspec": {
   "name": "python3",
   "display_name": "Python 3.8.5 64-bit (conda)"
  },
  "interpreter": {
   "hash": "b3ba2566441a7c06988d0923437866b63cedc61552a5af99d1f4fb67d367b25f"
  }
 },
 "nbformat": 4,
 "nbformat_minor": 2
}