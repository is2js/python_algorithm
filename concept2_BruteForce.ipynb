{
    "cells": [
        {
            "cell_type": "markdown",
            "source": [
                "### 브루트 포스 : 무차별 공격\r\n",
                " - 모든 것을 다 대입해서 전체 경우의수에서 찾으면 성공이다.\r\n",
                "    - 장점: 모든 경우의 수 를 본다 -> 정답을 구할 수 있는 확신\r\n",
                "    - 단점: 비효율적\r\n",
                "\r\n",
                " - 비효율적인 BruteForce를 알아야하는 이유\r\n",
                "    - 직관적이고 명확하다. = 코드 구현도 비교적 쉽다.\r\n",
                "    - 답을 확실하게 찾을 수 있다.\r\n",
                "    - input이 적을 때는,Brute Force를 사용하자\r\n",
                "    - **input이 많아도 효율적인 알고리즘을 찾는 첫 시작도 Brute Force**"
            ],
            "metadata": {}
        },
        {
            "cell_type": "markdown",
            "source": [
                "### 브루트 포스 예시"
            ],
            "metadata": {}
        },
        {
            "cell_type": "markdown",
            "source": [
                "#### 카드뭉치 최대조합\r\n",
                "\r\n",
                "카드 두 뭉치가 있습니다.\r\n",
                "\r\n",
                "왼쪽 뭉치에서 카드를 하나 뽑고 오른쪽 뭉치에서 카드를 하나 뽑아서, 두 수의 곱이 가장 크게 만들고 싶은데요. 어떻게 하면 가장 큰 곱을 구할 수 있을까요?\r\n",
                "\r\n",
                "left_cards는 왼쪽 카드 뭉치의 숫자들, right_cards는 오른쪽 카드 뭉치 숫자들이 담겨 있고, max_product는 left_cards에서 카드 하나와 right_cards에서 카드 하나를 뽑아서 곱했을 때 그 값이 최대가 되는 값을 리턴합니다.\r\n",
                "\r\n",
                "```python\r\n",
                "def max_product(left_cards, right_cards):\r\n",
                "    # 코드를 작성하세요.\r\n",
                "\r\n",
                "# 테스트\r\n",
                "print(max_product([1, 6, 5], [4, 2, 3]))\r\n",
                "print(max_product([1, -9, 3, 4], [2, 8, 3, 1]))\r\n",
                "print(max_product([-1, -7, 3], [-4, 3, 6]))"
            ],
            "metadata": {}
        },
        {
            "cell_type": "code",
            "execution_count": 5,
            "source": [
                "def max_product(left_cards, right_cards):\r\n",
                "    max_product_ = float('-inf')\r\n",
                "    for left in left_cards:\r\n",
                "        for right in right_cards:\r\n",
                "            curr_product = left * right\r\n",
                "            max_product_ = max(max_product_, curr_product)\r\n",
                "    return max_product_\r\n",
                "\r\n",
                "\r\n",
                "print(max_product([1, 6, 5], [4, 2, 3]))\r\n",
                "print(max_product([1, -9, 3, 4], [2, 8, 3, 1]))\r\n",
                "print(max_product([-1, -7, 3], [-4, 3, 6]))"
            ],
            "outputs": [
                {
                    "output_type": "stream",
                    "name": "stdout",
                    "text": [
                        "24\n",
                        "32\n",
                        "28\n"
                    ]
                }
            ],
            "metadata": {}
        }
    ],
    "metadata": {
        "orig_nbformat": 4,
        "language_info": {
            "name": "python",
            "version": "3.8.5",
            "mimetype": "text/x-python",
            "codemirror_mode": {
                "name": "ipython",
                "version": 3
            },
            "pygments_lexer": "ipython3",
            "nbconvert_exporter": "python",
            "file_extension": ".py"
        },
        "kernelspec": {
            "name": "python3",
            "display_name": "Python 3.8.5 64-bit (conda)"
        },
        "interpreter": {
            "hash": "b3ba2566441a7c06988d0923437866b63cedc61552a5af99d1f4fb67d367b25f"
        }
    },
    "nbformat": 4,
    "nbformat_minor": 2
}