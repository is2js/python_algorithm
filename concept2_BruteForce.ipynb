{
    "cells": [
        {
            "cell_type": "markdown",
            "source": [
                "### 브루트 포스 : 무차별 공격\r\n",
                " - 모든 것을 다 대입해서 전체 경우의수에서 찾으면 성공이다.\r\n",
                "    - 장점: 모든 경우의 수 를 본다 -> 정답을 구할 수 있는 확신\r\n",
                "    - 단점: 비효율적\r\n",
                "\r\n",
                " - 비효율적인 BruteForce를 알아야하는 이유\r\n",
                "    - 직관적이고 명확하다. = 코드 구현도 비교적 쉽다.\r\n",
                "    - 답을 확실하게 찾을 수 있다.\r\n",
                "    - input이 적을 때는,Brute Force를 사용하자\r\n",
                "    - **input이 많아도 효율적인 알고리즘을 찾는 첫 시작도 Brute Force**"
            ],
            "metadata": {}
        },
        {
            "cell_type": "markdown",
            "source": [
                "### 브루트 포스 예시"
            ],
            "metadata": {}
        },
        {
            "cell_type": "markdown",
            "source": [
                "#### 카드뭉치 최대조합\r\n",
                "\r\n",
                "카드 두 뭉치가 있습니다.\r\n",
                "\r\n",
                "왼쪽 뭉치에서 카드를 하나 뽑고 오른쪽 뭉치에서 카드를 하나 뽑아서, 두 수의 곱이 가장 크게 만들고 싶은데요. 어떻게 하면 가장 큰 곱을 구할 수 있을까요?\r\n",
                "\r\n",
                "left_cards는 왼쪽 카드 뭉치의 숫자들, right_cards는 오른쪽 카드 뭉치 숫자들이 담겨 있고, max_product는 left_cards에서 카드 하나와 right_cards에서 카드 하나를 뽑아서 곱했을 때 그 값이 최대가 되는 값을 리턴합니다.\r\n",
                "\r\n",
                "```python\r\n",
                "def max_product(left_cards, right_cards):\r\n",
                "    # 코드를 작성하세요.\r\n",
                "\r\n",
                "# 테스트\r\n",
                "print(max_product([1, 6, 5], [4, 2, 3]))\r\n",
                "print(max_product([1, -9, 3, 4], [2, 8, 3, 1]))\r\n",
                "print(max_product([-1, -7, 3], [-4, 3, 6]))\r\n",
                "```"
            ],
            "metadata": {}
        },
        {
            "cell_type": "code",
            "execution_count": 5,
            "source": [
                "def max_product(left_cards, right_cards):\r\n",
                "    # 모든 경우의수를 돌면서, 최대값으로 업데이트 시킨다. -> 다돌고나면 최종 최대값.\r\n",
                "    # - 어딘지 모르는 체 돌면서 업데이트 -> for문위에 저장할 초기항 변수 : flag  or count or update\r\n",
                "    # -- for문 위 변수 : curr(직전까지~) -> for문 안에서 사용후 업데이트 완료 : curr(현재까지~)\r\n",
                "    max_product_ = float('-inf')\r\n",
                "    for left in left_cards:\r\n",
                "        for right in right_cards:\r\n",
                "            curr_product = left * right\r\n",
                "            max_product_ = max(max_product_, curr_product)\r\n",
                "    return max_product_\r\n",
                "\r\n",
                "\r\n",
                "print(max_product([1, 6, 5], [4, 2, 3]))\r\n",
                "print(max_product([1, -9, 3, 4], [2, 8, 3, 1]))\r\n",
                "print(max_product([-1, -7, 3], [-4, 3, 6]))"
            ],
            "outputs": [
                {
                    "output_type": "stream",
                    "name": "stdout",
                    "text": [
                        "24\n",
                        "32\n",
                        "28\n"
                    ]
                }
            ],
            "metadata": {}
        },
        {
            "cell_type": "markdown",
            "source": [
                "#### (re)가까운 매장찾기"
            ],
            "metadata": {}
        },
        {
            "cell_type": "markdown",
            "source": [
                "사장님은 비서 태호에게, **직선 거리가 가장 가까운 두 매장을 찾아서 보고**하라는 임무를 주셨습니다.\r\n",
                "\r\n",
                "태호는 영업팀에서 매장들 **좌표 위치를 튜플 리스트**로 받아왔습니다.\r\n",
                "\r\n",
                "```python\r\n",
                "# 예시 tuple 리스트\r\n",
                "test_coordinates = [(2, 3), (12, 30), (40, 50), (5, 1), (12, 10), (3, 4)]\r\n",
                "```\r\n",
                "\r\n",
                "튜플은 각 매장의 위치를 $x$, $y$ 좌표로 나타낸 것입니다. 0번 매장은 (2, 3)에, 그리고 1번 매장은 (12, 30) 위치에 있는 거죠.\r\n",
                "\r\n",
                "태호가 사용하려는 함수 closest_pair는 이 좌표 리스트를 파라미터로 받고, 리스트 안에서 가장 가까운 두 매장을 [(x1, y1), (x2, y2)] 형식으로 리턴합니다.\r\n",
                "\r\n",
                "참고로 태호는 이미 두 좌표 사이의 거리를 계산해 주는 함수 distance를 써 놨는데요, 함수 distance는 인풋으로 두 튜플을 받아서 그 사이의 직선 거리를 리턴합니다.\r\n",
                "```python\r\n",
                "print(distance((2, 5), (5, 9))) # => 두 지점 사이의 거리 5.0이 출력됨\r\n",
                "```\r\n",
                "\r\n",
                "\r\n",
                "```python\r\n",
                "# 제곱근 사용을 위한 sqrt 함수\r\n",
                "from math import sqrt\r\n",
                "\r\n",
                "# 두 매장의 직선 거리를 계산해 주는 함수\r\n",
                "def distance(store1, store2):\r\n",
                "    return sqrt((store1[0] - store2[0]) ** 2 + (store1[1] - store2[1]) ** 2)\r\n",
                "\r\n",
                "# 가장 가까운 두 매장을 찾아주는 함수\r\n",
                "def closest_pair(coordinates):\r\n",
                "    # 여기 코드를 쓰세요\r\n",
                "\r\n",
                "# 테스트\r\n",
                "test_coordinates = [(2, 3), (12, 30), (40, 50), (5, 1), (12, 10), (3, 4)]\r\n",
                "print(closest_pair(test_coordinates))\r\n",
                "[(2, 3), (3, 4)]\r\n",
                "```"
            ],
            "metadata": {}
        },
        {
            "cell_type": "code",
            "execution_count": 13,
            "source": [
                "# 모든 경우를 다 돌면서, 최소값 업데이트 -> 다돌고나면, 최종 최소값\r\n",
                "# - 최소값을 구할 때, 1차원이면 min(,) -> 2차원이므로 거리구하는 공식을 함수로 만들어서 min( 함수(), 함수())  or if문으로 업데이트\r\n",
                "# - 2차원데이터는 tuple 리스트로!\r\n",
                "# - 최소값의 초기값은, 초기항으로 -> 2차원이므로 1개씩 \r\n",
                "\r\n",
                "from math import sqrt\r\n",
                "\r\n",
                "#  2점(튜플)사이의 거리\r\n",
                "def distance(store1, store2):\r\n",
                "    return sqrt((store2[0] - store1[0]) **2 + (store2[1] - store1[1]) **2)\r\n",
                "    \r\n",
                "\r\n",
                "def closest_pair(coordinates):\r\n",
                "    # 어딘지는 다 돌면서, 현재항 , 직전항 distance가 더 작은 것으로 업데이트 한다.\r\n",
                "    # 초기항을 넣는 현재까지의 ~한 값(들) -> for문속에서는 직전까지의 -> 업데이트 -> 현재까지~ -> for문이 다 끝나면? 최종 ~\r\n",
                "    # - 여기서는 거리 최소값 -> 그 때의 튜플 2개를 구해야한다. -> 2개이상의 업데이트되는 데이터는 list로 가지고 있자!!!\r\n",
                "\r\n",
                "    # 즉, 두점 사이의 거리가 최소값인 그 점들 2개를 모은 list\r\n",
                "    # - 두 점 사이거리는 업데이트시에만 사용되고 모으진 않는다.\r\n",
                "    pair_so_far = [coordinates[0], coordinates[1]]\r\n",
                "\r\n",
                "    # 각 i마다 그 이후들을 돌면서 + 2차원 2개 업데이트까지..\r\n",
                "    # - 2개씩 돌 때는, 위쪽은 1개 적게에서 끝나야, 마지막까지 돔.N-1 고정 -> N-1 N 비교\r\n",
                "    for i in range(len(coordinates)-1):\r\n",
                "        for j in range(i+1, len(coordinates)):\r\n",
                "            # 2점 사이의 거리를 update한다면 쉽게 업데이트되는데, \r\n",
                "            # - 애초에 업데이트 되는 변수가 1차원 값이 아닌, 리스트다...\r\n",
                "            # - 리스트를 업데이트하기 위해 거리계산을 한 뒤, if ? 더 작다? -> 좌표 업데이트를 해줘야한다.\r\n",
                "            # - 좌표업데이트를 하려면, if가 필요하며, min의 값1개 찾는 것으로는 안됨.\r\n",
                "            # pair_so_far ? = min(distance(pair_so_far), distance(coordinates[i], coordinates[j]))\r\n",
                "            if distance(pair_so_far[0], pair_so_far[1]) > distance(coordinates[i], coordinates[j]) :\r\n",
                "                # 리스트의 0, 1을 바꾸는게 아니라,, 아예 그냥 새로운 데이터2개짜리 리스트를 줘버린다?\r\n",
                "                pair_so_far[0] = coordinates[i]\r\n",
                "                pair_so_far[1] = coordinates[j] # i+1\r\n",
                "\r\n",
                "\r\n",
                "    return pair_so_far\r\n",
                "\r\n",
                "\r\n",
                "# 테스트\r\n",
                "test_coordinates = [(2, 3), (12, 30), (40, 50), (5, 1), (12, 10), (3, 4)]\r\n",
                "print(closest_pair(test_coordinates))"
            ],
            "outputs": [
                {
                    "output_type": "stream",
                    "name": "stdout",
                    "text": [
                        "[(2, 3), (3, 4)]\n"
                    ]
                }
            ],
            "metadata": {}
        },
        {
            "cell_type": "code",
            "execution_count": 12,
            "source": [
                "def closest_pair(coordinates):\r\n",
                "    pair_so_far = [coordinates[0], coordinates[1]]\r\n",
                "    for i in range(len(coordinates)-1):\r\n",
                "        for j in range(i+1, len(coordinates)):\r\n",
                "            if distance(pair_so_far[0], pair_so_far[1]) > distance(coordinates[i], coordinates[j]) :\r\n",
                "                # 리스트의 0, 1을 바꾸는게 아니라,, 아예 그냥 새로운 데이터2개짜리 리스트를 줘버린다?\r\n",
                "                # -> 더 느리다.\r\n",
                "                pair_so_far = [coordinates[i], coordinates[j]] # \r\n",
                "                # pair_so_far[0] = coordinates[i]\r\n",
                "                # pair_so_far[1] = coordinates[j] # i+1\r\n",
                "\r\n",
                "\r\n",
                "    return pair_so_far\r\n",
                "\r\n",
                "\r\n",
                "# 테스트\r\n",
                "test_coordinates = [(2, 3), (12, 30), (40, 50), (5, 1), (12, 10), (3, 4)]\r\n",
                "print(closest_pair(test_coordinates))"
            ],
            "outputs": [
                {
                    "output_type": "stream",
                    "name": "stdout",
                    "text": [
                        "[(2, 3), (3, 4)]\n"
                    ]
                }
            ],
            "metadata": {}
        }
    ],
    "metadata": {
        "orig_nbformat": 4,
        "language_info": {
            "name": "python",
            "version": "3.8.5",
            "mimetype": "text/x-python",
            "codemirror_mode": {
                "name": "ipython",
                "version": 3
            },
            "pygments_lexer": "ipython3",
            "nbconvert_exporter": "python",
            "file_extension": ".py"
        },
        "kernelspec": {
            "name": "python3",
            "display_name": "Python 3.8.5 64-bit (conda)"
        },
        "interpreter": {
            "hash": "b3ba2566441a7c06988d0923437866b63cedc61552a5af99d1f4fb67d367b25f"
        }
    },
    "nbformat": 4,
    "nbformat_minor": 2
}