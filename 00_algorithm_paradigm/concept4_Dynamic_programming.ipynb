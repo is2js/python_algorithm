{
    "cells": [
        {
            "cell_type": "markdown",
            "source": [
                "## DP라고도 하는 Dynamic Programming\r\n",
                " - 다이나믹 프로그래밍 2가지 조건\r\n",
                "     1. `최적 부분 구조` ( Optimal Substructure ) : 부분 문제(재귀처럼)로 어떻게 하든 현재 문제의 답을 구할 수 있음.\r\n",
                "         - 피보나치처럼 더해서 정복하거나\r\n",
                "         - 최단경로처럼 비교해서 최적만 선택하여 정복\r\n",
                "     2. `중복되는 부분 문제` (Overlapping Subproblems ) : **`n-1, n-2`로 내려가는(재귀호출 되는) 부분문제**는 상당히 중복되어 메모리 많이 차지함.\r\n",
                "         - **중복되지 않는 부분문제도 존재함 : `n//2`로 divide되는 merge_sort**\r\n",
                "     \r\n",
                " - 다이나믹 프로그래밍 : 최적 부분 구조 문제에서 **중복되는 부분문제의 비효율성을 제거**하는 프로그래밍\r\n",
                "     - 그림 : 코드잇 - 알고리즘 강의\r\n",
                "     - 피보나치(n-1, n-2) 에서 `중복되는 부분문제` -> **`DP 활용`**\r\n",
                "     ![](https://raw.githubusercontent.com/is3js/screenshots/main/99AB103F5D84D79816DCDA)\r\n",
                "     - merge_sort(n//2) 에서 `중복되지 않는 부분문제` \r\n",
                "     ![](https://raw.githubusercontent.com/is3js/screenshots/main/993A4A495D84D91C10309C)\r\n",
                "\r\n",
                "\r\n",
                "\r\n",
                " - 중복되는 부분문제를 DP로 기억할 경우\r\n",
                "     ![](https://raw.githubusercontent.com/is3js/screenshots/main/99547F4E5D84E1161E58F5)\r\n"
            ],
            "metadata": {}
        },
        {
            "cell_type": "markdown",
            "source": [
                "### 2+1가지 방법\r\n",
                " 1. `Memoization` : \r\n",
                "     - 본 문제 풀고 기록한 뒤, 부분문제가 걸리면 처리되는 Top-down방식 \r\n",
                "     - **재귀 문제**에 이용 -> 재귀풀려고 나눈 부분문제에서 중복되는 계산은 한번 만 계산 후 **`cache={}`에 메모** 해놓는 것\r\n",
                "     - 장점 : 부분문제의 재귀로 들어가기전에  **걸리는 것 해결하니 효율적**  \r\n",
                "     - 단점 : 재귀로 인한 callstack 에러 = stackoverflow가능   -> 느리고, 횟수제한이 있다.\r\n",
                "     - 사용처 : **재귀로 해결해야하는 & n-1, n-2(첨부터 다채워야하는 문제)가 아닌 n//2 등의 띄엄띄엄 가는 문제문제**\r\n",
                "         - 사용시 : cache(dict)도 인자로 받아야함. -> cache는 외부에 선언된 변수dict를 넣어줘야하므로.. 바깥에 공간이 하나 더 필요하다. default값 없이 채우기 시작. recursive case시작시 n이 cache에 있는지부터 검사함. 있으면 base case처럼 바로 return끝냄.\r\n",
                "\r\n",
                " 2. `Tabulation` : \r\n",
                "     - `list`의 0, 1번째 **`초기항부터 넣고, 반복문으로`** 나중에 호출되는 **맨 뒷 부분문제들부터** 풀어서 채워나가는 Bottom-up방식 \r\n",
                "     - **반복문 문제 해결에**이용 -> 아래에서부터 하나씩 메모해놓는 것\r\n",
                "     - n=0, 1부터 차례대로 다 채워서 반환 `list에 append` \r\n",
                "     - 단점 : 중간에 안쓰는 것도 계산\r\n",
                "     - 단점 극복 : tabulation(list-> 공간최적화) -> **`(초기항 갯수이자 부분문제 호출 갯수) 필요한 변수 n개만 사용해서 n개만 update(기록)시키면서 반복문 돌며 계산`**\r\n",
                "     - 사용처 : **부분문제를 반복문으로 해결 & 처음부터 채워나가는 n-1, n-2의 문제**\r\n",
                "\r\n",
                " 3. Tabulation 공간최적화 -> 첨부터 부분문제 + 반복문에서 -> **반복문 위에 변수 n개(초기항 갯수이자, 부분문제 호출 갯수)만 update** no list\r\n",
                "     - 재귀 -> DP(tabul) -> 시간 O(n) 효율적 BUT 공간 O(m) 비효율적 \r\n",
                "     - **부분 문제 호출 갯수 == 초기항의 갯수**만큼만 변수를 쓰고 **반복문안에서 업데이트** 시키자 \r\n",
                "     - 피보나치를 예를 들면\r\n",
                "         1. prev + curr -> 다음항 으로 일단 prev, curr에 들어갈 초기항 2개가 필요하다. 재귀 풀때서 필요한 부분문제의 갯수나 마찬가지임.\r\n",
                "         2. 다음항 변수는 따로 안만들고 prev <- curr / curr <- 다음항(현재계산값)을 밀어넣는다.\r\n",
                "         3. prev(curr) + curr(다음항) 의 결과가 그것의 다음항이 적립되는 구조. (누적 구조, 부분 문제를 한칸씩 민다)\r\n",
                "         4. **변수가 고정되어, 공간복잡도는 O(1)이 된다.**\r\n",
                "\r\n",
                " "
            ],
            "metadata": {}
        },
        {
            "cell_type": "markdown",
            "source": [
                " - 중간 나의 정리\r\n",
                "     - n-1, n-2등으로 구성 + 0,1의 초기항부터 알고 있으며 촘촘한, 다 알아야하는 것은 tabulation -> 공간최적화\r\n",
                "     - n//2, k와 n-k의 부분문제 -> cache를 쓰는 memoization"
            ],
            "metadata": {}
        },
        {
            "cell_type": "markdown",
            "source": [
                "## DP 예시"
            ],
            "metadata": {}
        },
        {
            "cell_type": "markdown",
            "source": [
                "### 피보나치 memoization\r\n",
                " - memoization은 input `n` 뿐만 아니라 `dict(cache)`를 인자로 받아야됨.\r\n",
                "     - 부분문제 정복시.. cache에 있는지 없는지 판단해야함."
            ],
            "metadata": {}
        },
        {
            "cell_type": "code",
            "execution_count": 5,
            "source": [
                "# memoization은 cache를 인자로 받음.\r\n",
                "def fib_memo(n, cache):\r\n",
                "    # base : cache고 나발이고 바로 나오는 값.\r\n",
                "    if n < 3:\r\n",
                "        return 1\r\n",
                "    \r\n",
                "    # recursive\r\n",
                "    # 1. recursive- 부분문제로 풀기전에, 전체문제 n이 일단 cache에 있는지부터 판단\r\n",
                "    # 지금 풀려는 n이 cache에 있는지부터 검사하고 부분 문제 시작.\r\n",
                "    # - 똑같은게 이미 직전까지 계산된게 있으면, 재귀계산안하고 바로 return해서 끝내는게 목적\r\n",
                "    if n in cache:\r\n",
                "        return cache[n]\r\n",
                "    \r\n",
                "    # 2. 없으면, n-1, n-2로 부분문제를 풀고, 그 답을 바로 return안하고 <저장후 return>\r\n",
                "    cache[n] = fib_memo(n-1, cache) + fib_memo(n-2, cache)\r\n",
                "\r\n",
                "    return cache[n]\r\n",
                "\r\n"
            ],
            "outputs": [
                {
                    "output_type": "execute_result",
                    "data": {
                        "text/plain": [
                            "8"
                        ]
                    },
                    "metadata": {},
                    "execution_count": 5
                }
            ],
            "metadata": {}
        },
        {
            "cell_type": "code",
            "execution_count": 10,
            "source": [
                "fib_memo(1000, {}) # 빈 dict를 너어봤자.. 아마.. 축적도.. 활용도 안되고 full recursive돌고있을것\r\n"
            ],
            "outputs": [
                {
                    "output_type": "execute_result",
                    "data": {
                        "text/plain": [
                            "43466557686937456435688527675040625802564660517371780402481729089536555417949051890403879840079255169295922593080322634775209689623239873322471161642996440906533187938298969649928516003704476137795166849228875"
                        ]
                    },
                    "metadata": {},
                    "execution_count": 10
                }
            ],
            "metadata": {}
        },
        {
            "cell_type": "code",
            "execution_count": 11,
            "source": [
                "# 3. 외부 저장cache를 선언후 던져줘야 기억한다. 바깥 공간이 하나 더 필요한 상황이라 def로 만들어 줄 수 있다.\r\n",
                "fib_cache = {}\r\n",
                "fib_memo(1000, fib_cache)"
            ],
            "outputs": [
                {
                    "output_type": "execute_result",
                    "data": {
                        "text/plain": [
                            "43466557686937456435688527675040625802564660517371780402481729089536555417949051890403879840079255169295922593080322634775209689623239873322471161642996440906533187938298969649928516003704476137795166849228875"
                        ]
                    },
                    "metadata": {},
                    "execution_count": 11
                }
            ],
            "metadata": {}
        },
        {
            "cell_type": "code",
            "execution_count": 12,
            "source": [
                "# 4. 외부dict를 필요로 하므로 def로 한번더 싸서.. 외부 선언dict지만 & 고정된 일회용이되도록 함수로 한번 더 쏴준다.\r\n",
                "def fib(n):\r\n",
                "\r\n",
                "    fib_cache ={}\r\n",
                "\r\n",
                "    return fib_memo(n, fib_cache)\r\n",
                "\r\n"
            ],
            "outputs": [],
            "metadata": {}
        },
        {
            "cell_type": "markdown",
            "source": [
                "### 피보나치 tabulation"
            ],
            "metadata": {}
        },
        {
            "cell_type": "code",
            "execution_count": 14,
            "source": [
                "def fib_tab(n):\r\n",
                "    # 초기항을 미리 list에 넣어둔다. n과 index를 일치시킨 리스트에 넣어둔다.\r\n",
                "    fib_table = [0,1,1] \r\n",
                "\r\n",
                "    # for문1개로 초기항이후부터 진행하면서, 부분문제를 반복문으로 풀면서 누적해서 list를 채워나간다.\r\n",
                "    # index와 n을 일치시켰으니, 초기항 이후부터 ~ n까지 채워나가도록 짠다.\r\n",
                "    # i번째의 부분문제를 푸는데 그게 3번째부터~n번째까지 푼 것.. n번째를 풀라면 처음부터 다 채워야함..\r\n",
                "    # ...i-1 풀때도 첨부터. i풀때도 첨부터 -> 나중에 최적화 할듯.\r\n",
                "    for i in range(3, n+1):\r\n",
                "        fib_table.append( fib_table[i-1] + fib_table[i-2] )\r\n",
                "    \r\n",
                "    return fib_table[n]\r\n",
                "\r\n",
                "print(fib_tab(132))"
            ],
            "outputs": [
                {
                    "output_type": "stream",
                    "name": "stdout",
                    "text": [
                        "1725375039079340637797070384\n"
                    ]
                }
            ],
            "metadata": {}
        },
        {
            "cell_type": "markdown",
            "source": [
                "### 피보나치 tabulation 공간최적화"
            ],
            "metadata": {}
        },
        {
            "cell_type": "code",
            "execution_count": 16,
            "source": [
                "# 변수는 초기항의 갯수 = 연산시 필요한 부분문제 갯수이며, \r\n",
                "# **curr를 return할 것이다 -> 초기항이 curr번째이며, 연산 반복을 몇번할 것인지를 그 기준에 의해 정의한다.**\r\n",
                "# - 아래는 prev 0 curr 1으로서, curr는 a1이며, 그때 반복문을 1번 거쳐야... a1이 return되는 것까지 완료다.\r\n",
                "# - a1부터 [현재를 포함해서] 시작해서 an까지는 n-1번 전진해야한다. [포함시는 바로빼기.. n-1 cf) a0부터 시작하면 +1번 추가하기.]\r\n",
                "# -> n-1번 반복하려면, range(n-1).. or range(1, n)\r\n",
                "def fib_tab_optimized(n):\r\n",
                "    # list를 처음부터 다채우는게 아니라 \r\n",
                "    # 계산에 필요한 (변수)초기항 수만큼, 변수를 사용하며 업데이트 해나간다.\r\n",
                "    # 2개??가 있다면, 1개는 curr, 1개는 prev가 되어서, curr <- 다음항,   prev <- curr 로 한칸씩 이동시킨다.\r\n",
                "    # 초기항 a1, a2 이며, 2개로 계산됨.\r\n",
                "    prev = 0\r\n",
                "    curr = 1\r\n",
                "\r\n",
                "    # 반복횟수는 초기항에 민감하다.\r\n",
                "    # ** -> 현재 0,1이며 return할 값은 그나마 현재상태에서 마지막 값인 curr이므로, curr기준으로 센다**\r\n",
                "    # a1까지 완료된상태에서 n을 구하려면? -> 포함시 : 바로 빼기(n-1)번 전진 / 미포함시(head, tail의 0부터 시작.. 빼기+1번 전진해야함.)\r\n",
                "    # -> n-1번 반복 하기\r\n",
                "    for i in range(1, (n-1)+1):\r\n",
                "        # 덮어쓰기를 해야함. swap으로.. 하면 편하다.\r\n",
                "        # curr값은 prev로 왼쪽한칸밀고\r\n",
                "        # 다음값은 curr로 한칸밀기\r\n",
                "        prev, curr = curr, prev+curr\r\n",
                "\r\n",
                "    return curr\r\n",
                "\r\n",
                "fib_tab_optimized(132)\r\n",
                "\r\n"
            ],
            "outputs": [
                {
                    "output_type": "execute_result",
                    "data": {
                        "text/plain": [
                            "1725375039079340637797070384"
                        ]
                    },
                    "metadata": {},
                    "execution_count": 16
                }
            ],
            "metadata": {}
        },
        {
            "cell_type": "markdown",
            "source": [
                "### (쳌) 새꼼달꼼 장사-memoization"
            ],
            "metadata": {}
        },
        {
            "cell_type": "markdown",
            "source": [
                "솔희는 학원 쉬는 시간에 친구들을 상대로 새꼼달꼼 장사를 합니다. 그러다 문뜩, 갖고 있는 새꼼달꼼으로 벌어들일 수 있는 최대 수익이 궁금해졌는데요...\r\n",
                "\r\n",
                "가능한 최대 수익을 리턴시켜 주는 함수 max_profit을 작성해 보세요. max_profit은 파라미터로 개수별 가격이 정리되어 있는 리스트 price_list와 판매할 새꼼달꼼 개수 count를 받습니다.\r\n",
                "\r\n",
                "예를 들어 price_list가 [100, 400, 800, 900, 1000]이라면,\r\n",
                "\r\n",
                "1. 새꼼달꼼 1개에 100원\r\n",
                "2. 새꼼달꼼 2개에 400원\r\n",
                "3. 새꼼달꼼 3개에 800원\r\n",
                "4. 새꼼달꼼 4개에 900원\r\n",
                "5. 새꼼달꼼 5개에 1000원\r\n",
                "\r\n",
                "이렇게 가격이 책정된 건데요. 만약 오늘 솔희가 새꼼달꼼 5개를 판매한다면 최대로 얼마를 벌 수 있을까요?\r\n",
                "\r\n",
                "한 친구에게 3개 팔고 다른 친구에게 2개를 팔면, 800+400을 해서 총 1200원의 수익을 낼 수 있겠죠.\r\n",
                "\r\n",
                "```python\r\n",
                "def max_profit(price_list, count):\r\n",
                "    # 코드를 작성하세요.\r\n",
                "\r\n",
                "\r\n",
                "# 테스트\r\n",
                "print(max_profit([100, 400, 800, 900, 1000], 5))\r\n",
                "1200\r\n",
                "```"
            ],
            "metadata": {}
        },
        {
            "cell_type": "code",
            "execution_count": 23,
            "source": [
                "# price_list -> 순서가 있는 정보를 value에 넣고 index로 쓰는 작전\r\n",
                "# -> index로 쓰기 위해서, [0, 1] 0개도 만들어서 넣어줄 것임.\r\n",
                "# -> 재귀함수, 부분문제 풀 때 인자로 넣어줘야함.\r\n",
                "\r\n",
                "# 첫 내생각) \r\n",
                "# count에 대해, 여러 경우의수를 index+value에 정보를 담은 list가 주어진다.\r\n",
                "# k개 팔았다? -> count-k개도 팔아야한다. divide해서 풀어보자.\r\n",
                "# n-1 + 1개  vs  n-2 +2개   vs .... 여러 경우의수가 경쟁해야한다.  짝을 이루니 절반만 봐도된다.\r\n",
                "# **-> max(,)로 반복문을 돌다보면, 경쟁의 승자가 알아서 판단된다.**\r\n",
                "\r\n",
                "def max_profit(price_list, count):\r\n",
                "\r\n",
                "    \r\n",
                "    i = 1\r\n",
                "    max_profit_so_far = count*price_list[count-1]\r\n",
                "    while i <= count//2 :\r\n",
                "        curr_profit = i*price_list[i-1] + (count-i)*price_list[count-i-1]\r\n",
                "        max_profit_so_far = max(max_profit_so_far, curr_profit)\r\n",
                "        \r\n",
                "        i+=1\r\n",
                "\r\n",
                "    return max_profit_so_far\r\n",
                "    \r\n",
                "        \r\n",
                "\r\n",
                "# 테스트\r\n",
                "print(max_profit([100, 400, 800, 900, 1000], 5)) # 틀림."
            ],
            "outputs": [
                {
                    "output_type": "stream",
                    "name": "stdout",
                    "text": [
                        "5000\n"
                    ]
                }
            ],
            "metadata": {}
        },
        {
            "cell_type": "code",
            "execution_count": 22,
            "source": [
                "# 생각고치기\r\n",
                "# 1. 부분문제 + 나머지는 부분문제 아닌 것라고 생각이든다. but 1개가 남더라도 그것도 부분문제다..\r\n",
                "# - 5개 팔고 최대수익 = [4개팔고 최대수익] + 1개(X) -> [1개팔고 최대수익] : 부분문제들로 문제를 푸루 수 있는  -> [최적 부분 구조]\r\n",
                "# - 4개 팔고 최대수익 + 2개 팔고 최대수익 -> (n-2) + (n-4)\r\n",
                "\r\n",
                "# 2. 여러경우의 부분문제가 있으며, 계산시 중복될 것이다. -> DP를 고려한다. \r\n",
                "# - n-1, n-2로 연산된 부분문제...에 가까우니 tabulation -> 공간최적화 할 것 같지만..\r\n",
                "# - 문제에서 memoization으로 풀라고했다.\r\n",
                "# -> 바깥 공간에 cache = {}를 선언했다가 없어질 공간이 필요해서 -> 로직완성후 1개의 함수로 추가적으로 싸준다(cache를 인자로 받아서 작업후 return)\r\n",
                "\r\n",
                "# 3. 여러범위 -> index , 각각의 값 -> value의 list를 사용할 때, \r\n",
                "# - 실제 갯수와 index를 맞출려고 노력하자. -> [0, 1, 2, 3...] -> 0번재 index를 억지로 생성해야함."
            ],
            "outputs": [],
            "metadata": {}
        },
        {
            "cell_type": "code",
            "execution_count": 32,
            "source": [
                "# price_list: 개수별 가격이 정리되어 있는 리스트\r\n",
                "# count: 판매할 새꼼달꼼 개수\r\n",
                "# cache: 개수별 최대 수익이 저장되어 있는 사전\r\n",
                "# 예를 들어 price_list가 [0, 100, 400, 800, 900, 1000]이라면,\r\n",
                "\r\n",
                "# 1. memoization으로 풀거라고 확신이 들면, cache ={] + 재귀함수에 인자추가를 먼저 하자.\r\n",
                "cache = {}\r\n",
                "\r\n",
                "def max_profit_memo(price_list, count, cache): # memoization으로 풀 때는 인자에 cache가 추가됨. 껍데기 함수도 추가 될 예정임 for 일회성 cache공간\r\n",
                "    # 1. memoization도 재귀라서 base케이스부터 생각하자!\r\n",
                "    if count <2:\r\n",
                "        # 2. memo는 base case에서도 cache에 넣고 반환한다. base니까, 있는지 없는지는 판단안하고 걍 넣고 반환하자.(제일 첨 종료된 이후 로직에 다시 올일이 거의 없다? n-1가 1이 되서 만날 수 있는뎅?흠..)\r\n",
                "        cache[count] = price_list[count]\r\n",
                "        return cache[count]\r\n",
                "\r\n",
                "    # 3. memoization은 recursive case를 풀기전에, cache에 있으면 찾아서 반환하고 끝내버리는게 우선이다.\r\n",
                "    if count in cache:\r\n",
                "        return cache[count]\r\n",
                "\r\n",
                "    # recursive case\r\n",
                "    # 4. 부분문제로 푸는 것의 경우의수(조합)이 존재한다면, -> [어느 것인지 모르겠지만, 조합중 최고]는  [for문위변수 + 반복문update 로 다 끝내고] 확인 해야한다. (끝정:for / 모름:while +=1)\r\n",
                "    # - 짝이 존재하므로 (1+5, 2+4, 3+3, ~~4+2, 5+1~~) 갯수는 [n//2]로서 딱 절반까지만 돌면된다. -> [range에서는 n//2 + 1] 까지\r\n",
                "    \r\n",
                "    # 5. 업데이트시킬 curr_~(~_so_far)변수의 초기값 선택하기 \r\n",
                "    # - 보통은 0번째항 or 어차피 다 돌거니 아무거나 n번째항을 대입한다.\r\n",
                "    # - list에 있는 정보면, n번째 항을 대입하면 되는데, n이.. list의 정보에 없을 수 있다.(n은 list속 부분문제정보1 + 부분문제정보2로 완성)\r\n",
                "    # -> 이럴 때는, 그냥 0(작은값)으로 채워놓고 무조건 업데이트 되도록 한다. max -> 칠꺼니.. 최소값넣어놓기\r\n",
                "    # curr or so_far에 해당하는 변수에 최소값을 넣어주고, max로 무조건 업데이트\r\n",
                "    # if count in price_list.index\r\n",
                "    if count < len(price_list) :\r\n",
                "        profit = price_list[count]\r\n",
                "    else:\r\n",
                "        profit = 0\r\n",
                "\r\n",
                "    # 갯수의 조합은 0+count 부터 1+count-1 식으로 갈듯?\r\n",
                "    # **6. 여기서.. range(0부터 하니까 무한루프 돈다 ㅠㅠ)**\r\n",
                "    # **조심!! recursive case안에서 자기자신(n)이 호출안되도록 하자!!   i=0시,, 완전히 자기자신이 나와버린다. -> 무한루프**\r\n",
                "    for i in range(1, count//2 + 1):\r\n",
                "        profit = max(\r\n",
                "            profit, \r\n",
                "            max_profit_memo(price_list, i, cache) + max_profit_memo(price_list, count-i, cache) \r\n",
                "        )\r\n",
                "\r\n",
                "    # 7. memo에서는, return되기 전에 계산된 값을 cache에 넣고나서야 반환한다.\r\n",
                "    cache[count] = profit\r\n",
                "    return profit\r\n",
                "\r\n",
                "\r\n",
                "\r\n",
                "print(max_profit_memo([0,100, 400, 800, 900, 1000], 5, cache)) # 틀림."
            ],
            "outputs": [
                {
                    "output_type": "stream",
                    "name": "stdout",
                    "text": [
                        "1200\n"
                    ]
                }
            ],
            "metadata": {}
        },
        {
            "cell_type": "code",
            "execution_count": 35,
            "source": [
                "# 8. 이제 cache가 일회성으로 생겼다가 사라질 수 있게 함수로 쏴주자.\r\n",
                "# - cache인자로 받는 직접적인 함수 -> ~_cache()라고 이름 짓고 -> _cache빼고 함수를 하다 더 싸자\r\n",
                "def max_profit(price_list, count): # cache인자를 빼고 정의\r\n",
                "    cache = {}\r\n",
                "    return max_profit_memo(price_list, count, cache)\r\n",
                "\r\n",
                "\r\n",
                "max_profit([0,100, 400, 800, 900, 1000], 5)"
            ],
            "outputs": [
                {
                    "output_type": "execute_result",
                    "data": {
                        "text/plain": [
                            "1200"
                        ]
                    },
                    "metadata": {},
                    "execution_count": 35
                }
            ],
            "metadata": {}
        },
        {
            "cell_type": "markdown",
            "source": [
                "### (쳌) 새꼼달꼼 장사-tabulation"
            ],
            "metadata": {}
        },
        {
            "cell_type": "markdown",
            "source": [
                "솔희는 학원 쉬는 시간에 친구들을 상대로 새꼼달꼼 장사를 합니다. 그러다 문뜩, 갖고 있는 새꼼달꼼으로 벌어들일 수 있는 최대 수익이 궁금해졌는데요...\r\n",
                "\r\n",
                "가능한 최대 수익을 리턴시켜 주는 함수 max_profit을 Tabulation 방식으로 작성해 보세요. max_profit은 파라미터 두 개를 받습니다.\r\n",
                "\r\n",
                "price_list: 개수별 가격이 정리되어 있는 리스트\r\n",
                "count: 판매할 새꼼달꼼 개수\r\n",
                "예를 들어 price_list가 [0, 100, 400, 800, 900, 1000]이라면,\r\n",
                "\r\n",
                "새꼼달꼼 0개에 0원 \r\n",
                "새꼼달꼼 1개에 100원   \r\n",
                "새꼼달꼼 2개에 400원  \r\n",
                "새꼼달꼼 3개에 800원  \r\n",
                "새꼼달꼼 4개에 900원  \r\n",
                "새꼼달꼼 5개에 1000원  \r\n",
                "이렇게 가격이 책정된 건데요. 만약 솔희가 새꼼달꼼 5개를 판매한다면 최대로 얼마를 벌 수 있을까요   \r\n",
                "\r\n",
                "한 친구에게 3개 팔고 다른 친구에게 2개를 팔면, 800+400을 해서 총 1200원의 수익을 낼 수 있겠죠. \r\n",
                "\r\n",
                "템플릿\r\n",
                "```python\r\n",
                "def max_profit(price_list, count):\r\n",
                "    # 코드를 작성하세요.\r\n",
                "\r\n",
                "\r\n",
                "# 테스트\r\n",
                "print(max_profit([100, 400, 800, 900, 1000], 5))\r\n",
                "```"
            ],
            "metadata": {}
        },
        {
            "cell_type": "code",
            "execution_count": 3,
            "source": [
                "def max_profit(price_list, count):\r\n",
                "    # tabulation은 n-1, n-2 처럼.. 촘촘하게 다 채워나가는 식이었다.\r\n",
                "    # tabulation은 cache인자가 필요가 없다 -> 바깥에서 한번더 함수를 호출할 필요없음.\r\n",
                "    # 대신 초기항을 미리 넣어놔야한다. index = n수라 생각하고 넣어놔야 편하다.\r\n",
                "    profit_table = [0, 100]\r\n",
                "\r\n",
                "    # 초기항 다음부터 for문을 돌면서, table을 채워나간다.\r\n",
                "    for i in range(2, count+1):\r\n",
                "        #### so_far  or curr변수 (for문위변수) 초기값 세팅 ####\r\n",
                "        # i번째에서, 부분문제들을 비교한다.\r\n",
                "        # i =2 -> 1+1, 2+0 ... -> 비교에는 반복문 들어가기전에 curr, so_far변수가 먼저 필요하다. 초기값으로 간단한 것들을 세팅해두어야한다.\r\n",
                "        if i <= len(price_list)-1:\r\n",
                "            max_profit_so_far = price_list[i]\r\n",
                "        else:\r\n",
                "            max_profit_so_far = 0\r\n",
                "        \r\n",
                "        #### 비교를 위한, update for문 ####\r\n",
                "        # 1~i의 절반까지만 돌도록 한다. 0제외!\r\n",
                "        # 주의) 부분문제에서, k n-k일시, k==0금지!! 자기자신안엣 자기자신 무한루프.\r\n",
                "        for j in range(1, i//2+1):\r\n",
                "            max_profit_so_far = max(max_profit_so_far, profit_table[j] + profit_table[i-j])\r\n",
                "\r\n",
                "        #### tabulation을 apped로 채워주기 ####\r\n",
                "        # 다돌아서 부분문제의 경우의수를 다비교해서 최대수익의 부분문제가 나왔으면\r\n",
                "        # table에 채워주기 \r\n",
                "        # 예외확인) 빈 list라서,, append <--> 만약, 0으로 채워놓았으면, [i]\r\n",
                "        profit_table.append(max_profit_so_far)\r\n",
                "\r\n",
                "    # count까지 table이 다 찬 상황 -> 마지막 count를꺼낸다.\r\n",
                "    # 이건, n-1, n-2의 촘촘한 부분문제가 아니라서, 공간최적화는 안될 것 같다.\r\n",
                "    return profit_table[count]\r\n",
                "        \r\n",
                "\r\n",
                "max_profit([0, 100, 400, 800, 900, 1000], 5)"
            ],
            "outputs": [
                {
                    "output_type": "execute_result",
                    "data": {
                        "text/plain": [
                            "1200"
                        ]
                    },
                    "metadata": {},
                    "execution_count": 3
                }
            ],
            "metadata": {}
        },
        {
            "cell_type": "code",
            "execution_count": null,
            "source": [],
            "outputs": [],
            "metadata": {}
        },
        {
            "cell_type": "code",
            "execution_count": null,
            "source": [],
            "outputs": [],
            "metadata": {}
        }
    ],
    "metadata": {
        "orig_nbformat": 4,
        "language_info": {
            "name": "python",
            "version": "3.8.5",
            "mimetype": "text/x-python",
            "codemirror_mode": {
                "name": "ipython",
                "version": 3
            },
            "pygments_lexer": "ipython3",
            "nbconvert_exporter": "python",
            "file_extension": ".py"
        },
        "kernelspec": {
            "name": "python3",
            "display_name": "Python 3.8.5 64-bit (conda)"
        },
        "interpreter": {
            "hash": "b3ba2566441a7c06988d0923437866b63cedc61552a5af99d1f4fb67d367b25f"
        }
    },
    "nbformat": 4,
    "nbformat_minor": 2
}