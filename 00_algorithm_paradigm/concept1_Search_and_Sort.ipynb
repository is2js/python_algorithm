{
    "cells": [
        {
            "cell_type": "markdown",
            "metadata": {},
            "source": [
                "## Search\n",
                " - list를 돌면서, 값이 같은놈을 찾고 -> 그 때의 index를 반환하여 -> 몇번째 위치하는지를 탐색\n",
                " - 주로 list + 찾는 element가 인자로 들어와서 -> 그 `element의 index`를 return하도록 한다.\n",
                "\n",
                " 1. 선형탐색\n",
                "    - def linear_search(some_list, element): 이중 for + if\n",
                " 2. 이진탐색\n",
                "    - def binary_search( some_list, element): while + if + 업데이트\n",
                "    - def binary_search(some_list, element, start_index=0, end_index=None):\n",
                "       - bisect모듈을 이용한 빠른 구현\n",
                "          - def bs_by_bisect(sorted_list, val):\n"
            ]
        },
        {
            "cell_type": "markdown",
            "metadata": {},
            "source": []
        },
        {
            "cell_type": "markdown",
            "metadata": {},
            "source": [
                "### 선형탐색\n",
                " - 처음부터 끝까지 돌면서 `some_list`의 `특정 element`의 `index` 찾는 함수\n",
                "    - 함수로 구현하면서, 필요한 인자들을 받자. 그리고 정답 `index`가 나오면 return한다. 다돌아도 못찾으면 `None`을 반환\n",
                " - `in`으로 바로 찾을 수 있으나, 사용금지하고 for로만 구현한다.\n",
                " "
            ]
        },
        {
            "cell_type": "code",
            "execution_count": 2,
            "metadata": {},
            "outputs": [],
            "source": [
                "def linear_search(some_list, element):\n",
                "    for i in range(len( some_list )):\n",
                "        if some_list[i] == element:\n",
                "            return i\n",
                "    return None"
            ]
        },
        {
            "cell_type": "markdown",
            "metadata": {},
            "source": [
                "### 이진탐색\n",
                " - `오름차순 정렬된 some_list`가 있으며, ( `start`, `end` index 인자가 없다면 `len(list)//2`으로  구한) `mid index`를 이용해서 찾는 놈(`element`)이 더 크냐 작냐? 판단후 -> `if 절반(왼쪽or오른쪽)만 다시 탐색`하여, 탐색범위 절반으로 줄이면서, `특정 element`를 `index` 찾는 함수\n",
                "\n",
                " - 구현방법 \n",
                "    1. while의 조건에 만든 index인 start, end가 start가 end에 닿을때까지 -> 내부에서  mid_index 생성후 if 탈출조건으로 사용 -> 이후 업데이트하면서 돔. if 걸릴 때까지, 조건인자(start, end) 훅훅 바뀌도록 업데이트\n",
                "       - start, end index가 `없다면, 함수내부에서 만들고 내부에서 절반씩 감소시키는 루프`\n",
                "       - 루프의 바뀌는 범위가 +1 -1 씩이 아니라면 **조건도 훅훅 업데이트 + 기한 없이 원하는데까지 반복시 ->  while문을 쓰자.**\n",
                "       - 2개의 인자 start, end가 조건으로 돌면서, 그 조건범위가 훅훅바뀌도록 업데이트 된다.\n",
                "       - **절반씩 줄도록 업데이트 되는 와중에, if문을 반복문 맨 앞에 두어 찾는 정답을 먼저 검사하도록 한다.**\n",
                "       - while 조건:으로 제한적으로 돌기는 하나, 특별한 값을 찾는 과정에서는 if로 찾아서 빠져나올 생각을 하자!!\n",
                "       \n",
                "    "
            ]
        },
        {
            "cell_type": "code",
            "execution_count": 65,
            "metadata": {},
            "outputs": [
                {
                    "name": "stdout",
                    "output_type": "stream",
                    "text": [
                        "0\n",
                        "None\n",
                        "2\n",
                        "1\n",
                        "4\n"
                    ]
                }
            ],
            "source": [
                "def binary_search( some_list, element):\n",
                "    # 1.  some_list의 탐색범위가 바뀜 + mid도 구해야함. -> start, end index를 만든다.\n",
                "    # - start, mid, end는 같이 노는 놈이라서... mid가 바뀐다면 \n",
                "    start_idx = 0\n",
                "    end_idx = len(some_list) - 1\n",
                "    \n",
                "    # 2. +-1씩 변하는 for문이 아니라, 절빤식 줄어드는 폭(원하는만큼 바껴야한다면) while을 쓴다.\n",
                "    # - 처음~끝까지 index를 도는 척하는데, 도는 범위가 훅훅 바뀌도록 업데이트 한다.\n",
                "    # - while이 < 이 아닌 이유는,, default를 생각해보면 된다. [1]로서 start == end 가 같을 때도 while문에 들어갔다가 if에 걸려서 탈출시켜야한다.\n",
                "    # -- 점점 붙는 와중에 완전히 붙을때까지.. 진행하는 것\n",
                "    # - 만약, 값이 없다면?? \n",
                "    # - 탐색범위가 start==end==mid로 붙었는데도 없다면..  \n",
                "    # -- 0=0=0 -> start가 1이 되거나, end가 -1이 된다. while 1>0 이든  while 0 > -1이 되어서 while문을 안타게 된다.\n",
                "    while start_idx <= end_idx:\n",
                "        # 3. (직전까지 업데이트된 start, end로) 현재의 mid를 구하고.\n",
                "        mid_idx = ( start_idx + end_idx ) //2\n",
                "\n",
                "        # ===탈출조건 = 정답조건 ===\n",
                "        # 4-1. 미드값 = 원하는값이면, 끝내고 그 index를 반환\n",
                "        if some_list[mid_idx] == element:\n",
                "            return mid_idx\n",
                "\n",
                "        # ===업데이트===\n",
                "        # 4-2. 미드값 보다 작으면, end의 범위는 [:mid] 의  mid-1이다.\n",
                "        if element < some_list[mid_idx]:\n",
                "            end_idx = mid_idx -1\n",
                "        # 4-3. 미드값 보다 크면, start의 범위는 [mid+1:]의 mid+1이다.\n",
                "        else:\n",
                "            start_idx = mid_idx +1\n",
                "            \n",
                "    return None\n",
                "\n",
                "\n",
                "print(binary_search([2, 3, 5, 7, 11], 2))\n",
                "print(binary_search([2, 3, 5, 7, 11], 0))\n",
                "print(binary_search([2, 3, 5, 7, 11], 5))\n",
                "print(binary_search([2, 3, 5, 7, 11], 3))\n",
                "print(binary_search([2, 3, 5, 7, 11], 11))"
            ]
        },
        {
            "cell_type": "markdown",
            "metadata": {},
            "source": [
                "#### 이진탐색(재귀)"
            ]
        },
        {
            "cell_type": "code",
            "execution_count": null,
            "metadata": {},
            "outputs": [],
            "source": [
                "#  [2, 3, 5, 7, 11] = end_index 바뀜 + [2,3] or  start_index바뀜+[7, 11]\n",
                "\n",
                "\n",
                "def binary_search(some_list, element,  start_index=0, end_index=None):\n",
                "    # end_index가 따로 주어지지 않은 경우에는 리스트의 마지막 인덱스\n",
                "    if end_index == None:\n",
                "        end_index = len(some_list) - 1\n",
                "        \n",
                "    \n",
                "    mid_index = ( start_index + end_index ) // 2\n",
                "    \n",
                "    if element == some_list[mid_index]:\n",
                "        return mid_index\n",
                "    \n",
                "    elif element < some_list[mid_index]:\n",
                "        end_index = mid_index - 1 \n",
                "        return binary_search(element, some_list[:mid_index], start_index, end_index)\n",
                "    \n",
                "    else : \n",
                "        start_index  = mid_index + 1\n",
                "        return binary_search(element, some_list[mid_index+1:], 0, end_index)"
            ]
        },
        {
            "cell_type": "markdown",
            "metadata": {},
            "source": [
                "### bisect 모듈 이용하기\n",
                " - 특징: 찾는 값의 위치가 아닌 insert_point를 알려준다.\n",
                "     - 만약 찾는 값이 있다? 그 위치+1 의 insert_point를 알려준다.\n",
                "     - 만약 찾는 값이 없다? 그 숫자가 들어가야할 insert_point를 알려준다.\n"
            ]
        },
        {
            "cell_type": "code",
            "execution_count": 1,
            "metadata": {},
            "outputs": [
                {
                    "data": {
                        "text/plain": [
                            "4"
                        ]
                    },
                    "execution_count": 1,
                    "metadata": {},
                    "output_type": "execute_result"
                }
            ],
            "source": [
                "import bisect\n",
                "\n",
                "mylist = [1, 2, 3, 7, 9, 11, 33] # 정렬된 리스트\n",
                "\n",
                "bisect.bisect(mylist, 7)  # 7은 index 3에 있으니, insert_point는 3+1인 4를 반환한다."
            ]
        },
        {
            "cell_type": "code",
            "execution_count": 2,
            "metadata": {},
            "outputs": [
                {
                    "data": {
                        "text/plain": [
                            "(-1, 'insert to 4')"
                        ]
                    },
                    "execution_count": 2,
                    "metadata": {},
                    "output_type": "execute_result"
                }
            ],
            "source": [
                "import bisect\n",
                "\n",
                "def bs_by_bisect(sorted_list, val):\n",
                "    insert_point = bisect.bisect(sorted_list, val)\n",
                "    return insert_point-1 if sorted_list[insert_point-1] == val else -1, f\"insert to {insert_point}\"\n",
                "\n",
                "\n",
                "bs_by_bisect(mylist, 8)"
            ]
        },
        {
            "cell_type": "markdown",
            "metadata": {},
            "source": [
                "## 정렬\n",
                "\n",
                " 1. 선택정렬 \n",
                "     - def swap( some_list, i, j):\n",
                "     - def selection_sort(some_list): 이중 for + swap\n",
                "        - 5.98 µs ± 380 ns per loop (mean ± std. dev. of 7 runs, 100000 loops each)\n",
                " 2. 삽입정렬\n",
                "    - def insertion_sort( some_list ):  for + while + shift\n",
                "        - 4.09 µs ± 302 ns per loop (mean ± std. dev. of 7 runs, 100000 loops each)\n",
                "    - shift(더 최적화) or swap 방법 있다.\n",
                "\n",
                " 3. 합병정렬\n",
                "    - def merge(list1, list2):\n",
                "    - def merge_sort(my_list):\n",
                "        - 9.49 µs ± 520 ns per loop (mean ± std. dev. of 7 runs, 100000 loops each)\n",
                "        - divide and conqueor후  combine이 복잡해서 def merge가 들어감.\n",
                "\n",
                " 4. 퀵정렬\n",
                "    - def swap_elements(my_list, index1, index2):\n",
                "    - def partition(my_list, start, end)\n",
                "    - def quick_sort(my_list, start, end):\n",
                "         - 9.1 µs ± 445 ns per loop (mean ± std. dev. of 7 runs, 100000 loops each)"
            ]
        },
        {
            "cell_type": "markdown",
            "metadata": {},
            "source": [
                "### 추가) 버블정렬\n",
                " - 참고블로그: https://www.daleseo.com/sort-bubble/"
            ]
        },
        {
            "cell_type": "code",
            "execution_count": 9,
            "metadata": {},
            "outputs": [],
            "source": [
                "def bubble_sort(arr):\n",
                "    # i를.. n-1부터 1까지..??\n",
                "    for i in range(len(arr) - 1, 0, -1):\n",
                "        # j는 각 i마다   0부터 i-1까지??\n",
                "        for j in range(i):\n",
                "            # 비교자체는.. 매 i마다.. (0,1) (1,2) (i-1, i)까지..\n",
                "            # j,j+1비교이므로 i-1까지만 진행하도록 j를 range(i) 0~i-1로 돌리는 것은 맞으나..\n",
                "            # -> 그 i는 0이 아닌 1부터 들어가야한다.\n",
                "            # * (k,k+1비교라서 원하는 i에 대해 i-1까지 비교할수있게) 고정된 0~i-1짜리를 이어짐을 내부반복문에서 돌린다. by range(i)\n",
                "            # * 고정된 이어짐 0~i-1의 <끝점>을... 외부반복문에서 결정하도록 돌린다.\n",
                "            # * -> 왜냐면.. 버블정렬은 1회마다 최대값이 결정되서.. 맨 오른쪽은 빼고 돌려야하므로!!\n",
                "            # * -> 선택정렬은 시작점이 <1부터 시작 & +1씩 증가>되도록 돌아서 편했지만, \n",
                "            # * -> 버블정렬은 끝점이 <n부터 시작 & -1씩 감소>되도록 돌아서 반복문이 까다롭다.\n",
                "            # --> 1) 내부 반복문으로 [끝점이 변하게 변수]로 & [i,i+1을 비교할 수 있게,  i-1까지]\n",
                "            # 만약, i까지 비교한다고 치면 인덱스j는 0~i-1까지 \n",
                "            #  for j in range(0,i): arr[j], arr[j+1]\n",
                "            # --> 2) 외부 반복문으로 변하는 점이.. i까지 보다가 -> i-1 -> 1개씩 줄어간다. -> 최종 1까지 준다. 마지막 탐색은 0과 1이 되게\n",
                "            # ----> index가 뒤에서부터 나오면 된다( 혹은 반복문 내부에서 변형된index쓰던가..)\n",
                "            # for i in range(len(n)-1, 0, -1)\n",
                "            # ----> 변형된index를 쓰면? arr[ ]로 맨 뒤에값부터 뽑아내니까..\n",
                "            # for i in range(len(n)) -> [-i + (n-1)] or [ -(n+1) ]?\n",
                "            if arr[j] > arr[j + 1]:\n",
                "                arr[j], arr[j + 1] = arr[j + 1], arr[j]\n",
                "\n",
                "    return arr"
            ]
        },
        {
            "cell_type": "code",
            "execution_count": 10,
            "metadata": {},
            "outputs": [],
            "source": [
                "# 최적화\n",
                "# 이전 패스에서 앞뒤 자리 비교(swap)이 한 번도 일어나지 않았다면 정렬되지 않는 값이 하나도 없었다고 간주할 수 있습니다. 따라서 이럴 경우, 이후 패스를 수행하지 않아도 됩니다\n",
                "# * 만약, swap이 한번도 없었다? -> 최대값이 최대값 자리에 정확하게 있었으며, 그 이외의 값들도 움직임이 없었다?\n",
                "\n",
                "\n",
                "def bubble_sort(arr):\n",
                "    for i in range(len(arr) - 1, 0, -1):\n",
                "        # 특정 i번째 구간마다 swap했는지 검사하기 위해 여기에 둠.\n",
                "        swap = False\n",
                "        for j in range(i):\n",
                "            if arr[j] > arr[j + 1]:\n",
                "                swap=True\n",
                "                arr[j], arr[j + 1] = arr[j + 1], arr[j]\n",
                "\n",
                "        # 특정 i째에서 요소들 스왑다한 상황\n",
                "        # * if i번째 검사시 swap이 없었다? -> 최대값 혹은 순서바뀐게 없었다. \n",
                "        if not swap:\n",
                "            break\n",
                "\n",
                "    return arr"
            ]
        },
        {
            "cell_type": "code",
            "execution_count": 11,
            "metadata": {},
            "outputs": [
                {
                    "data": {
                        "text/plain": [
                            "[10, 11, 12, 13, 14]"
                        ]
                    },
                    "execution_count": 11,
                    "metadata": {},
                    "output_type": "execute_result"
                }
            ],
            "source": [
                "bubble_sort([12, 13, 11, 14, 10])"
            ]
        },
        {
            "cell_type": "code",
            "execution_count": 12,
            "metadata": {},
            "outputs": [
                {
                    "name": "stdout",
                    "output_type": "stream",
                    "text": [
                        "3.32 µs ± 151 ns per loop (mean ± std. dev. of 7 runs, 100000 loops each)\n"
                    ]
                }
            ],
            "source": [
                "%timeit bubble_sort([12, 13, 11, 14, 10])"
            ]
        },
        {
            "cell_type": "markdown",
            "metadata": {},
            "source": [
                "### 선택정렬\n",
                "\n",
                " - for i번쨰 선택됨 ->  for `i+1~끝` 까지 `하나씩 다 돌며  비교하여` `더 작은 값이 나타날때마다 swap`해서 최소값을 i번째에 놓는다.\n",
                "    - i+i ~ n-1 index까지를 돌면서 값이 i보다 작은 값 나타날 때, index를 바꿔 자리를 바꿔줄 `swap()`함수가 필요하다.\n",
                "        - swap( `data`, `i`, `j`) 3개의 인자를 받음\n",
                "    - if > 에 return이나 끝내는 말이 없다? -> 끝까지 돈다. cf) for else"
            ]
        },
        {
            "cell_type": "code",
            "execution_count": 71,
            "metadata": {},
            "outputs": [
                {
                    "data": {
                        "text/plain": [
                            "[10, 11, 12, 13, 14]"
                        ]
                    },
                    "execution_count": 71,
                    "metadata": {},
                    "output_type": "execute_result"
                }
            ],
            "source": [
                "def swap( some_list, i, j):\n",
                "    some_list[i], some_list[j] = some_list[j], some_list[i]\n",
                "\n",
                "def selection_sort(some_list):\n",
                "\n",
                "    for i in range(len(some_list)):\n",
                "\n",
                "        for j in range(i+1, len(some_list)):\n",
                "            if some_list[i] > some_list[j]:\n",
                "                swap(some_list, i, j)\n",
                "\n",
                "    return some_list\n",
                "\n",
                "selection_sort( [12, 13, 11, 14, 10])"
            ]
        },
        {
            "cell_type": "code",
            "execution_count": 81,
            "metadata": {},
            "outputs": [
                {
                    "name": "stdout",
                    "output_type": "stream",
                    "text": [
                        "5.98 µs ± 380 ns per loop (mean ± std. dev. of 7 runs, 100000 loops each)\n"
                    ]
                }
            ],
            "source": [
                "%timeit selection_sort( [12, 13, 11, 14, 10])"
            ]
        },
        {
            "cell_type": "markdown",
            "metadata": {},
            "source": [
                "### 삽입정렬★\n",
                " - i번째 새로운 데이터가 `삽입(=자리는 모자라니까, shift하면서 가상의 백업1칸 활용)`되었다보고, 목표는 `~ i`까지의 묶음을 정렬하는 건데, 이미` ~i-1`묶음은 정렬된 상태라 i부터 `거꾸로 가면서 i-1(직전)과 1개씩만 비교`하여, 더 큰값이 앞에 있으면 -> shift해주면서 j를 줄여나간다. 다 밀고 나면 while조건을 빠져나오므로 이후에 shift끝난 j자리에 삽입된 값을 밀어넣어준다.`shift 다 끝난 자리 = while문 다돌고나서` 빈 자리에 `가상1칸(i번째의 값이자, 이동될 값으로 고정되어서 비교됨)`의 값을 넣어준다. \n",
                " - i번째에 대해, i-1부터 1개씩 그 이전index들과 비교 -> `앞 부분으로 간다면 이미 정렬된 애들이라 i-1부터 1개씩 비교하다가 걸리면 끝. 앞에는 더 이상 볼 필요 없다`\n",
                "\n",
                " 1. 최적화(no swap -> shift  / no for -> while 최적조건 )\n",
                "    - for i번째 값을 (삽입되어) 정렬할 묶음의 가장 오른쪽 값으로 보고, `j=i를 count변수로 넣고, while + j-=1`로 왼쪽의 값들과 비교해나가는데, `다하는게 아니라 조건을 걸어 ->  왼쪽 직전(j-1)에서 가장오른쪽이면서 초항값 some_list[i] == value보다 더 큰 값이 나올때만`  while + 직전을 현재로 가져옴 + j-=1 업데이트로,, 직전이 현재가 되도록 업데이트\n",
                "        - **직전(j-1)만 비교하는 이유는, 전 i단계에서 2개부터 정렬을 다해놔서이다. 2개 묶음부터 이미 정렬되어 직전만 비교하면 된다. 근데 직전이 더크다? 더 큰 직전값(j-1)를 현재(j)자리로 가져옴. while문 조건에 의해 업데이트된 j-1(i==j의 직직전)과 `자리는 없지만 백업된 value(list[i])`와 비교해서 더 크면 또.. j자리(직전자리)에 놓고 비교?**\n",
                "            - 가장의 네모칸인 `value`변수에 가장 오른쪽값을 집어넣어놓고, j-2,j-1,`j`는 값만 같을 뿐 직전값과 비교해나가서 `직전이 크면 -> 오른쪽으로 이동 + 비교할 index왼쪽으로 이동시켜 공중value속 list[i]`와 비교`\n",
                "\n",
                "        \n",
                "        - j = i : i를 초기값에 두고 변수를 만드는 이유는, i를 첫째항으로 왼쪽으로 이동해나갈 것(while j-=1)인데,  바깥 for문의 고정된 값이라 업데이트 불가라서 새로 생성하여 업데이트 시킬 것임. \n",
                "            - my) while + 줄여나갈 때 -> count 변수가 필요하다.\n",
                "\n",
                "        - value = some_list[i] : i를 j로 줄여나갈 때, i를 공중에 백업시켜놓고, 비교 with 직전j-1 + 직직전by j-=1 + 직직직전 ... 등 `각 비교시마다 계속 제일 처음의 j와 비교`. 왜냐하면... `이미 0 ~ j-1은` for i를 돌면서 2개묶음부터 이방법으로 직전과 비교해와서 `정렬되어있기 때문에, value라는 네모에 list[i]에 넣고  for j들과 비교`\n",
                "\n",
                " 2. pythonic 더 쉽게(최적화 없이 swap사용)\n",
                "    - for i index는 최소 2개부터 시작 range(1, len())\n",
                "        - for j에서 i를 끝으로 한칸씩 내려오기 by range( i, 0, -1):\n",
                "            - j가 점점 작아지도록 업데이트 되면서, if 직전값이 더 클 때만 swap -> 아니면 j만 계속 작아지는 중.\n",
                "        - 직전값이 존재해야하므로, i는 마지막값이므로 1부터 시작,  j-1 >=0  j=1이 마지막이어야함 range(i, `0`, -1)\n"
            ]
        },
        {
            "cell_type": "markdown",
            "metadata": {},
            "source": [
                "#### 다시 한번 복습시 삽입정렬 구현"
            ]
        },
        {
            "cell_type": "code",
            "execution_count": null,
            "metadata": {},
            "outputs": [
                {
                    "name": "stdout",
                    "output_type": "stream",
                    "text": [
                        "1 [12, 13, 11, 14, 10]\n",
                        "2 [12, 13, 11, 14, 10]\n",
                        "3 [12, 11, 13, 14, 10]\n",
                        "4 [12, 11, 13, 14, 10]\n"
                    ]
                },
                {
                    "data": {
                        "text/plain": [
                            "[12, 11, 13, 10, 14]"
                        ]
                    },
                    "execution_count": 9,
                    "metadata": {},
                    "output_type": "execute_result"
                }
            ],
            "source": [
                "# 1. if문으로 시작했다가...\n",
                "\n",
                "def insertion_sort(some_list):\n",
                "    # 1. i번째 삽입된 상태라고 가정하고, 1~i-1 + i 묶음을 직전 -> 직직전 순으로 비교해나간다.\n",
                "    # - 1~i-1은 정렬된 상태라 가정한다.\n",
                "    # - 직전과 비교 -> i-1 등장시 range(1, ~)\n",
                "    for i in range(1, len(some_list)):\n",
                "        # my) i-1과도 만나야하므로, range(len())으로 시작.\n",
                "        # my) i-1 > i일 때, 더 큰 값(i-1)이 발생할 경우 -> 우측으로 shift확실히 해준 뒤, 다음루프에서 i-2, i-1 비교를 만들어준다. 큰 값을 i자리에 옮겨놔야한다.\n",
                "        # - 다음  루프로 if재귀조건문 발생 + i-=1 시켜서 다음 루프 상황을 연쇄적으로 만들어줘야함 -> while을 쓰자.\n",
                "        print(i, some_list)\n",
                "        for j in range(i-1, -1, -1):\n",
                "            if some_list[j] > some_list[i]:\n",
                "                value = some_list[i] # swap하는 것처럼 가상백업1칸(value)를 사용하므로, 기존값(작은값, i) 덮어쓰기 전에 챙겨준다.\n",
                "                some_list[i] = some_list[j] # i-1자리는 비었다고 생각하면 된다. 아직 value를 대입안한 상태에서  [i-2] [value]를 비교해야한다.\n",
                "                some_list[j] = value\n",
                "                ## j-=1한 상태에서 if검사를 반복해야한다...?\n",
                "                ## 한번 걸리는 순간부터 j-=1 하면서, if 조건 탈출할때까지.. if조건 스왑 계속해야함..\n",
                "                ## -> 1씩 줄어든다고, 신나서 range(,,-1)역순 출력하지말자. ---> 탐색범위가 줄면서 + if조건 유지되면, while 조건 -=1\n",
                "    return some_list\n",
                "                \n",
                "# 2. 연쇄적인 것이 안일어났다. i와 i-1만 비교하고 끝..\n",
                "insertion_sort( [12, 13, 11, 14, 10])\n"
            ]
        },
        {
            "cell_type": "code",
            "execution_count": 15,
            "metadata": {},
            "outputs": [
                {
                    "name": "stdout",
                    "output_type": "stream",
                    "text": [
                        "1 [12, 13, 11, 14, 10]\n",
                        "2 [12, 13, 11, 14, 10]\n",
                        "3 [11, 12, 13, 14, 10]\n",
                        "4 [11, 12, 13, 14, 10]\n"
                    ]
                },
                {
                    "data": {
                        "text/plain": [
                            "[10, 11, 12, 13, 14]"
                        ]
                    },
                    "execution_count": 15,
                    "metadata": {},
                    "output_type": "execute_result"
                }
            ],
            "source": [
                "# 3. 한번 걸린후 연쇄적+탐색범위 줄어들 때는, while로 처리하자. for range 만으로는 X\n",
                "\n",
                "def insertion_sort(some_list):\n",
                "    for i in range(1, len(some_list)):\n",
                "        print(i, some_list)\n",
                "        # -> for j 줄어드는 탐색범위 + if 조건이 연쇄적 -> while로 변경\n",
                "        # for j in range(i-1, -1, -1):\n",
                "        #     if some_list[j] > some_list[i]:\n",
                "\n",
                "        # 4. i-1부터 1씩 줄어야한다. i는 고정된 상태 수정불가 -> j에 담아놓고 쓴다.\n",
                "        # 5. i일때의 값도 고정이다. i-1, i-2들만 shift시키고, \n",
                "        # i값은 shift 판단용 비교용으로만 사용하는 가상백업1칸의 value에 놓는다.\n",
                "        value_for_shift = some_list[i]\n",
                "        j = i \n",
                "        # 6. 연쇄적인 if조건을 while에 단다.\n",
                "        # - i-1부터 조건만족시 -1씩 줄어드는 것을 j-1 부터 -> j-=1로 처리한다.\n",
                "        # - i-1 =j-1부터 value랑 비교해서 크면 오른족으로 한칸shift를 무한대로 해준다.\n",
                "        # - shift가 필요는 순간( ... ,j-2,j-1 < )에 value를 그 j에 안착시켜준다.\n",
                "        # - DEBUG : j-1 직전과 비교할 땐? j-1 >0인 범위.. index가 1서부터 시작시켜라.\n",
                "        while some_list[j-1] > value_for_shift and j-1>=0:\n",
                "            # shift를 이렇게 한줄로 끝낸다.\n",
                "            some_list[j] = some_list[j-1]\n",
                "            # 업데이트\n",
                "            j-=1\n",
                "        # 7. shift를 다 끝냈으면, 업데이트되던 j자리에 value값을 넣어주면 된다.\n",
                "        some_list[j] = value_for_shift\n",
                "\n",
                "\n",
                "    return some_list\n",
                "                \n",
                "insertion_sort( [12, 13, 11, 14, 10])\n"
            ]
        },
        {
            "cell_type": "code",
            "execution_count": null,
            "metadata": {},
            "outputs": [],
            "source": []
        },
        {
            "cell_type": "markdown",
            "metadata": {},
            "source": [
                "#### 복습전 최초 작성한 삽입정렬 구현들"
            ]
        },
        {
            "cell_type": "code",
            "execution_count": 1,
            "metadata": {},
            "outputs": [
                {
                    "data": {
                        "text/plain": [
                            "[10, 11, 12, 13, 14]"
                        ]
                    },
                    "execution_count": 1,
                    "metadata": {},
                    "output_type": "execute_result"
                }
            ],
            "source": [
                "def insertion_sort( some_list ):\n",
                "    # 현재 i를 묶음의 마지막이라 생각해놓고, i값을 value변수에 띄워놓은뒤, 직전과 비교 (for문 돌면서 지속적인 swap?)\n",
                "    # -> 직전이 더 크다? 직전을 i자리에 + j-=1을 통해 직직전과 떠있는 i값을 비교\n",
                "    # -> 직직전은 작다? j-=1로 직전이 현재가 되었으므로  현재자리에 공중에 띄워놓은 i값을 안착\n",
                "    for i in range(1, len(some_list)):\n",
                "        \n",
                "        # i를 시작으로 j가 -=1 되어야한다. range(a,b,-1)을 모르거나, 1씩이 아니면서 + 추가조건이 붙으면 while을 쓴다.\n",
                "        # - i를 -=1 씩 돌릴 수가 없다..?\n",
                "        \n",
                "        while i-1 >=0 and some_list[i-1] > some_list[i]:\n",
                "            some_list[i], some_list[i-1] = some_list[i-1], some_list[i]\n",
                "            i-=1\n",
                "    return some_list\n",
                "\n",
                "insertion_sort( [12, 13, 11, 14, 10])"
            ]
        },
        {
            "cell_type": "code",
            "execution_count": 84,
            "metadata": {},
            "outputs": [
                {
                    "name": "stdout",
                    "output_type": "stream",
                    "text": [
                        "4.09 µs ± 302 ns per loop (mean ± std. dev. of 7 runs, 100000 loops each)\n"
                    ]
                }
            ],
            "source": [
                "%timeit insertion_sort( [12, 13, 11, 14, 10])"
            ]
        },
        {
            "cell_type": "code",
            "execution_count": 77,
            "metadata": {},
            "outputs": [
                {
                    "data": {
                        "text/plain": [
                            "[10, 12, 12, 13, 14]"
                        ]
                    },
                    "execution_count": 77,
                    "metadata": {},
                    "output_type": "execute_result"
                }
            ],
            "source": [
                "def insertion_sort( some_list ):\n",
                "    # 현재 i를 묶음의 마지막이라 생각해놓고, i값을 value변수에 띄워놓은뒤, 직전과 비교 (for문 돌면서 지속적인 swap?)\n",
                "    # -> 직전이 더 크다? 직전을 i자리에 + j-=1을 통해 직직전과 떠있는 i값을 비교\n",
                "    # -> 직직전은 작다? j-=1로 직전이 현재가 되었으므로  현재자리에 공중에 띄워놓은 i값을 안착\n",
                "    for i in range(1, len(some_list)):\n",
                "        \n",
                "        # i를 시작으로 j가 -=1 되어야한다. range(a,b,-1)을 모르거나, 1씩이 아니면서 + 추가조건이 붙으면 while을 쓴다.\n",
                "        # - i를 -=1 씩 돌릴 수가 없다..? 모종의 이유로.. 마지막 i를 보존시킨 상태에서 업데이트 시켜야한다면?\n",
                "        j = i # 초항일 뿐, j는 계속 1개씩 준 것이 자기자신이 될 것이다.\n",
                "        value = some_list[i] # 마지막 i값을 , i index자리를 내어주더라도 계속 비교하기 위해서 띄워놓는다.\n",
                "        \n",
                "        # 이미 정렬이 되어있는 것이라서.. 직전, 직직전 순으로 value랑만 비교하면 된다.\n",
                "        while j-1 >=0 and some_list[j-1] > value:\n",
                "            # 직전값이 j자리를 차지했지만, i값은 value에 떠있어서 j가 업데이트되어도 계속 비교가능하다.\n",
                "            some_list[j] = some_list[j-1] \n",
                "            j-=1\n",
                "    # j자리를 내어주어 j-1이 비었다가 -> 업데이트되면서 빈 j-1의 자리가 업뎃(j-=1)후  현재는 j자리를 의미하게 되었다.\n",
                "    # 떠있던 값, 직전보다 작았던 값, value를 내려놓아 안착시킨다\n",
                "    some_list[j] = value\n",
                "    \n",
                "    return some_list\n",
                "\n",
                "insertion_sort( [12, 13, 11, 14, 10])"
            ]
        },
        {
            "cell_type": "code",
            "execution_count": 79,
            "metadata": {},
            "outputs": [
                {
                    "data": {
                        "text/plain": [
                            "[12, 13, 14, 11, 10]"
                        ]
                    },
                    "execution_count": 79,
                    "metadata": {},
                    "output_type": "execute_result"
                }
            ],
            "source": [
                "# python하게 작성하기 -> 최적화 없이 ㅠㅠ\n",
                "def insertion_sort(some_list):\n",
                "    # 기존 정렬된 list의 맨마지막에 삽입(2번째자리, 1 index부터)되어서 직전과 비교할 것이다.\n",
                "    for i in range(1, len(some_list)):\n",
                "        # 그 i를 마지막항으로 하여 1까지 1씩 내려가도록 index j를 만든다.\n",
                "        for j in range(i, 0, -1):\n",
                "            # 직전항과 비교하여, 직전항이 더 크면? 자리를 swap해준다.\n",
                "            if some_list[j-1] > some_list[j]:\n",
                "                some_list[j], some_list[j-1] = some_list[j-1], some_list[j]\n",
                "    \n",
                "    # 다 돌고나면, swap완료된 list를 반환한다.\n",
                "    return some_list\n",
                "\n",
                "insertion_sort( [12, 13, 11, 14, 10])"
            ]
        },
        {
            "cell_type": "code",
            "execution_count": 80,
            "metadata": {},
            "outputs": [],
            "source": [
                "# pythonic + swap 생략된 코드\n",
                "# 최적화\n",
                "# 기존에 있던 값들은 이전 패스에서 모두 정렬되었다는 점을 활용하면 불필요한 비교 작업을 제거할 수 있다.\n",
                "# 예를 들면, 아래와 같이 기존 정렬 범위 [1, 2, 3, 5]에 4가 새롭게 추가된다면, \n",
                "# 5는 4보다 크기 때문에 swap이 필요하지만, 3은 4보다 작기 때문에 swap이 필요없다. \n",
                "# 그리고 3보다 앞에 있는 숫자들은 기존 패스에서 이미 정렬을 해놓았기 때문에 당연히 3보다는 작을 것이며, \n",
                "# 더 이상의 4와 대소 비교는 무의미합니다. 이 사실을 이용하면, \n",
                "# **새롭게 추가된 값보다 작은 숫자를 만나는 최초의 순간까지만 내부 반복문을 수행해도 된다..**\n",
                "# -> 이 구현을 for -> while 조건으로 한다. \n",
                "# - 그 이후로는 아예 비교안하게.\n",
                "# [1, 2, 3, 5, 4, ...]: 5 > 4 => swap\n",
                "#  *  *  *  *  ^\n",
                "# [1, 2, 3, 4, 5, ...]: 3 < 4 => OK => all sorted!\n",
                "#  *  *  *  *  *\n",
                "def insertion_sort(some_list):\n",
                "    for i in range(1, len(some_list)):\n",
                "        j = i\n",
                "        # for문으로 1씩 줄이는 것은 똑같으나, 반복문 진입에 조건을 while로 단다.\n",
                "        # - i를 내부에서 계속 업데이트 할 수 없으니 j를 선언하고 j를 -=1씩 업데이트 해난간다.\n",
                "        # - swap은 pythonic하게 value값을 따로 받아놓을 필요가 없으니, value = some_list[i]는 생략되엇다.\n",
                "        # - while문에 swap을 직전이 클때만 수행하도록 한다.\n",
                "        while j > 0 and some_list[j - 1] > some_list[j]:\n",
                "            some_list[j - 1], some_list[j] = some_list[j], some_list[j - 1]\n",
                "            j -= 1"
            ]
        },
        {
            "cell_type": "code",
            "execution_count": null,
            "metadata": {},
            "outputs": [],
            "source": [
                "# # 추가 최적화 :  swap보다는 -> 직전과의 비교는 shift : 최초값을 변수에 띄워놓고 계속밀다가, 특정조건만나 끝나면, 꽂아넣기\n",
                "# swap 작업없이 단순히 값들을 shift 시키는 것만으로도 삽입 정렬의 구현이 가능하다. \n",
                "# 앞의 값이 정렬 범위에 추가시킨 값보다 클 경우 **앞의 값을 뒤로 밀다가 최초로 작은 값을 만나는 순간**\n",
                "#  **그 뒤에 추가된 <미리 빼놓은,>값을 꼽으면 됩니다.**\n"
            ]
        },
        {
            "cell_type": "markdown",
            "metadata": {},
            "source": [
                "### 합병정렬★\n",
                " - 절반씩 나눈 부분문제를 **정렬하면서 합병**\n",
                " - divide and conquer 알고리즘이 들어간 정렬방법이다.\n",
                "     - divide : list를 절반으로 자른다.\n",
                "     - conqueor : 자른 list를 부분 문제로 정복한다. -> 각각이 정렬완료된 상태라 가정한다.\n",
                "     - combine : **각각 정렬된 부분문제(list)를 1개 list로 `정렬하면서 merge`해야한다.**\n"
            ]
        },
        {
            "cell_type": "code",
            "execution_count": 4,
            "metadata": {},
            "outputs": [
                {
                    "name": "stdout",
                    "output_type": "stream",
                    "text": [
                        "[10, 11, 12, 13, 14]\n"
                    ]
                }
            ],
            "source": [
                "# 합병정렬에서는 conquer과정이 복잡하다.\n",
                "# [divide] 는 그냥 반씩 쪼개면 되지만, \n",
                "# [conquer]된(정렬된 list2개) 것들을 [combine](2개 list 합하여 정렬)시 복잡하기 때문에 이 부분을 merge함수로 뺀다.\n",
                "\n",
                "def merge(list1, list2):\n",
                "    # list1 - i , list2 - j 의 index로 따로돌면서, 해당하는 것들을 추출해 \n",
                "    # 최종적으로 list에 담는다...\n",
                "    merged_list = []\n",
                "    i = 0\n",
                "    j = 0\n",
                "    # **i와 j를 동시에 비교해가며, fori forj가 아니라 while로 같이 돌리며 + if 각 조건에 맞게 if i+=1  else j+=1 or i+=1, j+=1작전을 쓴다.\n",
                "    # - 이러한 수법은 GCD by 소인수분해 시에도 등장한다.\n",
                "    # - 각각이 index로서 증가한다면, 증가제한 범위를 조건에 줘야한다. 0부터 시작이면 < N이다.\n",
                "    while i < len(list1) and j < len(list2):\n",
                "        if list1[i] < list2[j]:\n",
                "            # i가 더작아서 뺐다(=append된 상태다)\n",
                "            # - 실제 list1을 앞에서부터 빼진 않고, 새로운 곳에 집어넣기 + index를 1칸 올리기\n",
                "            merged_list.append(list1[i])\n",
                "            i+=1 \n",
                "        else:\n",
                "            merged_list.append(list2[j])\n",
                "            j+=1 \n",
                "\n",
                "    # **둘 중에 하나라도 넘어가면 종료 -> 종료시에 남은 것 처리도 중요**\n",
                "    # 남은 것? index중간 - 끝난것? index==len(list) -\n",
                "    # **index가 아직 다 안돈 list를 이미 다돈 list를 찾아서 판별함**\n",
                "    if i == len(list1):\n",
                "        # 1차원 리스트에 그냥 괄호떼고 이어붙혀줘야한다. append X  add operator\n",
                "        merged_list += list2[j:]\n",
                "    # else는 반대의 모든 경우 -> elif는 if하면서 동시에 추가적으로 이럴 수 있다면~\n",
                "    # - i가 끝났다.의 else는 i가 안끝남 -> j가 끝나서 while탈출 -> i,j동시 탈출은 무시됨.\n",
                "    elif j == len(list2):\n",
                "    # else:\n",
                "        merged_list += list1[i:]\n",
                "\n",
                "    return merged_list\n",
                "\n",
                "# print(merge([1, 2, 3, 4],[5, 6, 7, 8]))\n",
                "\n",
                "\n",
                "\n",
                "def merge_sort(my_list):\n",
                "    # base case \n",
                "    if len(my_list) < 2:\n",
                "        return my_list\n",
                "\n",
                "\n",
                "    # divide and conquer\n",
                "    left_half = my_list[:len(my_list)//2]\n",
                "    right_half = my_list[len(my_list)//2:]\n",
                "\n",
                "    # 부분문제는  원래함수(부분)을 한 상태가.. 정복된 상태다 조심!\n",
                "    return merge(merge_sort(left_half), merge_sort(right_half))\n",
                "\n",
                "\n",
                "print(merge_sort([12, 13, 11, 14, 10]))"
            ]
        },
        {
            "cell_type": "code",
            "execution_count": 5,
            "metadata": {},
            "outputs": [
                {
                    "name": "stdout",
                    "output_type": "stream",
                    "text": [
                        "9.49 µs ± 520 ns per loop (mean ± std. dev. of 7 runs, 100000 loops each)\n"
                    ]
                }
            ],
            "source": [
                "%timeit merge_sort( [12, 13, 11, 14, 10])"
            ]
        },
        {
            "cell_type": "markdown",
            "metadata": {},
            "source": [
                "### Quick정렬★\n",
                " - 사진출저 : 코드잇\n",
                " - pivot이라는 맨 우측값을 가상의 기준으로 정해놓고, 기준보다 작/크다 의 좌우 partition으로 Divide함.\n",
                "     - **input이 줄이는 것을.. partition으로 p를 구한 뒤, ~p직전, p직후~ 의 2그룹을 정렬하도록 한다.**\n",
                "     - pivot 좌/우 parition의 Divide가 끝나면 각각을 분할 정복함.\n",
                "     - merge_sort에 비해 divide가 복잡 / combine의 과정은 없음.\n",
                "     ![](https://raw.githubusercontent.com/is3js/screenshots/main/99228A475D84C969015D61)\n",
                "\n",
                " - divide과정에서 pivot을 포함하여 작다그룹 / 크다그룹 / `아직모르는 그룹` / pivot(end)의 4개 그룹이 등장한다.\n",
                "     - 마지막 값 : `Pivot그룹`(기준점 1개)\n",
                "     - 가장왼쪽그룹 : Piviot보다 작은 값들의 `Small그룹`\n",
                "     - 그다음그룹 : Pivot보다 큰 값들의 `Big그룹`\n",
                "     - 마지막그룹 : 아직 Pivot과 비교하지않아서 어디에 속할지 모르는 `Unknown그룹`\n",
                "\n",
                " - 사용되는 변수들 설명\n",
                "     ![](https://raw.githubusercontent.com/is3js/screenshots/main/994D0D355D84CF9813B20A)\n",
                "     - 여기서는 pivot의 값을 마지막 값으로 정하니... end를 다시 `p`에 대입해서 사용 ( p = end )\n",
                "     - big그룹이 시작되는 인덱스 `b`\n",
                "     - **현재 보고있는 값 = Unknown그룹이 시작되는 값의 인덱스 `i`**"
            ]
        },
        {
            "cell_type": "markdown",
            "metadata": {},
            "source": [
                "#### partition(divide) by pivot 진행과정"
            ]
        },
        {
            "cell_type": "markdown",
            "metadata": {},
            "source": [
                "![](https://raw.githubusercontent.com/is3js/screenshots/main/99CDF6355D84CFCB1731A0)\n",
                "\n",
                "![](https://raw.githubusercontent.com/is3js/screenshots/main/99DD6B465D84CFEA1DB51B)\n",
                "시작할 때는, `i`와 `b` 둘다 가장 왼쪽 인덱스를 가리키고 있다.  \n",
                "또한 아직 아무값도 보지 않았으므로, 모든 요소가 Unknown그룹이다.\n",
                "![](https://raw.githubusercontent.com/is3js/screenshots/main/9975D8435D84D01A070150)\n",
                "\n",
                "\n",
                "1. 먼저, i가 가르키는 16과 p봇 7을 비교한다\n",
                "\n",
                " \t- 16을 Big그룹이라 판단한다.\n",
                " \t![](http://cfile29.uf.tistory.com/image/99E1084E5D84D05310690A)\n",
                "\n",
                "2. i만 오른쪽으로 한 칸 가서, i의 값과 p(7)을 비교한다\n",
                "   ![](https://raw.githubusercontent.com/is3js/screenshots/main/9939C6445D84D0841650FD)\n",
                "\n",
                "3. 마찬가지로 i가 하나 증가하면서, 비교해나가다가, p보다 작은 값이 나올 땐, Small그룹이라 판단하는데, **이 때, Small그룹을 배정하는 방법을 제대로 알아보자**\n",
                "   ![](https://raw.githubusercontent.com/is3js/screenshots/main/991706505D84D0D90DDB15)\n",
                "   small값인 i의 값 6과, b의 값 16(big그룹의 첫번째값) 위치를 바꾼다.\n",
                "    ![](http://cfile4.uf.tistory.com/image/997CF14C5D84D11A1285C0)\n",
                "    ![](https://raw.githubusercontent.com/is3js/screenshots/main/99F88F355D84D1231E4216)\n",
                "    ![](https://raw.githubusercontent.com/is3js/screenshots/main/9959834E5D84D1331B045E)\n",
                "    그리고나서,**b와 i를 오른쪽으로 한칸씩 땡겨준다.**\n",
                "    ![](https://raw.githubusercontent.com/is3js/screenshots/main/9970E74E5D84D14E0CC23F)\n",
                "    이렇게 하면, 6은 small그룹에 배정되고, 16은 big그룹에 계쏙해서 남을 수 있게 된다.\n",
                "\n",
                "4. 다시 i와 p의 값을 비교한다.\n",
                "   ![](https://raw.githubusercontent.com/is3js/screenshots/main/9954C6445D84D1953C26A9)\n",
                "   big그룹에 속하면 그대루 두고,\n",
                "    small그룹에 속하면\n",
                "     1) b와 i의 값을 바꾸고  \n",
                "     2) b와 i를 오른쪽으로 한칸식 땡겨주면  \n",
                "     3) b에 위치하게 된 값이 small그룹의 마지막이 되고  \n",
                "     4) i에 위치하게 된 값이 big그룹의 마지막 값이 된다.  \n",
                "    ![](https://raw.githubusercontent.com/is3js/screenshots/main/9931ED425D84D209313A47)\n",
                "    ![](https://raw.githubusercontent.com/is3js/screenshots/main/9927C4495D84D21301E442)\n",
                "    ![](https://raw.githubusercontent.com/is3js/screenshots/main/99C5FC465D84D21F1250B6)\n",
                "\n",
                "5. i가 모든 unknown값을 p와 비교를 끝냈다면, 마지막 작업으로 **b와 p의 값을 바꿔준다.** pivot값이 big그룹의 첫번째 자리로 이동해서, small그룹과 big그룹 사이에 위치하게 된다.\n",
                "   ![](https://raw.githubusercontent.com/is3js/screenshots/main/9904D7435D84D2790EC12C)\n",
                "    ![](https://raw.githubusercontent.com/is3js/screenshots/main/996CD9435D84D298192963)\n",
                "    ![](https://raw.githubusercontent.com/is3js/screenshots/main/99A2134B5D84D2A135C79C)\n",
                "    ![](https://raw.githubusercontent.com/is3js/screenshots/main/998F84395D84D2A810AFF6)"
            ]
        },
        {
            "cell_type": "markdown",
            "metadata": {},
            "source": [
                "#### partition 구현 with swap_in_list\n",
                " - swap_in_list : 단순히 변수 2개의 값 swap이 아니라, 1개의 list안에서 \n",
                "     - **2개의 index에 대해** element의 value를 swap. \n",
                "     - input으로 index를 2개 받는 것외에는 일반 스왑처럼 구현한다.\n",
                " - **list를 인자로 받아, 그 list를 함수내부에서 변경(swap)을 해버린다.**\n",
                "     - 그로 인해, return에는 2그룹 중간값의  pivot(index)만 반환 받는게 당황스럽다."
            ]
        },
        {
            "cell_type": "code",
            "execution_count": 2,
            "metadata": {},
            "outputs": [
                {
                    "data": {
                        "text/plain": [
                            "[1, 1, 3, 23]"
                        ]
                    },
                    "execution_count": 2,
                    "metadata": {},
                    "output_type": "execute_result"
                }
            ],
            "source": [
                "def swap_elements( my_list, start, end ):\n",
                "    my_list[end], my_list[start] = my_list[start], my_list[end]\n",
                "\n",
                "test = [1,3,1,23]\n",
                "swap_elements(test , 1,2)\n",
                "test"
            ]
        },
        {
            "cell_type": "code",
            "execution_count": 3,
            "metadata": {},
            "outputs": [
                {
                    "name": "stdout",
                    "output_type": "stream",
                    "text": [
                        "4\n"
                    ]
                }
            ],
            "source": [
                "def partition( my_list, start, end):\n",
                "    # partition  맨막값 = p(ivot) 을 기준으로 small / big 그룹을 나누는데\n",
                "    # - i와 b(ig그룹의 첫번째 index)는 0부터 시작한다.\n",
                "    # - 재귀적으로 start, end가 바뀌어서 호출되니, start로 받은 index를 사용해준다.\n",
                "    i = start \n",
                "    b = start \n",
                "    p = end \n",
                "\n",
                "    # i는 start(0)부터 p-1까지.. p번 반복됨. -> 1개 단순반복이면 for대체가능할듯\n",
                "    while i < p:\n",
                "        # i번째(unkwoun, 현재) value와 pivot값을 비교하여 small그룹인경우\n",
                "        if my_list[i] < my_list[p] :\n",
                "            # 1. b(ig그룹첫번재index)의 값과 i번째 현재값을 자리교체\n",
                "            swap_elements(my_list, i, b)\n",
                "            # 2. big그그룹 첫번째 index를 +1 해줘서.. small값 바로 뒤에 위치시킴. -> big의 새로운 첫시작위치로 이동된 것\n",
                "            b+=1 # i는 마지막에 자동으로 증가함.\n",
                "        # 3. 만약 스몰이 아니라면? \n",
                "        # **그대로 두면, 알아서 big그룹으로 배정됨.**\n",
                "        # else:\n",
                "        #     pass\n",
                "        i+=1\n",
                "\n",
                "    # 4. i=p-1 index까지 다돌았으면.. 마지막으로 pivot을 b인덱스의 값(big그룹 첫값)과 바꾸고 \n",
                "    # **목적은 small과  big사이의 p의 index가 목적이네..**\n",
                "    swap_elements(my_list, b, p)\n",
                "    # 현재 b index는 pivot이 위치한 index가 되었으므로, p로 할당해주고 반환해주자.\n",
                "    p = b \n",
                "    #b +=1\n",
                "\n",
                "    # **5. list는 이미 함수를 거치면서 정렬/변경되었다. s/b그룹 사이의 pivot의 index만 반환하자.**\n",
                "    return p \n",
                "\n",
                "\n",
                "test = [1,3,1,4,1,23,4]\n",
                "print(partition(test , 0,len(test)-1))\n",
                "# 4 : pivot인 4의 index = 기준값의 index는 01234 : 5번째다.\n",
                "# partition은 내부에서 list를 변경(swap)시킨 상태니 따로 return되는 list는 없다."
            ]
        },
        {
            "cell_type": "code",
            "execution_count": 4,
            "metadata": {},
            "outputs": [
                {
                    "name": "stdout",
                    "output_type": "stream",
                    "text": [
                        "[4, 3, 6, 2, 7, 1, 5] 5\n",
                        "[4, 3, 2, 1, 5, 6, 7]\n",
                        "4\n"
                    ]
                }
            ],
            "source": [
                "# partition은 small big만 나누어져있으며, 각각은 정렬 안되어있다 -> 각 그룹 정렬을 부부문제가 해줄 것이다.\n",
                "list1 = [4, 3, 6, 2, 7, 1, 5]\n",
                "print(list1, list1[-1])\n",
                "pivot_index1 = partition(list1, 0, len(list1) - 1)\n",
                "print(list1)\n",
                "print(pivot_index1)"
            ]
        },
        {
            "cell_type": "markdown",
            "metadata": {},
            "source": [
                "#### quick_sort by partition"
            ]
        },
        {
            "cell_type": "code",
            "execution_count": 17,
            "metadata": {},
            "outputs": [],
            "source": [
                "# 부분문제 정복시, input이 잘리는 것이 일정하지 않으면, 전체문제를 나눌 수 있게 \n",
                "# - start, end index를 따로 받는다.\n",
                "# - 부분문제가 index를 기준으로 divide될 경우, index를 인자로 받아아 분할정복이 쉬워진다\n",
                "# ** list 인자는 그대로 유지됨. index범위만 좁아짐**\n",
                "def quick_sort(my_list, start, end):\n",
                "    # base case \n",
                "    # - merge_sort의 경우 input이 list이며, list가 탐색범위가 좁아져서\n",
                "    # - len(list) ==0 or 1까지는 정렬할 필요없이 그대로 반환이다.\n",
                "    # - 하지만 quick_sort는... input 중 index가 좁아진다. list는 그대로 있다.\n",
                "    # -> index로 base case를 표기해야한다.\n",
                "    # -> 0~n-1 중, 0~4까지만 5pivot 6~9까지만 정렬한다 치자.\n",
                "    # -> 0~4까지 중 정렬해야할 부분은 4(end)-0(start)의 4개만 정렬하면된다??\n",
                "    # 4-0+1 개..인데..\n",
                "    # **my) 정렬의 basecase는 그 길이가 1개 이하가되는 것**\n",
                "    # ** end-start+1 개 <=1 개이하면, 그것을 그대로 list[start]로 반환. (2개부터는 부분문제로 정렬되야함) **\n",
                "    # - quick sort는 부분문제들이 내부에서 함수로 정렬시키니.. 딱히.. return이 필요하진 않다.\n",
                "    # ** end-start+1 1개면 자기자신 -> 이것도 아무것도 안함(내부정렬을 안함) + 0개이하면 아무것도 안함. return None\n",
                "    if end-start+1 <= 1: \n",
                "        return  # return의 문제가 아님. 재귀적으로 함수내부에서 정렬시킴. 여기선 아무것도 안함.\n",
                "\n",
                "    # recursive case \n",
                "    # 1) divide by partition -> 내부에서 small / pivot / big 그룹으로 list가 변경된다.\n",
                "    # 2) 변경된 list를 0~p-1 / p~ n-1 로 나눌 수 있다. -> index로 분할정복\n",
                "    # --> list+start/end_index를 받는 경우, list는 그대로 주고 index범위가 좁아지도록 부분문제\n",
                "    pivot = partition(my_list, start, end)\n",
                "\n",
                "    # 부분문제가 index를 통해 조절된다.\n",
                "    # 부분문제의 해결을 함수내에서 list를 변경하여 따로 return이 없다.\n",
                "    quick_sort(my_list, start, pivot-1) \n",
                "    # 중간에 pivot은 정렬안하고 가만히 둔다. 함수들 내부에서 알아서 list가 변경되고 있음.\n",
                "    quick_sort(my_list, pivot+1, end) \n",
                "\n",
                "    # 부분문제를 해결하면 pivot기준, 왼쪽/오른쪽이 정렬까지 끝난다.\n",
                "    # 최종적으로 mall1 / p / big1 or small1/p   or p/big1이면 정렬까지 다 끝나니까\n"
            ]
        },
        {
            "cell_type": "code",
            "execution_count": 18,
            "metadata": {},
            "outputs": [
                {
                    "name": "stdout",
                    "output_type": "stream",
                    "text": [
                        "11 µs ± 1.33 µs per loop (mean ± std. dev. of 7 runs, 100000 loops each)\n"
                    ]
                }
            ],
            "source": [
                "test_list = [12, 13, 11, 14, 10]\n",
                "%timeit quick_sort( test_list, 0, len(test_list) - 1)"
            ]
        },
        {
            "cell_type": "code",
            "execution_count": 7,
            "metadata": {},
            "outputs": [
                {
                    "data": {
                        "text/plain": [
                            "[0, 1]"
                        ]
                    },
                    "execution_count": 7,
                    "metadata": {},
                    "output_type": "execute_result"
                }
            ],
            "source": [
                "a = [1,0]\n",
                "quick_sort( a, 0, len(a) - 1)\n",
                "a\n"
            ]
        },
        {
            "cell_type": "markdown",
            "metadata": {},
            "source": [
                "#### quick_sort with optional parameters\n",
                " - quick_sort시 처음에는 0, len()-1로 index가 기본적으로 사용되는것은 뻔한데\n",
                "     - **재귀적으로 부분문제가 사용할때부터 input index 2개가 바뀐다.**\n",
                "     - def func(default=상수, 상수가 아니면 default=None주고 함수내부에서 확인)패턴을 사용해서, `default값은 있어서 안줘도 되는데(호출시 입력X), 혹시라도 값을 줄거면(내부에서 재귀적으로 부분문제 풀면서 입력) 그걸로 대체`하도록 하게 하자.\n",
                "     "
            ]
        },
        {
            "cell_type": "code",
            "execution_count": 8,
            "metadata": {},
            "outputs": [],
            "source": [
                "# 원래 end에는 len(my_list)-1를 default값으로 줘야하는데,,\n",
                "# 함수시작도 하기전에 계산을 하고 앉았으면..\n",
                "# - 값이 없을 때만 계산하도록 안에서 처리하자.\n",
                "# - 정리하자면, 상수면 def 정의시 default값을\n",
                "# - 상수가 아니라면, None을 주고, 아무것도 안넣어서 NOne이면 default값 배정하기\n",
                "def quick_sort(my_list, start=0, end=None):\n",
                "    if end is None:\n",
                "        print(end)\n",
                "        print(end is None) # None이라면 if문에 확인시 is(id=객체확인용)이든  == (value확인용)이든 상관없나보다.\n",
                "        print(end == None) # \n",
                "        end = len(my_list)-1\n",
                "    return end\n",
                "\n"
            ]
        },
        {
            "cell_type": "code",
            "execution_count": 9,
            "metadata": {},
            "outputs": [
                {
                    "name": "stdout",
                    "output_type": "stream",
                    "text": [
                        "None\n",
                        "True\n",
                        "True\n"
                    ]
                },
                {
                    "data": {
                        "text/plain": [
                            "2"
                        ]
                    },
                    "execution_count": 9,
                    "metadata": {},
                    "output_type": "execute_result"
                }
            ],
            "source": [
                "quick_sort([1,2,3])"
            ]
        },
        {
            "cell_type": "code",
            "execution_count": 13,
            "metadata": {},
            "outputs": [],
            "source": [
                "# 재귀에서 줄어들어들 == 바뀔 input값을 대입하여\n",
                "# default값을 주고, 재귀시 입력받은 값이 있을 때만 그것을 쓰도록\n",
                "# - end에도 len(my_list)-1을 쓰고 싶지만,, args에서 .. 계산 및.. 1번째 인자를 받아서 처리하는 경우는X\n",
                "# -> 복잡하면 None -> if param == None : params=디폴트값 패턴을 사용하자.\n",
                "def quick_sort(my_list, start=0, end=None):\n",
                "    if end == None:\n",
                "        end = len(my_list)-1\n",
                "    \n",
                "    # base case\n",
                "    if end-start+1 <= 1: \n",
                "        return  \n",
                "\n",
                "    pivot = partition(my_list, start, end)\n",
                "    quick_sort(my_list, start, pivot-1) \n",
                "    quick_sort(my_list, pivot+1, end) "
            ]
        },
        {
            "cell_type": "markdown",
            "metadata": {},
            "source": [
                "### (이것이 코딩 테스트다)의 파이썬 장점을 살린 퀵정렬\n",
                " - https://freedeveloper.tistory.com/377"
            ]
        },
        {
            "cell_type": "code",
            "execution_count": 24,
            "metadata": {},
            "outputs": [
                {
                    "name": "stdout",
                    "output_type": "stream",
                    "text": [
                        "[0, 1, 2, 3, 4, 5, 6, 7, 8, 9]\n"
                    ]
                }
            ],
            "source": [
                "array = [5, 7, 9, 0, 3, 1, 6, 2, 4, 8]\n",
                "\n",
                "def quick_sort_2nd(array):\n",
                "    # 리스트가 하나 이하의 원소만을 담고 있다면 종료\n",
                "    if len(array) <= 1:\n",
                "        return array\n",
                "\n",
                "    pivot = array[0] # 피벗은 첫 번째 원소\n",
                "    tail = array[1:] # 피벗을 제외한 리스트\n",
                "\n",
                "    left_side = [x for x in tail if x <= pivot] # 분할된 왼쪽 부분\n",
                "    right_side = [x for x in tail if x > pivot] # 분할된 오른쪽 부분\n",
                "\n",
                "    # 분할 이후 왼쪽 부분과 오른쪽 부분에서 각각 정렬을 수행하고, 전체 리스트를 반환\n",
                "    return quick_sort_2nd(left_side) + [pivot] + quick_sort_2nd(right_side)\n",
                "\n",
                "print(quick_sort_2nd(array))"
            ]
        },
        {
            "cell_type": "code",
            "execution_count": 25,
            "metadata": {},
            "outputs": [
                {
                    "name": "stdout",
                    "output_type": "stream",
                    "text": [
                        "7 µs ± 561 ns per loop (mean ± std. dev. of 7 runs, 100000 loops each)\n"
                    ]
                }
            ],
            "source": [
                "%timeit quick_sort_2nd( [12, 13, 11, 14, 10])"
            ]
        },
        {
            "cell_type": "markdown",
            "metadata": {},
            "source": [
                "## (이코테 정리본)에서 본 정렬알고리즘 비교\n",
                "![image-20210929123012805](https://raw.githubusercontent.com/is3js/screenshots/main/image-20210929123012805.png)"
            ]
        }
    ],
    "metadata": {
        "interpreter": {
            "hash": "35eb882e6c79c2fb72bcb2efe18c0fb285ab95602cefe2c5e3178fef86aa3293"
        },
        "kernelspec": {
            "display_name": "Python 3.8.6 64-bit ('3.8.6': pyenv)",
            "name": "python3"
        },
        "language_info": {
            "codemirror_mode": {
                "name": "ipython",
                "version": 3
            },
            "file_extension": ".py",
            "mimetype": "text/x-python",
            "name": "python",
            "nbconvert_exporter": "python",
            "pygments_lexer": "ipython3",
            "version": "3.8.6"
        },
        "orig_nbformat": 4
    },
    "nbformat": 4,
    "nbformat_minor": 2
}
