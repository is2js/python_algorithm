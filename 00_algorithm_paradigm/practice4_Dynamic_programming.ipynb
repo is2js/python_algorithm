{
    "cells": [
        {
            "cell_type": "markdown",
            "source": [
                "## DP 문제 모아보기"
            ],
            "metadata": {}
        },
        {
            "cell_type": "markdown",
            "source": [
                "## Lv2"
            ],
            "metadata": {}
        },
        {
            "cell_type": "markdown",
            "source": [
                "### (codeit) 출근하는 방법1 (재귀->촘촘tabulation->공간최적화(점화식))\r\n",
                "\r\n",
                "영훈이는 출근할 때 계단을 통해 사무실로 가는데요. 급할 때는 두 계단씩 올라가고 여유 있을 때는 한 계단씩 올라 갑니다.\r\n",
                "\r\n",
                "어느 날 문득, 호기심이 생겼습니다. 한 계단 또는 두 계단씩 올라가서 끝까지 올라가는 방법은 총 몇 가지가 있을까요?\r\n",
                "\r\n",
                "계단 4개를 올라간다고 가정하면, 이런 방법들이 있습니다.\r\n",
                "\r\n",
                "* 1, 1, 1, 1\r\n",
                "* 2, 1, 1\r\n",
                "* 1, 2, 1\r\n",
                "* 1, 1, 2\r\n",
                "* 2, 2\r\n",
                "총 5개 방법이 있네요.\r\n",
                "\r\n",
                "함수 staircase는 파라미터로 **계단 수 n (0가능)**을 받고, 올라갈 수 있는 방법의 수(0계단시 1)를 효율적으로 찾아서 리턴합니다.\r\n",
                "```python\r\n",
                "print(staircase(0))  # => 1\r\n",
                "print(staircase(1))  # => 1\r\n",
                "print(staircase(4))  # => 5\r\n",
                "```\r\n",
                "```python\r\n",
                "def staircase(n):\r\n",
                "    # 코드를 작성하세요.\r\n",
                "\r\n",
                "\r\n",
                "# 테스트\r\n",
                "print(staircase(0))\r\n",
                "print(staircase(6))\r\n",
                "print(staircase(15))\r\n",
                "print(staircase(25))\r\n",
                "print(staircase(41))\r\n",
                "```"
            ],
            "metadata": {}
        },
        {
            "cell_type": "code",
            "execution_count": null,
            "source": [
                "# 리뷰2\r\n",
                "# **배반의 경우로 나눠지므로 쉬운 재귀**와 같은 것 같으나... (출근하는 방법2를 검색하면, 배반의 재귀가 아님. 어려워지니 참고)\r\n",
                "# n-1, n-2 등의 촘촘한 재귀는 -> tabulation -> 공간최적화(점화식)까지 이어진다.\r\n",
                "# **tabulation: 1) n과 index를 일치시킨 table(list)에 초기항을 넣어둔다. 2) for문 1개로  초기항이후~n까지 돌면서 n까지 append로 table을 채운다. 3) table[n]을 반환한다.**\r\n",
                "# **공간 optimized: 1) 재귀식을 구성하는 부분문제의 갯수만큼, 변수를, for문에서 생성 및 업데이트를 유지해야하므로, << 초기항 & update될 변수>> 도 그만큼 둔다.(n-1도, n-2도 다 <다음항으로 update> 되어야함.) \r\n",
                "# **                  주로, prev[func(n-2)], curr[func(n-1)]형식이며, 그 중 curr(뒤쪽)값이 반복문을 다 돌고 return할 n번째항이 된다.  \r\n",
                "# **              2) table처럼 for로 n을 찾아가는 것은 똑같으나, 초기항을보고 curr기준으로 반복문을 다 나왔을 시 n이 되록 전진(for문위변수 update)횟수를 민감하게 잘 판단한다.\r\n",
                "# **              3) 반복문동안 n으로 update된 curr변수를 return한다.**\r\n",
                "\r\n",
                "def staircase(n):\r\n",
                "    #base case\r\n",
                "    if n <2:\r\n",
                "        return n \r\n",
                "\r\n",
                "    #recursive case \r\n",
                "    return staircase(n-2) + staircase(n-1)\r\n",
                "\r\n",
                "\r\n",
                "# **tabulation: 1) n과 index를 일치시킨 table(list)에 초기항을 넣어둔다. 2) for문 1개로  초기항이후~n까지 돌면서 n까지 table을 채운다. 3) table[n]을 반환한다.**\r\n",
                "def staircase_table(n):\r\n",
                "    #1) n과 index를 일치시킨 table(list)에 초기항을 넣어둔다. \r\n",
                "    table = [0, 1]\r\n",
                "    \r\n",
                "    #2) for문 1개로  초기항이후~n까지 돌면서 n까지 append()로 table을 채운다. \r\n",
                "    for i in range(2, n+1):\r\n",
                "        table.append(table[i-1] + table[i-2])\r\n",
                "    #3) table[n]을 반환    \r\n",
                "    return table[n]\r\n",
                "\r\n",
                "## my) 처음부터 채워서 가져가는 거면, 다 저장하지말고, 필요변수만 update시켜서 유지하면 안됨??\r\n",
                "## my) 여지껏, max, min 등의 greedy에서는 일케 했었는데.. 택1이 아니라.. 택 n(필요 변수갯수만큼)을 update만 시키면, 처음부터 채워나갈 수 있다.\r\n",
                "##     (1) prev <- curr  한칸 땡기기  (2) curr <- 다음항(prev+curr의 계산식, 점화식, x+y, n-2+(n-1))\r\n",
                "# **공간 optimized: 1) 재귀식을 구성하는 부분문제의 갯수만큼 변수를 for문에서 생성 및 업데이트를 유지해야하므로, 초기항 변수도 그만큼 둔다.(n-1도, n-2도 다 <다음항으로 update> 되어야함.) 주로, prev[func(n-2)], curr[func(n-1)]형식이며, 그 중 curr(뒤쪽)값이 반복문을 다 돌고 return할 n번째항이 된다.  2) table처럼 for로 n을 찾아가는 것은 똑같으나, 초기항을보고 curr기준으로 반복문을 다 나왔을 시 n이 되록 전진(for문위변수 update)횟수를 민감하게 잘 판단한다. 3) 반복문동안 n으로 update된 curr변수를 return한다.**\r\n",
                "def staircase_optimized(n):\r\n",
                "    # 1) 재귀식을 구성하는 부분문제의 갯수만큼 변수를 생성한 뒤, 초기항을 둔다.\r\n",
                "    #    주로, prev[i-2], curr[i-1] 형식으로 구성된다.\r\n",
                "    #    앞에서, index와 n을 맞춰서 초기항을 줬으니 여기서도 그렇게 하자.\r\n",
                "    # for문위의 변수가 2개가 되는셈이며, for문내부에서 update시켜줘야한다.\r\n",
                "    prev, curr = 0, 1\r\n",
                "\r\n",
                "    # 2) for로 도는 것은 똑같으나, n까지 가야하는데 이미 2개변수지만 n=1이 완성된 상태다. \r\n",
                "    #    range(2, (n)+1) 대신,  반복횟수는 초기항에 민감하므로 return될 curr기준으로 생각한다.\r\n",
                "    # << 다돌았을때의 curr(n=1)가 현재항 >>이므로 curr기준으로 완성한다.\r\n",
                "    #  1인 상황이므로 n-1번의 전진이 필요함.  while i < (n - (1))\r\n",
                "    # **update: reduce처럼 현재값curr은 prev에게 한칸 밀어주고, 계산값(prev+curr활용)값을 curr에 담아준다.**\r\n",
                "    # - curr값은 prev로 왼쪽한칸 밀기 like reduce x,y:x+y , <-data 에서, x자리에 <--y 로 한칸밀기\r\n",
                "    # - 다음값(여기선 계산된값)을 curr로 한칸밀기 like reduce x,y:x+y , <-data 에서, y자리에<-- data 값(다음값)빼서 한칸밀기\r\n",
                "    for i in range(n-1):\r\n",
                "        prev, curr = curr,  prev + curr\r\n",
                "\r\n",
                "    # 3) 업데이트 된 curr을 반환\r\n",
                "    # cf) 만약, 기준이 prev(a)라면 == [n=1일 때 a에 맞춰진다면, return a]\r\n",
                "    return curr\r\n",
                "\r\n",
                "\r\n",
                "\r\n",
                "# 테스트\r\n",
                "print(staircase(0))\r\n",
                "print(staircase(6))\r\n",
                "print(staircase_table(0))\r\n",
                "print(staircase_table(6))\r\n",
                "print(staircase_optimized(6))"
            ],
            "outputs": [],
            "metadata": {}
        },
        {
            "cell_type": "markdown",
            "source": [
                "### (codeit) 출근하는 방법2 (재귀의 부분문제 수(초기항의수)가 인자와 관련됨->촘촘->DP:tabulation -> 부분문제 갯수가 미정이라 공간최적화는 X?)"
            ],
            "metadata": {}
        },
        {
            "cell_type": "markdown",
            "source": [
                "영훈이는 출근할 때 계단을 통해 사무실로 가는데요. 급할 때는 두 계단씩 올라가고 여유 있을 때는 한 계단씩 올라갑니다. 결국 계단을 오를 수 있는 모든 방법으로 계단을 올라갔는데요.\r\n",
                "\r\n",
                "이제 다르게 계단을 올라갈 수는 없을까 고민하던 영훈이는 특이한 방법으로 계단을 오르려고 합니다.\r\n",
                "\r\n",
                "가령 계단을 한 번에 1, 2, 4 칸씩 올라가 보는 건데요. 예를 들어서 계단을 4개를 올라가야 되면:\r\n",
                "\r\n",
                "* 1, 1, 1, 1\r\n",
                "* 2, 1, 1\r\n",
                "* 1, 2, 1\r\n",
                "* 1, 1, 2\r\n",
                "* 2, 2\r\n",
                "* 4\r\n",
                "총 5개 방법이 있네요.  \r\n",
                "\r\n",
                "함수 staircase는 파라미터로 총 계단 수 n 그리고 한 번에 올라갈 수 있는 계단 수를 possible_possible_steps로 받고, 올라갈 수 있는 방법의 수를 효율적으로 찾아서 리턴합니다.\r\n",
                "\r\n",
                "그러니까 n이 3, possible_possible_steps 가 [1, 2, 3]이면, 계단 총 3칸을 1, 2, 3칸씩 갈 수 있을 때 오르는 방법의 수를 수하는 거죠.\r\n",
                "\r\n",
                "단, possible_possible_steps에는 항상 1이 포함된다고 가정합니다\r\n",
                "```python\r\n",
                "# 높이 n개의 계단을 올라가는 방법을 리턴한다\r\n",
                "def staircase(stairs, possible_steps):\r\n",
                "    # 코드를 쓰세요\r\n",
                "\r\n",
                "print(staircase(5, [1, 2, 3]))\r\n",
                "print(staircase(6, [1, 2, 3]))\r\n",
                "print(staircase(7, [1, 2, 4]))\r\n",
                "print(staircase(8, [1, 3, 5]))\r\n",
                "```"
            ],
            "metadata": {}
        },
        {
            "cell_type": "code",
            "execution_count": 32,
            "source": [
                "# 리뷰2-1( 초기항에서부터 틀린 풀이라 할 수 있음 -> 리뷰2-3이 정답)\r\n",
                "# **어차피 촘촘한 재귀다? -> 바로 tabulation으로 가도 될 듯 하다. 하지만 재귀에서부터 풀어보자.**\r\n",
                "# - 배반의 [부분문제 경우의수가, 주어진 인자랑 관련]될 경우,인자를 for로 돌면서 재귀를 만들기\r\n",
                "def staircase(stairs, possible_steps):\r\n",
                "    # base case \r\n",
                "    # 0과 1을 함께 처리할려니 안되서 따로 0이하부터는 0처리(음수도 나와버려서)\r\n",
                "    # -> 0개의 계단X [높이0의 계단]을 오르는 방법의 수도 1가지로.. 보더라..\r\n",
                "\r\n",
                "    # 점화식의 갯수 = 초항의 갯수 -> (n-5, n-3, n-1)등 3개.. 초항도 0부터 3개 마련되어있어야함.\r\n",
                "    if stairs <= 1:\r\n",
                "        return 1\r\n",
                "\r\n",
                "    # **다풀고나니 실수 -> step에 2가 포함안될 수 있으니, 2를 가는 방법이 안정해진 상태다!!**\r\n",
                "    elif stairs == 2:\r\n",
                "        return 2\r\n",
                "    \r\n",
                "\r\n",
                "    # recursive\r\n",
                "    # 1) list comp로 스텝마다  func(n-step) 을 호출해서 다 더하도록 했는데 안된다.?\r\n",
                "    # return sum([ staircase(stairs-step, [1, 2, 3]) for step in possible_steps])\r\n",
                "    \r\n",
                "    # 2) 최소.. step수만큼의 초기항이 마련되어있어야하며, 그 이후부터 계산해야한다..\r\n",
                "    #          stairs-step >= 0? 최소시작.. steps중에 제일 큰값보다 클 때만..?\r\n",
                "    # my) ... steps의 갯수 -> n-step 으로 재귀식(점화식)을 만드는 변수의 갯수 -> 필요한 초기항 변수의 갯수\r\n",
                "    #         자연스럽게, steps의 갯수는... 예제에 준 3개로 고정?\r\n",
                "    #         그래주면, 음수처리 안해도될듯. if stairs>=step:\r\n",
                "    # 재귀식, 점화식 3개 -> 초항 0,1,2 3개 -> (table이면) n은 3부터?? 돌려서 n까지 append?\r\n",
                "    # result = []\r\n",
                "    # for step in possible_steps:\r\n",
                "    #     result.append(staircase(stairs-step, possible_steps))\r\n",
                "    # return sum(result)    \r\n",
                "\r\n",
                "    # 3) 특별한 짓이 필요한게 아니면, list comp로 바로 해결\r\n",
                "    return sum([ staircase(stairs-step, possible_steps) for step in possible_steps ])\r\n",
                "\r\n",
                "    \r\n",
                "print(staircase(5, [1, 2, 3]))\r\n",
                "    "
            ],
            "outputs": [
                {
                    "output_type": "stream",
                    "name": "stdout",
                    "text": [
                        "13\n"
                    ]
                }
            ],
            "metadata": {}
        },
        {
            "cell_type": "code",
            "execution_count": 36,
            "source": [
                "%timeit staircase(8, [1, 3, 5])"
            ],
            "outputs": [
                {
                    "output_type": "stream",
                    "name": "stdout",
                    "text": [
                        "28.8 µs ± 1.3 µs per loop (mean ± std. dev. of 7 runs, 10000 loops each)\n"
                    ]
                }
            ],
            "metadata": {}
        },
        {
            "cell_type": "code",
            "execution_count": 41,
            "source": [
                "%timeit staircase_tab(8, [1, 3, 5])"
            ],
            "outputs": [
                {
                    "output_type": "stream",
                    "name": "stdout",
                    "text": [
                        "10.5 µs ± 1.69 µs per loop (mean ± std. dev. of 7 runs, 100000 loops each)\n"
                    ]
                }
            ],
            "metadata": {}
        },
        {
            "cell_type": "code",
            "execution_count": 40,
            "source": [
                "# 리뷰2-2, 연결된  촘촘한 재귀 -> tabulation\r\n",
                "# 1) n과 맞춰진 초기항을 미리 list에 넣어두기 \r\n",
                "# **2) for문으로 초기항이후부터 n가지 list[i]를  <<<  list[i-1], list[i-2] 등 넣어둔 원소 & append >>>로   list[i]번째를 채워만들기**\r\n",
                "# 3) return list[n]\r\n",
                "def staircase_tab(stairs, possible_steps):\r\n",
                "    table = [1,1,2]\r\n",
                "    for n in range(3, stairs+1):\r\n",
                "        # table을 써서 만들어야하는데.. ㅠㅠ; 재귀를 불러버린 오류\r\n",
                "        #table.append(sum([ staircase(n-step, possible_steps) for step in possible_steps ]))\r\n",
                "        # table[n]번째를.. n-1, n-2  or n-step + append로 순서대로 채운다.\r\n",
                "        table.append(sum([ table[n-step] for step in possible_steps ]))\r\n",
                "    #print(\"n과 index를 일치시킨 테이블 >>\",table)\r\n",
                "    return table[stairs]\r\n",
                "\r\n",
                "    \r\n",
                "print(staircase_tab(5, [1, 2, 3]))\r\n",
                "    "
            ],
            "outputs": [
                {
                    "output_type": "stream",
                    "name": "stdout",
                    "text": [
                        "13\n"
                    ]
                }
            ],
            "metadata": {}
        },
        {
            "cell_type": "code",
            "execution_count": 43,
            "source": [
                "# 리뷰2-3, 모범정답대로 풀어보기\r\n",
                "# 1) 일단 촘촘한 재귀(step에 따라 1,3,5 로 +1차이가 아닐 수도 있지만)라서 \r\n",
                "#    **바로 중복부분문제의 DP로 들어간다.**\r\n",
                "# **my) append할 때 필터링이 필요하다면, append(0)등으로 초기화해놓고 필터링 & += 필터링된 값 을 활용한다.**\r\n",
                "\r\n",
                "def staircase_tab_solution(stairs, possible_steps):\r\n",
                "    # tabul1) list에 재귀식(부문문제 수)만큼 초기항을 채워넣는다.\r\n",
                "    # - 여기서는 부분문제가 3개씩 나올 예정인 것 같다.\r\n",
                "    # **부분문제 3개에, 초기항이 2개밖에 안된다면? -> n-3 : func(-1)이 나올 수 있이므로 음수일 경우는 아예 없는 것 취급을 따로 아래서 해줄 것이다.**\r\n",
                "    # - 0높이의 계단 오르는 방법:1, 1계단높이:1 , 2계단높이의 방법은 모른다 쳐야한다.-> possible_steps에 \r\n",
                "    number_of_ways = [1,1]\r\n",
                "\r\n",
                "    # tabul2) for문을 돌면서 초기항이후부터 ~ n번재까지, 이전항의 부분문제조합+append로    table[n]들을 채운다.\r\n",
                "    for height in range(2, stairs+1):\r\n",
                "        # **해당번째의 append항목에 일단 0부터 넣고 초기화해서 시작한다.**\r\n",
                "        # - 부분문제들로 바로 답이 나오는 상황이 아니라서, 미리 number_of_ways[n] 생성  및 숫자0넣어놓고 계속 += 할 예정인가보다.\r\n",
                "        # my) 나의 list comp + sum() 작전이 아니라. 미리 빈 원소자리를 0으로 채워놓고 for문으로 돌아가면서 +=\r\n",
                "        # **my) 이 때, 부분문제는 초기항갯수보다 많아 table[음수]를 호출할 수도 있으니, 필터링하자!!**\r\n",
                "        number_of_ways.append(0) # number_of_ways[n] = 0 생성됨.\r\n",
                "        for step in possible_steps:\r\n",
                "            # 음수index필터링 (부분문제수 > 초기항갯수로 인해 생길 수 있는...)\r\n",
                "            # 이 필터링 때문에, list comp안쓰고for문 도는듯?\r\n",
                "            if height - step>=0:\r\n",
                "                number_of_ways[height] += number_of_ways[height - step]\r\n",
                "\r\n",
                "    # tabul3) table[n]을 반환 \r\n",
                "    return number_of_ways[height]\r\n"
            ],
            "outputs": [],
            "metadata": {}
        },
        {
            "cell_type": "code",
            "execution_count": 44,
            "source": [
                "%timeit staircase_tab_solution(8, [1, 3, 5])"
            ],
            "outputs": [
                {
                    "output_type": "stream",
                    "name": "stdout",
                    "text": [
                        "9.23 µs ± 1.99 µs per loop (mean ± std. dev. of 7 runs, 100000 loops each)\n"
                    ]
                }
            ],
            "metadata": {}
        },
        {
            "cell_type": "code",
            "execution_count": null,
            "source": [],
            "outputs": [],
            "metadata": {}
        },
        {
            "cell_type": "code",
            "execution_count": 1,
            "source": [
                "# n을 n-1 n-2등으로 푼다면 -> 무조건 중복 되겠다 생각\r\n",
                "# -> 재귀(base+recursive case)가 사라지는 대신\r\n",
                "# **DP에서는 재귀-base case를 memo(dict), tabul(list)의 0, 1번째 요소로 넣어주고 시작**한다.\r\n",
                "# -정답 리스트가 모이는데, base를 모아두는 것이다.\r\n",
                "# -높이 n개의 계단을 올라가는 방법을 리턴한다\r\n",
                "def staircase(stairs, possible_steps):\r\n",
                "    # 계단 높이가 0 이거나 1 이면 올라가는 방법은 한 가지밖에 없다\r\n",
                "    # - 최적부분+중복 -> Dynamic중에 tabulation은 리스트에다가 하나씩 저장한다.\r\n",
                "    # - 기초가 되는 값은 미리 저장해놓는다.\r\n",
                "    number_of_ways = [1, 1]\r\n",
                "    \r\n",
                "    # 이 변수들을 업데이트 해주며 n 번째 계단을 오르는 방법의 수를 구한다\r\n",
                "    # - default 끝난 다음 index부터 for로 현재 n을 돌면서 \r\n",
                "    # - tabultation(list)의 채워야할 index=n 층수를 돌면서, **해당 n에서 먼저 0으로 채워주면서** 계산을 시작한다.\r\n",
                "    for height in range(2, stairs + 1):\r\n",
                "        number_of_ways.append(0)\r\n",
                "\r\n",
                "        # - 가능한 계단띔수는 점화식에서 n-1, n-2, ... n-(step)으로 작용해서 작성된다. 그 길이만큼 작성됨.\r\n",
                "        # -  (n-step)들의 누적합 -> n가지수다. 그래도.. 3층 오르는데 5step은 못가니까.. n-step >=0일 때만 누저개서더해준다.\r\n",
                "        # - 재귀처럼 tabulation[해당 인데싱]은 이미 답이 있다고가정(base채웠으니)하고 뽑기만 하면 된다.\r\n",
                "        for step in possible_steps:\r\n",
                "            # 음수 계단 수는 존재하지 않기 때문에 무시합니다\r\n",
                "            if height - step >= 0:\r\n",
                "                number_of_ways[height] += number_of_ways[height - step]\r\n",
                "\r\n",
                "    return number_of_ways[stairs]\r\n",
                "\r\n",
                "print(staircase(5, [1, 2, 3]))\r\n",
                "print(staircase(6, [1, 2, 3]))\r\n",
                "print(staircase(7, [1, 2, 4]))\r\n",
                "print(staircase(8, [1, 3, 5]))"
            ],
            "outputs": [
                {
                    "output_type": "stream",
                    "name": "stdout",
                    "text": [
                        "13\n",
                        "24\n",
                        "31\n",
                        "19\n"
                    ]
                }
            ],
            "metadata": {}
        },
        {
            "cell_type": "code",
            "execution_count": null,
            "source": [
                "# 다시 풀어보는 tabulation\r\n",
                "# 1. n = n-step1 + n-step2 + n-step3 ... 단.. n-step의 간격>= 0 ex> 3을 오르는데 5step을 띌 수 없음. step<= n \r\n",
                "# - 재귀 문제인데, 중복될 것 같으니까 DP-tabulation으로 풀어보자.\r\n",
                "def staircase(stairs, possible_steps):\r\n",
                "    # 2. base case는 해당 index에 맞게 채워준다.\r\n",
                "    # 0계단 1 ,1계단1, \r\n",
                "    num_of_ways = [1, 1]\r\n",
                "\r\n",
                "    # 3. 2계단부터 n계단 까지 for문으로 돌면서, 해당 인덱스의 값을 채워준다.\r\n",
                "    for height in range(2, stairs +1):\r\n",
                "        # 4. 각 n번째에서는 n-1, n-3들의 누적합을 구해야한다. 누적합의 default0으로 채워둔다.\r\n",
                "        num_of_ways.append(0)\r\n",
                "        # 5. n-steps들은... 현재n보다는 작은 값들이라 이미 tabulations에 기록되어있따고 가정한다.\r\n",
                "        for step in possible_steps:\r\n",
                "            if height>=step:\r\n",
                "                num_of_ways[height] += num_of_ways[height-step]\r\n",
                "    \r\n",
                "    return num_of_ways[stairs]\r\n",
                "\r\n",
                "\r\n",
                "print(staircase(5, [1, 2, 3]))\r\n",
                "print(staircase(6, [1, 2, 3]))\r\n",
                "print(staircase(7, [1, 2, 4]))\r\n",
                "print(staircase(8, [1, 3, 5]))"
            ],
            "outputs": [],
            "metadata": {}
        }
    ],
    "metadata": {
        "orig_nbformat": 4,
        "language_info": {
            "name": "python",
            "version": "3.8.5",
            "mimetype": "text/x-python",
            "codemirror_mode": {
                "name": "ipython",
                "version": 3
            },
            "pygments_lexer": "ipython3",
            "nbconvert_exporter": "python",
            "file_extension": ".py"
        },
        "kernelspec": {
            "name": "python3",
            "display_name": "Python 3.8.5 64-bit (conda)"
        },
        "interpreter": {
            "hash": "b3ba2566441a7c06988d0923437866b63cedc61552a5af99d1f4fb67d367b25f"
        }
    },
    "nbformat": 4,
    "nbformat_minor": 2
}