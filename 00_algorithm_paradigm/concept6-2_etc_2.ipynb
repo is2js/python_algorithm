{
    "cells": [
        {
            "cell_type": "code",
            "execution_count": null,
            "metadata": {},
            "outputs": [],
            "source": []
        },
        {
            "cell_type": "markdown",
            "metadata": {},
            "source": [
                "출저 : 주니온TV(유튜브)"
            ]
        },
        {
            "cell_type": "markdown",
            "metadata": {},
            "source": [
                "## 콜라츠의 추측: 우박수 문제\n",
                "\n",
                " - 쉬운데 어렵다. 대학에서 잘 가르킨다.\n",
                " ![image-20210927120303710](https://raw.githubusercontent.com/is3js/screenshots/main/image-20210927120303710.png)\n",
                "\n",
                " ![image-20210927120351739](https://raw.githubusercontent.com/is3js/screenshots/main/image-20210927120351739.png)\n",
                "\n",
                "\n",
                " "
            ]
        },
        {
            "cell_type": "markdown",
            "metadata": {},
            "source": [
                "### 구현(collatz) : 콜라츠 수열을 만들어 반환\n",
                " - 증명은 못할정도로 어렵지만, 구현은 쉽다.\n",
                " ![image-20210927120854123](https://raw.githubusercontent.com/is3js/screenshots/main/image-20210927120854123.png)"
            ]
        },
        {
            "cell_type": "code",
            "execution_count": 4,
            "metadata": {},
            "outputs": [
                {
                    "data": {
                        "text/plain": [
                            "[10, 5, 16, 8, 4, 2, 1]"
                        ]
                    },
                    "execution_count": 4,
                    "metadata": {},
                    "output_type": "execute_result"
                }
            ],
            "source": [
                "def collatz(n):\n",
                "    # 0. n부터 나누기2로 줄거나 or *3+1로 커지는데, 그것을  n==1될때까지 모은다.\n",
                "    seq = [n]\n",
                "    # 1. 콜라츠는 1이되면 종료한다. 1보다 클때까지만 돌린다.\n",
                "    while n>1:\n",
                "        if n%2==0:\n",
                "            n=n//2\n",
                "        else:\n",
                "            n=3*n + 1\n",
                "        seq.append(n)\n",
                "    return seq\n",
                "\n",
                "\n",
                "collatz(10)"
            ]
        },
        {
            "cell_type": "code",
            "execution_count": null,
            "metadata": {},
            "outputs": [],
            "source": [
                "for i in range(1, 10):\n",
                "    print(collatz(i))"
            ]
        },
        {
            "cell_type": "markdown",
            "metadata": {},
            "source": [
                "### 규칙발견을 위해, seq-len을 end=\" \"로 출력해보자.\n",
                " - 수열의 길이에 규칙이 있는지 봤는데, 안보인다..."
            ]
        },
        {
            "cell_type": "code",
            "execution_count": null,
            "metadata": {},
            "outputs": [],
            "source": [
                "for i in range(1, 100):\n",
                "    print(len(collatz(i)), end=\" \")"
            ]
        },
        {
            "cell_type": "markdown",
            "metadata": {},
            "source": [
                "### 규칙은 없지만, 쉬워서 문제는 우박수처럼 쏟아진다.\n",
                "\n",
                "![image-20210927121646260](https://raw.githubusercontent.com/is3js/screenshots/main/image-20210927121646260.png)\n",
                "\n",
                "- 손으로는 계산못한다.\n",
                "\n",
                "![image-20210927121732546](https://raw.githubusercontent.com/is3js/screenshots/main/image-20210927121732546.png)\n",
                "\n"
            ]
        },
        {
            "cell_type": "markdown",
            "metadata": {},
            "source": [
                " - 조건을 만족시키는 가장 작은 수는? \n",
                "     - **input index가 정해지지 않은 경우, 그냥  while True:로 무한루프  i=0, i+=1로 시작하자.**\n",
                "     - 1부터 시작하며, +1씩 나가면서, 조건을 만족할 때 바로 return(break)해버리면 `가장 작은 수`다.\n",
                "        - **두번째 수는? count변수를 만들어 조건 만족할때마다 +1 해서 체크한다.**\n",
                "     - 끝을 모르는 경우 while True: + break(or return)의 무한루프를 돈다."
            ]
        },
        {
            "cell_type": "code",
            "execution_count": 9,
            "metadata": {},
            "outputs": [
                {
                    "name": "stdout",
                    "output_type": "stream",
                    "text": [
                        "길이가 100인 가장 작은 우박수는? 322\n"
                    ]
                }
            ],
            "source": [
                "# 콜라츠 수열의 길이가 100인 숫자들 중에서 가장 작은 수는?\n",
                "n=0\n",
                "while True:\n",
                "    n+=1\n",
                "    if len(collatz(n)) == 100:\n",
                "        break \n",
                "\n",
                "print(\"길이가 100인 가장 작은 우박수는?\", n)"
            ]
        },
        {
            "cell_type": "code",
            "execution_count": 16,
            "metadata": {},
            "outputs": [
                {
                    "name": "stdout",
                    "output_type": "stream",
                    "text": [
                        "10,000이하 가장 긴 우박수의 길이와 우박수 : 262 6171\n"
                    ]
                }
            ],
            "source": [
                "# 10000이하의 콜라츠 수열의 길이가 가장긴 수는?\n",
                "# -> 1부터 10000까지를 돌아야한다 -> for문으로가능 / 너무 많지 않기 때문에 다돌아도 됨.\n",
                "# -> 돌면서 여러개 중에 가장 긴것 찾기 -> for문위에 변수에 curr변수 update\n",
                "# --> update 당시의 i도 알아야한다면...  curr = max(curr, ??? )로 한줄업데이트 불가능.ㅠ -> if문으로 풀어서 + 변수도 챙겨야한다.\n",
                "\n",
                "max_len = 0\n",
                "max_halestone = []\n",
                "\n",
                "for n in range(1, 10000+1):\n",
                "     #curr_len = max(curr_len, len(collatz(i)))\n",
                "     # 만약, 수열자체도 필요하다면, \n",
                "     halestone = collatz(n)\n",
                "     length = len(halestone)\n",
                "     if max_len < len(halestone):\n",
                "         max_len = length\n",
                "         max_halestone = halestone\n",
                "\n",
                "\n",
                "print(\"10,000이하 가장 긴 우박수의 길이와 우박수 :\", max_len, max_halestone[0])"
            ]
        },
        {
            "cell_type": "markdown",
            "metadata": {},
            "source": [
                "### 연습문제: 콜라츠수열의 길이가 500보다 큰 첫번째 자연수는?\n",
                " - 콜라츠수열의 길이가 500보다 큰 첫번째 자연수는?\n",
                "     - 첫번째 자연수 -> 조건을 만족하면 바로 return한 수\n",
                " - 콜라츠수열의 길이가 500보다 큰 10번째 자연수의  콜라츠 수열 길이는?\n",
                "     - 10번재 자연수 -> 조건을 만족할 때마다 count따로 해줘야함."
            ]
        },
        {
            "cell_type": "code",
            "execution_count": 22,
            "metadata": {},
            "outputs": [
                {
                    "name": "stdout",
                    "output_type": "stream",
                    "text": [
                        "1 626331\n",
                        "2 704623\n"
                    ]
                },
                {
                    "ename": "KeyboardInterrupt",
                    "evalue": "",
                    "output_type": "error",
                    "traceback": [
                        "\u001b[1;31m---------------------------------------------------------------------------\u001b[0m",
                        "\u001b[1;31mKeyboardInterrupt\u001b[0m                         Traceback (most recent call last)",
                        "\u001b[1;32m<ipython-input-22-850d376ae79b>\u001b[0m in \u001b[0;36m<module>\u001b[1;34m\u001b[0m\n\u001b[0;32m      3\u001b[0m \u001b[1;32mwhile\u001b[0m \u001b[1;32mTrue\u001b[0m\u001b[1;33m:\u001b[0m\u001b[1;33m\u001b[0m\u001b[1;33m\u001b[0m\u001b[0m\n\u001b[0;32m      4\u001b[0m     \u001b[0mn\u001b[0m\u001b[1;33m+=\u001b[0m\u001b[1;36m1\u001b[0m\u001b[1;33m\u001b[0m\u001b[1;33m\u001b[0m\u001b[0m\n\u001b[1;32m----> 5\u001b[1;33m     \u001b[1;32mif\u001b[0m \u001b[0mlen\u001b[0m\u001b[1;33m(\u001b[0m\u001b[0mcollatz\u001b[0m\u001b[1;33m(\u001b[0m\u001b[0mn\u001b[0m\u001b[1;33m)\u001b[0m\u001b[1;33m)\u001b[0m \u001b[1;33m>\u001b[0m \u001b[1;36m500\u001b[0m\u001b[1;33m:\u001b[0m\u001b[1;33m\u001b[0m\u001b[1;33m\u001b[0m\u001b[0m\n\u001b[0m\u001b[0;32m      6\u001b[0m         \u001b[0mcount\u001b[0m\u001b[1;33m+=\u001b[0m\u001b[1;36m1\u001b[0m\u001b[1;33m\u001b[0m\u001b[1;33m\u001b[0m\u001b[0m\n\u001b[0;32m      7\u001b[0m         \u001b[0mprint\u001b[0m\u001b[1;33m(\u001b[0m\u001b[0mcount\u001b[0m\u001b[1;33m,\u001b[0m \u001b[0mn\u001b[0m\u001b[1;33m)\u001b[0m\u001b[1;33m\u001b[0m\u001b[1;33m\u001b[0m\u001b[0m\n",
                        "\u001b[1;32m<ipython-input-4-8f19596a1b90>\u001b[0m in \u001b[0;36mcollatz\u001b[1;34m(n)\u001b[0m\n\u001b[0;32m      5\u001b[0m     \u001b[1;32mwhile\u001b[0m \u001b[0mn\u001b[0m\u001b[1;33m>\u001b[0m\u001b[1;36m1\u001b[0m\u001b[1;33m:\u001b[0m\u001b[1;33m\u001b[0m\u001b[1;33m\u001b[0m\u001b[0m\n\u001b[0;32m      6\u001b[0m         \u001b[1;32mif\u001b[0m \u001b[0mn\u001b[0m\u001b[1;33m%\u001b[0m\u001b[1;36m2\u001b[0m\u001b[1;33m==\u001b[0m\u001b[1;36m0\u001b[0m\u001b[1;33m:\u001b[0m\u001b[1;33m\u001b[0m\u001b[1;33m\u001b[0m\u001b[0m\n\u001b[1;32m----> 7\u001b[1;33m             \u001b[0mn\u001b[0m\u001b[1;33m=\u001b[0m\u001b[0mn\u001b[0m\u001b[1;33m//\u001b[0m\u001b[1;36m2\u001b[0m\u001b[1;33m\u001b[0m\u001b[1;33m\u001b[0m\u001b[0m\n\u001b[0m\u001b[0;32m      8\u001b[0m         \u001b[1;32melse\u001b[0m\u001b[1;33m:\u001b[0m\u001b[1;33m\u001b[0m\u001b[1;33m\u001b[0m\u001b[0m\n\u001b[0;32m      9\u001b[0m             \u001b[0mn\u001b[0m\u001b[1;33m=\u001b[0m\u001b[1;36m3\u001b[0m\u001b[1;33m*\u001b[0m\u001b[0mn\u001b[0m \u001b[1;33m+\u001b[0m \u001b[1;36m1\u001b[0m\u001b[1;33m\u001b[0m\u001b[1;33m\u001b[0m\u001b[0m\n",
                        "\u001b[1;31mKeyboardInterrupt\u001b[0m: "
                    ]
                }
            ],
            "source": [
                "n=0\n",
                "count = 0\n",
                "while True:\n",
                "    n+=1\n",
                "    if len(collatz(n)) > 500:\n",
                "        count+=1\n",
                "        print(count, n)\n",
                "        if count ==10:\n",
                "            break\n",
                "\n",
                "n"
            ]
        },
        {
            "cell_type": "markdown",
            "metadata": {},
            "source": [
                "## 로마 문자(기호) -> 아라비아 숫자로 "
            ]
        },
        {
            "cell_type": "markdown",
            "metadata": {},
            "source": [
                "![image-20210928165007845](https://raw.githubusercontent.com/is3js/screenshots/main/image-20210928165007845.png)\n",
                "\n",
                "![image-20210928165014112](https://raw.githubusercontent.com/is3js/screenshots/main/image-20210928165014112.png)\n",
                "\n"
            ]
        },
        {
            "cell_type": "markdown",
            "metadata": {},
            "source": [
                "### 로마 숫자 표기법\n",
                "\n",
                "![image-20210928165213769](https://raw.githubusercontent.com/is3js/screenshots/main/image-20210928165213769.png)\n",
                "\n",
                "![image-20210928165245431](https://raw.githubusercontent.com/is3js/screenshots/main/image-20210928165245431.png)\n",
                "\n",
                "- X, XX, XXX : 10, 20, 30\n",
                "  - **XL : 40**\n",
                "\n",
                "\n",
                "\n",
                "![image-20210928165353548](https://raw.githubusercontent.com/is3js/screenshots/main/image-20210928165353548.png)\n",
                "\n",
                "- L, LX, LXX, LXXX : 50, 60, 70, 80\n",
                "  -  **XC : 90**\n",
                "\n",
                "\n",
                "\n",
                "![image-20210928165541773](https://raw.githubusercontent.com/is3js/screenshots/main/image-20210928165541773.png)\n",
                "\n",
                "- C, CC, CCC : 100 200 300 \n",
                "  - **CD : 400**\n",
                "\n",
                "\n",
                "\n",
                "![image-20210928165645098](https://raw.githubusercontent.com/is3js/screenshots/main/image-20210928165645098.png)\n",
                "\n",
                "- D, DC, DCC, DCCC: 500, 600, 700, 800\n",
                "  - **MC : 900**\n",
                "\n",
                "![image-20210928165730181](https://raw.githubusercontent.com/is3js/screenshots/main/image-20210928165730181.png)\n",
                "\n",
                "- 규칙발견하기\n",
                "  - **기본적으로는 `가산표기법` : 기호의 값을 그냥 합산하면 됨. **\n",
                "  - **너무 길어지는 경우, `감산표기법`**: \n",
                "    - **큰 수 앞에(왼쪽에) 작은 수를 넣으면, 큰 수(오른)에서  작은 수(왼)를 빼라는 뜻.**\n",
                "    - 예) 4, 9, 40, 90, 400, 900 ..\n",
                "\n",
                "\n",
                "\n"
            ]
        },
        {
            "cell_type": "code",
            "execution_count": 25,
            "metadata": {},
            "outputs": [
                {
                    "name": "stdout",
                    "output_type": "stream",
                    "text": [
                        "M\n",
                        "I\n",
                        "M D C L X V I \n",
                        "MDCLXVI\n"
                    ]
                }
            ],
            "source": [
                "string = \"MDCLXVI\"\n",
                "\n",
                "print(string[0])\n",
                "print(string[6])\n",
                "\n",
                "for i in range(len(string)):\n",
                "    print(string[i], end=\" \")\n",
                "print()\n",
                "\n",
                "print(\"M\" + \"D\" + \"C\" + \"L\" + \"X\" + \"V\" + \"I\")"
            ]
        },
        {
            "cell_type": "markdown",
            "metadata": {},
            "source": [
                "### getValueOf(symbol) : 로마 문자를 아라비아 숫자로 변환"
            ]
        },
        {
            "cell_type": "code",
            "execution_count": 31,
            "metadata": {},
            "outputs": [
                {
                    "name": "stdout",
                    "output_type": "stream",
                    "text": [
                        "M : 1000\n",
                        "D : 500\n",
                        "C : 100\n",
                        "L : 50\n",
                        "X : 10\n",
                        "V : 5\n",
                        "I : 1\n"
                    ]
                }
            ],
            "source": [
                "# 함수로 매칭..\n",
                "def getValueOf(symbol):\n",
                "    if symbol == 'M': return 1000\n",
                "    elif symbol == 'D': return 500\n",
                "    elif symbol == 'C': return 100\n",
                "    elif symbol == 'L': return 50\n",
                "    elif symbol == 'X': return 10\n",
                "    elif symbol == 'V': return 5\n",
                "    elif symbol == 'I': return 1\n",
                "\n",
                "roman = \"MDCLXVI\"\n",
                "\n",
                "for i in range(len(roman)):\n",
                "    #print(getValueOf(roman[i]))\n",
                "    print(roman[i] ,\":\", getValueOf(roman[i]))\n",
                "\n"
            ]
        },
        {
            "cell_type": "markdown",
            "metadata": {},
            "source": [
                "### dict로 매칭되는 데이터 매핑\n",
                " - 함수로 길게 if elif...로 매칭을 시켜 return해줄 필요가 없다."
            ]
        },
        {
            "cell_type": "code",
            "execution_count": 35,
            "metadata": {},
            "outputs": [
                {
                    "name": "stdout",
                    "output_type": "stream",
                    "text": [
                        "M : 1000\n",
                        "D : 500\n",
                        "C : 100\n",
                        "L : 50\n",
                        "X : 10\n",
                        "V : 5\n",
                        "I : 1\n"
                    ]
                }
            ],
            "source": [
                "romanDict = {\n",
                "    'M':1000, 'D':500, 'C':100, 'L':50, 'X':10, 'V':5, 'I':1\n",
                "}\n",
                "\n",
                "roman = \"MDCLXVI\"\n",
                "\n",
                "for i in range(len(roman)):\n",
                "    #print(getValueOf(roman[i]))\n",
                "    print(roman[i] ,\":\", romanDict[roman[i]])"
            ]
        },
        {
            "cell_type": "markdown",
            "metadata": {},
            "source": [
                "### 단순 가산만 해주기\n",
                " - 가산표기법은 고려안한 상태로 로마문자->숫자변환->단순 가산만\n",
                " - **어차피 숫자로 변환후 각 대응되는 숫자를 누적해서 더하던지 빼던지 해야함 -> 변수에 누적합**"
            ]
        },
        {
            "cell_type": "code",
            "execution_count": 37,
            "metadata": {},
            "outputs": [
                {
                    "name": "stdout",
                    "output_type": "stream",
                    "text": [
                        "1666\n"
                    ]
                }
            ],
            "source": [
                "roman = \"MDCLXVI\"\n",
                "\n",
                "arabic = 0\n",
                "\n",
                "for i in range(len(roman)):\n",
                "    #arabic += getValueOf(roman[i])\n",
                "    arabic += romanDict[roman[i]]\n",
                "\n",
                "print(arabic)\n"
            ]
        },
        {
            "cell_type": "markdown",
            "metadata": {},
            "source": [
                "### 감산 생각해주기\n",
                " - i번째 수에서, i+1(다음수)보다 작은 숫자라고 판명되면 arabic에 -= 빼주면 된다.\n",
                "     - for문에 i+1이 들어온 순간,, 바깥  for문에서는 1개 적게 끝나고 + 맨 마지막꺼는 추가로 더해준다?\n",
                "     - 또는, 여기서는, 감산 확인 if문 자체를... 마지막 인덱스는 포함안되도록, i <( n-1)로 추가 조건주기\n"
            ]
        },
        {
            "cell_type": "code",
            "execution_count": 41,
            "metadata": {},
            "outputs": [
                {
                    "name": "stdout",
                    "output_type": "stream",
                    "text": [
                        "[269, 80, 29]\n"
                    ]
                }
            ],
            "source": [
                "def toArabicNumber(roman):\n",
                "    arabic = 0\n",
                "\n",
                "    for i in range(len(roman)):\n",
                "        # 마지막 [n-1]에서는 검사안하도록.. and 조건을 주자. \n",
                "        # - 그외에는.. 다 검사하게 되어있다..\n",
                "        if (i< len(roman)-1) and romanDict[roman[i]] < romanDict[roman[i+1]]:\n",
                "            arabic -= romanDict[roman[i]]\n",
                "        else:\n",
                "            arabic += romanDict[roman[i]]\n",
                "\n",
                "    return arabic\n",
                "\n",
                "\n",
                "romans = ['CCLXIX', 'LXXX', 'XXIX']\n",
                "arabics =[]\n",
                "for roman in romans:\n",
                "    arabics.append(toArabicNumber(roman))\n",
                "\n",
                "print(arabics)"
            ]
        },
        {
            "cell_type": "markdown",
            "metadata": {},
            "source": [
                "### 연습문제: 아라비아 숫자를 로마문자로 변환가능할까?\n",
                " - 참고 : www.wolframalpha.com\n",
                "     - `roman numerals 1666`\n",
                "     - `roman numerals MDCLXVI`"
            ]
        },
        {
            "cell_type": "markdown",
            "metadata": {},
            "source": [
                "## 아라비아숫자를 로마문자(숫자)로"
            ]
        },
        {
            "cell_type": "markdown",
            "metadata": {},
            "source": [
                " - my) 단위숫자로 제거하는데, 단위와 단위사이에 감산법이 걸릴 때 먼저 감산법으로 제거해준다.\n",
                "\n",
                "![image-20210930162015769](https://raw.githubusercontent.com/is3js/screenshots/main/image-20210930162015769.png)"
            ]
        },
        {
            "cell_type": "code",
            "execution_count": 42,
            "metadata": {},
            "outputs": [
                {
                    "data": {
                        "text/plain": [
                            "{'M': 1000, 'D': 500, 'C': 100, 'L': 50, 'X': 10, 'V': 5, 'I': 1}"
                        ]
                    },
                    "execution_count": 42,
                    "metadata": {},
                    "output_type": "execute_result"
                }
            ],
            "source": [
                "romanDict"
            ]
        },
        {
            "cell_type": "code",
            "execution_count": 43,
            "metadata": {},
            "outputs": [],
            "source": [
                "# 이번에는 거꾸로 매핑\n",
                "romanDict = {\n",
                "    1:'I',\n",
                "    5:'V',\n",
                "    10:'X',\n",
                "    50:'L',\n",
                "    100:'C',\n",
                "    500:'D',\n",
                "    1000:'M',\n",
                "}"
            ]
        },
        {
            "cell_type": "code",
            "execution_count": 44,
            "metadata": {},
            "outputs": [
                {
                    "name": "stdout",
                    "output_type": "stream",
                    "text": [
                        "dict_keys([1, 5, 10, 50, 100, 500, 1000])\n",
                        "dict_values(['I', 'V', 'X', 'L', 'C', 'D', 'M'])\n",
                        "dict_items([(1, 'I'), (5, 'V'), (10, 'X'), (50, 'L'), (100, 'C'), (500, 'D'), (1000, 'M')])\n"
                    ]
                }
            ],
            "source": [
                "print(romanDict.keys())\n",
                "print(romanDict.values())\n",
                "print(romanDict.items())"
            ]
        },
        {
            "cell_type": "code",
            "execution_count": 45,
            "metadata": {},
            "outputs": [
                {
                    "name": "stdout",
                    "output_type": "stream",
                    "text": [
                        "1 : I\n",
                        "5 : V\n",
                        "10 : X\n",
                        "50 : L\n",
                        "100 : C\n",
                        "500 : D\n",
                        "1000 : M\n"
                    ]
                }
            ],
            "source": [
                "for key in romanDict.keys():\n",
                "    print(key,\":\", romanDict[key])"
            ]
        },
        {
            "cell_type": "markdown",
            "metadata": {},
            "source": [
                "### 1부터 9까지만 아라비아->로마문자로 변환해보기\n",
                " - n을 받으면, 1까지 돌아가면서, romanDict에서 꺼내서 처리해보기\n",
                " - 중간중간 예외가 생긴다."
            ]
        },
        {
            "cell_type": "code",
            "execution_count": 49,
            "metadata": {},
            "outputs": [
                {
                    "data": {
                        "text/plain": [
                            "'VIII'"
                        ]
                    },
                    "execution_count": 49,
                    "metadata": {},
                    "output_type": "execute_result"
                }
            ],
            "source": [
                "# 작성하고 보니까..\n",
                "# 1) 감산법 적용 숫자들은 따로 먼저 찾아서 처리해주고 그만큼 감산\n",
                "# 2) 5 등의 단위숫자들은 들어있는 만큼 감산 (N>=단위 로 확인해서 가진것만큼 제한다.)\n",
                "# 3) 단위숫자들 다끝나고 나머지 숫자들(5이하의 수) I의 1로 갯수만큼 돌린다.\n",
                "def romanNumber1(n):\n",
                "\n",
                "    str = \"\"\n",
                "\n",
                "    while n>=1 : # n<1 즉, n=0일때 종료된다. while 조건 -> not 조건에서 종료 // 조건 -> while not조건 동안 계속\n",
                "        # 감산법이 적용되는 놈들.. 4, 9, 40, 90, 등을 먼저 처리해줘야한다.\n",
                "        if n==9:\n",
                "            # 9면, IX를 출력해야한다. -> 1로 가져와야하고, 10으로 가져와야한다.\n",
                "            str += romanDict[1] + romanDict[10]\n",
                "            # 가져왔으면 그만큼.. n에서 빼줘야한다..\n",
                "            n-=9 \n",
                "        elif n==4: # IV\n",
                "            str += romanDict[1] + romanDict[5]\n",
                "            n-=4\n",
                "        elif n>=5: # 4, 9의 감산이 아닌 상태에서의 5이상.. 5,6,7,8  V + (n-5) * I 가 아니라..\n",
                "            # 5를 로마자로 V로 변환하여 추가해주고, 5만 감산시키는 작전.. 나머지는 나중에 처리하도록 n에 남겨둔다.\n",
                "            # 단위로서, 반복적으로 제거되도록한다?\n",
                "            str += romanDict[5] \n",
                "            n-=5\n",
                "        else:\n",
                "            # 5보다 작은 것들은 그 갯수만큼.. I를 반복해서 더해주면 된다.\n",
                "            for _ in range(n):\n",
                "                str += romanDict[1]\n",
                "            n-=n \n",
                "\n",
                "\n",
                "    return str\n",
                "\n",
                "romanNumber1(8)"
            ]
        },
        {
            "cell_type": "code",
            "execution_count": 50,
            "metadata": {},
            "outputs": [
                {
                    "name": "stdout",
                    "output_type": "stream",
                    "text": [
                        "1 : I\n",
                        "2 : II\n",
                        "3 : III\n",
                        "4 : IV\n",
                        "5 : V\n",
                        "6 : VI\n",
                        "7 : VII\n",
                        "8 : VIII\n",
                        "9 : IX\n"
                    ]
                }
            ],
            "source": [
                "for n in range(1, 10):\n",
                "    print(n, \":\", romanNumber1(n))"
            ]
        },
        {
            "cell_type": "markdown",
            "metadata": {},
            "source": [
                "### 100미만의 숫자로 확장하기\n",
                " - 1~9까지는 romanNumber1()로 처리하는 것도 포함된다."
            ]
        },
        {
            "cell_type": "code",
            "execution_count": 52,
            "metadata": {},
            "outputs": [
                {
                    "data": {
                        "text/plain": [
                            "'XCIX'"
                        ]
                    },
                    "execution_count": 52,
                    "metadata": {},
                    "output_type": "execute_result"
                }
            ],
            "source": [
                "# 1. 단위숫자 가지고 있는 것부터 거름\n",
                "# 1-1. 단위숫자 거르기 전에 그 범위내 감산법 대상부터처 처리, [n>=50] 4, 9, 40, [90]\n",
                "# 1-1. 단위숫자 제거 \n",
                "# 2. 그 다음 단위숫자 가지고 거름\n",
                "# 2-1. 감산법..\n",
                "# 자리수가 바뀌면 그 때의 함수로 처리해서 return받는다.\n",
                "def romanNumber2(n):\n",
                "    str = \"\" \n",
                "    # 100미만에서 단위숫자인 50을 들고 있으면, 50을 안가질때까지 제해야하므로 while로 가져온다.\n",
                "    while n>=50:\n",
                "        # 50이상을 가지고 있어도, 40, 90 등 감산부터 처리한다.\n",
                "        if n>=90: # 90 -> 10 + 100 로 먼저 처리한다.\n",
                "            str += romanDict[10] + romanDict[100]\n",
                "            n -= 90\n",
                "        else:\n",
                "            # 88이나 가지고 있다면.. 감산법 없으면, ㅇ단위 숫자부터 제한다.\n",
                "            str += romanDict[50]\n",
                "            n-=50 \n",
                "    # 감산, 및 단위숫자 제거가 되서 50미만이 됨.\n",
                "\n",
                "    # 그 다음 단위숫자를 처리한다.\n",
                "    while n>=10 : \n",
                "        if n>=40:\n",
                "            str += romanDict[10] + romanDict[50]\n",
                "            n-=40\n",
                "        else:\n",
                "            str += romanDict[10]\n",
                "            n-=10\n",
                "    \n",
                "    # 10~99까지 처리되었으면, 1~9의 함수결과와 더한다.\n",
                "    return str + romanNumber1(n)\n",
                "\n",
                "romanNumber2(99)\n"
            ]
        },
        {
            "cell_type": "code",
            "execution_count": 53,
            "metadata": {},
            "outputs": [
                {
                    "name": "stdout",
                    "output_type": "stream",
                    "text": [
                        "10 : X\n",
                        "20 : XX\n",
                        "30 : XXX\n",
                        "40 : XL\n",
                        "50 : L\n",
                        "60 : LX\n",
                        "70 : LXX\n",
                        "80 : LXXX\n",
                        "90 : XC\n"
                    ]
                }
            ],
            "source": [
                "# 10, 20 ~ 90까지 해보자.\n",
                "for n in range(10, 100, 10):\n",
                "    print(n, \":\", romanNumber2(n))"
            ]
        },
        {
            "cell_type": "markdown",
            "metadata": {},
            "source": [
                "### 4000미만의 숫자로 더 확장하기\n",
                " - 단위가 5000이상은 없다고 치기 때문에 3999로 제한함.. 4000이면 5000 - 1000으로 감산되어야함."
            ]
        },
        {
            "cell_type": "code",
            "execution_count": 55,
            "metadata": {},
            "outputs": [
                {
                    "name": "stdout",
                    "output_type": "stream",
                    "text": [
                        "100 : C\n",
                        "200 : CC\n",
                        "300 : CCC\n",
                        "400 : CD\n",
                        "500 : D\n",
                        "600 : DC\n",
                        "700 : DCC\n",
                        "800 : DCCC\n",
                        "900 : CM\n"
                    ]
                }
            ],
            "source": [
                "def romanNumber3(n):\n",
                "    \n",
                "    str = \"\"\n",
                "\n",
                "    while n>=1000:\n",
                "        # 이놈은 상위에 존재하는 감산법(4000)이 없기 때문에.. 단위숫자만 제한다.\n",
                "        str += romanDict[1000]\n",
                "        n-=1000\n",
                "\n",
                "    while n>=500:\n",
                "        # 900감산해주기\n",
                "        if n>=900:\n",
                "            str += romanDict[100] + romanDict[1000]\n",
                "            n-=900\n",
                "        else:\n",
                "            str += romanDict[500]\n",
                "            n-=500\n",
                "\n",
                "    while n>= 100:\n",
                "        if n>=400:\n",
                "            str += romanDict[100] + romanDict[500]\n",
                "            n-=400\n",
                "        else:\n",
                "            str += romanDict[100]\n",
                "            n -= 100 \n",
                "    return str + romanNumber2(n)\n",
                "\n",
                "for n in range(100, 1000, 100):\n",
                "    print(n, \":\", romanNumber3(n))"
            ]
        },
        {
            "cell_type": "markdown",
            "metadata": {},
            "source": [
                "### 패턴이 보인다."
            ]
        },
        {
            "cell_type": "markdown",
            "metadata": {},
            "source": [
                " - while마다 패턴이 있으니, 그 패턴에 맞게 필요한 요소들을 list로 구성해서 만들어보자.\n",
                "\n",
                "![image-20210930170716150](https://raw.githubusercontent.com/is3js/screenshots/main/image-20210930170716150.png)\n",
                "\n",
                "- null string에다가 범위(단위를 가지고 있는) 동안에는\n",
                "\n",
                "  - 감산법\n",
                "\n",
                "  - 단위 반복 제거\n",
                "\n",
                "    \n",
                "\n",
                "    ![image-20210930170813702](https://raw.githubusercontent.com/is3js/screenshots/main/image-20210930170813702.png)\n",
                "    ![image-20210930170846688](https://raw.githubusercontent.com/is3js/screenshots/main/image-20210930170846688.png)\n",
                "\n",
                "\n",
                "\n",
                "- dict에서 꺼내쓰는 대신 (**key:value를    index가 동일한 위치에 각각을 list1:list2로 선언해서 사용**)\n",
                "  - **각 패턴에 들어가는 숫자들이 짝을 이루도록** list의 **같은 index에 나열**해서 사용한다.\n",
                "    - whlie에 들어갈 단위    [1000,      500,   100, ...]\n",
                "    - if에 들어갈 감산법처리 [4000(X), 900,   400, ...]\n",
                "    - str+=에 들어갈 감산법용 로마숫자 900이면 100(C)과 1000(M)가 같은 index line에 오도록 list 2개를 나열\n",
                "      ![image-20210930171524960](https://raw.githubusercontent.com/is3js/screenshots/main/image-20210930171524960.png)\n",
                "      - 이부분을 지정하는 것이 까다로우니까.. 걍 같은 index에 나열해서 임의의 쌍을 지어놓는 것임.\n",
                "        ![image-20210930171617831](https://raw.githubusercontent.com/is3js/screenshots/main/image-20210930171617831.png)\n",
                "        ![image-20210930171637933](https://raw.githubusercontent.com/is3js/screenshots/main/image-20210930171637933.png)\n",
                "        ![image-20210930171825096](https://raw.githubusercontent.com/is3js/screenshots/main/image-20210930171825096.png)\n",
                "\n",
                "\n",
                "\n",
                "\n",
                "\n",
                "\n",
                "\n",
                "\n",
                "\n",
                "![image-20210930170945904](https://raw.githubusercontent.com/is3js/screenshots/main/image-20210930170945904.png)"
            ]
        },
        {
            "cell_type": "markdown",
            "metadata": {},
            "source": [
                "### dict로 모든 것을 다 지정해놓고 사용하면 더 간단해진다.\n",
                " - 단위뿐만 아니라 감산법의 범위도 list에 다 몰아놓고, 그 때의 로마문자도 dict에 다 몰아놓은 상태에서 while 패턴을 돌린다.\n",
                " ![image-20210930172105516](https://raw.githubusercontent.com/is3js/screenshots/main/image-20210930172105516.png)\n",
                "\n",
                " - 테스트\n",
                "  ![image-20210930172320015](https://raw.githubusercontent.com/is3js/screenshots/main/image-20210930172320015.png)\n",
                "\n",
                "\n"
            ]
        },
        {
            "cell_type": "code",
            "execution_count": 57,
            "metadata": {},
            "outputs": [],
            "source": [
                "romanDict2 = {\n",
                "    1:'I', 4:'IV',\n",
                "    5:'V', 9:'IX',\n",
                "    10:'X', 40:'XL',\n",
                "    50:'L', 90:'XC',\n",
                "    100:'C', 400:'CD',\n",
                "    500:'D', 900:'CM',\n",
                "    1000:'M',\n",
                "}\n",
                "\n",
                "keyValues = [1000, 900, 500, 400, 100, 90, 50, 40, 10, 9, 5, 4, 1]"
            ]
        },
        {
            "cell_type": "code",
            "execution_count": 60,
            "metadata": {},
            "outputs": [
                {
                    "data": {
                        "text/plain": [
                            "'CLV'"
                        ]
                    },
                    "execution_count": 60,
                    "metadata": {},
                    "output_type": "execute_result"
                }
            ],
            "source": [
                "# 감산법구간도.. 단위구간처럼  while >=  그만큼 제하기를 할 수 있다.\n",
                "# 1000과 500사이 900이 등장하면.. 이미 1000을 다 돌린 상태기 때문에.. 999이하라서 900을 while에 돌리는 것이 가능하다.\n",
                "# - 비록 단위숫자가 아니면 1번밖에 해당이 안되지만.. while에 들어가도 상관없다 1번만 수행하고 나오면 되므로.\n",
                "\n",
                "def toRomanNumber(n):\n",
                "    str=\"\"\n",
                "    for i in range(len(keyValues)):\n",
                "        while n >= keyValues[i]:\n",
                "            str += romanDict2[keyValues[i]]\n",
                "            n -= keyValues[i]\n",
                "\n",
                "    return str \n",
                "\n",
                "\n",
                "toRomanNumber(155)"
            ]
        },
        {
            "cell_type": "markdown",
            "metadata": {},
            "source": [
                "\n",
                "\n",
                "## 스무고개와 이진탐색?\n",
                "\n",
                "- 예/아니오 로 대답할 수 있는 질문을 하고 답을 맞춤\n",
                "\n",
                "  ![image-20211002200740168](https://raw.githubusercontent.com/is3js/screenshots/main/image-20211002200740168.png)\n",
                "\n",
                "\n",
                "### 임의의 수\n",
                "- 임의의 수를 python에서는 **random 모듈**을 사용한다.\n",
                "\n",
                "  - **random.`randint`**와 `np.random.randint(a,b)` : 모두 a<= x <= b 의 `랜덤숫자 1개` **뽑아내기(a와 b둘다 포함됨)**\n",
                "    - (1, 1000) : 1부터 1000까지의 수중 균등분포(uniform dist, 모두 확률이 같음.)로 난수를 만듬.\n",
                "    - **np.random.`rand(m,n)` :** **0 ~ 1사이의 균일분포**  난수 `matrix array`(m,n) 생성\n",
                "    - **np.random.`randn(m,n)` :** **평균0, 표준편차1의 가우시안 `표준정규분포`** 난수를 `matrix array`(m,n) 생성\n",
                "\n",
                "  \n",
                "\n"
            ]
        },
        {
            "cell_type": "code",
            "execution_count": 127,
            "metadata": {},
            "outputs": [
                {
                    "name": "stdout",
                    "output_type": "stream",
                    "text": [
                        "168\n"
                    ]
                }
            ],
            "source": [
                "import random\n",
                "\n",
                "answer = random.randint(1, 1000)\n",
                "print(answer)"
            ]
        },
        {
            "cell_type": "markdown",
            "metadata": {},
            "source": [
                "### 질문방법\n",
                "\n",
                "- 1~1000사이의 답에 가까워지도록 **범위를 줄여갈 수 있는 질문을 해야함**\n",
                "  - 특히 범위의 중간값으로 물어보면 빠르다. 범위를 절반으로 줄여나간다.\n",
                "\n",
                "- 좁혀나갈 때\n",
                "  - answer가 mid보다 큰쪽에 있다면? [mid+1]을 시작부터 범위를 좁히면 된다.\n",
                "    ![image-20211002202447429](https://raw.githubusercontent.com/is3js/screenshots/main/image-20211002202447429.png)\n",
                "  - answer가 mid보다 작거나 같다면? 탐색범위는 커봤자 mid가 끝이므로 [mid]를 끝으로 좁힘\n",
                "    ![image-20211002202500641](https://raw.githubusercontent.com/is3js/screenshots/main/image-20211002202500641.png)"
            ]
        },
        {
            "cell_type": "code",
            "execution_count": 129,
            "metadata": {},
            "outputs": [
                {
                    "data": {
                        "text/plain": [
                            "500"
                        ]
                    },
                    "execution_count": 129,
                    "metadata": {},
                    "output_type": "execute_result"
                }
            ],
            "source": [
                "start = 1\n",
                "end = 1000\n",
                "\n",
                "mid = (start + end) //2\n",
                "mid"
            ]
        },
        {
            "cell_type": "code",
            "execution_count": 136,
            "metadata": {},
            "outputs": [
                {
                    "name": "stdout",
                    "output_type": "stream",
                    "text": [
                        "start1 end1000 mid500 >>> answer92\n",
                        "start1 end500 mid250 >>> answer92\n",
                        "start1 end250 mid125 >>> answer92\n",
                        "start1 end125 mid63 >>> answer92\n",
                        "start64 end125 mid94 >>> answer92\n",
                        "start64 end94 mid79 >>> answer92\n",
                        "start80 end94 mid87 >>> answer92\n",
                        "start88 end94 mid91 >>> answer92\n",
                        "start92 end94 mid93 >>> answer92\n",
                        "start92 end93 mid92 >>> answer92\n",
                        "while not [원하는순간]:내부update 이라면, 현재 while빠져나왔을때가 정답이다.>> 92 92 92\n"
                    ]
                }
            ],
            "source": [
                "import random\n",
                "answer = random.randint(1, 1000)\n",
                "\n",
                "# 임의의 수를 찾아가는데, 그 범위는 1~1000사이라고 가정함.\n",
                "start = 1\n",
                "end = 1000\n",
                "\n",
                "# 범위를 줄여나가도록 질문할건데, 줄어드는 범위에서 시작<끝을 유지해야됨.\n",
                "# 즉, 예를 들어 [5,5]로 start == end 로 [범위가 같아질때까지, 내부에서 좁혀간다.] \n",
                "# **탐색은, index가 움직일 때는, start, end index가 같아지는 것이 정답, base case**\n",
                "#     즉, while [not start == end] -> while [start < end, 아직 안같아질때까지는] : [내부에서 좁혀간다]\n",
                "#     즉, 같아지면 끝 ==> 같아지도록 만들면서 안같아지는 동안 update\n",
                "\n",
                "# **탐색으로서, start == end로 좁혀져 정답이 될때까지, start와 end를 좁힐 것이다.**\n",
                "# **while내부에서는 계속 좁히면서 && while 조건은 아직 같아질때동안 좁힌다.**\n",
                "# **while을 빠져나오는 순간이 같아진 정답의 순간이라, 뽑아서 쓰면 된다.**\n",
                "\n",
                "while start < end :\n",
                "    # 내부에서 start == end되도록 좁혀간다.\n",
                "    mid = (start+end)//2\n",
                "    print(f\"start{start} end{end} mid{mid} >>> answer{answer}\")\n",
                "    if mid < answer :\n",
                "        start = mid+1\n",
                "    else: \n",
                "        # mid >= answer : answer가 mid에 있을수도..\n",
                "        end = mid \n",
                "# while을 빠져나왔으면 start == end으로 찾은거나 마찬가지 상황\n",
                "print(\"while not [원하는순간]:내부update 이라면, 현재 while빠져나왔을때가 정답이다.>>\",start, end, answer)"
            ]
        },
        {
            "cell_type": "markdown",
            "metadata": {},
            "source": [
                "### guesst : start, end가 옮겨다니는, 정답 answer를 찾는 숫자탐색 질문을 함수로"
            ]
        },
        {
            "cell_type": "code",
            "execution_count": 137,
            "metadata": {},
            "outputs": [],
            "source": [
                "def guess(answer, start, end):\n",
                "    while start<end:\n",
                "        mid = (start + end )//2\n",
                "        if mid<answer:\n",
                "            start = mid+1\n",
                "        else:\n",
                "            end = mid \n",
                "    # while을 빠져나오는 순간 = not [start < end] = [star == end] 같아지는 순간 = 탐색 찾은 순간\n",
                "    return start \n"
            ]
        },
        {
            "cell_type": "code",
            "execution_count": 139,
            "metadata": {},
            "outputs": [],
            "source": [
                "# 오류검사.\n",
                "# 10000개를 1~1000사이 난수를 생성한 뒤, 추측한값과 정답이 같은지 비교하자.\n",
                "# 10000개의 난수를 시도했는데도 오류가 없으면 맞는 함수임.\n",
                "start = 1\n",
                "end = 1000\n",
                "\n",
                "for _ in range(10000):\n",
                "    answer = random.randint(start, end)\n",
                "    result = guess(answer, start, end)\n",
                "\n",
                "    if answer != result :\n",
                "        print('이진탐색으로 정답을 찾지 못했습니다.', answer, result)"
            ]
        },
        {
            "cell_type": "markdown",
            "metadata": {},
            "source": [
                "### guess2 스무고개를 몇번 넘어야할까? counting도 같이해보자.\n",
                " - 현재 중간값을 이용해서 1~1000 중 탐색범위를 절반씩 줄여서, 탐색범위 1에서 정답으로 빠져나왔다.\n",
                "     - 이 때도, 같아질때까지의 횟수가 존재한다.\n",
                " - 1000 -> 500 -> 250 -> 125 -> 62 -> 31 -> 15 -> 7 -> 3 -> 1 \n",
                "     - 전진횟수 : while문을 돌면서 탐색범위를 줄인 횟수임.(9~10번 돌고, 10~11번만에 맞춘다고 함.)\n",
                "     ![image-20211002204301806](https://raw.githubusercontent.com/is3js/screenshots/main/image-20211002204301806.png)\n",
                "\n",
                "\n"
            ]
        },
        {
            "cell_type": "code",
            "execution_count": 142,
            "metadata": {},
            "outputs": [],
            "source": [
                "# while문 안에서 count을 해주면, 몇번만에 start == end로 정답을 찾았는지 알 수 있다.\n",
                "# 이번엔 찾은 숫자를 반환하지말고, <찾을때까지의 count>를 반환하게 해보자.\n",
                "# - 답은 무조건 찾는 것은 위에서 확인했다.\n",
                "def guess2(answer, start, end):\n",
                "\n",
                "    count = 0\n",
                "\n",
                "    while start<end:\n",
                "        count+=1\n",
                "        mid = (start + end )//2\n",
                "        if mid<answer:\n",
                "            start = mid+1\n",
                "        else:\n",
                "            end = mid \n",
                "\n",
                "    return count"
            ]
        },
        {
            "cell_type": "code",
            "execution_count": 146,
            "metadata": {},
            "outputs": [
                {
                    "name": "stdout",
                    "output_type": "stream",
                    "text": [
                        "9\n",
                        "9\n",
                        "10\n",
                        "10\n",
                        "10\n"
                    ]
                }
            ],
            "source": [
                "print(guess2(500, 1, 1000)) # 중간값에 걸린 경우 9번만에 찾고\n",
                "print(guess2(750, 1, 1000)) # 중간값에 걸린 경우 9번만에 찾고\n",
                "print(guess2(700, 1, 1000)) # 중간값에 안걸리면 10번이 걸린다. 1024 -> 탐색범위:1가지 가야됨. 2**10 -> 2**0 : 1번 후진\n",
                "print(guess2(10, 1, 1000))\n",
                "print(guess2(1, 1, 1000))"
            ]
        },
        {
            "cell_type": "code",
            "execution_count": 150,
            "metadata": {},
            "outputs": [
                {
                    "name": "stdout",
                    "output_type": "stream",
                    "text": [
                        "1 1 범위에 따른 1000개 test시 maxcount: 0 1\n",
                        "1 2 범위에 따른 1000개 test시 maxcount: 1 2\n",
                        "1 4 범위에 따른 1000개 test시 maxcount: 2 4\n",
                        "1 8 범위에 따른 1000개 test시 maxcount: 3 8\n",
                        "1 16 범위에 따른 1000개 test시 maxcount: 4 16\n",
                        "1 32 범위에 따른 1000개 test시 maxcount: 5 32\n",
                        "1 64 범위에 따른 1000개 test시 maxcount: 6 64\n",
                        "1 128 범위에 따른 1000개 test시 maxcount: 7 128\n",
                        "1 256 범위에 따른 1000개 test시 maxcount: 8 256\n",
                        "1 512 범위에 따른 1000개 test시 maxcount: 9 512\n",
                        "1 1024 범위에 따른 1000개 test시 maxcount: 10 1024\n",
                        "1 2048 범위에 따른 1000개 test시 maxcount: 11 2048\n",
                        "1 4096 범위에 따른 1000개 test시 maxcount: 12 4096\n",
                        "1 8192 범위에 따른 1000개 test시 maxcount: 13 8192\n",
                        "1 16384 범위에 따른 1000개 test시 maxcount: 14 16384\n",
                        "1 32768 범위에 따른 1000개 test시 maxcount: 15 32768\n",
                        "1 65536 범위에 따른 1000개 test시 maxcount: 16 65536\n",
                        "1 131072 범위에 따른 1000개 test시 maxcount: 17 131072\n",
                        "1 262144 범위에 따른 1000개 test시 maxcount: 18 262144\n",
                        "1 524288 범위에 따른 1000개 test시 maxcount: 19 524288\n",
                        "1 1048576 범위에 따른 1000개 test시 maxcount: 20 1048576\n"
                    ]
                }
            ],
            "source": [
                "# guess2를 이용해서, 탐색범위를 1~1000이 아니라 1~ end를 늘려서 확인해보자.\n",
                "\n",
                "start = 1\n",
                "for n in range(21):\n",
                "    # end가 달라진다.(1~21 + for문 속 2**n로 기하급수적으로 커진다.)\n",
                "    end= 2 ** n\n",
                "    # 탐색범위커짐에 따라, 1000개를 조사해보면, 해당 탐색범위에서의 maxcount가 정해질 거싱다. \n",
                "    maxcount = 0\n",
                "    for _ in range(1000):\n",
                "        answer = random.randint(start, end)\n",
                "        count = guess2(answer, start, end)\n",
                "        maxcount = max(maxcount, count)\n",
                "        # if maxcount < count:\n",
                "            # maxcount = count \n",
                "    # 현재 end가 2의 n승이라.. 중간값에 걸린 경우라치고 1번 빨리 찾아서 최대값 찾는 것은 딱히 의미가 없긴 하다.\n",
                "    print(start, end,\"범위에 따른 1000개 test시 maxcount:\", maxcount, 2**n)\n",
                "\n",
                "\n",
                "    \n",
                "\n"
            ]
        },
        {
            "cell_type": "markdown",
            "metadata": {},
            "source": [
                "#### 질문 횟수(maxcount)는 end범이에 따라 달라진다.\n",
                "![image-20211002211842395](https://raw.githubusercontent.com/is3js/screenshots/main/image-20211002211842395.png)\n",
                "- 만약 범위가`[1, 2**n]`이라면, 이진탐색의 maxcount는 n번, `질문도 n번 필요`하다.\n",
                "    - **답을 찾는다.== 탐색범위가 start == end로 1개의 탐색범위만 남는다.**\n",
                "    - **어떤 무엇을 찾을 때, 절반씩 탐색범위를 줄이는 방법 사용한다면,**\n",
                "        - `lg2(N)`번 만큼의 횟수로 답을 찾을 수 있다.\n",
                "        - 분할정복 = Divide and Conquer의 문제다"
            ]
        },
        {
            "cell_type": "markdown",
            "metadata": {},
            "source": [
                "### 연습문제: 계란 낙하실험 문제\n",
                "![image-20211002212219029](https://raw.githubusercontent.com/is3js/screenshots/main/image-20211002212219029.png)\n",
                " - Q.어느 층에서 떨어트리면, 계란이 깨지기 시작하는데, 그 층은 어디일까? `1~n 중에 임의의수T 를 깨짐/안깨짐의 계란 n개로 판단(계란을 중간값마다 던져보기)`\n",
                "     - 몇개의 계란이 필요할까? \n",
                "         - 중앙값마다 던져서 찾아나가기! -> log2(n)개가 필요하다.\n",
                "         - **[1,n]까지 T층를 찾는다면, 이진탐색으로 `처음에 가운데가서 떨궈보는 것`으로 찾기 시작해야한다.**\n",
                "         - 계란 수(목숨수) = 질문 수 = ???중앙값마다 던져서 1개 층이 남을때까지 필요한 갯수 \n",
                "             - 1~n까지라면.. n=2\\*\\*k승이라 쳤을 때, k == log2(n)개 계란, 목숨, 질문이 필요함.\n",
                "             - [1, `2**k`]시 이진탐색 k번 필요 -> `2**k` == n -> lg2(n)번 이진탐색 필요\n",
                "\n",
                "![image-20211002212836865](https://raw.githubusercontent.com/is3js/screenshots/main/image-20211002212836865.png)\n",
                "\n",
                " - 계란이 하나밖이라면?\n",
                "     - lg2(n)번을 중간마다 가서 떨궈보는 식으로 하면 계란이 많이 필요하다.\n",
                " - 계란이 최대 몇개 필요할까??\n",
                "     - lg2(n)??\n",
                "     - **떨군 계란이 안깨질 수도 있으므로 목숨=질문=계란이 아껴진다.**\n",
                " - 계란이 2개라면?\n",
                "     - 1번은 깨져도 괜찮다... 그것을 이용해서 안깨지도록 계속 시도해야한다."
            ]
        },
        {
            "cell_type": "markdown",
            "metadata": {},
            "source": [
                "## 계란낙하실험"
            ]
        },
        {
            "cell_type": "markdown",
            "metadata": {},
            "source": [
                "### 계란 낙하실험 문제\n",
                "\n",
                "- `1~n` 중 임의의 수 `T`를 찾는 문제다\t\n",
                "\n",
                "  - 스무고개(이진탐색의 최악의상황)시에는 중앙값마다 비교하는 질문이 최대 `lg2(n)`개 필요했다.\n",
                "\n",
                "  - **`1~T-1`까지는 계란이 안깨지는 옵션 = 질문을 안던진 것과같은 옵션이 추가**되었다.\n",
                "\n",
                "    ![image-20211003204128983](https://raw.githubusercontent.com/is3js/screenshots/main/image-20211003204128983.png)\n",
                "\n",
                "  - 계란이 깨지는 최소의높이 T를 구해야한다.\n",
                "\n",
                "\n",
                "\n",
                "- 문제는 여러 개가 나올 수 있다.\n",
                "\n",
                "  ![image-20211003204245640](https://raw.githubusercontent.com/is3js/screenshots/main/image-20211003204245640.png)\n"
            ]
        },
        {
            "cell_type": "markdown",
            "metadata": {},
            "source": [
                "#### 깨질 것인가? 안 깨질 것인가?부터 설계\n",
                " - mid등의 변수를 answer와 비교하는 대신, isSafe()함수를 가지고 비교하게 된다.\n",
                " - 계란이 1개일 경우, 1층부터 올라가면서 지속적으로 깨지냐? 안깨지냐?를 판단해야하므로 함수로 만들어야한다."
            ]
        },
        {
            "cell_type": "code",
            "execution_count": 153,
            "metadata": {},
            "outputs": [],
            "source": [
                "# 1-n중에 아무거나 하나를 T로 가정함.\n",
                "import random \n",
                "\n",
                "n = 100\n",
                "answer = random.randint(1,n) # 만약 T가 75가 나왔다면? 1-74까지 안깨짐. 75-100까지 깨짐\n",
                "# 우리는 answer를 찾아야한다.\n",
                "\n",
                "\n",
                "# 1. 어떤 수(중간값?)을 줬을 때, 깨지는지 안깨지는지 부터 판단되어야한다.\n",
                "def isSafe(height):\n",
                "    if height < answer:\n",
                "        return True \n",
                "    else: \n",
                "        return False"
            ]
        },
        {
            "cell_type": "markdown",
            "metadata": {},
            "source": [
                "#### 계란이 하나인 경우? (1부터 순차탐색, sequential search)\n",
                " - **계란이 1개다? `스무고개(중간값으로 범위줄이는 이진탐색 최악상황)`를 못한다. `질문`을 못던짐.** \n",
                "    - 접근방식이 달라진다\n",
                " - **제일 낮은층부터 +1씩 올라가면서 떨어뜨리며, 깨지는 순간이 정답임.**\n",
                "    - 시간은 오래 걸리지만 깨지는 순간이.. 정답이된다.\n",
                "\n",
                "![image-20211003205328240](https://raw.githubusercontent.com/is3js/screenshots/main/image-20211003205328240.png)\n",
                "![image-20211003205333882](https://raw.githubusercontent.com/is3js/screenshots/main/image-20211003205333882.png)\n",
                "\n",
                "![image-20211003205340107](https://raw.githubusercontent.com/is3js/screenshots/main/image-20211003205340107.png)\n",
                "\n",
                "\n"
            ]
        },
        {
            "cell_type": "code",
            "execution_count": 154,
            "metadata": {},
            "outputs": [
                {
                    "name": "stdout",
                    "output_type": "stream",
                    "text": [
                        "72 72\n"
                    ]
                }
            ],
            "source": [
                "# 계란1개: answer값까지 for문으로 1부터 1칸씩 올라가면서, 깨지냐?를 판단하면 된다. 깨지는 순간의 height가 정답이다.\n",
                "# 제한범위로 n을 인자로 받는다.\n",
                "def eggDrop1(n):\n",
                "    for height in range(1, n+1):\n",
                "        if not isSafe(height):\n",
                "            return height \n",
                "\n",
                "# n = 100\n",
                "print(answer, eggDrop1(n))"
            ]
        },
        {
            "cell_type": "markdown",
            "metadata": {},
            "source": [
                "#### 계란이 많은 경우?(스무고개와 비슷 but 종착역이 다름)\n",
                "- **`요약` : 이제는 [start==end같아서 찾는것의 직전]까지만 가고 싶은 것이 원하는 조건일 때(계란낙하실험):  [while not 원하는조건]  == [ while (start+1) < end ]: start에서 한칸 더 간것이 end가 될때까지 돌림. + start는 answer가 될 수없게끔  update시킴. -> `[start][end]`상태로 끝나서 [end]가 answer가 됨.** \n",
                "  - start는 안깨진 상태를 유지하면서 좁히고, end는 깨지는 상태를 유지하면서 좁혀야 [start안깨짐][+1= end깨짐]으로 만날 수 있다.\n",
                "\n",
                "- 막 던져도 된다면, 질문을 많이 할 수 있다면, **컴퓨터로는 그 횟수를 최소로 하기 위해서 `중앙값 스무고개(속 이진탐색)`**을 쓴다.\n",
                "  - 계란 1개의 경우, 1부터.. T까지 T번을.. 실험해야함.(그중 T-1까지는 안전해야함)\n",
                "\n",
                "\n",
                "\n",
                "- 계란이 많은 경우, n을 받아서 1~n까지 중 T를 탐색하는 것이니 **스무고개**로 찾아간다.\n",
                "\n",
                "  - **스무고개와 비슷하지만, 찾는 index가 좀 달라진다.**\n",
                "\n",
                "    ![image-20211003210716038](https://raw.githubusercontent.com/is3js/screenshots/main/image-20211003210716038.png)\n",
                "    ![image-20211003210722107](https://raw.githubusercontent.com/is3js/screenshots/main/image-20211003210722107.png)\n",
                "\n",
                "- **스무고개는 1개의 값을 정확하게 맞추기 위해 start==end(이진탐색최악상황)이 정답인 순간이지만**\n",
                "\n",
                "  - 계란 낙하실험은 **`start+1` == `end`가 종착역으로**\n",
                "    - while start+1  < end : 내부 좁히기 -> 나와서는 `start+1 == end`인 순간이며, **`end`가 answer(T)인 상태다**\n",
                "      - `start` 와 `end`가 붙기전에,  **`start+1` == `end`가 되어버리면, `start는 안깨지는 자리`가 될 수 있다.**\n",
                "      - **해석으로서는**, start와 end가 같아져서 찾는게 아니라,  그 1칸 전으로서 **`start에서 한칸 더 간 것`이 `end가 되는 순간`까지** : while not(직전까지) start+1 == end: 내부 좁아지기 -> while (start+1) < end\n",
                "        - 굳이 start==end가 되도록,  start = mid를 통한 update를 안시켜도된다. 계란낭비X\n",
                "\n",
                "  - **`start에서 한칸 더 간 것이 end가 될때까지`** 진행하는 방법을 쓰자.\n",
                "    - while을 빠져나온 순간 end == start+1로서, \n",
                "      - start: 계란깨지기 직전\n",
                "        - 굳이 start==end가 되도록,  start = mid+1를 통한 update를 굳이 안시켜도된다. 계란낭비X \n",
                "          - 이진탐색, 스무고개에서는 update시켜서 start==end가 되어야 답이고, 그 답을 꺼내야하므로 괜춘. 여기서는 깨트릴 필요X\n",
                "            - 추가로 이 때, answer의 앞에 위치할 start는 아예 닿지 못하게 start update도 **가능범위-1(`start = mid`)로 안전하게 간다.**\n",
                "              - 원래는(start <= ) mid < answer <= n일 경우\n",
                "                - `start = mid+1`로 땡겨서 **start에가 mid일 수 있게끔 했는데**\n",
                "                - `start = end`로, **애초부터 start는 answer에 닿을 수 없게 update**\n",
                "      - end: 계란깨지기 시작하는 answer\n",
                "        - return end"
            ]
        },
        {
            "cell_type": "code",
            "execution_count": 158,
            "metadata": {},
            "outputs": [
                {
                    "name": "stdout",
                    "output_type": "stream",
                    "text": [
                        "72 72\n"
                    ]
                }
            ],
            "source": [
                "# 스무고개, 이진탐색과 달리 answer를 이제 직접사용하질 않는다.\n",
                "# 이제 answer vs mid 비교를.. isSafe를 가지고 한다.\n",
                "# 1) if isSafe(mid): mid일때 안깨진다:  mid < answer 인 상태\n",
                "# 2) else: mid일때 깨진다: >= answer인 상태\n",
                "\n",
                "\n",
                "# **`요약` : 이제는 [start==end같아서 찾는것의 직전]까지만 가고 싶은 것이 원하는 조건일 때(계란낙하실험):  [while not 원하는조건]  == [ while (start+1) < end ]: start에서 한칸 더 간것이 end가 될때까지 돌림. + start는 answer가 될 수없게끔  update시킴. -> `[start][end]`상태로 끝나서 [end]가 answer가 됨.**\n",
                "\n",
                "\n",
                "def eggDrop2(n):\n",
                "    start = 1\n",
                "    end = n\n",
                "    while (start+1) < end :\n",
                "        mid = (start + end )//2\n",
                "        # new)중간층에서 낙하실험한다\n",
                "        # 이제 answer vs mid 비교를.. isSafe를 가지고 한다.\n",
                "        # new) 안깨졌다면? [그것을 start로하여 안전확보후] 그것보다 위에서 낙하실험한다.\n",
                "        if isSafe(mid): # mid < answer <= n 상태\n",
                "            #스무고개, 이진탐색: start = mid+1 으로 update하여, start가 answer와 같아질 수도 있게끔.\n",
                "            # **start는 아예 mid에 안닫도록 update도 조심한다.**\n",
                "            # new) start는 항상 안깨지는 위치를 유지해야한다. start는 안깨지고/ ends는 깨지고 -> [start][end=start+1]의 형태로 간다. 그래야 [end]가 답이 된다.\n",
                "            # new) 깨질지도 모르는 m+1부터 실험하지말고, 확실히 안깨지는 mid부터 실험하자. \n",
                "            start=mid \n",
                "\n",
                "        # new) mid에서 깨졌다면? 그것보다 아래에서 낙하실험한다. 그 mid가 정답이어서 깨지는 최소의 높이일 수도 있으며\n",
                "        #      end를 mid로 땡겨온다.\n",
                "        # new) start는 안깨진 상태를 유지하면서 좁히고, end는 깨지는 상태를 유지하면서 좁혀야 [start안깨짐][+1= end깨짐]으로 만날 수 있다.\n",
                "        else: # answer<= mid <= n 상태\n",
                "            end = mid\n",
                "    # 다돌고나면, start에서 1칸 더 간 것이 end로 [start][end]로 좁혀졌고, \n",
                "    # [start]는 answer에 닿을수 없으니 [end]가 answer다.\n",
                "    return end\n",
                "\n",
                "\n",
                "n=100\n",
                "print(answer, eggDrop2(n))\n"
            ]
        },
        {
            "cell_type": "markdown",
            "metadata": {},
            "source": [
                "### 계란 많을 때, [start][end] 최종형태의 이진탐색의 필요 계란(질문)갯수는?\n",
                "\n",
                "\n",
                "- 1~n까지 이정배에서\n",
                "\n",
                "  - 임의의 값을 찾아 들어갔을 때, 절반씩 쪼개어 들어가면\n",
                "\n",
                "    - n 개 남음 > n/2 개 남음 > ... >  n/2^k 개남음\n",
                "      - 최종적으로 **n / (2^k) == 1개남아서 정답**이 될때까지 필요한 질문의 갯수는 **k**다\n",
                "      - k = `lg2(n)`개\n",
                "\n",
                "    ![image-20211005165325500](https://raw.githubusercontent.com/is3js/screenshots/main/image-20211005165325500.png)\n",
                "\n",
                "  \n",
                "\n"
            ]
        },
        {
            "cell_type": "code",
            "execution_count": 159,
            "metadata": {},
            "outputs": [
                {
                    "name": "stdout",
                    "output_type": "stream",
                    "text": [
                        "72 7\n"
                    ]
                }
            ],
            "source": [
                "def countEggDrop2(n):\n",
                "    start = 1\n",
                "    end = n\n",
                "    count = 0 # 횟수 카운트\n",
                "    while (start+1) < end :\n",
                "        mid = (start + end )//2\n",
                "        if isSafe(mid): \n",
                "            start=mid \n",
                "        else: \n",
                "            end = mid\n",
                "        count+=1\n",
                "    # 답 end대신 count를 반환\n",
                "    return count\n",
                "\n",
                "\n",
                "n=100\n",
                "print(answer, countEggDrop2(n))"
            ]
        },
        {
            "cell_type": "code",
            "execution_count": 161,
            "metadata": {},
            "outputs": [
                {
                    "name": "stdout",
                    "output_type": "stream",
                    "text": [
                        "2 0\n",
                        "4 2\n",
                        "8 3\n",
                        "16 4\n",
                        "32 5\n",
                        "64 6\n",
                        "128 7\n",
                        "256 8\n",
                        "512 9\n",
                        "1024 10\n",
                        "2048 11\n",
                        "4096 12\n",
                        "8192 13\n",
                        "16384 14\n",
                        "32768 15\n",
                        "65536 16\n",
                        "131072 17\n",
                        "262144 18\n",
                        "524288 19\n",
                        "1048576 20\n"
                    ]
                }
            ],
            "source": [
                "# 횟수를 구할 줄 아니, end변화에 따른 그 횟수 중 최대값을 1000개가지고 테스트\n",
                "for i in range(1, 21):\n",
                "    maxcount = 0\n",
                "    end = 2**i \n",
                "\n",
                "    maxcount=float('-inf')\n",
                "\n",
                "    for _ in range(1000):\n",
                "        answer = random.randint(1, end)\n",
                "        count = countEggDrop2(end) # isSafe()필요. 그 내부의 answer도 필요..\n",
                "        maxcount = max(maxcount, count)\n",
                "    print(end, maxcount)\n"
            ]
        },
        {
            "cell_type": "markdown",
            "metadata": {},
            "source": [
                "### 계란이 2개 뿐이라면?\n",
                "- 계란이 2개가 있다면?\n",
                "\n",
                "  - **계란이 많다? -> 최대한 빨리 찾는게 `이진탐색`**의 `lg2(N)`만에 찾을 수 있다.\n",
                "  - **계란 1개 뿐?** -> **`순차탐색`**으로  `T(1<= <=N)번`만에 찾을  수 있다.\n",
                "\n",
                "  ![image-20211005170203253](https://raw.githubusercontent.com/is3js/screenshots/main/image-20211005170203253.png)\n",
                "\n",
                "\n",
                "\n",
                "\n",
                "\n",
                "- 힌트\n",
                "\n",
                "  - n  = 1~100이라고 가정한다.\n",
                "\n",
                "    - **2번째는 실패할 수 없으니, 2번재부터는 `순차탐색`해야한다**\n",
                "\n",
                "      - **그렇다면 순차탐색을 하기 위한 최소의 갯수를 찾아야하는데, 그것도 순차탐색으로 찾아내야한다고 한다.**\n",
                "\n",
                "      - 즉, 2번의 순차탐색이 필요한데\n",
                "        ![image-20211005170418627](https://raw.githubusercontent.com/is3js/screenshots/main/image-20211005170418627.png)\n",
                "\n",
                "        - n에다가 **계란이 2개니까 sqrt루트를** 씌운 다음, 그것을 단위로해서, **`첫번째 계란`을 각 단위마다 올라가면서 떨어뜨려본다.**\n",
                "\n",
                "          ![image-20211005170451198](https://raw.githubusercontent.com/is3js/screenshots/main/image-20211005170451198.png)\n",
                "\n",
                "          \n",
                "\n",
                "        - 만약, 첫번째 계란이 20층에서는 안깨졌는데, 30층에선 깨졌다? **`2번째 계란`은 20층~29층까지 10번만 테스트해보면 된다.**\n",
                "          ![image-20211005170634415](https://raw.githubusercontent.com/is3js/screenshots/main/image-20211005170634415.png)\n",
                "\n",
                "          \n",
                "\n",
                "- 즉, 루트를 씌워서 1차적으로 범위를 좁힌다. \n",
                "\n",
                "  - 전체범위에서 루트를 씌우면, 범위의 **간격**이 루트n , 그 **갯수**가 루트n개가 된다.\n",
                "\n",
                "    - 시작을 루트n으로 시작하여, 루트n씩, 총 루트n번을 가면 n까지 도달하게 된다.\n",
                "\n",
                "      - 9 -> 3, 6, 9:  3씩 3번만에 도달\n",
                "      - 100 -> 10, 20, ... , 90, 100 : 10씩 10번만에 도달\n",
                "\n",
                "      ![image-20211005171019703](https://raw.githubusercontent.com/is3js/screenshots/main/image-20211005171019703.png)\n",
                "\n",
                "  - 이제 깨질때까지 루트n번을 떨어뜨려보는데,\n",
                "    **깨지는 순간 -> 그 직전구간시작~부터 루트n의 구간만 찾아보면 된다.**\n",
                "\n",
                "    - 30에서 최초 깨졌다? -> 21~30의 10개 구간에서 깨지는 순간을 찾으면 된다.\n",
                "      - 29도 안깨지면? 최악의 경우라서 9번만에 찾은 것\n",
                "\n",
                "  - 전체 최악의 순간은?\n",
                "\n",
                "    - 100에서 찾는 순간이라 치면\n",
                "      - 첫번째 루트n구간별로 10, 20, .. 90, 100 **10(루트n)번 돔**\n",
                "      - 91부터 또다시 셈 -> **99까지 9번만에 찾음**\n",
                "        - 19번임.. 근데, 확실하게 실험하기 위해서 **100에 떨어뜨려 깨트려, 10번만에 찾음**\n",
                "      - **최악이 경우, 루트n으로 구간찾고** + **구간내 루트n번만에 찾음** \n",
                "        - **`2* 루트(n)`번이 최악의 경우임**\n",
                "\n",
                "- my) **밑에서부터 찾으므로 안깨지니 2개로도 이렇게 탐색이 가능하다.!!**\n",
                "\n"
            ]
        },
        {
            "cell_type": "code",
            "execution_count": 167,
            "metadata": {},
            "outputs": [
                {
                    "name": "stdout",
                    "output_type": "stream",
                    "text": [
                        "71 71\n"
                    ]
                }
            ],
            "source": [
                "import math\n",
                "\n",
                "def twoEggDrop(n):\n",
                "    sqrt_n = math.floor( math.sqrt(n)) # 루트(n)의 정수값 : 첫번째 탐색할 구간단위가 됨.\n",
                "    \n",
                "    for height1 in range( sqrt_n, n+1, sqrt_n ):\n",
                "        # 첫번재 계란이 깨지는 순간의 height1에서 빠져나옴.\n",
                "        if not isSafe(height1):\n",
                "            break\n",
                "\n",
                "    # 현재height1은 깨지는 순간의 구간시작값임. -> 그 직전구간 시작부터~ 2번째 계란을 던져 깨지는 순간 빠져나온다.\n",
                "    # 30에서 깨짐 -> 20이 아닌 21부터 29(30-1) 까지+1씩 깨지나 찾음.\n",
                "    for height2 in range(height1 - sqrt_n + 1, height1):\n",
                "        if not isSafe(height2):\n",
                "            # 2번째 계란이 깨지는 순간이 height2이며 이것을 반환해서 끝낸다.\n",
                "            return height2\n",
                "\n",
                "\n",
                "n=100\n",
                "answer=random.randint(1, n)\n",
                "print(answer, twoEggDrop(100))"
            ]
        },
        {
            "cell_type": "markdown",
            "metadata": {},
            "source": [
                "### 2개 계란으로 세는 동안 깨지는건 2번인데, 던지는, 질문의 횟수는"
            ]
        },
        {
            "cell_type": "code",
            "execution_count": 171,
            "metadata": {},
            "outputs": [
                {
                    "name": "stdout",
                    "output_type": "stream",
                    "text": [
                        "1 2\n",
                        "2 3\n",
                        "3 4\n",
                        "4 5\n",
                        "5 6\n",
                        "6 7\n",
                        "7 8\n",
                        "8 9\n",
                        "9 10\n",
                        "10 11\n",
                        "11 3\n",
                        "12 4\n",
                        "13 5\n",
                        "14 6\n",
                        "15 7\n",
                        "16 8\n",
                        "17 9\n",
                        "18 10\n",
                        "19 11\n",
                        "20 12\n",
                        "21 4\n",
                        "22 5\n",
                        "23 6\n",
                        "24 7\n",
                        "25 8\n",
                        "26 9\n",
                        "27 10\n",
                        "28 11\n",
                        "29 12\n",
                        "30 13\n",
                        "31 5\n",
                        "32 6\n",
                        "33 7\n",
                        "34 8\n",
                        "35 9\n",
                        "36 10\n",
                        "37 11\n",
                        "38 12\n",
                        "39 13\n",
                        "40 14\n",
                        "41 6\n",
                        "42 7\n",
                        "43 8\n",
                        "44 9\n",
                        "45 10\n",
                        "46 11\n",
                        "47 12\n",
                        "48 13\n",
                        "49 14\n",
                        "50 15\n",
                        "51 7\n",
                        "52 8\n",
                        "53 9\n",
                        "54 10\n",
                        "55 11\n",
                        "56 12\n",
                        "57 13\n",
                        "58 14\n",
                        "59 15\n",
                        "60 16\n",
                        "61 8\n",
                        "62 9\n",
                        "63 10\n",
                        "64 11\n",
                        "65 12\n",
                        "66 13\n",
                        "67 14\n",
                        "68 15\n",
                        "69 16\n",
                        "70 17\n",
                        "71 9\n",
                        "72 10\n",
                        "73 11\n",
                        "74 12\n",
                        "75 13\n",
                        "76 14\n",
                        "77 15\n",
                        "78 16\n",
                        "79 17\n",
                        "80 18\n",
                        "81 10\n",
                        "82 11\n",
                        "83 12\n",
                        "84 13\n",
                        "85 14\n",
                        "86 15\n",
                        "87 16\n",
                        "88 17\n",
                        "89 18\n",
                        "90 19\n",
                        "91 11\n",
                        "92 12\n",
                        "93 13\n",
                        "94 14\n",
                        "95 15\n",
                        "96 16\n",
                        "97 17\n",
                        "98 18\n",
                        "99 19\n",
                        "100 20\n"
                    ]
                }
            ],
            "source": [
                "import math\n",
                "\n",
                "def countTwoEggDrop(n):\n",
                "\n",
                "    count = 0\n",
                "    sqrt_n = math.floor( math.sqrt(n)) \n",
                "    \n",
                "    for height1 in range( sqrt_n, n+1, sqrt_n ):\n",
                "        count+=1\n",
                "        if not isSafe(height1):\n",
                "            break\n",
                "\n",
                "    for height2 in range(height1 - sqrt_n + 1, height1+1): # 마지막을 height로하면, 구간에 서 걸려서..끝나버림?\n",
                "        count+=1\n",
                "        if not isSafe(height2):\n",
                "            return count  # 찾은 높이가 아니라 count 반환\n",
                "\n",
                "\n",
                "n=100\n",
                "answer=random.randint(1, n)\n",
                "\n",
                "# answer위치에 따른, 계란2개로 발견에 필요한 질문 횟수\n",
                "for answer in range(1, 101):\n",
                "    print(answer, countTwoEggDrop(100))"
            ]
        },
        {
            "cell_type": "markdown",
            "metadata": {},
            "source": [
                "## 이차원 배열과 마방진"
            ]
        },
        {
            "cell_type": "markdown",
            "metadata": {},
            "source": [
                "- 마방진: 행, 열, 대각선 숫자의 합이 모두 같은 정방(정사각형) 행렬\n",
                "\n",
                "  ![image-20211023104432477](https://raw.githubusercontent.com/is3js/screenshots/main/image-20211023104432477.png)\n",
                "\n",
                "  - 가로행 합: 33\n",
                "\n",
                "  - 세로행 합: 33\n",
                "\n",
                "  - 대각선 2개의 합: 33\n",
                "\n",
                "    ![image-20211023104505515](https://raw.githubusercontent.com/is3js/screenshots/main/image-20211023104505515.png)\n",
                "\n",
                "\n",
                "\n",
                "\n",
                "\n",
                "### 마방진의 확인 checkMagic\n",
                "\n",
                "- **2차원 list의 행렬을 이쁘게 출력**할 때는, print() 자체는 1줄로 나오니, **각 row별로 print**해줘야한다.\n",
                "\n"
            ]
        },
        {
            "cell_type": "code",
            "execution_count": 8,
            "metadata": {},
            "outputs": [],
            "source": [
                "magicSquare = [\n",
                "    [1, 14, 14, 4],\n",
                "    [11, 7, 6, 9],\n",
                "    [8, 10, 10, 5],\n",
                "    [13, 2, 3, 15],\n",
                "]"
            ]
        },
        {
            "cell_type": "code",
            "execution_count": 2,
            "metadata": {},
            "outputs": [
                {
                    "name": "stdout",
                    "output_type": "stream",
                    "text": [
                        "[[1, 14, 14, 4], [11, 7, 6, 9], [8, 10, 10, 5], [13, 2, 34, 15]]\n"
                    ]
                }
            ],
            "source": [
                "print(magicSquare)"
            ]
        },
        {
            "cell_type": "code",
            "execution_count": 3,
            "metadata": {},
            "outputs": [
                {
                    "name": "stdout",
                    "output_type": "stream",
                    "text": [
                        "[1, 14, 14, 4]\n",
                        "[11, 7, 6, 9]\n",
                        "[8, 10, 10, 5]\n",
                        "[13, 2, 34, 15]\n"
                    ]
                }
            ],
            "source": [
                "# len(행렬) : 행의 갯수 n\n",
                "# range(len(행렬)): 행의 갯수가 n개면, 0부터 n-1까지 row index로 받아볼 수 있음\n",
                "# * 정방행렬이고, 행의 갯수가 n개면, 0부터 n-1까지 col index를 의미하기도 한다.\n",
                "for i in range(len(magicSquare)):\n",
                "    print(magicSquare[i])\n"
            ]
        },
        {
            "cell_type": "markdown",
            "metadata": {},
            "source": [
                "#### checkRow(square) 행별 합 확인"
            ]
        },
        {
            "cell_type": "code",
            "execution_count": 9,
            "metadata": {},
            "outputs": [],
            "source": [
                "# 각 row별 합을 <row별,  각 원소[row][col]들의 누적합을 구한 뒤 출력해서, row개별 누적합을 출력>\n",
                "def checkRow(square):\n",
                "    # 여기선 range(len())이 행인덱스\n",
                "    for row in range(len(square)):\n",
                "        # 각 행마다(위쪽 for) ??들(아래쪽for)의 누적합을 기록\n",
                "        sum = 0\n",
                "        # 여기선 range(len())이 열인덱스 -> 각행마다, 각 요소by[row][col]의 누적합을 기록함.\n",
                "        for col in range(len(square)):\n",
                "            sum += square[row][col]\n",
                "        # 각 행마다의 요소누적합을 출력함. 행1누적 행2누적 .... 식으로\n",
                "        print(sum, end= \" \")\n",
                "    print() # 다끝나고 다음줄로 넘겨놓기. end =\" \" 앞에서 사용했으면\n",
                "\n"
            ]
        },
        {
            "cell_type": "code",
            "execution_count": 13,
            "metadata": {},
            "outputs": [
                {
                    "name": "stdout",
                    "output_type": "stream",
                    "text": [
                        "33 33 33 33 \n"
                    ]
                }
            ],
            "source": [
                "checkRow(magicSquare)"
            ]
        },
        {
            "cell_type": "markdown",
            "metadata": {},
            "source": [
                "#### checkColumn(square) (행별합 통과시만) 열별 합 확인"
            ]
        },
        {
            "cell_type": "code",
            "execution_count": 11,
            "metadata": {},
            "outputs": [],
            "source": [
                "# 각 칼럼별, row들의 누적합을 출력한다.\n",
                "def checkColumn(square):\n",
                "    for col in range(len(square)):\n",
                "        sum = 0\n",
                "        for row in range(len(square)):\n",
                "            sum += square[row][col]\n",
                "        print(sum, end=\" \")\n",
                "    print()\n",
                "\n",
                "\n"
            ]
        },
        {
            "cell_type": "code",
            "execution_count": 12,
            "metadata": {},
            "outputs": [
                {
                    "name": "stdout",
                    "output_type": "stream",
                    "text": [
                        "33 33 33 33 \n"
                    ]
                }
            ],
            "source": [
                "checkColumn(magicSquare)"
            ]
        },
        {
            "cell_type": "markdown",
            "metadata": {},
            "source": [
                "#### checkDiagonal 두 대각선의 합 확인"
            ]
        },
        {
            "cell_type": "code",
            "execution_count": 80,
            "metadata": {},
            "outputs": [],
            "source": [
                "def checkDiagonal(square):\n",
                "    # 대각선은 좌상방 or 좌하방의 왼쪽에서 시작하도록 하자. \n",
                "    # 대각선도 어차피 갯수는 행 수(range(len())만큼 돈다. -> for d in range(len())\n",
                "    sum = 0\n",
                "    # 대각1. 좌상방 시작 대각선(\\): [순차적으로 내려가는데] && [행index==열index]로 뽑아내면 대각선\n",
                "    # -> 행 인덱스(range(len) -> d )를 이용해서 나타낸다 square[d][d]로 뽑아낸다.\n",
                "    # -> for 1번이면 된다. / 행index를 이용해서 나타낸다 /  그래도 +1씩 증가하는 등차수열의 index\n",
                "    for d in range(len(square)):\n",
                "        sum += square[d][d]\n",
                "    print(sum, end=\" \")\n",
                "\n",
                "    # 대각2. 좌하방 시작 대각선(/): [행이 뒤에서부터 시작 by첫항(0시작, n-1)등차(-1)] && [행index==열index]로 뽑아내면 대각선\n",
                "    # -> 행 인덱스(range(len) -> d ) == 행 수를 이용 -> 0행부터 출발한다고 생각해야한다.\n",
                "    # -> 하지만, 맨끝의 n-1 시작 / 올라가는 등차가 -1인 등차수열\n",
                "    # -> 첫시작d=0 + (-1)*d + 첫항n-1 -> (n-1) + (-d)로 뽑아버리면 된다.\n",
                "    # *my) 행index로 새로운 패턴 찾아낼 때, d=0시작의 등차수열 첫항 만들기 개념이 많이 쓰일 듯.\n",
                "\n",
                "    # 2-1) 대각선도 결국, 바깥은 0~n-1까지의 행index를 가지고 나타낸다.\n",
                "    # -> 위아래의 행은 1개씩 줄어들지만, / 좌->우로 진행되기 때문에, 왼->오른은 정상적인 d로 진행된다.\n",
                "    sum=0\n",
                "    for d in range(len(square)):\n",
                "        # 2-2) 0~n-1의 d마다 -> 행의 위치는 [첫항n-1,등차-1의 등차수열의 index]를 따른다.\n",
                "        #  - 어차피 행의 갯수만큼 요소를 뽑아내야하니 row index를 가지고 만든다.\n",
                "        # d2 = (n-1) -d\n",
                "        d2 = len(square)-1 -d \n",
                "        sum += square[d2][d]\n",
                "    print(sum, end= \" \")\n",
                "    print()\n",
                "\n"
            ]
        },
        {
            "cell_type": "code",
            "execution_count": 16,
            "metadata": {},
            "outputs": [
                {
                    "name": "stdout",
                    "output_type": "stream",
                    "text": [
                        "33 33 \n"
                    ]
                }
            ],
            "source": [
                "checkDiagonal(magicSquare)"
            ]
        },
        {
            "cell_type": "markdown",
            "metadata": {},
            "source": [
                "#### checkMagic: 행, 열, 대각선2개 통합된 마방진 확인함수 "
            ]
        },
        {
            "cell_type": "code",
            "execution_count": 81,
            "metadata": {},
            "outputs": [],
            "source": [
                "def checkMagic(square):\n",
                "    # 1. 행의합 = 열의합 = 대각선의 합이 얼마여야하는지, 그 기준을 [0번째 행의 합]으로 구해서 잡는다.\n",
                "    # -> 행의 합은 누적해서 구한다?\n",
                "    magic = 0\n",
                "    for j in range(len(square)):\n",
                "        magic += square[0][j]\n",
                "    \n",
                "    # 2. 정방행렬이라면, 행탐색(->행고정 열의합)이나 열탐색(->열고정 행의합)이나 row index로 똑같은 횟수가 돌아가니, \n",
                "    # -> 행의 합들과, 열의 합들을 동시에 구하면서 & 동시에 확인한다.\n",
                "    # * my) 정방행렬일 때, 행별탐색, 열별탐색을 동시에 -> for i for j  array[i][j], array[j][i]\n",
                "    # -> 바깥for: 각~마다(고정)  안쪽for: ~들 탐색 -> 여기선 누적합\n",
                "    for i in range(len(square)):\n",
                "        row_sum = 0\n",
                "        col_sum = 0\n",
                "        for j in range(len(square)):\n",
                "            row_sum += square[i][j]\n",
                "            col_sum += square[j][i] # i가 고정이니, 각 열별, 행탐색 -> 누적합\n",
                "        # 3. 매 행의합 / 열의합을 기준값 magic과 비교해서, 다를시 바로 탈락\n",
                "        if row_sum != magic or col_sum != magic:\n",
                "            return False\n",
                "\n",
                "    # 4. 대각선 2개 동시에 검사: 대각선은 i==j형태이며, for 1개로 구할 수 있다. in 정방행렬\n",
                "    # -> 0부터 +1 d,  d로 만든 n-1부터 -1d(d=0부터)의 행index 역순을 [i]==[j] 똑같이 주면 좌측에서 내려가거나 올라가는 대각선 뽑는 것\n",
                "    # -> 정방행렬의 열탐색, 혹은 대각선 탐색도 range(len())을 이용해서 만든다.\n",
                "    # * n-1 - d (d=0,1,..n-1) 에서 n은 len(array)로 구한다.\n",
                "    d_sum = 0\n",
                "    d2_sum = 0\n",
                "    for d in range(len(square)):\n",
                "        d2 = (len(square)-1) - d \n",
                "        d_sum += square[d][d]\n",
                "        d2_sum += square[d2][d]\n",
                "\n",
                "    if d_sum != magic or d2_sum != magic:\n",
                "        return False\n",
                "\n",
                "    # 5. 각행마다, 각열마다, 대각선 2개의 합이 magic과 같아서 통과되었다면\n",
                "    return True\n",
                "\n"
            ]
        },
        {
            "cell_type": "code",
            "execution_count": 82,
            "metadata": {},
            "outputs": [
                {
                    "data": {
                        "text/plain": [
                            "True"
                        ]
                    },
                    "execution_count": 82,
                    "metadata": {},
                    "output_type": "execute_result"
                }
            ],
            "source": [
                "checkMagic(magicSquare)"
            ]
        },
        {
            "cell_type": "markdown",
            "metadata": {},
            "source": [
                "### n x n 마방진 만들기(n:홀수라면, 모두 다른 숫자로 구성 가능)"
            ]
        },
        {
            "cell_type": "markdown",
            "metadata": {},
            "source": [
                "1. 0행의 가운데 열에 1을 채움\n",
                "2. 해당위치에서  <-왼쪽한칸, ^ 위쪽한칸 이동 후 채움 (넘어가면 반대쪽으로 이동)\n",
                "    - 이미 숫자가 차있으면 v 아래로 한칸 이동 후 채움 \n",
                "    - `막히면~ 아래쪽에 채우기~ 안막히면 왼쪽위~ 반복~`\n",
                "3. 이동하면서 2부터 3,4,5 증가하면서 1부터 n**2까지 채움\n",
                "4. 다 채우고 checkMagic에 한번 돌려보기\n",
                "\n"
            ]
        },
        {
            "cell_type": "markdown",
            "metadata": {},
            "source": [
                "\n",
                "\n",
                "\n",
                "\n",
                "![image-20211023125419199](https://raw.githubusercontent.com/is3js/screenshots/main/image-20211023125419199.png)\n",
                "\n",
                "![image-20211023125431695](https://raw.githubusercontent.com/is3js/screenshots/main/image-20211023125431695.png)\n",
                "\n",
                "![image-20211023125446486](https://raw.githubusercontent.com/is3js/screenshots/main/image-20211023125446486.png)\n",
                "\n",
                "![image-20211023125458673](https://raw.githubusercontent.com/is3js/screenshots/main/image-20211023125458673.png)\n",
                "\n",
                "![image-20211023125507506](https://raw.githubusercontent.com/is3js/screenshots/main/image-20211023125507506.png)\n",
                "\n",
                "![image-20211023125519564](https://raw.githubusercontent.com/is3js/screenshots/main/image-20211023125519564.png)\n",
                "\n",
                "![image-20211023125622271](https://raw.githubusercontent.com/is3js/screenshots/main/image-20211023125622271.png)\n",
                "\n",
                "![image-20211023125632968](https://raw.githubusercontent.com/is3js/screenshots/main/image-20211023125632968.png)\n",
                "\n",
                "![image-20211023125640512](https://raw.githubusercontent.com/is3js/screenshots/main/image-20211023125640512.png)\n",
                "\n",
                "![image-20211023125731901](https://raw.githubusercontent.com/is3js/screenshots/main/image-20211023125731901.png)\n",
                "\n"
            ]
        },
        {
            "cell_type": "markdown",
            "metadata": {},
            "source": [
                "#### makeMagicSquare(n): nxn 홀수 마방진 만들기\n",
                "\n",
                "1. 갯수가 이미 정해져있으며, 채워넣는 개념 ->  일단 0으로 다채워놓는다. \n",
                "    - 2차원 행렬은 `[ [0]* n for _ in range(n)]`으로 만든다\n",
                "    - [[0]\\*n]\\*n 시에는 shallow copy issue가 발생되어서, 2차원일때만 바깥에 \\*n으로 리스트 요소를 늘리지 말자.\n",
                "2. row는 0, col은 n//2부터 출발하도록 초기화한다.\n",
                "3. 채워넣을 수는 k로 잡고, for문을 1부터 n\\*n까지 돌린다."
            ]
        },
        {
            "cell_type": "code",
            "execution_count": 78,
            "metadata": {},
            "outputs": [],
            "source": [
                "# 내가 구현한 홀수 마방진\n",
                "def makeMagicSquare(n):\n",
                "    # 1. n x n  정방 0행렬 생성\n",
                "    square = [ [0]*n for _ in range(n)]\n",
                "\n",
                "    # * 2. 각각의 변수에 (m,n) 위치를 초기화\n",
                "    row = 0\n",
                "    col = n//2\n",
                "    # 3. 행렬을 채울 숫자(1~n**2)를 for문으로 돌음.\n",
                "    for k in range(1, n**2 +1):\n",
                "        # 4. ==== make a magic square here ====\n",
                "        #print(row, col)\n",
                "        square[row][col] = k\n",
                "        # 직전row에서 1칸위로감. but 0보다 작으면 맨 뒤루\n",
                "        row -= 1\n",
                "        # -1 -> n-1, -2 -> n-2  -k -> n-k\n",
                "        if row < 0:\n",
                "            row = (len(square) + row)\n",
                "        col -= 1\n",
                "        if col < 0:\n",
                "            col = (len(square)+(col))\n",
                "\n",
                "        \n",
                "        #print(row, col)\n",
                "        if square[row][col] != 0:\n",
                "            #다시 복구 한 뒤 한칸만 아래로 -> 복구시.. 값이 이상해질 수 있다. 또 검사해야함..\n",
                "            row+=1\n",
                "            col+=1\n",
                "            if row > len(square)-1:\n",
                "                row = row - len(square)\n",
                "            if col > len(square)-1:\n",
                "                col = col - len(square)\n",
                "            row+=1\n",
                "            if row > len(square)-1:\n",
                "                row = row - len(square)\n",
                "            #  n-> 0, n+1 -> 1 \n",
                "\n",
                "\n",
                "    return square\n",
                "\n"
            ]
        },
        {
            "cell_type": "code",
            "execution_count": 77,
            "metadata": {},
            "outputs": [
                {
                    "name": "stdout",
                    "output_type": "stream",
                    "text": [
                        "3 1 \n",
                        "2 4 \n"
                    ]
                }
            ],
            "source": [
                "for row in makeMagicSquare(2):\n",
                "    for col in row:\n",
                "        print(col, end=\" \")\n",
                "    print()"
            ]
        },
        {
            "cell_type": "code",
            "execution_count": null,
            "metadata": {},
            "outputs": [],
            "source": [
                "# 0. 일단 좌표 이동할때마다 검사하는 방식으로 이루어진다.\n",
                "\n",
                "# 1. 아이디어 공유: k가 칸을 넘어, 한칸 왼쪽(-1 index) 으로 갔다면? n-1 index로 보내야한다.\n",
                "# -> n-1자리까지 이동시켜야함 ->  (n-1)index - (-1)index 번 = n번 전진\n",
                "# * 행렬이 칸을 넘어설 경우, + n을 시켜주면 (-1)자리가 제일 끝(n-1)으로 간다.\n",
                "# [k] |0,1,2,3,4,...,n-1|\n",
                "#     |0,1,2,3,4,...,[k]|\n",
                "row -= 1\n",
                "if row <0 : row +=n \n",
                "col -= 1\n",
                "if col <0 : col +=n \n",
                "\n",
                "# * my) -1 위치를 n-1위치로 이동.  ->  index 를 +n 시키면된다.\n",
                "\n",
                "# 2. 위-1,왼-1가 차있다면? -> 아래+2,오+1로 아래를 좀 더 가야한다.\n",
                "# * my) 위,아래가 row니까 먼저 -> 왼,오른 col이니까 그다음에 표기하자.\n",
                "# - 위 왼으로 갈때, 검사해서 변환해줬으니.. 다시 갈때마다 검사를 해야한다.\n",
                "# * 위, 왼쪽으로 넘어가는 -1 자리로 가는 경우에는 [index +n]이지만,\n",
                "# * 아래, 오른쪽으로 넘어가는 n 자리로 갈 경우에는, [%n]으로 검사해준다.\n",
                "# -> 단위를 넘어 커지는 경우, 그 단위로 나눈 나머지로 변환해주면 된다.\n",
                "# |0,1,2,3,4,...,n-1|[k]    -> n index -> n으로 나눈 나머지 0 (index)\n",
                "# --> |[k],1,2,3,4,...,n-1|\n",
                "\n",
                "# |0,1,2,3,4,...,n-1| n [k] -> n+1 index -> n으로 나눈 나머지 1 (index)\n",
                "# --> |0,[k],2,3,4,...,n-1|\n",
                "if square[row][col] != 0:\n",
                "    # 아래+2칸, 오른+1칸 -> +로 넘어가는 경우에는 %n(단위)의 나머지로 변환한다.\n",
                "    row = (row+2) % n\n",
                "    col = (col+1) % n\n",
                "\n"
            ]
        },
        {
            "cell_type": "code",
            "execution_count": 83,
            "metadata": {},
            "outputs": [],
            "source": [
                "# 정답\n",
                "def makeMagicSquare(n):\n",
                "    square = [ [0]*n for _ in range(n)]\n",
                "\n",
                "    row = 0\n",
                "    col = n//2 # 시작좌표.\n",
                "    for k in range(1, n**2 +1):\n",
                "        square[row][col] = k # 선처리 후증가의 방법인듯?\n",
                "        # 좌표이동 시작===================이동시마다 검사\n",
                "        row -= 1\n",
                "        if row < 0:\n",
                "            # 음수로 넘어가는 것은 + n으로 변환시킨다.\n",
                "            row += len(square)\n",
                "        col -= 1\n",
                "        if col < 0:\n",
                "            col += len(square)\n",
                "\n",
                "        if square[row][col]!=0:\n",
                "            # row +=1\n",
                "            # col +=1\n",
                "            # row +=1\n",
                "            \n",
                "            # 양수로 넘어가는 것은 %n으로 변환시킨다.\n",
                "            # row +=2\n",
                "            # col +=1\n",
                "            # row = row%n\n",
                "            # col = col%n\n",
                "            row = (row+2)%n\n",
                "            col = (col+1)%n\n",
                "\n",
                "\n",
                "    return square"
            ]
        },
        {
            "cell_type": "code",
            "execution_count": 84,
            "metadata": {},
            "outputs": [
                {
                    "name": "stdout",
                    "output_type": "stream",
                    "text": [
                        "[15, 8, 1, 24, 17]\n",
                        "[16, 14, 7, 5, 23]\n",
                        "[22, 20, 13, 6, 4]\n",
                        "[3, 21, 19, 12, 10]\n",
                        "[9, 2, 25, 18, 11]\n",
                        "True\n"
                    ]
                }
            ],
            "source": [
                "magicSquare = makeMagicSquare(5)\n",
                "for row in magicSquare:\n",
                "    print(row)\n",
                "print(checkMagic(magicSquare))"
            ]
        },
        {
            "cell_type": "markdown",
            "metadata": {},
            "source": [
                "## 수열의합과 재귀"
            ]
        },
        {
            "cell_type": "markdown",
            "metadata": {},
            "source": [
                "\n",
                "![image-20211023220217525](https://raw.githubusercontent.com/is3js/screenshots/main/image-20211023220217525.png)\n",
                "\n",
                "### 수열의합을 수학공식 -> for+일반항의 누적합으로 풀기\n",
                "\n",
                "- 규칙 \n",
                "\n",
                "  - 앞에 것: k\n",
                "\n",
                "  - 뒤에 것: 21-k\n",
                "\n",
                "    - 일반항 : ak = k(21-k)\n",
                "\n",
                "    - 수열합: 시그마1~20 (ak)\n",
                "      ![image-20211023220502699](https://raw.githubusercontent.com/is3js/screenshots/main/image-20211023220502699.png)\n",
                "\n",
                "      - 등차수열의 합공식에 의해 계산됨\n",
                "\n",
                "        - 시그마k: 이분에 n x (n +1)\n",
                "        - 시그마K^2 : 이분에 n x (n+1) x (2n+1)\n",
                "\n",
                "        ![image-20211023220646819](https://raw.githubusercontent.com/is3js/screenshots/main/image-20211023220646819.png)\n",
                "\n"
            ]
        },
        {
            "cell_type": "code",
            "execution_count": 88,
            "metadata": {},
            "outputs": [],
            "source": [
                "def summation(n):\n",
                "    s = 0\n",
                "    # 수열의 합은, 1~n까지 돌면서 -> 일반항의 누적합을 구한다.\n",
                "    for i in range(1, n+1):\n",
                "        s += i*(21-i)\n",
                "    return s"
            ]
        },
        {
            "cell_type": "code",
            "execution_count": 89,
            "metadata": {},
            "outputs": [
                {
                    "data": {
                        "text/plain": [
                            "1540"
                        ]
                    },
                    "execution_count": 89,
                    "metadata": {},
                    "output_type": "execute_result"
                }
            ],
            "source": [
                "summation(20)"
            ]
        },
        {
            "cell_type": "markdown",
            "metadata": {},
            "source": [
                "### 수열의 합을 3가지 방법으로 풀기 "
            ]
        },
        {
            "cell_type": "markdown",
            "metadata": {},
            "source": [
                "#### sum(함수)과 일반항의 누적합(하나씩 직접더하기) 차이"
            ]
        },
        {
            "cell_type": "markdown",
            "metadata": {},
            "source": [
                "![image-20211024102943079](https://raw.githubusercontent.com/is3js/screenshots/main/image-20211024102943079.png)\n",
                "\n",
                "- 그냥 sum()을 때리면되는데, s=0에 누적합을 더하는 것과 같느냐\n",
                "\n",
                "  "
            ]
        },
        {
            "cell_type": "code",
            "execution_count": 90,
            "metadata": {},
            "outputs": [],
            "source": [
                "numbers = [36, 59, 66, 38, 78, 97, 25, 41, 29, 12]\n"
            ]
        },
        {
            "cell_type": "code",
            "execution_count": 91,
            "metadata": {},
            "outputs": [
                {
                    "data": {
                        "text/plain": [
                            "481"
                        ]
                    },
                    "execution_count": 91,
                    "metadata": {},
                    "output_type": "execute_result"
                }
            ],
            "source": [
                "# 1. 그냥 lst의 합\n",
                "sum(numbers)"
            ]
        },
        {
            "cell_type": "code",
            "execution_count": 92,
            "metadata": {},
            "outputs": [
                {
                    "name": "stdout",
                    "output_type": "stream",
                    "text": [
                        "481\n"
                    ]
                }
            ],
            "source": [
                "# 2. lst를 for로 돌면서 & 누적합\n",
                "s = 0 \n",
                "for n  in numbers:\n",
                "    s += n\n",
                "print(s)"
            ]
        },
        {
            "cell_type": "markdown",
            "metadata": {},
            "source": [
                "#### 재귀로 수열의 합 "
            ]
        },
        {
            "cell_type": "markdown",
            "metadata": {},
            "source": [
                "![image-20211024103456460](https://raw.githubusercontent.com/is3js/screenshots/main/image-20211024103456460.png)\n",
                "![image-20211024103518641](https://raw.githubusercontent.com/is3js/screenshots/main/image-20211024103518641.png)\n",
                "\n",
                "- 재귀 = **부분 문제 + 마지막항(base case)** 로 생각한다.\n",
                "  - n항까지의 합: \n",
                "    - a1+  나머지\n",
                "      - a1 + ( a2 + 나머지)\n",
                "        - a1 + (a2 + (a3 + 나머지 ))\n",
                "          - a1 + (a2 + (a3 + ... + **( an )** ))\n",
                "- my) 꼭 `An`과 `부분문제` / `a1(초항)`만 가지고 푸는게 아니라, 아래 처럼 **`A1`과 `나머지문제` / `An(마지막항)`으로도 생각한다**\n",
                "- my) index가 다른 부분문제로 취급하여,  풀었다고 치고 점화식을 완성하기.  + index가 나가는 방향의 젤 마지막항을 base case로서 탈출조건도 주기 = 재귀함수\n",
                "  - n -> n-1의 부분문제로 재귀 만든다? -> 나아가는 방향은 줄어드는 방향이므로 a0 or a1을 탈출조건으로서 주기\n",
                "  - **i -> i+1의 부분문제로 재귀 만든다?(0부터의 합 구하기 -> `i부터의 합`은 = a[i]플러스+ `i+1부터의 합`)**\n",
                "    - 나아가는 방향이 index가 커짐 -> a[end] = a[n-1] = a[len()-1]을 탈출조건으로 주기\n"
            ]
        },
        {
            "cell_type": "code",
            "execution_count": 93,
            "metadata": {},
            "outputs": [
                {
                    "name": "stdout",
                    "output_type": "stream",
                    "text": [
                        "481\n"
                    ]
                }
            ],
            "source": [
                "# 재귀함수: array의 i번째부터 끝까지의 합\n",
                "# - ex> 재귀함수(array, 0): 0번째부터 끝까지의 합 = 전체 array의 합\n",
                "def sumOfArray(array, i):\n",
                "    # bad) if초기항은 array[0]하면 되는데.. 이건..if말항은.. end가 array마다 다르니 구해야한다. end_index를 직접 구해야한다.\n",
                "    end = len(array)-1\n",
                "\n",
                "    # base case: <탈출조건> 마지막항이면, 그 값을 돌려줘야 재귀가 풀림.\n",
                "    if end == i: # i가 end와 같다 == 1개만 남은 상황 == 그 때의 끝까지의 합 -> 1개의 그대로 -> 그대로 return\n",
                "        return array[end]\n",
                "    # recursive case: 마지막항전까지는.. <i번째항+나머지> =  i번째항 + <i+1번항+나머지> **my) 풀었따고 치고, 개별항+n-1 or i+1 부분문제로 풀어준다.**\n",
                "    # * i가 end가 아니다 = i가 아직 (처음~)중간에 있다. -> 0,1,2,  i ,  n-1 -> \n",
                "    # * 앞에서 더해왔으니,, 0번째 + ( 1번째 + ( .. + (i번째 + 나머지 ))) 에서  0~i까지는 개발 항으로 이미 더해져왔다.\n",
                "    # * -> a0, .. ai까지는 개별항 -> <i+1부터 나머지>를 더해줘야하는데, <재귀함수(array, i+1)>로 풀었다고 치고 더해준다.\n",
                "    else:\n",
                "        # * 함수 sumOfArray()에서, index는 다르지만, 내부에서 다시 sumOfArray()를 호출하는 것 = 재귀함수다.\n",
                "        # * my) index가 다르게 부분문제로 취급하여 풀었다고 치고 점화식을 완성하기. = 재귀함수\n",
                "        return array[i] + sumOfArray(array, i+1)\n",
                "\n",
                "\n"
            ]
        },
        {
            "cell_type": "code",
            "execution_count": null,
            "metadata": {},
            "outputs": [],
            "source": [
                "print(sumOfArray(numbers, 0))"
            ]
        },
        {
            "cell_type": "markdown",
            "metadata": {},
            "source": [
                "#### 재귀(recursion)\n",
                " - 재귀호출 : 함수 내부에서 자기자신을 호출\n",
                "    - my) **index인자(n)로 받는 함수(`n항까지의 ~` or `i부터 끝까지의 ~`)**의 내부에서, 부분문제로서 index를 줄이거나 늘인 자신함수를 호출하며 점화식을 완성. \n",
                "    - 대신 base case 및 현재항[index]를 활용해서 점화식을 구성\n",
                " - **점화식: 재귀적 관계(recurrence relation)를 수식으로 나타낸 것**\n",
                "    - 계승(factorial)\n",
                "       - n! = n x (n-1) x ... 1: n항까지의 곱 -> **my) `n항까지의 ~ `라서 base case만 있으면 재귀의 점화식으로 표현가능**\n",
                "       - 0! = 1 -> n, n-1로 줄어드는 부분문제에 대한 base case\n",
                "       "
            ]
        },
        {
            "cell_type": "code",
            "execution_count": 95,
            "metadata": {},
            "outputs": [
                {
                    "data": {
                        "text/plain": [
                            "6"
                        ]
                    },
                    "execution_count": 95,
                    "metadata": {},
                    "output_type": "execute_result"
                }
            ],
            "source": [
                "# n항까지의 곱 = n항 x n-1까지의 곱 -> index n을 받는 재귀함수 + base case만 있다면 -> 재귀로 가능\n",
                "\n",
                "# 1. n항까지의 곱은 n-1항까지의 곱 x n항인데\n",
                "def factorial(n):\n",
                "    # 2. base case가 줄어들면서 f(1) or f(0)인 1! 이나 0!이다.\n",
                "    if n<2:\n",
                "        return 1\n",
                "    # 3. 부분문제로 점화식 완성.\n",
                "    return n * factorial(n-1)\n",
                "\n",
                "\n",
                "factorial(3)"
            ]
        },
        {
            "cell_type": "code",
            "execution_count": null,
            "metadata": {},
            "outputs": [],
            "source": [
                "# 0! 부터 10!까지 출력\n",
                "for n in range(11):\n",
                "    print(f\"{n}! = {factorial(n)}\")\n"
            ]
        }
    ],
    "metadata": {
        "interpreter": {
            "hash": "35eb882e6c79c2fb72bcb2efe18c0fb285ab95602cefe2c5e3178fef86aa3293"
        },
        "kernelspec": {
            "display_name": "Python 3.8.6 64-bit ('3.8.6': pyenv)",
            "name": "python3"
        },
        "language_info": {
            "codemirror_mode": {
                "name": "ipython",
                "version": 3
            },
            "file_extension": ".py",
            "mimetype": "text/x-python",
            "name": "python",
            "nbconvert_exporter": "python",
            "pygments_lexer": "ipython3",
            "version": "3.8.6"
        },
        "orig_nbformat": 4
    },
    "nbformat": 4,
    "nbformat_minor": 2
}
