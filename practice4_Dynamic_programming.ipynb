{
    "cells": [
        {
            "cell_type": "markdown",
            "source": [
                "## DP 문제 모아보기"
            ],
            "metadata": {}
        },
        {
            "cell_type": "markdown",
            "source": [
                "## Lv2"
            ],
            "metadata": {}
        },
        {
            "cell_type": "markdown",
            "source": [
                "### codeit) lv2 출근하는 방법2(중복부분문제->DP:tabulation)"
            ],
            "metadata": {}
        },
        {
            "cell_type": "markdown",
            "source": [
                "영훈이는 출근할 때 계단을 통해 사무실로 가는데요. 급할 때는 두 계단씩 올라가고 여유 있을 때는 한 계단씩 올라갑니다. 결국 계단을 오를 수 있는 모든 방법으로 계단을 올라갔는데요.\r\n",
                "\r\n",
                "이제 다르게 계단을 올라갈 수는 없을까 고민하던 영훈이는 특이한 방법으로 계단을 오르려고 합니다.\r\n",
                "\r\n",
                "가령 계단을 한 번에 1, 2, 4 칸씩 올라가 보는 건데요. 예를 들어서 계단을 4개를 올라가야 되면:\r\n",
                "\r\n",
                "* 1, 1, 1, 1\r\n",
                "* 2, 1, 1\r\n",
                "* 1, 2, 1\r\n",
                "* 1, 1, 2\r\n",
                "* 2, 2\r\n",
                "* 4\r\n",
                "총 5개 방법이 있네요.  \r\n",
                "\r\n",
                "함수 staircase는 파라미터로 총 계단 수 n 그리고 한 번에 올라갈 수 있는 계단 수를 possible_possible_steps로 받고, 올라갈 수 있는 방법의 수를 효율적으로 찾아서 리턴합니다.\r\n",
                "\r\n",
                "그러니까 n이 3, possible_possible_steps 가 [1, 2, 3]이면, 계단 총 3칸을 1, 2, 3칸씩 갈 수 있을 때 오르는 방법의 수를 수하는 거죠.\r\n",
                "\r\n",
                "단, possible_possible_steps에는 항상 1이 포함된다고 가정합니다\r\n",
                "```python\r\n",
                "# 높이 n개의 계단을 올라가는 방법을 리턴한다\r\n",
                "def staircase(stairs, possible_steps):\r\n",
                "    # 코드를 쓰세요\r\n",
                "\r\n",
                "print(staircase(5, [1, 2, 3]))\r\n",
                "print(staircase(6, [1, 2, 3]))\r\n",
                "print(staircase(7, [1, 2, 4]))\r\n",
                "print(staircase(8, [1, 3, 5]))\r\n",
                "```"
            ],
            "metadata": {}
        },
        {
            "cell_type": "code",
            "execution_count": 1,
            "source": [
                "# n을 n-1 n-2등으로 푼다면 -> 무조건 중복 되겠다 생각\r\n",
                "# -> 재귀(base+recursive case)가 사라지는 대신\r\n",
                "# **DP에서는 재귀-base case를 memo(dict), tabul(list)의 0, 1번째 요소로 넣어주고 시작**한다.\r\n",
                "# -정답 리스트가 모이는데, base를 모아두는 것이다.\r\n",
                "# -높이 n개의 계단을 올라가는 방법을 리턴한다\r\n",
                "def staircase(stairs, possible_steps):\r\n",
                "    # 계단 높이가 0 이거나 1 이면 올라가는 방법은 한 가지밖에 없다\r\n",
                "    # - 최적부분+중복 -> Dynamic중에 tabulation은 리스트에다가 하나씩 저장한다.\r\n",
                "    # - 기초가 되는 값은 미리 저장해놓는다.\r\n",
                "    number_of_ways = [1, 1]\r\n",
                "    \r\n",
                "    # 이 변수들을 업데이트 해주며 n 번째 계단을 오르는 방법의 수를 구한다\r\n",
                "    # - default 끝난 다음 index부터 for로 현재 n을 돌면서 \r\n",
                "    # - tabultation(list)의 채워야할 index=n 층수를 돌면서, **해당 n에서 먼저 0으로 채워주면서** 계산을 시작한다.\r\n",
                "    for height in range(2, stairs + 1):\r\n",
                "        number_of_ways.append(0)\r\n",
                "\r\n",
                "        # - 가능한 계단띔수는 점화식에서 n-1, n-2, ... n-(step)으로 작용해서 작성된다. 그 길이만큼 작성됨.\r\n",
                "        # -  (n-step)들의 누적합 -> n가지수다. 그래도.. 3층 오르는데 5step은 못가니까.. n-step >=0일 때만 누저개서더해준다.\r\n",
                "        # - 재귀처럼 tabulation[해당 인데싱]은 이미 답이 있다고가정(base채웠으니)하고 뽑기만 하면 된다.\r\n",
                "        for step in possible_steps:\r\n",
                "            # 음수 계단 수는 존재하지 않기 때문에 무시합니다\r\n",
                "            if height - step >= 0:\r\n",
                "                number_of_ways[height] += number_of_ways[height - step]\r\n",
                "\r\n",
                "    return number_of_ways[stairs]\r\n",
                "\r\n",
                "print(staircase(5, [1, 2, 3]))\r\n",
                "print(staircase(6, [1, 2, 3]))\r\n",
                "print(staircase(7, [1, 2, 4]))\r\n",
                "print(staircase(8, [1, 3, 5]))"
            ],
            "outputs": [
                {
                    "output_type": "stream",
                    "name": "stdout",
                    "text": [
                        "13\n",
                        "24\n",
                        "31\n",
                        "19\n"
                    ]
                }
            ],
            "metadata": {}
        },
        {
            "cell_type": "code",
            "execution_count": null,
            "source": [
                "# 다시 풀어보는 tabulation\r\n",
                "# 1. n = n-step1 + n-step2 + n-step3 ... 단.. n-step의 간격>= 0 ex> 3을 오르는데 5step을 띌 수 없음. step<= n \r\n",
                "# - 재귀 문제인데, 중복될 것 같으니까 DP-tabulation으로 풀어보자.\r\n",
                "def staircase(stairs, possible_steps):\r\n",
                "    # 2. base case는 해당 index에 맞게 채워준다.\r\n",
                "    # 0계단 1 ,1계단1, \r\n",
                "    num_of_ways = [1, 1]\r\n",
                "\r\n",
                "    # 3. 2계단부터 n계단 까지 for문으로 돌면서, 해당 인덱스의 값을 채워준다.\r\n",
                "    for height in range(2, stairs +1):\r\n",
                "        # 4. 각 n번째에서는 n-1, n-3들의 누적합을 구해야한다. 누적합의 default0으로 채워둔다.\r\n",
                "        num_of_ways.append(0)\r\n",
                "        # 5. n-steps들은... 현재n보다는 작은 값들이라 이미 tabulations에 기록되어있따고 가정한다.\r\n",
                "        for step in possible_steps:\r\n",
                "            if height>=step:\r\n",
                "                num_of_ways[height] += num_of_ways[height-step]\r\n",
                "    \r\n",
                "    return num_of_ways[stairs]\r\n",
                "\r\n",
                "\r\n",
                "print(staircase(5, [1, 2, 3]))\r\n",
                "print(staircase(6, [1, 2, 3]))\r\n",
                "print(staircase(7, [1, 2, 4]))\r\n",
                "print(staircase(8, [1, 3, 5]))"
            ],
            "outputs": [],
            "metadata": {}
        }
    ],
    "metadata": {
        "orig_nbformat": 4,
        "language_info": {
            "name": "python",
            "version": "3.8.5",
            "mimetype": "text/x-python",
            "codemirror_mode": {
                "name": "ipython",
                "version": 3
            },
            "pygments_lexer": "ipython3",
            "nbconvert_exporter": "python",
            "file_extension": ".py"
        },
        "kernelspec": {
            "name": "python3",
            "display_name": "Python 3.8.5 64-bit (conda)"
        },
        "interpreter": {
            "hash": "b3ba2566441a7c06988d0923437866b63cedc61552a5af99d1f4fb67d367b25f"
        }
    },
    "nbformat": 4,
    "nbformat_minor": 2
}