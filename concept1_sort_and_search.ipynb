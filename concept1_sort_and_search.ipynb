{
    "cells": [
        {
            "cell_type": "markdown",
            "source": [
                "## Search\r\n",
                " - list를 돌면서, 값이 같은놈을 찾고 -> 그 때의 index를 반환하여 -> 몇번째 위치하는지를 탐색\r\n",
                " - 주로 list + 찾는 element가 인자로 들어와서 -> 그 `element의 index`를 return하도록 한다.\r\n",
                "\r\n",
                " 1. 선형탐색\r\n",
                "    - def linear_search(some_list, element): 이중 for + if\r\n",
                " 2. 이진탐색\r\n",
                "    - def binary_search( some_list, element): while + if + 업데이트\r\n"
            ],
            "metadata": {}
        },
        {
            "cell_type": "markdown",
            "source": [
                "### 선형탐색\r\n",
                " - 처음부터 끝까지 돌면서 `some_list`의 `특정 element`의 `index` 찾는 함수\r\n",
                "    - 함수로 구현하면서, 필요한 인자들을 받자. 그리고 정답 `index`가 나오면 return한다. 다돌아도 못찾으면 `None`을 반환\r\n",
                " - `in`으로 바로 찾을 수 있으나, 사용금지하고 for로만 구현한다.\r\n",
                " "
            ],
            "metadata": {}
        },
        {
            "cell_type": "code",
            "execution_count": 2,
            "source": [
                "def linear_search(some_list, element):\r\n",
                "    for i in range(len( some_list )):\r\n",
                "        if some_list[i] == element:\r\n",
                "            return i\r\n",
                "    return None"
            ],
            "outputs": [],
            "metadata": {}
        },
        {
            "cell_type": "markdown",
            "source": [
                "### 이진탐색\r\n",
                " - `오름차순 정렬된 some_list`가 있으며, ( `start`, `end` index 인자가 없다면 `len(list)//2`으로  구한) `mid index`를 이용해서 찾는 놈(`element`)이 더 크냐 작냐? 판단후 -> `if 절반(왼쪽or오른쪽)만 다시 탐색`하여, 탐색범위 절반으로 줄이면서, `특정 element`를 `index` 찾는 함수\r\n",
                "\r\n",
                " - 구현방법 \r\n",
                "    1. while의 조건에 만든 index인 start, end가 start가 end에 닿을때까지 -> 내부에서  mid_index 생성후 if 탈출조건으로 사용 -> 이후 업데이트하면서 돔. if 걸릴 때까지, 조건인자(start, end) 훅훅 바뀌도록 업데이트\r\n",
                "       - start, end index가 `없다면, 함수내부에서 만들고 내부에서 절반씩 감소시키는 루프`\r\n",
                "       - 루프의 바뀌는 범위가 +1 -1 씩이 아니라면 **조건도 훅훅 업데이트 + 기한 없이 원하는데까지 반복시 ->  while문을 쓰자.**\r\n",
                "       - 2개의 인자 start, end가 조건으로 돌면서, 그 조건범위가 훅훅바뀌도록 업데이트 된다.\r\n",
                "       - **절반씩 줄도록 업데이트 되는 와중에, if문을 반복문 맨 앞에 두어 찾는 정답을 먼저 검사하도록 한다.**\r\n",
                "       - while 조건:으로 제한적으로 돌기는 하나, 특별한 값을 찾는 과정에서는 if로 찾아서 빠져나올 생각을 하자!!\r\n",
                "       \r\n",
                "    "
            ],
            "metadata": {}
        },
        {
            "cell_type": "code",
            "execution_count": 65,
            "source": [
                "def binary_search( some_list, element):\r\n",
                "    # 1.  some_list의 탐색범위가 바뀜 + mid도 구해야함. -> start, end index를 만든다.\r\n",
                "    # - start, mid, end는 같이 노는 놈이라서... mid가 바뀐다면 \r\n",
                "    start_idx = 0\r\n",
                "    end_idx = len(some_list) - 1\r\n",
                "    \r\n",
                "    # 2. +-1씩 변하는 for문이 아니라, 절빤식 줄어드는 폭(원하는만큼 바껴야한다면) while을 쓴다.\r\n",
                "    # - 처음~끝까지 index를 도는 척하는데, 도는 범위가 훅훅 바뀌도록 업데이트 한다.\r\n",
                "    # - while이 < 이 아닌 이유는,, default를 생각해보면 된다. [1]로서 start == end 가 같을 때도 while문에 들어갔다가 if에 걸려서 탈출시켜야한다.\r\n",
                "    # -- 점점 붙는 와중에 완전히 붙을때까지.. 진행하는 것\r\n",
                "    # - 만약, 값이 없다면?? \r\n",
                "    # - 탐색범위가 start==end==mid로 붙었는데도 없다면..  \r\n",
                "    # -- 0=0=0 -> start가 1이 되거나, end가 -1이 된다. while 1>0 이든  while 0 > -1이 되어서 while문을 안타게 된다.\r\n",
                "    while start_idx <= end_idx:\r\n",
                "        # 3. (직전까지 업데이트된 start, end로) 현재의 mid를 구하고.\r\n",
                "        mid_idx = ( start_idx + end_idx ) //2\r\n",
                "\r\n",
                "        # ===탈출조건 = 정답조건 ===\r\n",
                "        # 4-1. 미드값 = 원하는값이면, 끝내고 그 index를 반환\r\n",
                "        if some_list[mid_idx] == element:\r\n",
                "            return mid_idx\r\n",
                "\r\n",
                "        # ===업데이트===\r\n",
                "        # 4-2. 미드값 보다 작으면, end의 범위는 [:mid] 의  mid-1이다.\r\n",
                "        if element < some_list[mid_idx]:\r\n",
                "            end_idx = mid_idx -1\r\n",
                "        # 4-3. 미드값 보다 크면, start의 범위는 [mid+1:]의 mid+1이다.\r\n",
                "        else:\r\n",
                "            start_idx = mid_idx +1\r\n",
                "            \r\n",
                "    return None\r\n",
                "\r\n",
                "\r\n",
                "print(binary_search([2, 3, 5, 7, 11], 2))\r\n",
                "print(binary_search([2, 3, 5, 7, 11], 0))\r\n",
                "print(binary_search([2, 3, 5, 7, 11], 5))\r\n",
                "print(binary_search([2, 3, 5, 7, 11], 3))\r\n",
                "print(binary_search([2, 3, 5, 7, 11], 11))"
            ],
            "outputs": [
                {
                    "output_type": "stream",
                    "name": "stdout",
                    "text": [
                        "0\n",
                        "None\n",
                        "2\n",
                        "1\n",
                        "4\n"
                    ]
                }
            ],
            "metadata": {}
        },
        {
            "cell_type": "code",
            "execution_count": null,
            "source": [],
            "outputs": [],
            "metadata": {}
        },
        {
            "cell_type": "markdown",
            "source": [
                "## 정렬\r\n",
                "\r\n",
                " 1. 선택정렬 \r\n",
                "     - def swap( some_list, i, j):\r\n",
                "     - def selection_sort(some_list): 이중 for + swap\r\n",
                "\r\n",
                " 2. 삽입정렬\r\n",
                "    - def insertion_sort( some_list ): 이중 for+while"
            ],
            "metadata": {}
        },
        {
            "cell_type": "markdown",
            "source": [
                "### 선택정렬\r\n",
                "\r\n",
                " - for i번쨰 선택됨 ->  for `i+1~끝` 까지 `하나씩 다 돌며 비교하여` 더 작은 값이 나타`날때마다` swap해서 최소값을 i번째에 놓는다.\r\n",
                "    - i+i ~ n 까지를 돌면서 값이 i보다 작은 값 나타날 때, index를 바꿔 자리를 바꿔줄 `swap()`함수가 필요하다.\r\n",
                "        - swap( `data`, `i`, `j`) 3개의 인자를 받음\r\n",
                "    - if > 에 return이나 끝내는 말이 없다? -> 끝까지 돈다. cf) for else"
            ],
            "metadata": {}
        },
        {
            "cell_type": "code",
            "execution_count": 71,
            "source": [
                "def swap( some_list, i, j):\r\n",
                "    some_list[i], some_list[j] = some_list[j], some_list[i]\r\n",
                "\r\n",
                "def selection_sort(some_list):\r\n",
                "\r\n",
                "    for i in range(len(some_list)):\r\n",
                "\r\n",
                "        for j in range(i+1, len(some_list)):\r\n",
                "            if some_list[i] > some_list[j]:\r\n",
                "                swap(some_list, i, j)\r\n",
                "\r\n",
                "    return some_list\r\n",
                "\r\n",
                "selection_sort( [12, 13, 11, 14, 10])"
            ],
            "outputs": [
                {
                    "output_type": "execute_result",
                    "data": {
                        "text/plain": [
                            "[10, 11, 12, 13, 14]"
                        ]
                    },
                    "metadata": {},
                    "execution_count": 71
                }
            ],
            "metadata": {}
        },
        {
            "cell_type": "code",
            "execution_count": 72,
            "source": [
                "%timeit selection_sort( [12, 13, 11, 14, 10])"
            ],
            "outputs": [
                {
                    "output_type": "stream",
                    "name": "stdout",
                    "text": [
                        "5.62 µs ± 569 ns per loop (mean ± std. dev. of 7 runs, 100000 loops each)\n"
                    ]
                }
            ],
            "metadata": {}
        },
        {
            "cell_type": "markdown",
            "source": [
                "### 삽입정렬★\r\n",
                " 1. no pythonic and 기본개념\r\n",
                "    - for i번째 값을 (삽입되어) 정렬할 묶음의 가장 오른쪽 값으로 보고, `j=i를 count변수로 넣고, while + j-=1`로 왼쪽의 값들과 비교해나가는데, `다하는게 아니라 조건을 걸어 ->  왼쪽 직전(j-1)에서 가장오른쪽이면서 초항값 some_list[i] == value보다 더 큰 값이 나올때만`  while + 직전을 현재로 가져옴 + j-=1 업데이트로,, 직전이 현재가 되도록 업데이트\r\n",
                "        - **직전(j-1)만 비교하는 이유는, 전 i단계에서 2개부터 정렬을 다해놔서이다. 2개 묶음부터 이미 정렬되어 직전만 비교하면 된다. 근데 직전이 더크다? 더 큰 직전값(j-1)를 현재(j)자리로 가져옴. while문 조건에 의해 업데이트된 j-1(i==j의 직직전)과 `자리는 없지만 백업된 value(list[i])`와 비교해서 더 크면 또.. j자리(직전자리)에 놓고 비교?**\r\n",
                "            - 가장의 네모칸인 `value`변수에 가장 오른쪽값을 집어넣어놓고, j-2,j-1,`j`는 값만 같을 뿐 직전값과 비교해나가서 `직전이 크면 -> 오른쪽으로 이동 + 비교할 index왼쪽으로 이동시켜 공중value속 list[i]`와 비교`\r\n",
                "\r\n",
                "        \r\n",
                "        - j = i : i를 초기값에 두고 변수를 만드는 이유는, i를 첫째항으로 왼쪽으로 이동해나갈 것(while j-=1)인데,  바깥 for문의 고정된 값이라 업데이트 불가라서 새로 생성하여 업데이트 시킬 것임. \r\n",
                "            - my) while + 줄여나갈 때 -> count 변수가 필요하다.\r\n",
                "\r\n",
                "        - value = some_list[i] : i를 j로 줄여나갈 때, i를 공중에 백업시켜놓고, 비교 with 직전j-1 + 직직전by j-=1 + 직직직전 ... 등 `각 비교시마다 계속 제일 처음의 j와 비교`. 왜냐하면... `이미 0 ~ j-1은` for i를 돌면서 2개묶음부터 이방법으로 직전과 비교해와서 `정렬되어있기 때문에, value라는 네모에 list[i]에 넣고  for j들과 비교`\r\n",
                "\r\n",
                " 2. pythonic 더 쉽게 \r\n",
                "    - for i index는 최소 2개부터 시작 range(1, len())\r\n",
                "        - for j에서 i를 끝으로 한칸씩 내려오기 by range( i, 0, -1):\r\n",
                "            - j가 점점 작아지도록 업데이트 되면서, if 직전값이 더 클 때만 swap -> 아니면 j만 계속 작아지는 중.\r\n",
                "        - 직전값이 존재해야하므로, i는 마지막값이므로 1부터 시작,  j-1 >=0  j=1이 마지막이어야함 range(i, `0`, -1)\r\n"
            ],
            "metadata": {}
        },
        {
            "cell_type": "code",
            "execution_count": 76,
            "source": [
                "def insertion_sort( some_list ):\r\n",
                "    # 현재 i를 묶음의 마지막이라 생각해놓고, i값을 value변수에 띄워놓은뒤, 직전과 비교 (for문 돌면서 지속적인 swap?)\r\n",
                "    # -> 직전이 더 크다? 직전을 i자리에 + j-=1을 통해 직직전과 떠있는 i값을 비교\r\n",
                "    # -> 직직전은 작다? j-=1로 직전이 현재가 되었으므로  현재자리에 공중에 띄워놓은 i값을 안착\r\n",
                "    for i in range(1, len(some_list)):\r\n",
                "        \r\n",
                "        # i를 시작으로 j가 -=1 되어야한다. range(a,b,-1)을 모르거나, 1씩이 아니면서 + 추가조건이 붙으면 while을 쓴다.\r\n",
                "        # - i를 -=1 씩 돌릴 수가 없다..?\r\n",
                "        \r\n",
                "        while i-1 >=0 and some_list[i-1] > some_list[i]:\r\n",
                "            some_list[i], some_list[i-1] = some_list[i-1], some_list[i]\r\n",
                "            i-=1\r\n",
                "    return some_list\r\n",
                "\r\n",
                "insertion_sort( [12, 13, 11, 14, 10])"
            ],
            "outputs": [
                {
                    "output_type": "execute_result",
                    "data": {
                        "text/plain": [
                            "[10, 11, 12, 13, 14]"
                        ]
                    },
                    "metadata": {},
                    "execution_count": 76
                }
            ],
            "metadata": {}
        },
        {
            "cell_type": "code",
            "execution_count": 77,
            "source": [
                "def insertion_sort( some_list ):\r\n",
                "    # 현재 i를 묶음의 마지막이라 생각해놓고, i값을 value변수에 띄워놓은뒤, 직전과 비교 (for문 돌면서 지속적인 swap?)\r\n",
                "    # -> 직전이 더 크다? 직전을 i자리에 + j-=1을 통해 직직전과 떠있는 i값을 비교\r\n",
                "    # -> 직직전은 작다? j-=1로 직전이 현재가 되었으므로  현재자리에 공중에 띄워놓은 i값을 안착\r\n",
                "    for i in range(1, len(some_list)):\r\n",
                "        \r\n",
                "        # i를 시작으로 j가 -=1 되어야한다. range(a,b,-1)을 모르거나, 1씩이 아니면서 + 추가조건이 붙으면 while을 쓴다.\r\n",
                "        # - i를 -=1 씩 돌릴 수가 없다..? 모종의 이유로.. 마지막 i를 보존시킨 상태에서 업데이트 시켜야한다면?\r\n",
                "        j = i # 초항일 뿐, j는 계속 1개씩 준 것이 자기자신이 될 것이다.\r\n",
                "        value = some_list[i] # 마지막 i값을 , i index자리를 내어주더라도 계속 비교하기 위해서 띄워놓는다.\r\n",
                "        \r\n",
                "        # 이미 정렬이 되어있는 것이라서.. 직전, 직직전 순으로 value랑만 비교하면 된다.\r\n",
                "        while j-1 >=0 and some_list[j-1] > value:\r\n",
                "            # 직전값이 j자리를 차지했지만, i값은 value에 떠있어서 j가 업데이트되어도 계속 비교가능하다.\r\n",
                "            some_list[j] = some_list[j-1] \r\n",
                "            j-=1\r\n",
                "    # j자리를 내어주어 j-1이 비었다가 -> 업데이트되면서 빈 j-1의 자리가 업뎃(j-=1)후  현재는 j자리를 의미하게 되었다.\r\n",
                "    # 떠있던 값, 직전보다 작았던 값, value를 내려놓아 안착시킨다\r\n",
                "    some_list[j] = value\r\n",
                "    \r\n",
                "    return some_list\r\n",
                "\r\n",
                "insertion_sort( [12, 13, 11, 14, 10])"
            ],
            "outputs": [
                {
                    "output_type": "execute_result",
                    "data": {
                        "text/plain": [
                            "[10, 12, 12, 13, 14]"
                        ]
                    },
                    "metadata": {},
                    "execution_count": 77
                }
            ],
            "metadata": {}
        },
        {
            "cell_type": "code",
            "execution_count": 79,
            "source": [
                "# python하게 작성하기\r\n",
                "def insertion_sort(some_list):\r\n",
                "    # 기존 정렬된 list의 맨마지막에 삽입(2번째자리, 1 index부터)되어서 직전과 비교할 것이다.\r\n",
                "    for i in range(1, len(some_list)):\r\n",
                "        # 그 i를 마지막항으로 하여 1까지 1씩 내려가도록 index j를 만든다.\r\n",
                "        for j in range(i, 0, -1):\r\n",
                "            # 직전항과 비교하여, 직전항이 더 크면? 자리를 swap해준다.\r\n",
                "            if some_list[j-1] > some_list[j]:\r\n",
                "                some_list[j]], some_list[j-1] = some_list[j-1], some_list[j]\r\n",
                "    \r\n",
                "    # 다 돌고나면, swap완료된 list를 반환한다.\r\n",
                "    return some_list\r\n",
                "\r\n",
                "insertion_sort( [12, 13, 11, 14, 10])"
            ],
            "outputs": [
                {
                    "output_type": "execute_result",
                    "data": {
                        "text/plain": [
                            "[12, 13, 14, 11, 10]"
                        ]
                    },
                    "metadata": {},
                    "execution_count": 79
                }
            ],
            "metadata": {}
        }
    ],
    "metadata": {
        "orig_nbformat": 4,
        "language_info": {
            "name": "python",
            "version": "3.8.5",
            "mimetype": "text/x-python",
            "codemirror_mode": {
                "name": "ipython",
                "version": 3
            },
            "pygments_lexer": "ipython3",
            "nbconvert_exporter": "python",
            "file_extension": ".py"
        },
        "kernelspec": {
            "name": "python3",
            "display_name": "Python 3.8.5 64-bit (conda)"
        },
        "interpreter": {
            "hash": "b3ba2566441a7c06988d0923437866b63cedc61552a5af99d1f4fb67d367b25f"
        }
    },
    "nbformat": 4,
    "nbformat_minor": 2
}