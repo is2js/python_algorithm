{
    "cells": [
        {
            "cell_type": "markdown",
            "source": [
                "## Search\r\n",
                " - list를 돌면서, 값이 같은놈을 찾고 -> 그 때의 index를 반환하여 -> 몇번째 위치하는지를 탐색\r\n",
                " - 주로 list + 찾는 element가 인자로 들어와서 -> 그 `element의 index`를 return하도록 한다.\r\n"
            ],
            "metadata": {}
        },
        {
            "cell_type": "markdown",
            "source": [
                "### 선형탐색\r\n",
                " - 처음부터 끝까지 돌면서 `some_list`의 `특정 element`의 `index` 찾는 함수\r\n",
                "    - 함수로 구현하면서, 필요한 인자들을 받자. 그리고 정답 `index`가 나오면 return한다. 다돌아도 못찾으면 `None`을 반환\r\n",
                " - `in`으로 바로 찾을 수 있으나, 사용금지하고 for로만 구현한다.\r\n",
                " "
            ],
            "metadata": {}
        },
        {
            "cell_type": "code",
            "execution_count": 2,
            "source": [
                "def linear_search(some_list, element):\r\n",
                "    for i in range(len( some_list )):\r\n",
                "        if some_list[i] == element:\r\n",
                "            return i\r\n",
                "    return None"
            ],
            "outputs": [],
            "metadata": {}
        },
        {
            "cell_type": "markdown",
            "source": [
                "### 이진탐색\r\n",
                " - `오름차순 정렬된 some_list`가 있으며, ( `start`, `end` index 인자가 없다면 `len(list)//2`으로  구한) `mid index`를 이용해서 찾는 놈(`element`)이 더 크냐 작냐? 판단후 -> `if 절반(왼쪽or오른쪽)만 다시 탐색`하여, 탐색범위 절반으로 줄이면서, `특정 element`를 `index` 찾는 함수\r\n",
                "\r\n",
                " - 구현방법 \r\n",
                "    1. while의 조건에 start, end가 들어가서 if 탈출조건 -> 조건인자(start, end) 훅훅 바뀌도록 업데이트\r\n",
                "       - start, end index가 `없다면, 함수내부에서 만들고 내부에서 절반씩 감소시키는 루프`\r\n",
                "       - 루프의 바뀌는 범위가 +1 -1 씩이 아니라면 **조건도 훅훅 업데이트 시키는 while문을 쓰자.**\r\n",
                "       - 2개의 인자 start, end가 조건으로 돌면서, 그 조건범위가 훅훅바뀌도록 업데이트 된다.\r\n",
                "       \r\n",
                "    "
            ],
            "metadata": {}
        },
        {
            "cell_type": "code",
            "execution_count": 65,
            "source": [
                "def binary_search( some_list, element):\r\n",
                "    # 1.  some_list의 탐색범위가 바뀜 + mid도 구해야함. -> start, end index를 만든다.\r\n",
                "    start_idx = 0\r\n",
                "    end_idx = len(some_list) - 1\r\n",
                "    \r\n",
                "    # 2. +-1씩 변하는 for문이 아니라, 절빤식 줄어드는 폭(원하는만큼 바껴야한다면) while을 쓴다.\r\n",
                "    # - 처음~끝까지 index를 도는 척하는데, 도는 범위가 훅훅 바뀌도록 업데이트 한다.\r\n",
                "    while start_idx <= end_idx:\r\n",
                "        # 3. (직전까지 업데이트된 start, end로) 현재의 mid를 구하고.\r\n",
                "        mid_idx = ( start_idx + end_idx ) //2\r\n",
                "\r\n",
                "        # ===탈출조건===\r\n",
                "        # 4-1. 미드값 = 원하는값이면, 끝내고 그 index를 반환\r\n",
                "        if some_list[mid_idx] == element:\r\n",
                "            return mid_idx\r\n",
                "\r\n",
                "        # ===업데이트===\r\n",
                "        # 4-2. 미드값 보다 작으면, end의 범위는 [:mid] 의  mid-1이다.\r\n",
                "        if element < some_list[mid_idx]:\r\n",
                "            end_idx = mid_idx -1\r\n",
                "        # 4-3. 미드값 보다 크면, start의 범위는 [mid+1:]의 mid+1이다.\r\n",
                "        else:\r\n",
                "            start_idx = mid_idx +1\r\n",
                "            \r\n",
                "    return None\r\n",
                "\r\n",
                "\r\n",
                "print(binary_search([2, 3, 5, 7, 11], 2))\r\n",
                "print(binary_search([2, 3, 5, 7, 11], 0))\r\n",
                "print(binary_search([2, 3, 5, 7, 11], 5))\r\n",
                "print(binary_search([2, 3, 5, 7, 11], 3))\r\n",
                "print(binary_search([2, 3, 5, 7, 11], 11))"
            ],
            "outputs": [
                {
                    "output_type": "stream",
                    "name": "stdout",
                    "text": [
                        "0\n",
                        "None\n",
                        "2\n",
                        "1\n",
                        "4\n"
                    ]
                }
            ],
            "metadata": {}
        }
    ],
    "metadata": {
        "orig_nbformat": 4,
        "language_info": {
            "name": "python",
            "version": "3.8.5",
            "mimetype": "text/x-python",
            "codemirror_mode": {
                "name": "ipython",
                "version": 3
            },
            "pygments_lexer": "ipython3",
            "nbconvert_exporter": "python",
            "file_extension": ".py"
        },
        "kernelspec": {
            "name": "python3",
            "display_name": "Python 3.8.5 64-bit (conda)"
        },
        "interpreter": {
            "hash": "b3ba2566441a7c06988d0923437866b63cedc61552a5af99d1f4fb67d367b25f"
        }
    },
    "nbformat": 4,
    "nbformat_minor": 2
}