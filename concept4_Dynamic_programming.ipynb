{
    "cells": [
        {
            "cell_type": "markdown",
            "source": [
                "## DP라고도 하는 Dynamic Programming\r\n",
                " - 다이나믹 프로그래밍 2가지 조건\r\n",
                "     1. `최적 부분 구조` ( Optimal Substructure ) : 부분 문제(재귀처럼)로 어떻게 하든 현재 문제의 답을 구할 수 있음.\r\n",
                "         - 피보나치처럼 더해서 정복하거나\r\n",
                "         - 최단경로처럼 비교해서 최적만 선택하여 정복\r\n",
                "     2. `중복되는 부분 문제` (Overlapping Subproblems ) : **`n-1, n-2`로 내려가는(재귀호출 되는) 부분문제**는 상당히 중복되어 메모리 많이 차지함.\r\n",
                "         - **중복되지 않는 부분문제도 존재함 : `n//2`로 divide되는 merge_sort**\r\n",
                "     \r\n",
                " - 다이나믹 프로그래밍 : 최적 부분 구조 문제에서 **중복되는 부분문제의 비효율성을 제거**하는 프로그래밍\r\n",
                "     - 그림 : 코드잇 - 알고리즘 강의\r\n",
                "     - 피보나치(n-1, n-2) 에서 `중복되는 부분문제` -> **`DP 활용`**\r\n",
                "     ![](https://raw.githubusercontent.com/is3js/screenshots/main/99AB103F5D84D79816DCDA)\r\n",
                "     - merge_sort(n//2) 에서 `중복되지 않는 부분문제` \r\n",
                "     ![](https://raw.githubusercontent.com/is3js/screenshots/main/993A4A495D84D91C10309C)\r\n",
                "\r\n",
                "\r\n",
                "\r\n",
                " - 중복되는 부분문제를 DP로 기억할 경우\r\n",
                "     ![](https://raw.githubusercontent.com/is3js/screenshots/main/99547F4E5D84E1161E58F5)\r\n"
            ],
            "metadata": {}
        },
        {
            "cell_type": "markdown",
            "source": [
                "### 2+1가지 방법\r\n",
                " 1. `Memoization` : \r\n",
                "     - 본 문제 풀고 기록한 뒤, 부분문제가 걸리면 처리되는 Top-down방식 \r\n",
                "     - **재귀 문제**에 이용 -> 재귀풀려고 나눈 부분문제에서 중복되는 계산은 한번 만 계산 후 **`cache={}`에 메모** 해놓는 것\r\n",
                "     - 장점 : 부분문제의 재귀로 들어가기전에  **걸리는 것 해결하니 효율적**  \r\n",
                "     - 단점 : 재귀로 인한 callstack 에러 = stackoverflow가능   -> 느리고, 횟수제한이 있다.\r\n",
                "     - 사용처 : **재귀로 해결해야하는 & n-1, n-2(첨부터 다채워야하는 문제)가 아닌 n//2 등의 띄엄띄엄 가는 문제문제**\r\n",
                "\r\n",
                " 2. `Tabulation` : \r\n",
                "     - `list`의 0, 1번째 **`초기항부터 넣고, 반복문으로`** 나중에 호출되는 **맨 뒷 부분문제들부터** 풀어서 채워나가는 Bottom-up방식 \r\n",
                "     - **반복문 문제 해결에**이용 -> 아래에서부터 하나씩 메모해놓는 것\r\n",
                "     - n=0, 1부터 차례대로 다 채워서 반환 `list에 append` \r\n",
                "     - 단점 : 중간에 안쓰는 것도 계산\r\n",
                "     - 단점 극복 : tabulation(list-> 공간최적화) -> **`(초기항 갯수이자 부분문제 호출 갯수) 필요한 변수 n개만 사용해서 n개만 update(기록)시키면서 반복문 돌며 계산`**\r\n",
                "     - 사용처 : **부분문제를 반복문으로 해결 & 처음부터 채워나가는 n-1, n-2의 문제**\r\n",
                "\r\n",
                " 3. Tabulation 공간최적화 -> 첨부터 부분문제 + 반복문에서 -> **반복문 위에 변수 n개(초기항 갯수이자, 부분문제 호출 갯수)만 update** no list\r\n",
                "     - 재귀 -> DP(tabul) -> 시간 O(n) 효율적 BUT 공간 O(m) 비효율적 \r\n",
                "     - **부분 문제 호출 갯수 == 초기항의 갯수**만큼만 변수를 쓰고 **반복문안에서 업데이트** 시키자 \r\n",
                "     - 피보나치를 예를 들면\r\n",
                "         1. prev + curr -> 다음항 으로 일단 prev, curr에 들어갈 초기항 2개가 필요하다. 재귀 풀때서 필요한 부분문제의 갯수나 마찬가지임.\r\n",
                "         2. 다음항 변수는 따로 안만들고 prev <- curr / curr <- 다음항(현재계산값)을 밀어넣는다.\r\n",
                "         3. prev(curr) + curr(다음항) 의 결과가 그것의 다음항이 적립되는 구조. (누적 구조, 부분 문제를 한칸씩 민다)\r\n",
                "         4. **변수가 고정되어, 공간복잡도는 O(1)이 된다.**\r\n",
                "\r\n",
                " "
            ],
            "metadata": {}
        },
        {
            "cell_type": "markdown",
            "source": [
                "## DP 예시"
            ],
            "metadata": {}
        },
        {
            "cell_type": "markdown",
            "source": [
                "### 피보나치 memotization"
            ],
            "metadata": {}
        }
    ],
    "metadata": {
        "orig_nbformat": 4,
        "language_info": {
            "name": "python",
            "version": "3.8.5",
            "mimetype": "text/x-python",
            "codemirror_mode": {
                "name": "ipython",
                "version": 3
            },
            "pygments_lexer": "ipython3",
            "nbconvert_exporter": "python",
            "file_extension": ".py"
        },
        "kernelspec": {
            "name": "python3",
            "display_name": "Python 3.8.5 64-bit (conda)"
        },
        "interpreter": {
            "hash": "b3ba2566441a7c06988d0923437866b63cedc61552a5af99d1f4fb67d367b25f"
        }
    },
    "nbformat": 4,
    "nbformat_minor": 2
}