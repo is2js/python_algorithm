{
    "cells": [
        {
            "cell_type": "markdown",
            "source": [
                "## DP라고도 하는 Dynamic Programming\r\n",
                " - 다이나믹 프로그래밍 2가지 조건\r\n",
                "     1. `최적 부분 구조` ( Optimal Substructure ) : 부분 문제(재귀처럼)로 어떻게 하든 현재 문제의 답을 구할 수 있음.\r\n",
                "         - 피보나치처럼 더해서 정복하거나\r\n",
                "         - 최단경로처럼 비교해서 최적만 선택하여 정복\r\n",
                "     2. `중복되는 부분 문제` (Overlapping Subproblems ) : **`n-1, n-2`로 내려가는(재귀호출 되는) 부분문제**는 상당히 중복되어 메모리 많이 차지함.\r\n",
                "         - **중복되지 않는 부분문제도 존재함 : `n//2`로 divide되는 merge_sort**\r\n",
                "     \r\n",
                " - 다이나믹 프로그래밍 : 최적 부분 구조 문제에서 **중복되는 부분문제의 비효율성을 제거**하는 프로그래밍\r\n",
                "     - 그림 : 코드잇 - 알고리즘 강의\r\n",
                "     - 피보나치(n-1, n-2) 에서 `중복되는 부분문제` -> **`DP 활용`**\r\n",
                "     ![](https://raw.githubusercontent.com/is3js/screenshots/main/99AB103F5D84D79816DCDA)\r\n",
                "     - merge_sort(n//2) 에서 `중복되지 않는 부분문제` \r\n",
                "     ![](https://raw.githubusercontent.com/is3js/screenshots/main/993A4A495D84D91C10309C)\r\n",
                "\r\n",
                "\r\n",
                "\r\n",
                " - 중복되는 부분문제를 DP로 기억할 경우\r\n",
                "     ![](https://raw.githubusercontent.com/is3js/screenshots/main/99547F4E5D84E1161E58F5)\r\n"
            ],
            "metadata": {}
        },
        {
            "cell_type": "markdown",
            "source": [
                "### 2+1가지 방법\r\n",
                " 1. `Memoization` : \r\n",
                "     - 본 문제 풀고 기록한 뒤, 부분문제가 걸리면 처리되는 Top-down방식 \r\n",
                "     - **재귀 문제**에 이용 -> 재귀풀려고 나눈 부분문제에서 중복되는 계산은 한번 만 계산 후 **`cache={}`에 메모** 해놓는 것\r\n",
                "     - 장점 : 부분문제의 재귀로 들어가기전에  **걸리는 것 해결하니 효율적**  \r\n",
                "     - 단점 : 재귀로 인한 callstack 에러 = stackoverflow가능   -> 느리고, 횟수제한이 있다.\r\n",
                "     - 사용처 : **재귀로 해결해야하는 & n-1, n-2(첨부터 다채워야하는 문제)가 아닌 n//2 등의 띄엄띄엄 가는 문제문제**\r\n",
                "         - 사용시 : cache(dict)도 인자로 받아야함. -> cache는 외부에 선언된 변수dict를 넣어줘야하므로.. 바깥에 공간이 하나 더 필요하다. default값 없이 채우기 시작. recursive case시작시 n이 cache에 있는지부터 검사함. 있으면 base case처럼 바로 return끝냄.\r\n",
                "\r\n",
                " 2. `Tabulation` : \r\n",
                "     - `list`의 0, 1번째 **`초기항부터 넣고, 반복문으로`** 나중에 호출되는 **맨 뒷 부분문제들부터** 풀어서 채워나가는 Bottom-up방식 \r\n",
                "     - **반복문 문제 해결에**이용 -> 아래에서부터 하나씩 메모해놓는 것\r\n",
                "     - n=0, 1부터 차례대로 다 채워서 반환 `list에 append` \r\n",
                "     - 단점 : 중간에 안쓰는 것도 계산\r\n",
                "     - 단점 극복 : tabulation(list-> 공간최적화) -> **`(초기항 갯수이자 부분문제 호출 갯수) 필요한 변수 n개만 사용해서 n개만 update(기록)시키면서 반복문 돌며 계산`**\r\n",
                "     - 사용처 : **부분문제를 반복문으로 해결 & 처음부터 채워나가는 n-1, n-2의 문제**\r\n",
                "\r\n",
                " 3. Tabulation 공간최적화 -> 첨부터 부분문제 + 반복문에서 -> **반복문 위에 변수 n개(초기항 갯수이자, 부분문제 호출 갯수)만 update** no list\r\n",
                "     - 재귀 -> DP(tabul) -> 시간 O(n) 효율적 BUT 공간 O(m) 비효율적 \r\n",
                "     - **부분 문제 호출 갯수 == 초기항의 갯수**만큼만 변수를 쓰고 **반복문안에서 업데이트** 시키자 \r\n",
                "     - 피보나치를 예를 들면\r\n",
                "         1. prev + curr -> 다음항 으로 일단 prev, curr에 들어갈 초기항 2개가 필요하다. 재귀 풀때서 필요한 부분문제의 갯수나 마찬가지임.\r\n",
                "         2. 다음항 변수는 따로 안만들고 prev <- curr / curr <- 다음항(현재계산값)을 밀어넣는다.\r\n",
                "         3. prev(curr) + curr(다음항) 의 결과가 그것의 다음항이 적립되는 구조. (누적 구조, 부분 문제를 한칸씩 민다)\r\n",
                "         4. **변수가 고정되어, 공간복잡도는 O(1)이 된다.**\r\n",
                "\r\n",
                " "
            ],
            "metadata": {}
        },
        {
            "cell_type": "markdown",
            "source": [
                "## DP 예시"
            ],
            "metadata": {}
        },
        {
            "cell_type": "markdown",
            "source": [
                "### 피보나치 memoization\r\n",
                " - memoization은 input `n` 뿐만 아니라 `dict(cache)`를 인자로 받아야됨.\r\n",
                "     - 부분문제 정복시.. cache에 있는지 없는지 판단해야함."
            ],
            "metadata": {}
        },
        {
            "cell_type": "code",
            "execution_count": 5,
            "source": [
                "# memoization은 cache를 인자로 받음.\r\n",
                "def fib_memo(n, cache):\r\n",
                "    # base : cache고 나발이고 바로 나오는 값.\r\n",
                "    if n < 3:\r\n",
                "        return 1\r\n",
                "    \r\n",
                "    # recursive\r\n",
                "    # 1. recursive- 부분문제로 풀기전에, 전체문제 n이 일단 cache에 있는지부터 판단\r\n",
                "    # 지금 풀려는 n이 cache에 있는지부터 검사하고 부분 문제 시작.\r\n",
                "    # - 똑같은게 이미 직전까지 계산된게 있으면, 재귀계산안하고 바로 return해서 끝내는게 목적\r\n",
                "    if n in cache:\r\n",
                "        return cache[n]\r\n",
                "    \r\n",
                "    # 2. 없으면, n-1, n-2로 부분문제를 풀고, 그 답을 바로 return안하고 <저장후 return>\r\n",
                "    cache[n] = fib_memo(n-1, cache) + fib_memo(n-2, cache)\r\n",
                "\r\n",
                "    return cache[n]\r\n",
                "\r\n"
            ],
            "outputs": [
                {
                    "output_type": "execute_result",
                    "data": {
                        "text/plain": [
                            "8"
                        ]
                    },
                    "metadata": {},
                    "execution_count": 5
                }
            ],
            "metadata": {}
        },
        {
            "cell_type": "code",
            "execution_count": 10,
            "source": [
                "fib_memo(1000, {}) # 빈 dict를 너어봤자.. 아마.. 축적도.. 활용도 안되고 full recursive돌고있을것\r\n"
            ],
            "outputs": [
                {
                    "output_type": "execute_result",
                    "data": {
                        "text/plain": [
                            "43466557686937456435688527675040625802564660517371780402481729089536555417949051890403879840079255169295922593080322634775209689623239873322471161642996440906533187938298969649928516003704476137795166849228875"
                        ]
                    },
                    "metadata": {},
                    "execution_count": 10
                }
            ],
            "metadata": {}
        },
        {
            "cell_type": "code",
            "execution_count": 11,
            "source": [
                "# 3. 외부 저장cache를 선언후 던져줘야 기억한다. 바깥 공간이 하나 더 필요한 상황이라 def로 만들어 줄 수 있다.\r\n",
                "fib_cache = {}\r\n",
                "fib_memo(1000, fib_cache)"
            ],
            "outputs": [
                {
                    "output_type": "execute_result",
                    "data": {
                        "text/plain": [
                            "43466557686937456435688527675040625802564660517371780402481729089536555417949051890403879840079255169295922593080322634775209689623239873322471161642996440906533187938298969649928516003704476137795166849228875"
                        ]
                    },
                    "metadata": {},
                    "execution_count": 11
                }
            ],
            "metadata": {}
        },
        {
            "cell_type": "code",
            "execution_count": 12,
            "source": [
                "# 4. 외부dict를 필요로 하므로 def로 한번더 싸서.. 외부 선언dict지만 & 고정된 일회용이되도록 함수로 한번 더 쏴준다.\r\n",
                "def fib(n):\r\n",
                "\r\n",
                "    fib_cache ={}\r\n",
                "\r\n",
                "    return fib_memo(n, fib_cache)\r\n",
                "\r\n"
            ],
            "outputs": [],
            "metadata": {}
        },
        {
            "cell_type": "markdown",
            "source": [
                "### 피보나치 tabulation"
            ],
            "metadata": {}
        },
        {
            "cell_type": "code",
            "execution_count": 14,
            "source": [
                "def fib_tab(n):\r\n",
                "    # 초기항을 미리 list에 넣어둔다. n과 index를 일치시킨 리스트에 넣어둔다.\r\n",
                "    fib_table = [0,1,1] \r\n",
                "\r\n",
                "    # 부분문제를 반복문으로 풀면서 누적해서 list를 채워나간다.\r\n",
                "    # index와 n을 일치시켰으니, 초기항 이후부터 ~ n까지 채워나가도록 짠다.\r\n",
                "    # i번째의 부분문제를 푸는데 그게 3번째부터~n번째까지 푼 것.. n번째를 풀라면 처음부터 다 채워야함..\r\n",
                "    # ...i-1 풀때도 첨부터. i풀때도 첨부터 -> 나중에 최적화 할듯.\r\n",
                "    for i in range(3, n+1):\r\n",
                "        fib_table.append( fib_table[i-1] + fib_table[i-2] )\r\n",
                "    \r\n",
                "    return fib_table[n]\r\n",
                "\r\n",
                "print(fib_tab(132))"
            ],
            "outputs": [
                {
                    "output_type": "stream",
                    "name": "stdout",
                    "text": [
                        "1725375039079340637797070384\n"
                    ]
                }
            ],
            "metadata": {}
        },
        {
            "cell_type": "markdown",
            "source": [
                "### 피보나치 tabulation 공간최적화"
            ],
            "metadata": {}
        },
        {
            "cell_type": "code",
            "execution_count": 16,
            "source": [
                "def fib_tab_optimized(n):\r\n",
                "    # list를 처음부터 다채우는게 아니라 \r\n",
                "    # 계산에 필요한 (변수)초기항 수만큼, 변수를 사용하며 업데이트 해나간다.\r\n",
                "    # 2개??가 있다면, 1개는 curr, 1개는 prev가 되어서, curr <- 다음항,   prev <- curr 로 한칸씩 이동시킨다.\r\n",
                "    # 초기항 a1, a2 이며, 2개로 계산됨.\r\n",
                "    prev = 0\r\n",
                "    curr = 1\r\n",
                "\r\n",
                "    # 반복횟수는 초기항에 민감하다.\r\n",
                "    # ** -> 현재 0,1이며 return할 값은 그나마 현재상태에서 마지막 값인 curr이므로, curr기준으로 센다**\r\n",
                "    # a1까지 완료된상태에서 n을 구하려면? -> 포함시 : 바로 빼기(n-1)번 전진 / 미포함시(head, tail의 0부터 시작.. 빼기+1번 전진해야함.)\r\n",
                "    # -> n-1번 반복 하기\r\n",
                "    for i in range(1, (n-1)+1):\r\n",
                "        # 덮어쓰기를 해야함. swap으로.. 하면 편하다.\r\n",
                "        # curr값은 prev로 왼쪽한칸밀고\r\n",
                "        # 다음값은 curr로 한칸밀기\r\n",
                "        prev, curr = curr, prev+curr\r\n",
                "\r\n",
                "    return curr\r\n",
                "\r\n",
                "fib_tab_optimized(132)\r\n",
                "\r\n"
            ],
            "outputs": [
                {
                    "output_type": "execute_result",
                    "data": {
                        "text/plain": [
                            "1725375039079340637797070384"
                        ]
                    },
                    "metadata": {},
                    "execution_count": 16
                }
            ],
            "metadata": {}
        },
        {
            "cell_type": "code",
            "execution_count": null,
            "source": [],
            "outputs": [],
            "metadata": {}
        }
    ],
    "metadata": {
        "orig_nbformat": 4,
        "language_info": {
            "name": "python",
            "version": "3.8.5",
            "mimetype": "text/x-python",
            "codemirror_mode": {
                "name": "ipython",
                "version": 3
            },
            "pygments_lexer": "ipython3",
            "nbconvert_exporter": "python",
            "file_extension": ".py"
        },
        "kernelspec": {
            "name": "python3",
            "display_name": "Python 3.8.5 64-bit (conda)"
        },
        "interpreter": {
            "hash": "b3ba2566441a7c06988d0923437866b63cedc61552a5af99d1f4fb67d367b25f"
        }
    },
    "nbformat": 4,
    "nbformat_minor": 2
}