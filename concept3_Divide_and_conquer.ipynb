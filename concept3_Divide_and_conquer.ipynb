{
    "cells": [
        {
            "cell_type": "markdown",
            "source": [
                "## 나눠서 정복"
            ],
            "metadata": {}
        },
        {
            "cell_type": "markdown",
            "source": [
                "### 재귀함수\r\n",
                " - 반복문이 없지만, input을 바꾼 자신을 불러서, **base case(끝나는 조건)까지 반복**된다.\r\n",
                "    - 반복되므로 **맨 앞에 if 탈출조건, 정답조건, 초기답을 먼저 작성**한다.\r\n",
                " - **인자n 호출 func(n)은 먼저**하지만, **가장 마지막에 종료**된다.\r\n",
                "    - 탈출조건인 n==0, n==1, n<2 등까지 가서야 return을 시작하며 --> n-1 종료 --> n 종료 순으로 종료된다.\r\n",
                " - 결국에는 탈출조건, 쉬운case의 base case + 부분 문제로 구성된 recursive case 2가지로 구성되는 함수를 짜는 것이다.\r\n"
            ],
            "metadata": {}
        },
        {
            "cell_type": "code",
            "execution_count": 3,
            "source": [
                "# 재귀함수 이해를 위해, count해보기\r\n",
                "# countdown(4) -> print(4) + countdown(3)\r\n",
                "# func(n) = print(n) + func(n-1)\r\n",
                "\r\n",
                "# base case는??\r\n",
                "# - n==1이면 최종 return으로 종료되어야하나... print만 할거라서... \r\n",
                "# - n>0일 때만 실행되도록한다.  n==0시에는 아예 실행도 안되게.\r\n",
                "def countdown(n):\r\n",
                "    # 끝나는 조건\r\n",
                "    if n<1:\r\n",
                "        print(\"종료\")\r\n",
                "        return\r\n",
                "    # 끝나는 조건에 안걸리면 반복됨.\r\n",
                "    # 부분문제들(n-1, n-2 or n//2 등)이 해결되어 return되었다고 가정하면서 풀기\r\n",
                "    print(n)\r\n",
                "    countdown(n-1)\r\n",
                "    return\r\n",
                "\r\n",
                "\r\n",
                "countdown(3)\r\n"
            ],
            "outputs": [
                {
                    "output_type": "stream",
                    "name": "stdout",
                    "text": [
                        "3\n",
                        "2\n",
                        "1\n",
                        "종료\n"
                    ]
                }
            ],
            "metadata": {}
        },
        {
            "cell_type": "markdown",
            "source": [
                "### 재귀함수의 치명적 단점 : Call stack\r\n",
                "\r\n",
                " 1. 먼저 호출된 func(n) 내부에서  **func(n-1)로 진입시, 안쪽함수 끝나고 되돌아올 line을 python내부에서 기록**해놓는다.\r\n",
                "\r\n",
                " 2. 기록이 쌓이는 것을 Call stack이라 한다. 초과시 stackoverflow에러가 남.\r\n",
                "    - python default 1000개까지 사용가능하다.\r\n",
                "    - factorial(2000) 호출시... n번재항에서만... 1999개 기억했다가 돌아올 듯..\r\n",
                "    - 재귀한도 해제 코드\r\n",
                "    \r\n",
                "    ```python\r\n",
                "    import sys; sys.setrecursionlimit(10000)\r\n",
                "    ```\r\n",
                "\r\n",
                "    \r\n",
                "\r\n",
                " 3. 부분문제 호출시  연산(+, \\* ...)의 종류보다는 몇개가 호출되냐가 중요하다.\r\n",
                "    - return fac(n-1) + fac(n-2) 라고 치면, O(n) + O(n)이 아니라..  f(n)호출시 각각이 양갈래로 재귀를 시작한다.\r\n",
                "       - 시간복잡도는 input n에 따라서 n-1 * n-2  동시에 이루어지는 O(n^2)이 된다.\r\n",
                "       - 이 때, base쪽이나 중간에 for문 등 O(n)이 있다면.. 그것도 동시에 이루어지니... 그만큼 곱한다.\r\n",
                "         - `원래함수의 시간복잡도` * `n **(부분문제 호출 갯수)`\r\n",
                "\r\n",
                "\r\n",
                "\r\n",
                "    "
            ],
            "metadata": {}
        },
        {
            "cell_type": "markdown",
            "source": [
                "\r\n",
                "\r\n",
                "## 재귀함수 예시들"
            ],
            "metadata": {}
        },
        {
            "cell_type": "markdown",
            "source": [
                "#### 팩토리얼"
            ],
            "metadata": {}
        },
        {
            "cell_type": "code",
            "execution_count": 6,
            "source": [
                "# 재귀함수는 n부터 내부에서 내려오면서 곱해주다가 0에서 끝난다.\r\n",
                "def factorial(n):\r\n",
                "    # base case : 내부에서 작은놈들을 호출되다가 가장 내부에서 종료를 시작하는 부분\r\n",
                "    if n==0:\r\n",
                "        return 1\r\n",
                "    \r\n",
                "    return factorial(n-1)*n\r\n",
                "\r\n",
                "factorial(5)"
            ],
            "outputs": [
                {
                    "output_type": "execute_result",
                    "data": {
                        "text/plain": [
                            "120"
                        ]
                    },
                    "metadata": {},
                    "execution_count": 6
                }
            ],
            "metadata": {}
        },
        {
            "cell_type": "code",
            "execution_count": 8,
            "source": [
                "# 반복문은 1부터 올라가면서 누적곱한다.\r\n",
                "def facto(n):\r\n",
                "    result = 1\r\n",
                "    # for는 i가 증가되서 올라가므로 선증가의 개념 ->     < n+1 까지이므로 결과적으로는 n까지의 누적합?\r\n",
                "    for i  in range(1, n+1):\r\n",
                "        result*=1\r\n",
                "    return result\r\n",
                "\r\n",
                "facto(5)"
            ],
            "outputs": [
                {
                    "output_type": "execute_result",
                    "data": {
                        "text/plain": [
                            "1"
                        ]
                    },
                    "metadata": {},
                    "execution_count": 8
                }
            ],
            "metadata": {}
        },
        {
            "cell_type": "markdown",
            "source": [
                "#### 피보나치"
            ],
            "metadata": {}
        },
        {
            "cell_type": "code",
            "execution_count": 9,
            "source": [
                "def fib(n):\r\n",
                "    if n <3:\r\n",
                "        return 1\r\n",
                "    \r\n",
                "    return fib(n-1) + fib(n-2)\r\n",
                "\r\n",
                "for i in range(1, 11):\r\n",
                "    print(fib(i))"
            ],
            "outputs": [
                {
                    "output_type": "stream",
                    "name": "stdout",
                    "text": [
                        "1\n",
                        "1\n",
                        "2\n",
                        "3\n",
                        "5\n",
                        "8\n",
                        "13\n",
                        "21\n",
                        "34\n",
                        "55\n"
                    ]
                }
            ],
            "metadata": {}
        },
        {
            "cell_type": "markdown",
            "source": [
                "#### 숫자합"
            ],
            "metadata": {}
        },
        {
            "cell_type": "code",
            "execution_count": 15,
            "source": [
                "def triangle_number(n):\r\n",
                "    if n==1:\r\n",
                "        return 1\r\n",
                "    return triangle_number(n-1) + n\r\n",
                "\r\n",
                "for i in range(1, 11):\r\n",
                "    print(triangle_number(i))\r\n"
            ],
            "outputs": [
                {
                    "output_type": "stream",
                    "name": "stdout",
                    "text": [
                        "1\n",
                        "3\n",
                        "6\n",
                        "10\n",
                        "15\n",
                        "21\n",
                        "28\n",
                        "36\n",
                        "45\n",
                        "55\n"
                    ]
                }
            ],
            "metadata": {}
        },
        {
            "cell_type": "markdown",
            "source": [
                "#### 자리수 합\r\n"
            ],
            "metadata": {}
        },
        {
            "cell_type": "code",
            "execution_count": 18,
            "source": [
                "#  재귀도 divide and conquer시, n-1, n-2 뿐만 아니라, n//2 등도 나타날 수 있다.\r\n",
                "# 그 줄어든 구간만큼을 간격으로.. base case도 정해져야할 듯 하다.\r\n",
                "\r\n",
                "def sum_digits(n):\r\n",
                "    # base case는 바로 < input n으로  답이 나오는 순간> 이다. 자리수의합에서.. 한 자리수면 바로 답이 나온다\r\n",
                "    if n < 10:\r\n",
                "        return n\r\n",
                "    \r\n",
                "    return sum_digits(n//10) + n%10\r\n",
                "\r\n",
                "print(sum_digits(22541))\r\n",
                "print(sum_digits(92130))\r\n",
                "print(sum_digits(12634))\r\n",
                "print(sum_digits(704))\r\n",
                "print(sum_digits(3755))\r\n",
                "\r\n",
                "print(sum_digits(9))"
            ],
            "outputs": [
                {
                    "output_type": "stream",
                    "name": "stdout",
                    "text": [
                        "14\n",
                        "15\n",
                        "16\n",
                        "11\n",
                        "20\n",
                        "9\n"
                    ]
                }
            ],
            "metadata": {}
        },
        {
            "cell_type": "markdown",
            "source": [
                "#### 리스트 뒤집기"
            ],
            "metadata": {}
        },
        {
            "cell_type": "code",
            "execution_count": 26,
            "source": [
                "# - 인덱싱+슬라이싱 활용. \r\n",
                "# - input n이 안줄어도 재귀가 가능하다.\r\n",
                "# - [-1]은 1개, [-1:]는 1개인데, 슬라이싱이라 대괄호를 달고 나온다.\r\n",
                "def flip(some_list):\r\n",
                "    if len(some_list) == 0 or len(some_list)==1 : # 길이 0도 확인을 하자. list길이는 1이 최소가 아니다. 0이면 자기자신 반환토록 하자.\r\n",
                "        return some_list\r\n",
                "\r\n",
                "    return some_list[-1:] + flip(some_list[:-1])\r\n",
                "\r\n",
                "some_list = [1, 2, 3, 4, 5, 6, 7, 8, 9]\r\n",
                "some_list = flip(some_list)\r\n",
                "print(some_list)"
            ],
            "outputs": [
                {
                    "output_type": "stream",
                    "name": "stdout",
                    "text": [
                        "[9, 8, 7, 6, 5, 4, 3, 2, 1]\n"
                    ]
                }
            ],
            "metadata": {}
        },
        {
            "cell_type": "markdown",
            "source": [
                "#### 이진탐색 by 재귀\r\n",
                " - index업데이트로 하는 이진탐색에 비해, 인자가 늘었다. + (start, end)\r\n",
                " - 내부 재귀호출은 항상 n보다 더 줄어드는 것을 인자로 호출해야하는데, some_list, element만 있으면, 탐색 index가 절반으로 줄어드는 것을 감당할 수 없다.\r\n",
                "    - some_list를 슬라이싱하는 방식으로 재귀를 호출할 수 있긴한데...ex> 리스트 뒤집기\r\n",
                "        - some_list를 인자로 받으니 -> slicing도 재귀호출시 사용된다.\r\n",
                "    - start는 0으로 시작한다. \r\n",
                "    - end는 None으로 시작하는데, **혹시 있으면? (재귀에서)다음에 부를 때 달라지면?** 패턴이다.\r\n",
                "        - end=None을 받고 함수진입 ->  if end == None이라면, 원래 줄 **default값**으로 준다.\r\n",
                "    - end_index는 실제 탐색범위인덱스다. range나 slicing에 들어갈놈이 아니다. mid에 -1까지 한 것을 대입한다.\r\n",
                " "
            ],
            "metadata": {}
        },
        {
            "cell_type": "code",
            "execution_count": 2,
            "source": [
                "def binary_search(some_list, element, start_index = 0, end_index = None):\r\n",
                "    if end_index == None:\r\n",
                "        end_index = len(some_list)-1\r\n",
                "\r\n",
                "\r\n",
                "\r\n",
                "    # base case : 탈출조건으로서, mid_index에서 원하는 element를 찾았을 때, \r\n",
                "    # - 재귀도 반복문이라...  종료조건 = 탈출조건이다.\r\n",
                "    # 첫 번째 :  some_list안에 element가 없다는 것을 확신할 수 있을 때입니다. 이 때는 element를 some_list 안에서 찾지 못했다는 것을 알리기 위해서 None을 리턴해 주면 되죠.\r\n",
                "    # 두 번째:  리스트 some_list에서 찾으려는 요소 element를 찾은 경우입니다. 그럼 더 이상 탐색을 할 필요 없이 element의 인덱스를 리턴해 주면 됩니다.\r\n",
                "    \r\n",
                "    # base case 1: 업데이트하다가, start = end 했는데도 못찾아서.. 오른족에 있다고 판단하고 start = mid+1 = end+1을 해버렸을 때\r\n",
                "    # - 즉, start가 mid를 가리키던 end를 +1로 넘어가버릴 때,, 진짜 없다.\r\n",
                "    # **탐색 문제에서는  탐색범위를 다해도 답을 못찾는 것도...base case or 탈출조건**\r\n",
                "    # - 일반 재귀 문제에서는.. n==0, 1, 2 사이에서 종료조건이 무조건 나왔다면.. 탐색에서는 재귀를 줄어들면서 다 갔는데도 안나올 수도 있다!\r\n",
                "    # - 다돌았는데도 없다? -> index변화가 역전되는 상황으로 지정한다.\r\n",
                "    if start_index > end_index:\r\n",
                "        return None\r\n",
                "\r\n",
                "    # base case 2: 탐색에서는 답을 바로아는 작은 부분문제 = 탈출조건 = 답을 찾은 경우를 가정한다.\r\n",
                "    # 가장 먼저 중간인덱스 부터 구한다. base case를 만들기 위해서는 mid_index가 필요함.\r\n",
                "    # base case == input 가장 작은 부분 -> input이 복잡, 탐색 문제에서는 탈출조건 생각.\r\n",
                "    mid_index = (start_index + end_index ) // 2\r\n",
                "    if element == some_list[mid_index]:\r\n",
                "        return mid_index\r\n",
                "\r\n",
                "    # recursive case:\r\n",
                "    if element < some_list[mid_index]:\r\n",
                "        end_index = mid_index-1  # ㅜ_ㅠ start, end는 실제 index다. range나 slicing에 들어갈 마지막놈이 아니다.\r\n",
                "        # 새롭게 해결될 부분문제를 호출\r\n",
                "        # - 여기서 list가 slicing으로 줄어들고, index도 줄어든게 들어간다.\r\n",
                "        return binary_search(some_list, element, start_index, end_index)\r\n",
                "    else:\r\n",
                "        start_index = mid_index + 1\r\n",
                "        return binary_search(some_list, element, start_index, end_index)\r\n",
                "\r\n",
                "\r\n",
                "print(binary_search([2, 3, 5, 7, 11], 2))\r\n",
                "print(binary_search([2, 3, 5, 7, 11], 0))\r\n",
                "print(binary_search([2, 3, 5, 7, 11], 5))\r\n",
                "print(binary_search([2, 3, 5, 7, 11], 3))"
            ],
            "outputs": [
                {
                    "output_type": "stream",
                    "name": "stdout",
                    "text": [
                        "0\n",
                        "None\n",
                        "2\n",
                        "1\n"
                    ]
                }
            ],
            "metadata": {}
        },
        {
            "cell_type": "markdown",
            "source": [
                "### 하노이탑"
            ],
            "metadata": {}
        },
        {
            "cell_type": "markdown",
            "source": [
                " - 실제 기둥을 옮기진 않고 print로 출력해준다.\r\n",
                "    - def move_disk(disk_num, start_peg, end_peg):\r\n",
                " - 작은 순으로 1번부터 시작되는 원판의 갯수는 num_disks이며, 기둥은 기본적으로 3개가 있다. 시작 기둥과 옮길기둥을 인자로 같이 준다.\r\n",
                "    - def hanoi(num_disks, start_peg, end_peg):\r\n",
                "\r\n",
                "\r\n",
                " - 예시\r\n",
                "\r\n",
                " \r\n",
                "**원판 하나인 경우**\r\n",
                "```python\r\n",
                "hanoi(1, 1, 3)\r\n",
                "1번 원판을 1번 기둥에서 3번 기둥으로 이동\r\n",
                "```\r\n",
                "원판 두개인 경우\r\n",
                "```python\r\n",
                "hanoi(2, 1, 3)\r\n",
                "1번 원판을 1번 기둥에서 2번 기둥으로 이동\r\n",
                "2번 원판을 1번 기둥에서 3번 기둥으로 이동\r\n",
                "1번 원판을 2번 기둥에서 3번 기둥으로 이동\r\n",
                "```\r\n",
                "원판 세개인 경우\r\n",
                "```python\r\n",
                "hanoi(3, 1, 3)\r\n",
                "1번 원판을 1번 기둥에서 3번 기둥으로 이동\r\n",
                "2번 원판을 1번 기둥에서 2번 기둥으로 이동\r\n",
                "1번 원판을 3번 기둥에서 2번 기둥으로 이동\r\n",
                "3번 원판을 1번 기둥에서 3번 기둥으로 이동\r\n",
                "1번 원판을 2번 기둥에서 1번 기둥으로 이동\r\n",
                "2번 원판을 2번 기둥에서 3번 기둥으로 이동\r\n",
                "1번 원판을 1번 기둥에서 3번 기둥으로 이동\r\n",
                "```\r\n",
                "\r\n",
                "이제 원판 3개인 경우입니다.\r\n",
                "![](https://raw.githubusercontent.com/is3js/screenshots/main/99C32A355D84636F062DDE)\r\n",
                "일단 3번 원판이 3번 기둥에 가야하는데,  그러기 위해서는 1, 2번 원판이 2번 기둥에 가있어야겠죠?  \r\n",
                "그런데 원판 두개를 옮기는 것은 이미 '난이도 2'에서 했습니다. 그냥 그대로 따라하면 됩니다.  \r\n",
                "\r\n",
                "다만 ‘난이도 2’ 에서는 원판들을 1번 기둥에서 3번 기둥으로 옮기려고 했다면, 이번에는 1, 2번 원판들을 1번 기둥에서 2번 기둥으로 옮기는 차이가 있죠?\r\n",
                "\r\n",
                "이걸 **프로그래밍 방식으로 생각하면 hanoi 함수를 시작 기둥과 끝 기둥 인풋만 바꿔주고 재귀적으로 호출**한다고 얘기할 수 있습니다. 그렇게 원판 2개를 옮겼다고 가정합시다.\r\n",
                "\r\n",
                "\r\n",
                "\r\n",
                "이제 원하던대로 **3번 원판을 3번 기둥으로 옮기**면 됩니다.\r\n",
                "\r\n",
                "\r\n",
                "\r\n",
                "마지막으로 **2번 기둥에 있는 원판 두개를 3번 기둥으로 옮겨야 하는데, 이것도 '난이도 2'에서 한 것과 똑같이** 하면 됩니다. 또 hanoi 함수를 부르는 셈이죠. 유일한 차이는 이번에는 1, 2번 원판을 2번 기둥에서 3번 기둥으로 옮겼다는거죠?\r\n"
            ],
            "metadata": {}
        },
        {
            "cell_type": "code",
            "execution_count": 5,
            "source": [
                "# 재귀적으로 생각하기 위해 n개 옮기는 것을\r\n",
                "# 1->3번 기둥을 기본으 하고 생각해보자\r\n",
                "# n개 원판 옮기려면,\r\n",
                "# 1. 일단 1~n-1 원판들이 여분기둥으로 이동 -> n-1을 푸는데 기둥 도착위치가 달라짐(end_peg)\r\n",
                "# 2. n번째 원판을 3번째 기둥으로 옮김(1)\r\n",
                "# 3. 1~n-1 원판들을 3번째기둥-n원판 위로 다시 옮김 -> n-1을 푸는데 기둥시작위치가 달라짐(start_peg)\r\n",
                "# -> n-1부분문제 + 시작or끝위치가 달라짐\r\n",
                "# -> 달라지는 위치를 재귀함수의 인자로 받자!\r\n",
                "\r\n",
                "# base case가.. n==0이면 return (None)인데\r\n",
                "# n==1이면? 1->3 옮기면 끝인데..흠.. 1가지?\r\n",
                "# 방법수를 return하는 문제가 아니므로, print를 해야하는데..\r\n",
                "\r\n",
                "# recursive\r\n",
                "# 문제를 풀기 위해서 사용하는 알고리즘은,\r\n",
                "# 가장 큰 원판을 제외하고나머지 원판들을 start_peg에서 other_peg로 이동\r\n",
                "# 가장 큰 원판을 start_peg에서 end_peg로 이동\r\n",
                "# 나머지 원판들을 other_peg에서 end_peg로 이동\r\n",
                "# -> 1,2,3 고정일 때, 1->2로 옮길 때의 여분은? 3 \r\n",
                "# -> 1,2,3의 합이 6으로 고정되어있으니 나머지를 찾는 것은 고정된 수 - (시작, 끝 )기둥으로 구한다.\r\n",
                "# **숫자들이 고정시에, 합을 이용해 1개를 추론할 수 있음.**\r\n",
                "# other_peg = 6 - start_peg - end_peg\r\n",
                "\r\n",
                "# ** 1~ n개 원판 옮길 때는 hanoi( , , ) / 부분문제 풀고 남은 원반 옮길 때는 move_disk() 로 1개 옮긴 것 출력 in hanoi()**\r\n",
                "\r\n",
                "def move_disk(disk_num, start_peg, end_peg):\r\n",
                "    print(\"%d번 원판을 %d번 기둥에서 %d번 기둥으로 이동\" % (disk_num, start_peg, end_peg))\r\n",
                "\r\n",
                "def hanoi(num_disks, start_peg, end_peg):\r\n",
                "    # 1. base case\r\n",
                "    # 돌아오다가 0개일때만 None으로 종료시킨다.\r\n",
                "    # 1개까지는 원반1개 이동이므로 알아서 hanoi(0)으로 다 None만 리턴받다가 -> move_disk는 n으로 들어가서 print만찍고 끝난다.\r\n",
                "    if num_disks == 0:\r\n",
                "        return \r\n",
                "    \r\n",
                "    # 2. recursive case\r\n",
                "    else : \r\n",
                "        # 2-1. 먼저 빈 기둥(여분기둥)을 찾아낸다.\r\n",
                "        # - 무조건 2번기둥이 아니라, 직전문제해결시 넘겨지는 (시작, 끝기둥)을 기준으로 나머지 여분기둥을 구한다.\r\n",
                "        other_peg = 6 - ( start_peg + end_peg )\r\n",
                "        \r\n",
                "        # 2-2 . 빈기둥에 n-1원판을 옮겨놓는다.\r\n",
                "        hanoi(num_disks-1, start_peg, other_peg)\r\n",
                "        \r\n",
                "        # 2-3. 목표기둥에 n번째 원판만 옮긴다.\r\n",
                "        # - 원판 1개를 옮길 때는, n번째 원판 +  print하는 함수가 호출된다.\r\n",
                "        move_disk(num_disks, start_peg, end_peg)\r\n",
                "        \r\n",
                "        # 2-4. 목표기둥으로 빈기둥에 있떤 n-1개의 원판을 옮긴다.\r\n",
                "        hanoi(num_disks-1, other_peg, end_peg)    \r\n",
                "\r\n",
                "\r\n",
                "hanoi(2, 1, 3)"
            ],
            "outputs": [
                {
                    "output_type": "stream",
                    "name": "stdout",
                    "text": [
                        "1번 원판을 1번 기둥에서 2번 기둥으로 이동\n",
                        "2번 원판을 1번 기둥에서 3번 기둥으로 이동\n",
                        "1번 원판을 2번 기둥에서 3번 기둥으로 이동\n"
                    ]
                }
            ],
            "metadata": {}
        },
        {
            "cell_type": "markdown",
            "source": [
                "## Divide and Conquer(분할정복)"
            ],
            "metadata": {}
        },
        {
            "cell_type": "markdown",
            "source": [
                "### 1~100까지의 합\r\n",
                "\r\n",
                "우리가 작성할 함수 consecutive_sum은 두 개의 정수 인풋 start와 end를 받고, start부터 end까지의 합을 리턴합니다. end는 start보다 크다고 가정합니다.\r\n",
                "\r\n",
                "```python\r\n",
                "def consecutive_sum(start, end):\r\n",
                "    # 코드를 작성하세요\r\n",
                "\r\n",
                "# 테스트\r\n",
                "print(consecutive_sum(1, 10))\r\n",
                "print(consecutive_sum(1, 100))\r\n",
                "print(consecutive_sum(1, 253))\r\n",
                "print(consecutive_sum(1, 388))\r\n",
                "```"
            ],
            "metadata": {}
        },
        {
            "cell_type": "code",
            "execution_count": 4,
            "source": [
                "# 1~100합을 분할정복할 때, \r\n",
                "# 1~99 + 100의 개념 -> consecutive_sum(n) : 로만 끝낼 수 있을 것 같다. consecutive_sum(99) + 100\r\n",
                "# 그러나, 분할정복은  input을  func(n-1) + @ 뿐만 아니라\r\n",
                "# ** n//2 씩 줄어드는 부분문제 혹은 1~n//2  n//2+1~n 으로 길이를 절반으로 분할** 등 여러 형태다.\r\n",
                "# **즉, 탐색범위index가 끝만 변하는게 아니라, 첨/끝이 변동되는 경우 -> 2개다 받음.**\r\n",
                "# 여기서는 부분문제로 갈때, 시작도 달라지므로 n:1~n까지가 아닌 ->  start, end2 개를 받는다.\r\n",
                "def consecutive_sum(start, end):\r\n",
                "    # base case\r\n",
                "    # 부문문제 재귀호출시 최종적으로 호출 -> 가장 먼저 종료되는 base case\r\n",
                "    if start == end :\r\n",
                "        return start \r\n",
                "\r\n",
                "    # recursive case는 input이 분할되면서, 부분문제들이 풀렸다고 가정하고 현재 문제를 해결한다.\r\n",
                "    mid = (start + end )// 2\r\n",
                "    return consecutive_sum(start, mid) + consecutive_sum(mid+1, end)\r\n",
                "    \r\n",
                "    \r\n",
                "\r\n",
                "# 테스트\r\n",
                "print(consecutive_sum(1, 10))\r\n",
                "print(consecutive_sum(1, 100))\r\n",
                "print(consecutive_sum(1, 253))\r\n",
                "print(consecutive_sum(1, 388))"
            ],
            "outputs": [
                {
                    "output_type": "stream",
                    "name": "stdout",
                    "text": [
                        "55\n",
                        "5050\n",
                        "32131\n",
                        "75466\n"
                    ]
                }
            ],
            "metadata": {}
        },
        {
            "cell_type": "code",
            "execution_count": null,
            "source": [],
            "outputs": [],
            "metadata": {}
        }
    ],
    "metadata": {
        "orig_nbformat": 4,
        "language_info": {
            "name": "python",
            "version": "3.8.5",
            "mimetype": "text/x-python",
            "codemirror_mode": {
                "name": "ipython",
                "version": 3
            },
            "pygments_lexer": "ipython3",
            "nbconvert_exporter": "python",
            "file_extension": ".py"
        },
        "kernelspec": {
            "name": "python3",
            "display_name": "Python 3.8.5 64-bit ('ProgramData': virtualenv)"
        },
        "interpreter": {
            "hash": "b3ba2566441a7c06988d0923437866b63cedc61552a5af99d1f4fb67d367b25f"
        }
    },
    "nbformat": 4,
    "nbformat_minor": 2
}