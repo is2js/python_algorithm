{
    "cells": [
        {
            "cell_type": "code",
            "execution_count": null,
            "source": [],
            "outputs": [],
            "metadata": {}
        },
        {
            "cell_type": "markdown",
            "source": [
                "# 기타 알고리즘"
            ],
            "metadata": {}
        },
        {
            "cell_type": "markdown",
            "source": [
                "## 소수 판별(isPrime2()) by 루트(n) floor까지 약수 확인\r\n",
                " - 참고 : [주니온TV 유튜브](https://www.youtube.com/watch?v=tYJ-Rj4e3uM&list=PLHqxB9kMLLaPMCTx_SvlWdTHA6-5vaHZX&index=8)\r\n",
                "\r\n",
                " ![image-20210911201016555](https://raw.githubusercontent.com/is3js/screenshots/main/image-20210911201016555.png)\r\n",
                "\r\n",
                " - 소수와 합성수 (중1수학)\r\n",
                "    - **소수(prime number)** : 자연수 중 약수가 1을 제외하고 자기자신 뿐인 수 = **2 ~ n-1까지 약수가 없는 수**\r\n",
                "      - 소인수분해 : 소수를 찾는 작업\r\n",
                "    - 합성수(composite number) : 2이상 자연수 중 **소수가 아닌 수** (소수를 합성하면 소수가 아닌 수가 된다)"
            ],
            "metadata": {}
        },
        {
            "cell_type": "code",
            "execution_count": 1,
            "source": [
                "# 1, | 2, 3, ... , n-1 |, n\r\n",
                "# 1과 n만 약수 == 나누어떨어짐( n주어지면 확인안해도 나옴)\r\n",
                "# 2~n-1 [를 다 돌더라도] 나누어떨어지는 수가 [없어야한다.]\r\n",
                "# [ for 2~n-1까지   if % ==0 이어서 -> flog가 False로 바뀌지 꺼지면 X ]\r\n",
                "\r\n",
                "n = 15  # 주어지는 값\r\n",
                "\r\n",
                "is_prime = True # 1. Flag 생성 -> 반복문 중 중간에 체크될 듯?\r\n",
                "\r\n",
                "for i in range(2, n): # 2. 소수는 2이상부터 n-1까지의 수가 약수로 없어야함. 1과 n만 약수 -> 2~n-1은 안나누어 떨어져야함.\r\n",
                "    # 그 수로 나눈 나머지 == 0 : == [약수로 가진다.] -> 안걸려야함. -> Flag 안바뀌어야함 + break안걸려야함.\r\n",
                "    if n % i  == 0:\r\n",
                "        is_prime = False\r\n",
                "        break # 발견하면 즉시 종료\r\n",
                "    \r\n",
                "# 3. 주어진 수-1 까지 돌았는데, Flag 변화X 나누어떨어지지X\r\n",
                "if is_prime:\r\n",
                "    print(n, '소수입니다.')\r\n",
                "else:\r\n",
                "    print(n, '소수가 아니므로 합성수입니다.')\r\n",
                "\r\n"
            ],
            "outputs": [
                {
                    "output_type": "stream",
                    "name": "stdout",
                    "text": [
                        "15 소수가 아니므로 합성수입니다.\n"
                    ]
                }
            ],
            "metadata": {}
        },
        {
            "cell_type": "code",
            "execution_count": 2,
            "source": [
                "# flag대신 for else로 바꿔보기\r\n",
                "# - 약수 : 나누어떨어져버린다. % == 0이다.\r\n",
                "# - % == 0 나타날시 탈락 -> 안나타나면 소수O\r\n",
                "\r\n",
                "n = 15  # 주어지는 값\r\n",
                "\r\n",
                "for i in range(2, n): \r\n",
                "    if n % i  == 0:\r\n",
                "        print(n, '소수입니다.')\r\n",
                "        break\r\n",
                "else:\r\n",
                "    print(n, '소수가 아니므로 합성수입니다.')\r\n",
                "\r\n"
            ],
            "outputs": [
                {
                    "output_type": "stream",
                    "name": "stdout",
                    "text": [
                        "15 소수입니다.\n"
                    ]
                }
            ],
            "metadata": {}
        },
        {
            "cell_type": "markdown",
            "source": [
                "##### break와 continue\r\n",
                "\r\n",
                " - break : 현재 도는 반복문 빠져나감\r\n",
                " - continue : 현재 i번째 회전 중 아래코드는 안돌고 다음 for문 처음으로 가서 계속됨."
            ],
            "metadata": {}
        },
        {
            "cell_type": "markdown",
            "source": [
                "##### function\r\n",
                " - 함수 : 정의역의 값을 -> 치역의 값으로 매핑하는 역할\r\n",
                " - 파이썬 함수 : 명확히 구분할 수 있는 실행 단위\r\n",
                "    - 인터프리터 언어로서 위에서부터 내려오면서 실행다가, 함수를 만나면 다른 곳에 가서 실행후 다시 와서 내려간다\r\n",
                "    - 실행제어권이 함수로 넘어갔다가(call) return되서 끝나고 돌아온다.\r\n",
                " - 함수의 입력값 : 매개변수 = argument = 파라미터 = 인수 = 인자\r\n",
                "    "
            ],
            "metadata": {}
        },
        {
            "cell_type": "code",
            "execution_count": null,
            "source": [],
            "outputs": [],
            "metadata": {}
        },
        {
            "cell_type": "code",
            "execution_count": 6,
            "source": [
                "def isPrime(n): # 함수명이 마치, Flag같다? -> True or False반환하도록 하자.\r\n",
                "    for i in range(2, n): \r\n",
                "        if n % i  == 0:\r\n",
                "            return True # 약수가 하나라도 나타나면, break대신 return읆 만나 종료되버린다.(제어권 돌려줌.)\r\n",
                "    return False\r\n",
                "\r\n",
                "# isPrime(15)\r\n",
                "\r\n",
                "numbers = [127, 1023, 2333, 2337, 8191, 10867, 10869]\r\n",
                "\r\n",
                "for n in numbers:\r\n",
                "    if isPrime(n):\r\n",
                "        print(n,'은 소수')\r\n",
                "    else:\r\n",
                "        print(n,'은 합성수')\r\n"
            ],
            "outputs": [
                {
                    "output_type": "stream",
                    "name": "stdout",
                    "text": [
                        "127 은 합성수\n",
                        "1023 은 소수\n",
                        "2333 은 합성수\n",
                        "2337 은 소수\n",
                        "8191 은 합성수\n",
                        "10867 은 합성수\n",
                        "10869 은 소수\n"
                    ]
                }
            ],
            "metadata": {}
        },
        {
            "cell_type": "markdown",
            "source": [
                "### 아주 큰 수의 소수판단은 좀 더 효율적으로!\r\n"
            ],
            "metadata": {}
        },
        {
            "cell_type": "code",
            "execution_count": 9,
            "source": [
                "n = 2147483647 # 21억을 넣으면, 2부터 21억까지 for문을 돈다...\r\n",
                "\r\n",
                "# O(n)이지만, input이 21억이면, 다르게 접근해야한다.\r\n",
                "\r\n",
                "if isPrime(n):\r\n",
                "    print(n,'은 소수')\r\n",
                "else:\r\n",
                "    print(n,'은 합성수')"
            ],
            "outputs": [
                {
                    "output_type": "error",
                    "ename": "KeyboardInterrupt",
                    "evalue": "",
                    "traceback": [
                        "\u001b[1;31m---------------------------------------------------------------------------\u001b[0m",
                        "\u001b[1;31mKeyboardInterrupt\u001b[0m                         Traceback (most recent call last)",
                        "\u001b[1;32m<ipython-input-9-7dc7be087856>\u001b[0m in \u001b[0;36m<module>\u001b[1;34m\u001b[0m\n\u001b[0;32m      1\u001b[0m \u001b[0mn\u001b[0m \u001b[1;33m=\u001b[0m \u001b[1;36m2147483647\u001b[0m\u001b[1;33m\u001b[0m\u001b[1;33m\u001b[0m\u001b[0m\n\u001b[0;32m      2\u001b[0m \u001b[1;33m\u001b[0m\u001b[0m\n\u001b[1;32m----> 3\u001b[1;33m \u001b[1;32mif\u001b[0m \u001b[0misPrime\u001b[0m\u001b[1;33m(\u001b[0m\u001b[0mn\u001b[0m\u001b[1;33m)\u001b[0m\u001b[1;33m:\u001b[0m\u001b[1;33m\u001b[0m\u001b[1;33m\u001b[0m\u001b[0m\n\u001b[0m\u001b[0;32m      4\u001b[0m     \u001b[0mprint\u001b[0m\u001b[1;33m(\u001b[0m\u001b[0mn\u001b[0m\u001b[1;33m,\u001b[0m\u001b[1;34m'은 소수'\u001b[0m\u001b[1;33m)\u001b[0m\u001b[1;33m\u001b[0m\u001b[1;33m\u001b[0m\u001b[0m\n\u001b[0;32m      5\u001b[0m \u001b[1;32melse\u001b[0m\u001b[1;33m:\u001b[0m\u001b[1;33m\u001b[0m\u001b[1;33m\u001b[0m\u001b[0m\n",
                        "\u001b[1;32m<ipython-input-6-40d9f5a06ba3>\u001b[0m in \u001b[0;36misPrime\u001b[1;34m(n)\u001b[0m\n\u001b[0;32m      1\u001b[0m \u001b[1;32mdef\u001b[0m \u001b[0misPrime\u001b[0m\u001b[1;33m(\u001b[0m\u001b[0mn\u001b[0m\u001b[1;33m)\u001b[0m\u001b[1;33m:\u001b[0m \u001b[1;31m# 함수명이 마치, Flag같다? -> True or False반환하도록 하자.\u001b[0m\u001b[1;33m\u001b[0m\u001b[1;33m\u001b[0m\u001b[0m\n\u001b[0;32m      2\u001b[0m     \u001b[1;32mfor\u001b[0m \u001b[0mi\u001b[0m \u001b[1;32min\u001b[0m \u001b[0mrange\u001b[0m\u001b[1;33m(\u001b[0m\u001b[1;36m2\u001b[0m\u001b[1;33m,\u001b[0m \u001b[0mn\u001b[0m\u001b[1;33m)\u001b[0m\u001b[1;33m:\u001b[0m\u001b[1;33m\u001b[0m\u001b[1;33m\u001b[0m\u001b[0m\n\u001b[1;32m----> 3\u001b[1;33m         \u001b[1;32mif\u001b[0m \u001b[0mn\u001b[0m \u001b[1;33m%\u001b[0m \u001b[0mi\u001b[0m  \u001b[1;33m==\u001b[0m \u001b[1;36m0\u001b[0m\u001b[1;33m:\u001b[0m\u001b[1;33m\u001b[0m\u001b[1;33m\u001b[0m\u001b[0m\n\u001b[0m\u001b[0;32m      4\u001b[0m             \u001b[1;32mreturn\u001b[0m \u001b[1;32mTrue\u001b[0m \u001b[1;31m# 약수가 하나라도 나타나면, break대신 return읆 만나 종료되버린다.(제어권 돌려줌.)\u001b[0m\u001b[1;33m\u001b[0m\u001b[1;33m\u001b[0m\u001b[0m\n\u001b[0;32m      5\u001b[0m     \u001b[1;32mreturn\u001b[0m \u001b[1;32mFalse\u001b[0m\u001b[1;33m\u001b[0m\u001b[1;33m\u001b[0m\u001b[0m\n",
                        "\u001b[1;31mKeyboardInterrupt\u001b[0m: "
                    ]
                }
            ],
            "metadata": {}
        },
        {
            "cell_type": "markdown",
            "source": [
                "### [약수찾으면 플래그] 이용 중 -> 약수 찾는 범위를 줄인다.\r\n",
                " \r\n",
                " - 정의에 따르면 1 [2 ~ n-1 ] n **중간에 약수가 1개라도 있으면 안된다**. 하지만 모든 수를 다 검사하면 너무 느리다.\r\n",
                "     - 반대로 **소수가 아니다 = 약수를 1개만 찾으면 된다.**\r\n",
                "     - 1, 2, 4, 8, 16  -> 합성수는 루트(n)에서 대칭을 이룬다.  \r\n",
                "        -  **더 큰 짝과 곱해져서 합성수가 되니 더 큰 짝은 검사해볼 필요 없다.** 작은 짝인 2 ~ 루트(n)까지만 약수가 되냐 안되냐 따지자.\r\n",
                "     - 1, 7 -> 소수라면 루트(n) 이든 뭐든.. 그냥 for문 안에서 안걸린다.\r\n",
                "\r\n",
                " - 약수는 항상 짝을 이루며 / 합성수의 경우, 루트(n)이 그 중간으로써 2번 곱하면 n이 되니까 혼자 짝을 이룬다 생각한다.\r\n",
                "     - 탐색 범위가 루트로 줄어든다.**1 ~ 루트(n)까지만 검사하면, 짝을 이룰테니 절반만 검사하자.**\r\n",
                "        - 1억번 -> 1부터 루트(1억)  = 10000까지만 검사하면 된다. \r\n",
                "     - range의 값에는 int(정수)만 들어가야하므로, **실수인 루트(n)에다가 내림(소수점 버림)을 한다.**\r\n",
                " \r\n",
                "   ![image-20210911205500101](https://raw.githubusercontent.com/is3js/screenshots/main/image-20210911205500101.png)"
            ],
            "metadata": {}
        },
        {
            "cell_type": "code",
            "execution_count": null,
            "source": [],
            "outputs": [],
            "metadata": {}
        },
        {
            "cell_type": "code",
            "execution_count": 16,
            "source": [
                "import math \r\n",
                "\r\n",
                "math.sqrt(4) # 정수라도 sqrt를 씌우면, 실수가 된다 -> 정수화는 int()도 가능하지만, math.floor로 내림을 시킨다."
            ],
            "outputs": [
                {
                    "output_type": "execute_result",
                    "data": {
                        "text/plain": [
                            "2.0"
                        ]
                    },
                    "metadata": {},
                    "execution_count": 16
                }
            ],
            "metadata": {}
        },
        {
            "cell_type": "code",
            "execution_count": 4,
            "source": [
                "import math \r\n",
                "\r\n",
                "def isPrime2(n): \r\n",
                "    # n ** (1/2)로도 루트를 입힐 수 있으나, foor 소수점 버림=내림을 위해 math 모듈을 쓰니까 math.sqrt(square root)도 이용한다.\r\n",
                "    # 루트(n)은 실수다. floor를 채워야한다.\r\n",
                "    for i in range(2, math.floor(math.sqrt(n)) + 1): \r\n",
                "        # 소수를 골라내는게 아니라, 애초에 소수탈락조건인 약수를 찾아서 탈락시킨다.\r\n",
                "        # 약수라면 절반만 찾아도 된다.\r\n",
                "        if n % i  == 0:\r\n",
                "            return False \r\n",
                "    return True"
            ],
            "outputs": [],
            "metadata": {}
        },
        {
            "cell_type": "code",
            "execution_count": 30,
            "source": [
                "n = 2147483647 \r\n",
                "\r\n",
                "if isPrime2(n):\r\n",
                "    print(n,'은 소수')\r\n",
                "else:\r\n",
                "    print(n,'은 합성수')\r\n",
                "\r\n",
                "# 빠르게 종료됨 ㅠ\r\n",
                "# 소수여야지 오래 걸릴 듯. 예를 들어, 짝수면 무조건 2를 약수를 가지므로 2에서 끝남.\r\n",
                "# 참고\r\n",
                "#  2**n -1 (메르센 수) 중에서 찾는 소수도 오래 걸리 듯함.\r\n",
                "#  일단 2^n이 짝수 , -1은 무조건 홀수다. 홀수 중 부분집합 일듯함."
            ],
            "outputs": [
                {
                    "output_type": "stream",
                    "name": "stdout",
                    "text": [
                        "2147483647 은 소수\n"
                    ]
                }
            ],
            "metadata": {}
        },
        {
            "cell_type": "markdown",
            "source": [
                "#### 패키지와 모듈\r\n",
                " - 모듈(module) :  유용한 변수 or 함수를 모아서 제공하는 것 (모듈 = 모다서 py)\r\n",
                " - 패키지(package) : 모듈들(변수, 함수 모다놓은 py)을 디렉토리 구조로 모아놓은 것\r\n",
                "    - import a.b.c 구조\r\n"
            ],
            "metadata": {}
        },
        {
            "cell_type": "code",
            "execution_count": 25,
            "source": [
                "import math # 외장함수 - 모듈 \r\n",
                "from math import pi  # 모듈안에는 함수뿐만 아니라 변수(상수)도 있음.\r\n",
                "\r\n",
                "print(pi) #  3.141592653589793   까지만 저장된듯?\r\n",
                "print(math.floor(pi))\r\n",
                "print(math.ceil(pi))\r\n",
                "print(math.sqrt(pi)) # 제곱근2 = 1.몇  < 제곱근 3 = 1.77? < 제곱근4 =2  : 대충 맞는 것 같다.\r\n",
                "print(math.floor( math.sqrt(pi) ))\r\n"
            ],
            "outputs": [
                {
                    "output_type": "stream",
                    "name": "stdout",
                    "text": [
                        "3.141592653589793\n",
                        "3\n",
                        "4\n",
                        "1.7724538509055159\n",
                        "1\n"
                    ]
                }
            ],
            "metadata": {}
        },
        {
            "cell_type": "markdown",
            "source": [],
            "metadata": {}
        },
        {
            "cell_type": "markdown",
            "source": [
                "### isPrime2(flag함수)를  is not [Flag] + continue ( False일 때 작동하여 다음루프토 건너뜀, 그 아래는 append 등 좋은 작동)\r\n",
                "\r\n",
                "1. 소수를 찾아라 -> 소수는 바로 못찾음. 반대의 약수를 찾자.\r\n",
                "    - 약수후보를 돌면서 약수가 되면 `반대의 Flag + break` or `return Flag(함수)` \r\n",
                "\r\n",
                "2. 여러 수들의 소수를 판단하라 \r\n",
                "    - 소수발견시 True반환 Flag 함수\r\n",
                "        - if not Flag함수 -> True면, 반대로 if False되서 안좋은 거 pass -> 다음 루프가기전 result. append ()\r\n",
                "        - if not Flag함수 -> False면, 반대로 if True되서 안좋은 거 실행 -> 다음 루프로 continue\r\n",
                "            - **이건.. 루프 끝나기 직전에 append를 해야한다는 제약조건 -> False나올 조건을 위에두고 continue로 못내려오고 담 루프로 지나가도록 제약조건이 있을 때?**\r\n",
                "            - **if not [Flag] : continue -> false일때 실행(continue넘어간다)된다! True일 때 지나쳐내려간다(안넘어가고 밑으로 내려감)**\r\n",
                "                - False 아닐 때는 다음루프로 건너뛰는 조건을 만들 때 참고하자.\r\n",
                "                - if True일 때 해당조건을 실행 , else False일 때 실행없이 pass시켜도 될듯\r\n",
                "\r\n",
                "    - if , pass를 쓰면 안되나?\r\n",
                "        - if Flag 함수 -> True -> result.append \r\n",
                "        - if Flag 함수 -> False -> pass 로 다음 루프"
            ],
            "metadata": {}
        },
        {
            "cell_type": "code",
            "execution_count": 32,
            "source": [
                "# Q. 2부터 100까지 중 소수를 찾으시오\r\n",
                "\r\n",
                "primes = [] # 1. isPrime2를 돌면서 모아야함.\r\n",
                "\r\n",
                "for i in range(2, 100+1):\r\n",
                "    if isPrime2(i): \r\n",
                "        primes.append(i)\r\n",
                "    else:\r\n",
                "        pass\r\n",
                "\r\n",
                "primes"
            ],
            "outputs": [
                {
                    "output_type": "execute_result",
                    "data": {
                        "text/plain": [
                            "[2,\n",
                            " 3,\n",
                            " 5,\n",
                            " 7,\n",
                            " 11,\n",
                            " 13,\n",
                            " 17,\n",
                            " 19,\n",
                            " 23,\n",
                            " 29,\n",
                            " 31,\n",
                            " 37,\n",
                            " 41,\n",
                            " 43,\n",
                            " 47,\n",
                            " 53,\n",
                            " 59,\n",
                            " 61,\n",
                            " 67,\n",
                            " 71,\n",
                            " 73,\n",
                            " 79,\n",
                            " 83,\n",
                            " 89,\n",
                            " 97]"
                        ]
                    },
                    "metadata": {},
                    "execution_count": 32
                }
            ],
            "metadata": {}
        },
        {
            "cell_type": "code",
            "execution_count": 35,
            "source": [
                "# 강의 버전. if not [Flag]-> False일 때 작동하여 밑으로 안가고 건너뛰도록  continue\r\n",
                "primes = [] \r\n",
                "\r\n",
                "for i in range(2, 100+1):\r\n",
                "    # False일 때 작동하여, 아래작동(좋은 데이터라 append)을 건너뛰도록 [ if not [Flage함수]:  continue]로 작성됨.\r\n",
                "    if not isPrime2(i):\r\n",
                "        continue\r\n",
                "    # True일 때는, 정상작업이 되도록 한다.\r\n",
                "    primes.append(i)\r\n",
                "\r\n",
                "primes\r\n",
                "len(primes)"
            ],
            "outputs": [
                {
                    "output_type": "execute_result",
                    "data": {
                        "text/plain": [
                            "25"
                        ]
                    },
                    "metadata": {},
                    "execution_count": 35
                }
            ],
            "metadata": {}
        },
        {
            "cell_type": "markdown",
            "source": [
                "#### 숙제\r\n",
                " - 100만 까진 가능한데, 1000만부터는 시간이 오래 걸린다.(못구한다, 오래걸린다)\r\n",
                " \r\n",
                " ![image-20210911215304581](https://raw.githubusercontent.com/is3js/screenshots/main/image-20210911215304581.png)"
            ],
            "metadata": {}
        },
        {
            "cell_type": "markdown",
            "source": [
                "## 소수 카운팅(countPrimes(n)) - tabulation식 판별 by 에라토스테네스의 체"
            ],
            "metadata": {}
        },
        {
            "cell_type": "markdown",
            "source": [
                " - 지난시간까지는 소수판별 함수 isPrime2를 정의함.\r\n",
                "     - 2 ~ 루트(n)에 floor 때린 것 까지 나누어떨어져 약수가 되면 -> False\r\n",
                "     - 다돌아도 약수X -> True \r\n",
                "\r\n",
                "\r\n",
                "\r\n",
                " - 오늘의 문제 : 2~n 까지 중 소수의 갯수는? \r\n",
                "     - isPrime + counting으로 사람이 찾기엔..너무 많다.\r\n",
                "     ![image-20210912204828830](https://raw.githubusercontent.com/is3js/screenshots/main/image-20210912204828830.png)\r\n",
                "\r\n",
                "\r\n",
                "    "
            ],
            "metadata": {}
        },
        {
            "cell_type": "markdown",
            "source": [
                "#### 2~n 중 소수 카운팅 함수 countPrimes with isPrime2"
            ],
            "metadata": {}
        },
        {
            "cell_type": "code",
            "execution_count": 5,
            "source": [
                "# 2~n까지 소수의 갯수\r\n",
                "def countPrimes(n):\r\n",
                "\r\n",
                "    count = 0  # 0 초기화 상태에서 해당될때마다 +=1 누적\r\n",
                "\r\n",
                "    for i in range(2, n+1):\r\n",
                "        if isPrime2(i):\r\n",
                "            count+=1\r\n",
                "\r\n",
                "    return count\r\n",
                "\r\n",
                "n = 100000\r\n",
                "m = countPrimes(n) \r\n",
                "print(n, '이하 소수는' , m , '개입니다.')\r\n"
            ],
            "outputs": [
                {
                    "output_type": "stream",
                    "name": "stdout",
                    "text": [
                        "100000 이하 소수는 9592 개입니다.\n"
                    ]
                }
            ],
            "metadata": {}
        },
        {
            "cell_type": "markdown",
            "source": [
                "#### time 모듈을 이용하여 찾는데 걸린 시간 체크(100만 -> 10초 )"
            ],
            "metadata": {}
        },
        {
            "cell_type": "code",
            "execution_count": 9,
            "source": [
                "import time\r\n",
                "\r\n",
                "n= 1000000\r\n",
                "\r\n",
                "start = time.time()\r\n",
                "\r\n",
                "print(countPrimes(n))\r\n",
                "\r\n",
                "elapsed = time.time() - start \r\n",
                "\r\n",
                "print( elapsed, '초')\r\n",
                "print( elapsed / 60, '분')\r\n",
                "print( elapsed / 60 / 60, '시간')"
            ],
            "outputs": [
                {
                    "output_type": "stream",
                    "name": "stdout",
                    "text": [
                        "78498\n",
                        "10.552892446517944 초\n",
                        "0.17588154077529908 분\n",
                        "0.0029313590129216513 시간\n"
                    ]
                }
            ],
            "metadata": {}
        },
        {
            "cell_type": "markdown",
            "source": [
                "#### 소수 갯수 카운팅 -> 매 숫자마다 탐색범위 중복 -> 에라토스테네스의 체로 해결"
            ],
            "metadata": {}
        },
        {
            "cell_type": "markdown",
            "source": [
                " - 지금까지는 n이 소수? 2~루트(n);floor까지 약수있는지 = 나누어떨어지는지 확인\r\n",
                "     - **매 수마다 첨부터 다시 찾음** -> 문제점\r\n",
                "     - **10000 검색 후 10001 검색 시 또 2부터 다시 10000까지 다시옴**\r\n",
                "     - 서로 다른 n이지만, 점차 적으로 나아갈 땐 찾는 범위가 계속 중복된다.\r\n",
                "         - 1씩 차이 나면,, 1개 빼고 다 중복\r\n",
                "     ```python\r\n",
                "        # 2~n까지 소수의 갯수\r\n",
                "        def countPrimes(n):\r\n",
                "\r\n",
                "            count = 0  \r\n",
                "            # 1개 판별이 아니라, 붙어있는 수들의 소수검사는 할때마다 중복된다.\r\n",
                "            for i in range(2, n+1):\r\n",
                "                # 2~10000 갔다가, 다시 2~10001 -> 2 ~10000 반복됨.\r\n",
                "                if isPrime2(i):\r\n",
                "                    count+=1\r\n",
                "     ```\r\n",
                " - **소수 갯수를 카운팅할 때, 중복되는 부분을 없애주자.**\r\n",
                "     - sieve  : 걸러내는 체\r\n",
                "     - 여러개의 숫자를 넣으면 소수만 걸러줘(몇개인지 카운팅) 합성수는 걸러나가~\r\n",
                "         - 1은 원래부터 소수든 약수판단이든 포함이 안됨.\r\n",
                "     ![image-20210912210751455](https://raw.githubusercontent.com/is3js/screenshots/main/image-20210912210751455.png)"
            ],
            "metadata": {}
        },
        {
            "cell_type": "markdown",
            "source": [
                " - 대전제 \r\n",
                "     - 소수는 1과 자기자신 외 약수 = 곱으로 짝을 이뤄지는 수 = 1, 자기자신 제외 어떤수로 나누면, 나머지가 없는 수 \r\n",
                "     - **1을 제외시키면, 나 자신까지 올때 약수가 아예 없어야함.**\r\n",
                "     - 약수없이 나 자신까지 왔다. -> 소수 -> 남음.\r\n",
                "     - **앞에 암것도 없어서 남아야되는 소수에 대해 \\*2, \\*3 등의 배수를 하면 -> 곱으로 짝을 이룬 약수의 개념이니 무조건 탈락되어야함.**\r\n",
                "     - 100만개를 탐색범위 누적되면서 내 노트북이 10초가 걸렸다. -> 탐색범위를 체로 `소수의배수`를 걸러내자."
            ],
            "metadata": {}
        },
        {
            "cell_type": "markdown",
            "source": [
                "### 에라토스테네스의 체 설명"
            ],
            "metadata": {}
        },
        {
            "cell_type": "markdown",
            "source": [
                "1. `2`를 처음 만났음 -> 2의 약수는 (1, 2) 존재하지 않음. -> 소수 ->  소수를 1번  만나면, **소수의 배수들(1배수 제외)**은 이미 다 지워서 탈락시킨다.\r\n",
                "   - 소수 x 2 = n  에서 -> 2가 약수가 되어버린다. **1제외 곱으로 이루어지면 소수  탈락** = **1제외 곱해서 짝을 이룬다?  = 약수 -> 소수 탈락**\r\n",
                "     ![image-20210912211159900](https://raw.githubusercontent.com/is3js/screenshots/main/image-20210912211159900.png)\r\n",
                "     ![image-20210912211302974](https://raw.githubusercontent.com/is3js/screenshots/main/image-20210912211302974.png)\r\n",
                "     ![image-20210912211302974](https://raw.githubusercontent.com/is3js/screenshots/main/image-20210912211323793.png)\r\n",
                "\r\n",
                "\r\n",
                "\r\n",
                "2. 다음 `3`이라는 소수를 만났으면, 3의 **배수들 다 삭제**\r\n",
                "   ![image-20210912211608802](https://raw.githubusercontent.com/is3js/screenshots/main/image-20210912211608802.png)\r\n",
                "\r\n",
                "   \r\n",
                "\r\n",
                "3. 다음 `5`를 만남.  아직 안지워지고 있었다?  -> 뭐의 곱으로 짝을 이루는 것 X -> **그전까지 (자기자신 나올때까지) 약수가 등장 안했다.**  -> **소수**\r\n",
                "   - 5의 배수들 다 삭제\r\n",
                "     ![image-20210912211748368](https://raw.githubusercontent.com/is3js/screenshots/main/image-20210912211748368.png)\r\n",
                "\r\n",
                "4. 다음 `7` , `11` ... 소수의 배수들을 지워나간다.\r\n",
                "   ![image-20210912211902660](https://raw.githubusercontent.com/is3js/screenshots/main/image-20210912211902660.png)\r\n",
                "\r\n"
            ],
            "metadata": {}
        },
        {
            "cell_type": "markdown",
            "source": [
                "### 에라토스테네스의 체 구현\r\n",
                " - sieve라는 체를 list로 구현한다.\r\n",
                "    - index:value -> n:True/False로 저장할 것임.\r\n",
                " - **list마다 각 index의 소수여부를 채워서 저장**한다.\r\n",
                "    - 처음부터 채워나가는 tabulation 같은 개념으로서, 초기항이 있어야 쌓여나간다.\r\n",
                " - 0과 1은 이미 소수가 아니라 탈락시킨다. -> [ False, False ] \r\n",
                "    - list + 연산으로 extends시키면서 **미리 n까지 모자란 n-1개의 element를 만들어서 채워놓는다.**\r\n",
                "    - 이 때, **이미 소수라고 생각하고 True 로 채워놓고 시작한다.**\r\n",
                "    - 즉, [False, False (F 2개와),  n-1 (2부터n까지 를 True로 채워놓는다.)]\r\n",
                "    ![image-20210912213331898](https://raw.githubusercontent.com/is3js/screenshots/main/image-20210912213334779.png)\r\n",
                "\r\n",
                "```python\r\n",
                "n=100\r\n",
                "# index를 소수판단할n으로 활용하기 위해, 0과 1을 미리 채워두는 sense\r\n",
                "# 나머지는 아직 판단되지 않는 n은 True로 채워놓는데, 2부터 n까지를 채워놓으니,, n-2+1개 = n-1개를 곱해서 요소가 복제된 list를  + 연산으로 괄호떼고 extend한다.\r\n",
                "sieve = [False, False] + [True] * (n-1)\r\n",
                "```\r\n",
                "\r\n",
                " - 이제 i를 2부터 n까지 돌면서, if sieve[2]자리가 True면 == `F(0) F(1) T` 상태로서 FFT는 소수합격이다.\r\n",
                "     - FFTTTTT... 에서 사실상 01에 이어 2도 default로 시작하는 값이네.  그 이후에 배수들이 False로 깔리면서, False로 안바뀐  FFFTrue가 등장하면 무조건 소수다. -> 다시 배수들로 False깔고.. 돌다가 True나오는 순간 소수다.\r\n",
                "     - 어떤 수의 배수 = 2배부터 등차수열 -> range(n*2, ,n): 로 만든다.\r\n",
                "\r\n",
                "```python\r\n",
                "n=100\r\n",
                "sieve = [False, False] + [True] * (n-1)\r\n",
                "\r\n",
                "primes = [] \r\n",
                "\r\n",
                "for i in range(2, n+1):\r\n",
                "   # 직전의 소수에 의해 배수들이 False로 불꺼졌는데도 True로 살아있다? -> 소수등록 + 배수들 불끄기\r\n",
                "   if sieve[i]:\r\n",
                "      primes.append(i)\r\n",
                "      # i의 배수를 range(, ,i)의 등차수열로 가는 센스, 시작도 2배수부터다!\r\n",
                "      for j in range(i*2, n+1, i):\r\n",
                "         sieve[j] = False # 2배 부터 배수들 불끄기 \r\n",
                "\r\n",
                "```\r\n",
                "\r\n"
            ],
            "metadata": {}
        },
        {
            "cell_type": "code",
            "execution_count": 22,
            "source": [
                "# 0,1자리를 False, 2부터 True list -> 2를 챙겨놓고, 2의 배수슬 False로 불끈다.\r\n",
                "# 불꺼도 아직 살아있다? 100%소수니 챙긴다. 그리고 배수들 불끈다.\r\n",
                "\r\n",
                "n=100\r\n",
                "sieve = [False, False] + [True] * (n-1)\r\n",
                "\r\n",
                "primes = [] \r\n",
                "\r\n",
                "for i in range(2, n+1):\r\n",
                "    # 직전의 소수에 의해 배수들이 False로 불꺼졌는데도 True로 살아있다? -> 소수등록 + 배수들 불끄기\r\n",
                "    if sieve[i]:\r\n",
                "        primes.append(i)\r\n",
                "        # i의 배수를 range(, ,i)의 등차수열로 가는 센스, 시작도 2배수부터다!\r\n",
                "        for j in range(i*2, n+1, i):\r\n",
                "            sieve[j] = False # 2배 부터 배수들 불끄기 \r\n",
                "\r\n",
                "print(sieve)\r\n",
                "print(primes)\r\n",
                "print(len(primes))"
            ],
            "outputs": [
                {
                    "output_type": "stream",
                    "name": "stdout",
                    "text": [
                        "[False, False, True, True, False, True, False, True, False, False, False, True, False, True, False, False, False, True, False, True, False, False, False, True, False, False, False, False, False, True, False, True, False, False, False, False, False, True, False, False, False, True, False, True, False, False, False, True, False, False, False, False, False, True, False, False, False, False, False, True, False, True, False, False, False, False, False, True, False, False, False, True, False, True, False, False, False, False, False, True, False, False, False, True, False, False, False, False, False, True, False, False, False, False, False, False, False, True, False, False, False]\n",
                        "[2, 3, 5, 7, 11, 13, 17, 19, 23, 29, 31, 37, 41, 43, 47, 53, 59, 61, 67, 71, 73, 79, 83, 89, 97]\n",
                        "25\n"
                    ]
                }
            ],
            "metadata": {}
        },
        {
            "cell_type": "markdown",
            "source": [
                "#### 에라토스테네스의 체 함수화"
            ],
            "metadata": {}
        },
        {
            "cell_type": "code",
            "execution_count": 29,
            "source": [
                "def countPrimes2(n):\r\n",
                "    sieve = [False, False] + [True] * (n-1)\r\n",
                "    # primes = [] \r\n",
                "    count = 0\r\n",
                "\r\n",
                "    for i in range(2, n+1):\r\n",
                "        if sieve[i]:\r\n",
                "            # primes.append(i)\r\n",
                "            count+=1\r\n",
                "            for j in range(i*2, n+1, i):\r\n",
                "                sieve[j] = False # 2배 부터 배수들 불끄기 \r\n",
                "\r\n",
                "        # print(i)\r\n",
                "\r\n",
                "    return count\r\n",
                "\r\n",
                "countPrimes2(100)"
            ],
            "outputs": [
                {
                    "output_type": "execute_result",
                    "data": {
                        "text/plain": [
                            "25"
                        ]
                    },
                    "metadata": {},
                    "execution_count": 29
                }
            ],
            "metadata": {}
        },
        {
            "cell_type": "markdown",
            "source": [
                "### isPrime과 체(sieve)의 차이\r\n",
                " - isPrime 2~루트n까지 자연수에 약수가 있는지\r\n",
                " - sieve는 처음부터 나가면서 배수들을 제거하고도 살아남으면 소수\r\n",
                "     - 효율성이 더좋음.\r\n",
                "\r\n",
                "\r\n",
                "\r\n",
                "\r\n",
                "![image-20210912215952402](https://raw.githubusercontent.com/is3js/screenshots/main/image-20210912215952402.png)\r\n",
                "\r\n",
                " - 큰 수를 넣오면 시간차이가 확 난다.\r\n",
                "\r\n",
                "     "
            ],
            "metadata": {}
        },
        {
            "cell_type": "code",
            "execution_count": null,
            "source": [],
            "outputs": [],
            "metadata": {}
        },
        {
            "cell_type": "code",
            "execution_count": null,
            "source": [],
            "outputs": [],
            "metadata": {}
        },
        {
            "cell_type": "markdown",
            "source": [
                "## 소인수 분해(factorize2)"
            ],
            "metadata": {}
        },
        {
            "cell_type": "markdown",
            "source": [
                " - 중1 때 배우는 내용이지만, 아주 큰 수는 중학교 때 배운 것으로는 못푸는, 컴퓨터 과학 개론시간에 배우는 내용이다.\r\n",
                " ![image-20210913200340721](https://raw.githubusercontent.com/is3js/screenshots/main/image-20210913200340721.png)"
            ],
            "metadata": {}
        },
        {
            "cell_type": "markdown",
            "source": [
                "### 소인수와 소인수분해\r\n",
                " - 소인수 : 어떤 자연수에 대해,  인수(=약수) 중에서 소수인 것\r\n",
                "    - 즉, 소수인 약수(약수인데 소수인 것)\r\n",
                "    - 영어에서는 factor라고 함.\r\n",
                " - 소인수 분해 : 1보다 큰 자연수를,  소인수의 곱으로만 나타내는 것\r\n",
                "    - (2이상의 자연수를) 소인수로만 나타내는 것\r\n",
                "    - 영어로는 factorization\r\n",
                "   \r\n",
                "\r\n",
                " - 예를 들어, 45를 3 X 15로 나타낼 수 있는데, 15는 소수가 아니다.\r\n",
                "    - 3 X ( 3 X 5 )로 모두 소수인 약수들로만 표현하는 것이 소인수 분해\r\n",
                "       - 혹은 3**2 X 5**1\r\n",
                "    ![image-20210913200950072](https://raw.githubusercontent.com/is3js/screenshots/main/image-20210913200950072.png)\r\n",
                "\r\n",
                "    ![image-20210913201000215](https://raw.githubusercontent.com/is3js/screenshots/main/image-20210913201000215.png)\r\n",
                "\r\n",
                "\r\n",
                " - 작은 수의 경우, 중1때 처럼, 나머지가 소수가 될때까지 계속해서 n을 n보다는 작은 소수로 나누어 주는 방법을 사용한다.\r\n",
                " ![image-20210913201255886](https://raw.githubusercontent.com/is3js/screenshots/main/image-20210913201255886.png)\r\n",
                "\r\n",
                "\r\n",
                "\r\n"
            ],
            "metadata": {}
        },
        {
            "cell_type": "markdown",
            "source": [
                "#### 소인수 분해의 방법(factorize with isPrime2 -> findPrimes)\r\n",
                "\r\n",
                " 1. n보다 작은 소수를 알고있으면, n을 계속 나눈다. (나누어진 값이 소수가 될때까지)\r\n",
                "     - **소인수가 될 후보들인 `n보다 작은 소수들`을 다 알고 있어야한다. -> def findPrimes(n)**"
            ],
            "metadata": {}
        },
        {
            "cell_type": "code",
            "execution_count": 10,
            "source": [
                "# countPrimes()대신 findPrimes()로 count += 1 아니라 소수들을 append한다.\r\n",
                "# n이 주어지면 -> 2부터 n까지 소수를 담아서 return한다.\r\n",
                "# - 앞에서 소수판별flag함수인 isPrime2()를 활용한다.\r\n",
                "import math \r\n",
                "def isPrime2(n): \r\n",
                "    for i in range(2, math.floor(math.sqrt(n)) + 1): \r\n",
                "        if n % i  == 0:\r\n",
                "            return False \r\n",
                "    return True\r\n",
                "\r\n",
                "# n을 주면, 2~n까지 소수의 갯수X 소수들으 다 구해서 list로 반환\r\n",
                "# - 주의!) 소인수분해에서는 n보다 작은 것들로 나눠야함.\r\n",
                "def findPrimes(n):\r\n",
                "    if n<2:\r\n",
                "        return \r\n",
                "    primes = []\r\n",
                "\r\n",
                "    for i in range(2, n+1):\r\n",
                "        if isPrime2(i):\r\n",
                "            primes.append(i)\r\n",
                "\r\n",
                "    return primes \r\n",
                "\r\n",
                "\r\n",
                "findPrimes(11)\r\n",
                "\r\n"
            ],
            "outputs": [
                {
                    "output_type": "execute_result",
                    "data": {
                        "text/plain": [
                            "[2, 3, 5, 7, 11]"
                        ]
                    },
                    "metadata": {},
                    "execution_count": 10
                }
            ],
            "metadata": {}
        },
        {
            "cell_type": "markdown",
            "source": [
                " 2. 소인수후보들(2~n-1까지의 소수들)을 돌면서, n으로 나눈 나머지가 0?(1은 소수에 끼질 않아서 고려X, 자기자신은 따로 빼줘야할듯?)\r\n",
                "     - 자신보다 작은(2~n-1) 소수인(소인수 후보들)중에 약수(소인수)가 있느냐? 판단해야함.\r\n",
                "     - 만약에, 나누어떨어졌다? 그럼 챙기면서, 그 수를 //i(소인수)로 나눈 값이 다시 n이 되도록 업데이트한다. \r\n",
                "     - 나눌 수 있을 때까지 나눠서 그 소인수**k 로 빠져나가고  X 나머지부분 들로 구성되도록 **`while 조건`으로 n을 지속 업데이트 해나간다.**\r\n",
                "     - 나눈 횟수만큼 append도 될테니 소인수의 몇승인지는 챙겨놓은 것으로 판단하면 된다.\r\n",
                "        - 예를 들어, 45 를 2? 안됨. 3?  45 % 3 == 0 , 3을 1번 빼고, n(45)를 15로 만든 뒤, 3으로 한번 더 빼지는지 계속 확인해야함. [3, 3, 5] \r\n"
            ],
            "metadata": {}
        },
        {
            "cell_type": "code",
            "execution_count": 27,
            "source": [
                "# 1. findPrimes를 이용 : 2~n까지 소수list를 반환 -> 소인수 분해서 n은 빼야할텐데..\r\n",
                "# 2. 원래 소인수 분해는 n이 빠진 2~n-1중 소수들을 소인수(소수인 약수)후보로 두고, 나누어서 나머지가 0인지 확인함.\r\n",
                "# -> 내가 in + remove(value)로 직접필터링함..\r\n",
                "\r\n",
                "def factorize(n):\r\n",
                "    factors = []\r\n",
                "\r\n",
                "    primes = findPrimes(n) # 2~n중 소수들\r\n",
                "\r\n",
                "    # **my) findPrimes를 수정안하고(n까지 찾고) 소인수분해에서 2~n-1까지만 후보니까.. 직접 빼주는 과정 만듬.**\r\n",
                "    # my) n은 2 or 앞에서 줄어들기 때문에.. 자기자신까지 돌아도.. 나누어떨어질 리가 없다?\r\n",
                "    # my) n은 줄면서 업데이트 되지만, 혹시나 몰라서.. 자기자신이 첫번째로 들어가 나누어 떨어져버리면?\r\n",
                "    # factorize(11) -> 11 ... 반례도 있다. n은 줄어들어서 n으로 필터링 못하니.. primes에서 미리빼놓자?\r\n",
                "    # value 가 없다면 ValueError: list.remove(x): x not in list 가 난다.\r\n",
                "    if n in primes :\r\n",
                "        primes.remove(n) \r\n",
                "\r\n",
                "    for i in primes:\r\n",
                "        # if n % i == 0:\r\n",
                "        #     factors.append(i)\r\n",
                "        #     n = n //i\r\n",
                "            # **my) 또 if 해야한다. 재귀로 들어가야할 것같다.. -> if조건문을 -> while 조건으로 재귀를 쓰지말자**\r\n",
                "            # **n은 // i로 팍팍 줄고 + 재귀로 if문이 반복되면, while문으로 돌리자.**\r\n",
                "        \r\n",
                "        while n % i ==0:\r\n",
                "            # **내가 만들어준 것.. 자기자신은 소인수에서 빼야하지 않나.. 소인수에 1과 n은 안들어감.. 2~n-1로 구성된 것이 소인수**\r\n",
                "            # if i == n: # findprimes(n)은  n까지 찾으니.. 내가 필터링하자.\r\n",
                "            #     break \r\n",
                "            # **문제는... n이 // i로 줄어들도록 업데이트 된다. **\r\n",
                "            # **그렇다면, if i == n으로 필터링 하면 안됨.. n은 변하는 수임..더 위에서 걸러야할듯.**\r\n",
                "\r\n",
                "            factors.append(i)\r\n",
                "            n = n //i\r\n",
                "            # 안나누어떨어질때까지 계속 시행함. factors에서 같은 소인수가 쌓임. n은 업데이트됨.\r\n",
                "    return factors if len(factors) != 0 else \"소인수 분해 할 수 없습니다.\"\r\n",
                "\r\n",
                "factorize(3757208) # 소인수분해가..55초 걸린다.\r\n",
                "# findPrimes(11)          "
            ],
            "outputs": [
                {
                    "output_type": "execute_result",
                    "data": {
                        "text/plain": [
                            "[2, 2, 2, 7, 13, 13, 397]"
                        ]
                    },
                    "metadata": {},
                    "execution_count": 27
                }
            ],
            "metadata": {}
        },
        {
            "cell_type": "markdown",
            "source": [
                "### 좀 더 빠른 소인수분해 방법(factorize2)\r\n",
                "\r\n",
                " 1. factorize(n) : 소인수 후보가 될 소수(2~n-1)를 일단 다 찾는다. by findPrimes()\r\n",
                " 2. 그 이후 하나씩, 나누어질때까지 n을 업데이트 해가며 찾는다.\r\n",
                "\r\n",
                " * **하지만, 2~n-1까지의 소수(n보다 작은 `모든` 소수)를 `isPrimes으로 1~n-1, 1~n방식`으로 찾는 것은 에라토스테네스의 체(`해당하는 초기항(index에 2 -> True) 줘놓고, 찾은 값을 기준으로 탐색범위 줄이기`) 를 이용해야할만큼 쉽지 않았다.**\r\n",
                "     - sieve는 하나씩 찾는 개념이 아니라, `list에` 0, 1 기본에 + `2부터 True를 미리 채워놓고`, 앞에서 1개 찾았으면 -> 뒤에 배수들은 다 지워나가면서, 아직 켜져있는 놈들만 검색했음.\r\n",
                "     \r\n",
                " - 소인수 분해도 sieve의 tabulation의 [F,F,`T` ~ ]처럼, 해당하는 초기항을 바탕으로 **찾은 값을 이용한 탐색범위(n) 줄이면서 i를 업데이트** 작전을 시행함.\r\n",
                "     1. 현재 factor에 2를 넣어놓는다. factor를 업데이트 하면서 쭉쭉 while로 n을 줄여나갈 것이다.\r\n",
                "         - **findPrimes의 과정이 아예 없어지고 초기항 2부터 출발하며 +1씩 업데이트** -> 업데이트 하면서 **`while 조건문에 있는 n을 줄여나가도록 업데이트`** \r\n",
                "         - 즉, **2~n-1까지의 후보들을 찾는 과정**을 빼고, `초기항 2부터 +1씩 올라가면서 i+1 업데이트 + n=n//i의 줄이는 업데이트`하면서 찾기\r\n",
                "         \r\n",
                "     2.  **factorize는 이미 소수들을 찾고, 소수들을 돌렸으나 지금은 소수를 2부터 시작하지만 +1씩 증가시킨다?**\r\n",
                "         - **factor를 2부터 `+1씩 업데이트이지만, while factor**2 <= n`의 조건을 통해, **n이 아닌 루트(n)까지만 확인해보겠다는 의미**다.\r\n",
                "         - 2,3,4,5,6, 모두 확인해서 루트(n)까지 갈래? vs 소수만 2, 3, 5, 7... n까지 갈래?를 따져봤더니\r\n",
                "             - **소수가 아닌 i씩 증가시켜서 확인하더라도, 루트(n)까지만 검사하는게 더 빠르다.**라는 계산이 나왔기 때문에 이렇게 하는 것.\r\n",
                "         - 소수를 돌리는게 더 빠를 것 같지만, 각 소수들은 findPrimes한 시간이 있다. **findPrimes해서 소수 돌릴 시간에, 그냥 2, 3, 4를 나누어보면 쭉쭉 줄어드니까, 금방 n이 소인수 분해 되기 때문이다.** + 줄어드는 n에 대해 루트(n)까지만 탐색\r\n",
                "             ![image-20210913215408720](https://raw.githubusercontent.com/is3js/screenshots/main/image-20210913215408720.png)\r\n",
                "             - 24를 가지고 해보면, 2 3번에, 3번으로 `1`이 나왔다.(소인수 분해 끝)\r\n",
                "                 - **`1`이 나온 순간부터, 어느수를 나누든지 나누어떨어지지 않으며, 범위가 루트(n)까지 이므로 이미 끝나버린다.**\r\n",
                "                 ![image-20210913215632422](https://raw.githubusercontent.com/is3js/screenshots/main/image-20210913215632422.png)\r\n",
                "         - 주의해야 될점은 **딱 나누어 떨어져 24=2223**으로 나누어떨어지면 n==1이 되지만, **`n>1 큰 체로 남아있게 되면, 그 n도 소인수로 취급해서 넣어준다.`**\r\n",
                "         \r\n",
                "\r\n",
                "\r\n",
                "\r\n",
                "\r\n",
                "\r\n"
            ],
            "metadata": {}
        },
        {
            "cell_type": "code",
            "execution_count": 33,
            "source": [
                "def factorize2(n):\r\n",
                "    # 소수를 미리 구하는 findPrime 대신에, 그냥 factor를 2로 해당되는 초기항을 주고 +1씩 증가시키면서 업데이트 + 범위는 루트(n)까지만.\r\n",
                "    # 1. +1씩 증가시켜도, 이미 해당되는 factor=2부터 최대한 n을 줄이면서 나누어지니, 2의 배수들 불끄는 sieved와도 비슷하다. 하지만 이것은 factorize에도 있는 계산방식\r\n",
                "    factors = [] \r\n",
                "    factor=2\r\n",
                "\r\n",
                "    while( factor ** 2 <= n) : # 특이하게 루트(n)까지만 돌건데, 범위를 이렇게 표현했다.(math없이 루트를 표현)\r\n",
                "        # if n % factor == 0:\r\n",
                "        #     factors.append( factor ) # 2부터 +1씩 나누어떨어지는 것만 넣어도,, 아래의 while n%factor == 0: 조건으로 이미 2에서 2배수 다제낀 상태라.. 소수라 판단해도 된다.\r\n",
                "        #     n = n // factor \r\n",
                "        #     if n % factor == 0: # 업데이트 이후 똑같은 과정이 또 들어간다면, while문으로 올리자.\r\n",
                "        while n % factor == 0:\r\n",
                "            # if문이 재귀형식으로 이어져 while문으로 바꿨어도, 해석은 만약 ~으로 해주자.\r\n",
                "            factors.append(factor)\r\n",
                "            n = n // factor\r\n",
                "            # while [if재귀문]을 올리고 [계속 ~ 할때까지] 작성하고 / 그 [더이상 ~ 않는다면, ~가 끝났다면] 으로 해석하면서 while문 끝난 밑으로 내려온다.\r\n",
                "        # while(조건문 끝의 해석) : [더이상] 나누어떨어지지 [않는다면]\r\n",
                "        factor += 1 # factor는 다음 것으로 1씩 커지면서 돌아간다. 그래도 소수들 미리 구한 것보다 빠르다.\r\n",
                "\r\n",
                "    # while 조건끝의 해석 : 더이상 탐색범위에 못든다면.. = 끝났다면, factors를 반환하기 전에\r\n",
                "    # **주의사항.. n의 몫이1로서 업데이트됬따면 딱 나누어 떨어진 것 -> factor들만으로 끝**\r\n",
                "    # n > 1이라면, factor에 의해 n이 나누어 떨어지지 않고 조금 남은 상태 -> 다 지나왔는데도,, 3이 남아있으면.. 그 3(n)도 곱해지는 소인수의 하나이다.\r\n",
                "    if n>1:\r\n",
                "        factors.append(n)\r\n",
                "\r\n",
                "    return factors\r\n",
                "\r\n",
                "factorize2(3757208) \r\n",
                "# factorize : 55초\r\n",
                "# factorize2 : 0.8초... 13부터 넘어가면.. 훅훅 뛴다.\r\n",
                "# -> 2부터 +1씩 커져도 , 13만 되어도,, 훅훅 떨어져버린다.\r\n",
                "\r\n",
                " "
            ],
            "outputs": [
                {
                    "output_type": "execute_result",
                    "data": {
                        "text/plain": [
                            "[2, 2, 2, 7, 13, 13, 397]"
                        ]
                    },
                    "metadata": {},
                    "execution_count": 33
                }
            ],
            "metadata": {}
        },
        {
            "cell_type": "code",
            "execution_count": 34,
            "source": [
                "factorize2(45) \r\n"
            ],
            "outputs": [
                {
                    "output_type": "execute_result",
                    "data": {
                        "text/plain": [
                            "[3, 3, 5]"
                        ]
                    },
                    "metadata": {},
                    "execution_count": 34
                }
            ],
            "metadata": {}
        },
        {
            "cell_type": "code",
            "execution_count": 35,
            "source": [
                "factorize2(287994837222311) \r\n",
                "# 엄청 큰 소수들로 합성수(2이상 소수이 곱으로 만들어진 것?)를 만들면, 암호화에 이용이 된다."
            ],
            "outputs": [
                {
                    "output_type": "execute_result",
                    "data": {
                        "text/plain": [
                            "[17, 1739347, 9739789]"
                        ]
                    },
                    "metadata": {},
                    "execution_count": 35
                }
            ],
            "metadata": {}
        },
        {
            "cell_type": "markdown",
            "source": [
                "### 소인수 분해(list) 후 중복아닌 것만 찾기( not in 모으는 곳) findFactors\r\n",
                "\r\n",
                " - x in list : 있는가?\r\n",
                "     - x not in list : `없는가?` -> **`없으면 append`해라의 `중복제거`하기 응용된다.**\r\n",
                "         - set -> list로 가도 될 것 같은데.."
            ],
            "metadata": {}
        },
        {
            "cell_type": "code",
            "execution_count": 38,
            "source": [
                "def findFactors(n):\r\n",
                "    factor_list = factorize2(n)\r\n",
                "    \r\n",
                "    factors = []\r\n",
                "\r\n",
                "    for i in factor_list:\r\n",
                "        if i not in factors:\r\n",
                "            factors.append(i)\r\n",
                "    return factors \r\n",
                "\r\n",
                "findFactors(45) # 중복을 제거한 소인수 분해된 소인수들"
            ],
            "outputs": [
                {
                    "output_type": "execute_result",
                    "data": {
                        "text/plain": [
                            "[3, 5]"
                        ]
                    },
                    "metadata": {},
                    "execution_count": 38
                }
            ],
            "metadata": {}
        },
        {
            "cell_type": "markdown",
            "source": [
                "#### factorize 속 findPrimes(n)의 변형으로 factorize2를 따라 잡을 수 있을까? (No)\r\n",
                "\r\n",
                " 1. factorize()\r\n",
                "     - findPrimes() : 2부터 `n`까지 소인수분해 후보가 되는 `소수들을 미리 다 구해놔서` 시간이 오래 걸림\r\n",
                "     \r\n",
                " 2. factorize2(): 2부터 `+1씩  루트(n)`까지 점차적으로 찾음. \r\n",
                "\r\n",
                " 3. factorize3() : findPrimes2()를 만들어서, 2부터 `n//2`까지 소수들을 미리 다구해놓으면?\r\n",
                " \r\n",
                "\r\n",
                "\r\n",
                " - 예를 들어, 24는 2223으로 소인수 분해된다.\r\n",
                "     - 24까지의 소인수 후보들을 구해보면, 2, 3, 5, 7, 11, 13, 17, 19, 23 이다.\r\n",
                "     - **근데 24//2인 `12`까지만 보고, `13은 보지 않더라도 13 X 최소의 소수인 2 = 26`으로 24를 벌써 넘어버린다.**\r\n",
                "         - **즉, n에 대한 소인수분해시, 소수후보들은 `2 ~ n//2`까지만  봐도 충분하다는 뜻이다.**"
            ],
            "metadata": {}
        },
        {
            "cell_type": "code",
            "execution_count": 42,
            "source": [
                "import math \r\n",
                "def isPrime2(n): \r\n",
                "    for i in range(2, math.floor(math.sqrt(n)) + 1): \r\n",
                "        if n % i  == 0:\r\n",
                "            return False \r\n",
                "    return True\r\n",
                "\r\n",
                "\r\n",
                "# 2~n까지 소수를 찾은 findPrimes의 탐색 범위를 절반으로 줄인다.\r\n",
                "def findPrimes2(n):\r\n",
                "    if n<2:\r\n",
                "        return \r\n",
                "    primes = []\r\n",
                "    # for i in range(2, n+1):\r\n",
                "    for i in range(2, n//2 + 1):\r\n",
                "        if isPrime2(i):\r\n",
                "            primes.append(i)\r\n",
                "    return primes \r\n",
                "\r\n",
                "\r\n",
                "\r\n",
                "# 2~n 의 findPrimes대신, 2~n//2까지의 소수들을 찾아놓는 findPrime2를 쓴다.\r\n",
                "def factorize3(n):\r\n",
                "    factors = []\r\n",
                "\r\n",
                "    # primes = findPrimes(n)\r\n",
                "    primes = findPrimes2(n)\r\n",
                "\r\n",
                "    if n in primes :\r\n",
                "        primes.remove(n) \r\n",
                "\r\n",
                "    for i in primes:\r\n",
                "        while n % i ==0:\r\n",
                "            factors.append(i)\r\n",
                "            n = n //i\r\n",
                "    return factors if len(factors) != 0 else \"소인수 분해 할 수 없습니다.\"\r\n",
                "\r\n",
                "factorize3(3757208) #\r\n",
                "# 1: 62초\r\n",
                "# 2: 0.7초 - 2~루트(n)까지 점차적으로 찾음.\r\n",
                "# 3: 24초 - 2~ n//2 까지 미리 소수들 찾아놓고 돌아서 찾음.\r\n",
                "\r\n",
                "# 결론 : 소수후보들을 미리 구하는 방식은 너무 느리다.\r\n"
            ],
            "outputs": [
                {
                    "output_type": "execute_result",
                    "data": {
                        "text/plain": [
                            "[2, 2, 2, 7, 13, 13, 397]"
                        ]
                    },
                    "metadata": {},
                    "execution_count": 42
                }
            ],
            "metadata": {}
        },
        {
            "cell_type": "markdown",
            "source": [
                "## 최대공약수(GCD) 구하기"
            ],
            "metadata": {}
        },
        {
            "cell_type": "markdown",
            "source": [
                " ![image-20210914204111823](https://raw.githubusercontent.com/is3js/screenshots/main/image-20210914204111823.png)\r\n",
                "\r\n",
                " - 이 문제는 3개 숫자의 공약수 중 가장 큰 것을 구한 뒤, 그것(최대공약수, GCD)을 각각의 수에 나누면,  GCD * 몫만큼을 GCD명에게 똑같이 나누어 줄 수 있다.\r\n",
                "     - 최대공약수(GCD: Geatest Common Divisor)"
            ],
            "metadata": {}
        },
        {
            "cell_type": "markdown",
            "source": [
                "### 약수 구하기(divisors(n))"
            ],
            "metadata": {}
        },
        {
            "cell_type": "code",
            "execution_count": 50,
            "source": [
                "#  소수(2~n-1까지 약수X ->나누어떨어지면 안됨) 찾기와 달리\r\n",
                "#  약수(1~n전체 포함 나누어떨어지면 약수1) -> 약수의 갯수는??\r\n",
                "def divisors(n):\r\n",
                "    div = []\r\n",
                "    for i in range(1, n+1):\r\n",
                "        if n % i == 0: # 약수이면~ 1도 포함~\r\n",
                "            div.append(i)\r\n",
                "\r\n",
                "    return div \r\n",
                "\r\n",
                "x = 78696\r\n",
                "\r\n",
                "\r\n",
                "div_x = divisors(x)\r\n",
                "print(div_x)"
            ],
            "outputs": [
                {
                    "output_type": "stream",
                    "name": "stdout",
                    "text": [
                        "[1, 2, 3, 4, 6, 8, 9, 12, 18, 24, 36, 72, 1093, 2186, 3279, 4372, 6558, 8744, 9837, 13116, 19674, 26232, 39348, 78696]\n"
                    ]
                }
            ],
            "metadata": {}
        },
        {
            "cell_type": "code",
            "execution_count": 51,
            "source": [
                "y = 19332\r\n",
                "div_y = divisors(y)\r\n",
                "print(div_y)"
            ],
            "outputs": [
                {
                    "output_type": "stream",
                    "name": "stdout",
                    "text": [
                        "[1, 2, 3, 4, 6, 9, 12, 18, 27, 36, 54, 108, 179, 358, 537, 716, 1074, 1611, 2148, 3222, 4833, 6444, 9666, 19332]\n"
                    ]
                }
            ],
            "metadata": {}
        },
        {
            "cell_type": "markdown",
            "source": [
                "### 공약수 찾기(commons(n)) by 각각 divisors() + in연산"
            ],
            "metadata": {}
        },
        {
            "cell_type": "code",
            "execution_count": 53,
            "source": [
                "def commons(n, m):\r\n",
                "    comm = [] \r\n",
                "    # n을 먼저 돌면서\r\n",
                "    for i in n:\r\n",
                "        # m에는 in으로 확인하여 포함되어있으면\r\n",
                "        if  i in m:\r\n",
                "            comm.append(i)\r\n",
                "\r\n",
                "    return comm \r\n",
                "\r\n",
                "comm = commons(div_x, div_y)\r\n",
                "print(comm)"
            ],
            "outputs": [
                {
                    "output_type": "stream",
                    "name": "stdout",
                    "text": [
                        "[1, 2, 3, 4, 6, 9, 12, 18, 36]\n"
                    ]
                }
            ],
            "metadata": {}
        },
        {
            "cell_type": "code",
            "execution_count": 55,
            "source": [
                "# my).. 그냥 set으로 교집합 구하는게 더 빠를듯?\r\n",
                "list(set(div_x) & set(div_y))"
            ],
            "outputs": [
                {
                    "output_type": "execute_result",
                    "data": {
                        "text/plain": [
                            "[1, 2, 3, 4, 36, 6, 9, 12, 18]"
                        ]
                    },
                    "metadata": {},
                    "execution_count": 55
                }
            ],
            "metadata": {}
        },
        {
            "cell_type": "markdown",
            "source": [
                "### 최대공약수(gcd(n, m)) by divisor(n) + commons(n) "
            ],
            "metadata": {}
        },
        {
            "cell_type": "code",
            "execution_count": null,
            "source": [],
            "outputs": [],
            "metadata": {}
        }
    ],
    "metadata": {
        "orig_nbformat": 4,
        "language_info": {
            "name": "python",
            "version": "3.8.5",
            "mimetype": "text/x-python",
            "codemirror_mode": {
                "name": "ipython",
                "version": 3
            },
            "pygments_lexer": "ipython3",
            "nbconvert_exporter": "python",
            "file_extension": ".py"
        },
        "kernelspec": {
            "name": "python3",
            "display_name": "Python 3.8.5 64-bit ('ProgramData': virtualenv)"
        },
        "interpreter": {
            "hash": "b3ba2566441a7c06988d0923437866b63cedc61552a5af99d1f4fb67d367b25f"
        }
    },
    "nbformat": 4,
    "nbformat_minor": 2
}