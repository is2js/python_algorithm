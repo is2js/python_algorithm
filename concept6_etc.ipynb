{
    "cells": [
        {
            "cell_type": "markdown",
            "source": [
                "## 기타 알고리즘"
            ],
            "metadata": {}
        },
        {
            "cell_type": "markdown",
            "source": [
                "## 소수 판별\r\n",
                " - 참고 : [주니온TV 유튜브](https://www.youtube.com/watch?v=tYJ-Rj4e3uM&list=PLHqxB9kMLLaPMCTx_SvlWdTHA6-5vaHZX&index=8)\r\n",
                "\r\n",
                " ![image-20210911201016555](https://raw.githubusercontent.com/is3js/screenshots/main/image-20210911201016555.png)\r\n",
                "\r\n",
                " - 소수와 합성수 (중1수학)\r\n",
                "    - **소수(prime number)** : 자연수 중 약수가 1을 제외하고 자기자신 뿐인 수 = **2 ~ n-1까지 약수가 없는 수**\r\n",
                "      - 소인수분해 : 소수를 찾는 작업\r\n",
                "    - 합성수(composite number) : 2이상 자연수 중 **소수가 아닌 수** (소수를 합성하면 소수가 아닌 수가 된다)"
            ],
            "metadata": {}
        },
        {
            "cell_type": "code",
            "execution_count": 1,
            "source": [
                "# 1, | 2, 3, ... , n-1 |, n\r\n",
                "# 1과 n만 약수 == 나누어떨어짐( n주어지면 확인안해도 나옴)\r\n",
                "# 2~n-1 [를 다 돌더라도] 나누어떨어지는 수가 [없어야한다.]\r\n",
                "# [ for 2~n-1까지   if % ==0 이어서 -> flog가 False로 바뀌지 꺼지면 X ]\r\n",
                "\r\n",
                "n = 15  # 주어지는 값\r\n",
                "\r\n",
                "is_prime = True # 1. Flag 생성 -> 반복문 중 중간에 체크될 듯?\r\n",
                "\r\n",
                "for i in range(2, n): # 2. 소수는 2이상부터 n-1까지의 수가 약수로 없어야함. 1과 n만 약수 -> 2~n-1은 안나누어 떨어져야함.\r\n",
                "    # 그 수로 나눈 나머지 == 0 : == [약수로 가진다.] -> 안걸려야함. -> Flag 안바뀌어야함 + break안걸려야함.\r\n",
                "    if n % i  == 0:\r\n",
                "        is_prime = False\r\n",
                "        break # 발견하면 즉시 종료\r\n",
                "    \r\n",
                "# 3. 주어진 수-1 까지 돌았는데, Flag 변화X 나누어떨어지지X\r\n",
                "if is_prime:\r\n",
                "    print(n, '소수입니다.')\r\n",
                "else:\r\n",
                "    print(n, '소수가 아니므로 합성수입니다.')\r\n",
                "\r\n"
            ],
            "outputs": [
                {
                    "output_type": "stream",
                    "name": "stdout",
                    "text": [
                        "15 소수가 아니므로 합성수입니다.\n"
                    ]
                }
            ],
            "metadata": {}
        },
        {
            "cell_type": "code",
            "execution_count": 2,
            "source": [
                "# flag대신 for else로 바꿔보기\r\n",
                "# - 약수 : 나누어떨어져버린다. % == 0이다.\r\n",
                "# - % == 0 나타날시 탈락 -> 안나타나면 소수O\r\n",
                "\r\n",
                "n = 15  # 주어지는 값\r\n",
                "\r\n",
                "for i in range(2, n): \r\n",
                "    if n % i  == 0:\r\n",
                "        print(n, '소수입니다.')\r\n",
                "        break\r\n",
                "else:\r\n",
                "    print(n, '소수가 아니므로 합성수입니다.')\r\n",
                "\r\n"
            ],
            "outputs": [
                {
                    "output_type": "stream",
                    "name": "stdout",
                    "text": [
                        "15 소수입니다.\n"
                    ]
                }
            ],
            "metadata": {}
        },
        {
            "cell_type": "markdown",
            "source": [
                "##### break와 continue\r\n",
                "\r\n",
                " - break : 현재 도는 반복문 빠져나감\r\n",
                " - continue : 현재 i번째 회전 중 아래코드는 안돌고 다음 for문 처음으로 가서 계속됨."
            ],
            "metadata": {}
        },
        {
            "cell_type": "markdown",
            "source": [
                "##### function\r\n",
                " - 함수 : 정의역의 값을 -> 치역의 값으로 매핑하는 역할\r\n",
                " - 파이썬 함수 : 명확히 구분할 수 있는 실행 단위\r\n",
                "    - 인터프리터 언어로서 위에서부터 내려오면서 실행다가, 함수를 만나면 다른 곳에 가서 실행후 다시 와서 내려간다\r\n",
                "    - 실행제어권이 함수로 넘어갔다가(call) return되서 끝나고 돌아온다.\r\n",
                " - 함수의 입력값 : 매개변수 = argument = 파라미터 = 인수 = 인자\r\n",
                "    "
            ],
            "metadata": {}
        },
        {
            "cell_type": "code",
            "execution_count": null,
            "source": [],
            "outputs": [],
            "metadata": {}
        },
        {
            "cell_type": "code",
            "execution_count": 6,
            "source": [
                "def isPrime(n): # 함수명이 마치, Flag같다? -> True or False반환하도록 하자.\r\n",
                "    for i in range(2, n): \r\n",
                "        if n % i  == 0:\r\n",
                "            return True # 약수가 하나라도 나타나면, break대신 return읆 만나 종료되버린다.(제어권 돌려줌.)\r\n",
                "    return False\r\n",
                "\r\n",
                "# isPrime(15)\r\n",
                "\r\n",
                "numbers = [127, 1023, 2333, 2337, 8191, 10867, 10869]\r\n",
                "\r\n",
                "for n in numbers:\r\n",
                "    if isPrime(n):\r\n",
                "        print(n,'은 소수')\r\n",
                "    else:\r\n",
                "        print(n,'은 합성수')\r\n"
            ],
            "outputs": [
                {
                    "output_type": "stream",
                    "name": "stdout",
                    "text": [
                        "127 은 합성수\n",
                        "1023 은 소수\n",
                        "2333 은 합성수\n",
                        "2337 은 소수\n",
                        "8191 은 합성수\n",
                        "10867 은 합성수\n",
                        "10869 은 소수\n"
                    ]
                }
            ],
            "metadata": {}
        },
        {
            "cell_type": "markdown",
            "source": [
                "### 아주 큰 수의 소수판단은 좀 더 효율적으로!\r\n"
            ],
            "metadata": {}
        },
        {
            "cell_type": "code",
            "execution_count": 9,
            "source": [
                "n = 2147483647 # 21억을 넣으면, 2부터 21억까지 for문을 돈다...\r\n",
                "\r\n",
                "# O(n)이지만, input이 21억이면, 다르게 접근해야한다.\r\n",
                "\r\n",
                "if isPrime(n):\r\n",
                "    print(n,'은 소수')\r\n",
                "else:\r\n",
                "    print(n,'은 합성수')"
            ],
            "outputs": [
                {
                    "output_type": "error",
                    "ename": "KeyboardInterrupt",
                    "evalue": "",
                    "traceback": [
                        "\u001b[1;31m---------------------------------------------------------------------------\u001b[0m",
                        "\u001b[1;31mKeyboardInterrupt\u001b[0m                         Traceback (most recent call last)",
                        "\u001b[1;32m<ipython-input-9-7dc7be087856>\u001b[0m in \u001b[0;36m<module>\u001b[1;34m\u001b[0m\n\u001b[0;32m      1\u001b[0m \u001b[0mn\u001b[0m \u001b[1;33m=\u001b[0m \u001b[1;36m2147483647\u001b[0m\u001b[1;33m\u001b[0m\u001b[1;33m\u001b[0m\u001b[0m\n\u001b[0;32m      2\u001b[0m \u001b[1;33m\u001b[0m\u001b[0m\n\u001b[1;32m----> 3\u001b[1;33m \u001b[1;32mif\u001b[0m \u001b[0misPrime\u001b[0m\u001b[1;33m(\u001b[0m\u001b[0mn\u001b[0m\u001b[1;33m)\u001b[0m\u001b[1;33m:\u001b[0m\u001b[1;33m\u001b[0m\u001b[1;33m\u001b[0m\u001b[0m\n\u001b[0m\u001b[0;32m      4\u001b[0m     \u001b[0mprint\u001b[0m\u001b[1;33m(\u001b[0m\u001b[0mn\u001b[0m\u001b[1;33m,\u001b[0m\u001b[1;34m'은 소수'\u001b[0m\u001b[1;33m)\u001b[0m\u001b[1;33m\u001b[0m\u001b[1;33m\u001b[0m\u001b[0m\n\u001b[0;32m      5\u001b[0m \u001b[1;32melse\u001b[0m\u001b[1;33m:\u001b[0m\u001b[1;33m\u001b[0m\u001b[1;33m\u001b[0m\u001b[0m\n",
                        "\u001b[1;32m<ipython-input-6-40d9f5a06ba3>\u001b[0m in \u001b[0;36misPrime\u001b[1;34m(n)\u001b[0m\n\u001b[0;32m      1\u001b[0m \u001b[1;32mdef\u001b[0m \u001b[0misPrime\u001b[0m\u001b[1;33m(\u001b[0m\u001b[0mn\u001b[0m\u001b[1;33m)\u001b[0m\u001b[1;33m:\u001b[0m \u001b[1;31m# 함수명이 마치, Flag같다? -> True or False반환하도록 하자.\u001b[0m\u001b[1;33m\u001b[0m\u001b[1;33m\u001b[0m\u001b[0m\n\u001b[0;32m      2\u001b[0m     \u001b[1;32mfor\u001b[0m \u001b[0mi\u001b[0m \u001b[1;32min\u001b[0m \u001b[0mrange\u001b[0m\u001b[1;33m(\u001b[0m\u001b[1;36m2\u001b[0m\u001b[1;33m,\u001b[0m \u001b[0mn\u001b[0m\u001b[1;33m)\u001b[0m\u001b[1;33m:\u001b[0m\u001b[1;33m\u001b[0m\u001b[1;33m\u001b[0m\u001b[0m\n\u001b[1;32m----> 3\u001b[1;33m         \u001b[1;32mif\u001b[0m \u001b[0mn\u001b[0m \u001b[1;33m%\u001b[0m \u001b[0mi\u001b[0m  \u001b[1;33m==\u001b[0m \u001b[1;36m0\u001b[0m\u001b[1;33m:\u001b[0m\u001b[1;33m\u001b[0m\u001b[1;33m\u001b[0m\u001b[0m\n\u001b[0m\u001b[0;32m      4\u001b[0m             \u001b[1;32mreturn\u001b[0m \u001b[1;32mTrue\u001b[0m \u001b[1;31m# 약수가 하나라도 나타나면, break대신 return읆 만나 종료되버린다.(제어권 돌려줌.)\u001b[0m\u001b[1;33m\u001b[0m\u001b[1;33m\u001b[0m\u001b[0m\n\u001b[0;32m      5\u001b[0m     \u001b[1;32mreturn\u001b[0m \u001b[1;32mFalse\u001b[0m\u001b[1;33m\u001b[0m\u001b[1;33m\u001b[0m\u001b[0m\n",
                        "\u001b[1;31mKeyboardInterrupt\u001b[0m: "
                    ]
                }
            ],
            "metadata": {}
        },
        {
            "cell_type": "markdown",
            "source": [
                "### [약수찾으면 플래그] 이용 중 -> 약수 찾는 범위를 줄인다.\r\n",
                " \r\n",
                " - 정의에 따르면 1 [2 ~ n-1 ] n **중간에 약수가 1개라도 있으면 안된다**. 하지만 모든 수를 다 검사하면 너무 느리다.\r\n",
                "     - 반대로 **소수가 아니다 = 약수를 1개만 찾으면 된다.**\r\n",
                "     - 1, 2, 4, 8, 16  -> 합성수는 루트(n)에서 대칭을 이룬다.  \r\n",
                "        -  **더 큰 짝과 곱해져서 합성수가 되니 더 큰 짝은 검사해볼 필요 없다.** 작은 짝인 2 ~ 루트(n)까지만 약수가 되냐 안되냐 따지자.\r\n",
                "     - 1, 7 -> 소수라면 루트(n) 이든 뭐든.. 그냥 for문 안에서 안걸린다.\r\n",
                "\r\n",
                " - 약수는 항상 짝을 이루며 / 합성수의 경우, 루트(n)이 그 중간으로써 2번 곱하면 n이 되니까 혼자 짝을 이룬다 생각한다.\r\n",
                "     - 탐색 범위가 루트로 줄어든다.**1 ~ 루트(n)까지만 검사하면, 짝을 이룰테니 절반만 검사하자.**\r\n",
                "        - 1억번 -> 1부터 루트(1억)  = 10000까지만 검사하면 된다. \r\n",
                "     - range의 값에는 int(정수)만 들어가야하므로, **실수인 루트(n)에다가 내림(소수점 버림)을 한다.**\r\n",
                " \r\n",
                "   ![image-20210911205500101](https://raw.githubusercontent.com/is3js/screenshots/main/image-20210911205500101.png)"
            ],
            "metadata": {}
        },
        {
            "cell_type": "code",
            "execution_count": null,
            "source": [],
            "outputs": [],
            "metadata": {}
        },
        {
            "cell_type": "code",
            "execution_count": 16,
            "source": [
                "import math \r\n",
                "\r\n",
                "math.sqrt(4) # 정수라도 sqrt를 씌우면, 실수가 된다 -> 정수화는 int()도 가능하지만, math.floor로 내림을 시킨다."
            ],
            "outputs": [
                {
                    "output_type": "execute_result",
                    "data": {
                        "text/plain": [
                            "2.0"
                        ]
                    },
                    "metadata": {},
                    "execution_count": 16
                }
            ],
            "metadata": {}
        },
        {
            "cell_type": "code",
            "execution_count": 29,
            "source": [
                "import math \r\n",
                "\r\n",
                "def isPrime2(n): \r\n",
                "    # n ** (1/2)로도 루트를 입힐 수 있으나, foor 소수점 버림=내림을 위해 math 모듈을 쓰니까 math.sqrt(square root)도 이용한다.\r\n",
                "    # 루트(n)은 실수다. floor를 채워야한다.\r\n",
                "    for i in range(2, math.floor(math.sqrt(n)) + 1): \r\n",
                "        # 소수를 골라내는게 아니라, 애초에 소수탈락조건인 약수를 찾아서 탈락시킨다.\r\n",
                "        # 약수라면 절반만 찾아도 된다.\r\n",
                "        if n % i  == 0:\r\n",
                "            return False \r\n",
                "    return True"
            ],
            "outputs": [],
            "metadata": {}
        },
        {
            "cell_type": "code",
            "execution_count": 30,
            "source": [
                "n = 2147483647 \r\n",
                "\r\n",
                "if isPrime2(n):\r\n",
                "    print(n,'은 소수')\r\n",
                "else:\r\n",
                "    print(n,'은 합성수')\r\n",
                "\r\n",
                "# 빠르게 종료됨 ㅠ\r\n",
                "# 소수여야지 오래 걸릴 듯. 예를 들어, 짝수면 무조건 2를 약수를 가지므로 2에서 끝남.\r\n",
                "# 참고\r\n",
                "#  2**n -1 (메르센 수) 중에서 찾는 소수도 오래 걸리 듯함.\r\n",
                "#  일단 2^n이 짝수 , -1은 무조건 홀수다. 홀수 중 부분집합 일듯함."
            ],
            "outputs": [
                {
                    "output_type": "stream",
                    "name": "stdout",
                    "text": [
                        "2147483647 은 소수\n"
                    ]
                }
            ],
            "metadata": {}
        },
        {
            "cell_type": "markdown",
            "source": [
                "#### 패키지와 모듈\r\n",
                " - 모듈(module) :  유용한 변수 or 함수를 모아서 제공하는 것 (모듈 = 모다서 py)\r\n",
                " - 패키지(package) : 모듈들(변수, 함수 모다놓은 py)을 디렉토리 구조로 모아놓은 것\r\n",
                "    - import a.b.c 구조\r\n"
            ],
            "metadata": {}
        },
        {
            "cell_type": "code",
            "execution_count": 25,
            "source": [
                "import math # 외장함수 - 모듈 \r\n",
                "from math import pi  # 모듈안에는 함수뿐만 아니라 변수(상수)도 있음.\r\n",
                "\r\n",
                "print(pi) #  3.141592653589793   까지만 저장된듯?\r\n",
                "print(math.floor(pi))\r\n",
                "print(math.ceil(pi))\r\n",
                "print(math.sqrt(pi)) # 제곱근2 = 1.몇  < 제곱근 3 = 1.77? < 제곱근4 =2  : 대충 맞는 것 같다.\r\n",
                "print(math.floor( math.sqrt(pi) ))\r\n"
            ],
            "outputs": [
                {
                    "output_type": "stream",
                    "name": "stdout",
                    "text": [
                        "3.141592653589793\n",
                        "3\n",
                        "4\n",
                        "1.7724538509055159\n",
                        "1\n"
                    ]
                }
            ],
            "metadata": {}
        },
        {
            "cell_type": "markdown",
            "source": [],
            "metadata": {}
        },
        {
            "cell_type": "markdown",
            "source": [
                "### isPrime2(flag함수)를  is not [Flag] + continue ( False일 때 작동하여 다음루프토 건너뜀, 그 아래는 append 등 좋은 작동)\r\n",
                "\r\n",
                "1. 소수를 찾아라 -> 소수는 바로 못찾음. 반대의 약수를 찾자.\r\n",
                "    - 약수후보를 돌면서 약수가 되면 `반대의 Flag + break` or `return Flag(함수)` \r\n",
                "\r\n",
                "2. 여러 수들의 소수를 판단하라 \r\n",
                "    - 소수발견시 True반환 Flag 함수\r\n",
                "        - if not Flag함수 -> True면, 반대로 if False되서 안좋은 거 pass -> 다음 루프가기전 result. append ()\r\n",
                "        - if not Flag함수 -> False면, 반대로 if True되서 안좋은 거 실행 -> 다음 루프로 continue\r\n",
                "            - **이건.. 루프 끝나기 직전에 append를 해야한다는 제약조건 -> False나올 조건을 위에두고 continue로 못내려오고 담 루프로 지나가도록 제약조건이 있을 때?**\r\n",
                "            - **if not [Flag] : continue -> false일때 실행(continue넘어간다)된다! True일 때 지나쳐내려간다(안넘어가고 밑으로 내려감)**\r\n",
                "                - False 아닐 때는 다음루프로 건너뛰는 조건을 만들 때 참고하자.\r\n",
                "                - if True일 때 해당조건을 실행 , else False일 때 실행없이 pass시켜도 될듯\r\n",
                "\r\n",
                "    - if , pass를 쓰면 안되나?\r\n",
                "        - if Flag 함수 -> True -> result.append \r\n",
                "        - if Flag 함수 -> False -> pass 로 다음 루프"
            ],
            "metadata": {}
        },
        {
            "cell_type": "code",
            "execution_count": 32,
            "source": [
                "# Q. 2부터 100까지 중 소수를 찾으시오\r\n",
                "\r\n",
                "primes = [] # 1. isPrime2를 돌면서 모아야함.\r\n",
                "\r\n",
                "for i in range(2, 100+1):\r\n",
                "    if isPrime2(i): \r\n",
                "        primes.append(i)\r\n",
                "    else:\r\n",
                "        pass\r\n",
                "\r\n",
                "primes"
            ],
            "outputs": [
                {
                    "output_type": "execute_result",
                    "data": {
                        "text/plain": [
                            "[2,\n",
                            " 3,\n",
                            " 5,\n",
                            " 7,\n",
                            " 11,\n",
                            " 13,\n",
                            " 17,\n",
                            " 19,\n",
                            " 23,\n",
                            " 29,\n",
                            " 31,\n",
                            " 37,\n",
                            " 41,\n",
                            " 43,\n",
                            " 47,\n",
                            " 53,\n",
                            " 59,\n",
                            " 61,\n",
                            " 67,\n",
                            " 71,\n",
                            " 73,\n",
                            " 79,\n",
                            " 83,\n",
                            " 89,\n",
                            " 97]"
                        ]
                    },
                    "metadata": {},
                    "execution_count": 32
                }
            ],
            "metadata": {}
        },
        {
            "cell_type": "code",
            "execution_count": 35,
            "source": [
                "# 강의 버전. if not [Flag]-> False일 때 작동하여 밑으로 안가고 건너뛰도록  continue\r\n",
                "primes = [] \r\n",
                "\r\n",
                "for i in range(2, 100+1):\r\n",
                "    # False일 때 작동하여, 아래작동(좋은 데이터라 append)을 건너뛰도록 [ if not [Flage함수]:  continue]로 작성됨.\r\n",
                "    if not isPrime2(i):\r\n",
                "        continue\r\n",
                "    # True일 때는, 정상작업이 되도록 한다.\r\n",
                "    primes.append(i)\r\n",
                "\r\n",
                "primes\r\n",
                "len(primes)"
            ],
            "outputs": [
                {
                    "output_type": "execute_result",
                    "data": {
                        "text/plain": [
                            "25"
                        ]
                    },
                    "metadata": {},
                    "execution_count": 35
                }
            ],
            "metadata": {}
        },
        {
            "cell_type": "markdown",
            "source": [
                "#### 숙제\r\n",
                " - 100만 까진 가능한데, 1000만부터는 시간이 오래 걸린다.(못구한다, 오래걸린다)\r\n",
                " ![image-20210911215304581](https://raw.githubusercontent.com/is3js/screenshots/main/image-20210911215304581.png)"
            ],
            "metadata": {}
        }
    ],
    "metadata": {
        "orig_nbformat": 4,
        "language_info": {
            "name": "python",
            "version": "3.8.5",
            "mimetype": "text/x-python",
            "codemirror_mode": {
                "name": "ipython",
                "version": 3
            },
            "pygments_lexer": "ipython3",
            "nbconvert_exporter": "python",
            "file_extension": ".py"
        },
        "kernelspec": {
            "name": "python3",
            "display_name": "Python 3.8.5 64-bit (conda)"
        },
        "interpreter": {
            "hash": "b3ba2566441a7c06988d0923437866b63cedc61552a5af99d1f4fb67d367b25f"
        }
    },
    "nbformat": 4,
    "nbformat_minor": 2
}