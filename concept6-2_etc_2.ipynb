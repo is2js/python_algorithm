{
    "cells": [
        {
            "cell_type": "code",
            "execution_count": null,
            "source": [],
            "outputs": [],
            "metadata": {}
        },
        {
            "cell_type": "markdown",
            "source": [
                "출저 : 주니온TV(유튜브)"
            ],
            "metadata": {}
        },
        {
            "cell_type": "markdown",
            "source": [
                "## 콜라츠의 추측: 우박수 문제\r\n",
                "\r\n",
                " - 쉬운데 어렵다. 대학에서 잘 가르킨다.\r\n",
                " ![image-20210927120303710](https://raw.githubusercontent.com/is3js/screenshots/main/image-20210927120303710.png)\r\n",
                "\r\n",
                " ![image-20210927120351739](https://raw.githubusercontent.com/is3js/screenshots/main/image-20210927120351739.png)\r\n",
                "\r\n",
                "\r\n",
                " "
            ],
            "metadata": {}
        },
        {
            "cell_type": "markdown",
            "source": [
                "### 구현(collatz) : 콜라츠 수열을 만들어 반환\r\n",
                " - 증명은 못할정도로 어렵지만, 구현은 쉽다.\r\n",
                " ![image-20210927120854123](https://raw.githubusercontent.com/is3js/screenshots/main/image-20210927120854123.png)"
            ],
            "metadata": {}
        },
        {
            "cell_type": "code",
            "execution_count": 4,
            "source": [
                "def collatz(n):\r\n",
                "    # 0. n부터 나누기2로 줄거나 or *3+1로 커지는데, 그것을  n==1될때까지 모은다.\r\n",
                "    seq = [n]\r\n",
                "    # 1. 콜라츠는 1이되면 종료한다. 1보다 클때까지만 돌린다.\r\n",
                "    while n>1:\r\n",
                "        if n%2==0:\r\n",
                "            n=n//2\r\n",
                "        else:\r\n",
                "            n=3*n + 1\r\n",
                "        seq.append(n)\r\n",
                "    return seq\r\n",
                "\r\n",
                "\r\n",
                "collatz(10)"
            ],
            "outputs": [
                {
                    "output_type": "execute_result",
                    "data": {
                        "text/plain": [
                            "[10, 5, 16, 8, 4, 2, 1]"
                        ]
                    },
                    "metadata": {},
                    "execution_count": 4
                }
            ],
            "metadata": {}
        },
        {
            "cell_type": "code",
            "execution_count": null,
            "source": [
                "for i in range(1, 10):\r\n",
                "    print(collatz(i))"
            ],
            "outputs": [],
            "metadata": {}
        },
        {
            "cell_type": "markdown",
            "source": [
                "### 규칙발견을 위해, seq-len을 end=\" \"로 출력해보자.\r\n",
                " - 수열의 길이에 규칙이 있는지 봤는데, 안보인다..."
            ],
            "metadata": {}
        },
        {
            "cell_type": "code",
            "execution_count": null,
            "source": [
                "for i in range(1, 100):\r\n",
                "    print(len(collatz(i)), end=\" \")"
            ],
            "outputs": [],
            "metadata": {}
        },
        {
            "cell_type": "markdown",
            "source": [
                "### 규칙은 없지만, 쉬워서 문제는 우박수처럼 쏟아진다.\r\n",
                "\r\n",
                "![image-20210927121646260](https://raw.githubusercontent.com/is3js/screenshots/main/image-20210927121646260.png)\r\n",
                "\r\n",
                "- 손으로는 계산못한다.\r\n",
                "\r\n",
                "![image-20210927121732546](https://raw.githubusercontent.com/is3js/screenshots/main/image-20210927121732546.png)\r\n",
                "\r\n"
            ],
            "metadata": {}
        },
        {
            "cell_type": "markdown",
            "source": [
                " - 조건을 만족시키는 가장 작은 수는? \r\n",
                "     - **input index가 정해지지 않은 경우, 그냥  while True:로 무한루프  i=0, i+=1로 시작하자.**\r\n",
                "     - 1부터 시작하며, +1씩 나가면서, 조건을 만족할 때 바로 return(break)해버리면 `가장 작은 수`다.\r\n",
                "        - **두번째 수는? count변수를 만들어 조건 만족할때마다 +1 해서 체크한다.**\r\n",
                "     - 끝을 모르는 경우 while True: + break(or return)의 무한루프를 돈다."
            ],
            "metadata": {}
        },
        {
            "cell_type": "code",
            "execution_count": 9,
            "source": [
                "# 콜라츠 수열의 길이가 100인 숫자들 중에서 가장 작은 수는?\r\n",
                "n=0\r\n",
                "while True:\r\n",
                "    n+=1\r\n",
                "    if len(collatz(n)) == 100:\r\n",
                "        break \r\n",
                "\r\n",
                "print(\"길이가 100인 가장 작은 우박수는?\", n)"
            ],
            "outputs": [
                {
                    "output_type": "stream",
                    "name": "stdout",
                    "text": [
                        "길이가 100인 가장 작은 우박수는? 322\n"
                    ]
                }
            ],
            "metadata": {}
        },
        {
            "cell_type": "code",
            "execution_count": 16,
            "source": [
                "# 10000이하의 콜라츠 수열의 길이가 가장긴 수는?\r\n",
                "# -> 1부터 10000까지를 돌아야한다 -> for문으로가능 / 너무 많지 않기 때문에 다돌아도 됨.\r\n",
                "# -> 돌면서 여러개 중에 가장 긴것 찾기 -> for문위에 변수에 curr변수 update\r\n",
                "# --> update 당시의 i도 알아야한다면...  curr = max(curr, ??? )로 한줄업데이트 불가능.ㅠ -> if문으로 풀어서 + 변수도 챙겨야한다.\r\n",
                "\r\n",
                "max_len = 0\r\n",
                "max_halestone = []\r\n",
                "\r\n",
                "for n in range(1, 10000+1):\r\n",
                "     #curr_len = max(curr_len, len(collatz(i)))\r\n",
                "     # 만약, 수열자체도 필요하다면, \r\n",
                "     halestone = collatz(n)\r\n",
                "     length = len(halestone)\r\n",
                "     if max_len < len(halestone):\r\n",
                "         max_len = length\r\n",
                "         max_halestone = halestone\r\n",
                "\r\n",
                "\r\n",
                "print(\"10,000이하 가장 긴 우박수의 길이와 우박수 :\", max_len, max_halestone[0])"
            ],
            "outputs": [
                {
                    "output_type": "stream",
                    "name": "stdout",
                    "text": [
                        "10,000이하 가장 긴 우박수의 길이와 우박수 : 262 6171\n"
                    ]
                }
            ],
            "metadata": {}
        },
        {
            "cell_type": "markdown",
            "source": [
                "### 연습문제: 콜라츠수열의 길이가 500보다 큰 첫번째 자연수는?\r\n",
                " - 콜라츠수열의 길이가 500보다 큰 첫번째 자연수는?\r\n",
                "     - 첫번째 자연수 -> 조건을 만족하면 바로 return한 수\r\n",
                " - 콜라츠수열의 길이가 500보다 큰 10번째 자연수의  콜라츠 수열 길이는?\r\n",
                "     - 10번재 자연수 -> 조건을 만족할 때마다 count따로 해줘야함."
            ],
            "metadata": {}
        },
        {
            "cell_type": "code",
            "execution_count": 22,
            "source": [
                "n=0\r\n",
                "count = 0\r\n",
                "while True:\r\n",
                "    n+=1\r\n",
                "    if len(collatz(n)) > 500:\r\n",
                "        count+=1\r\n",
                "        print(count, n)\r\n",
                "        if count ==10:\r\n",
                "            break\r\n",
                "\r\n",
                "n"
            ],
            "outputs": [
                {
                    "output_type": "stream",
                    "name": "stdout",
                    "text": [
                        "1 626331\n",
                        "2 704623\n"
                    ]
                },
                {
                    "output_type": "error",
                    "ename": "KeyboardInterrupt",
                    "evalue": "",
                    "traceback": [
                        "\u001b[1;31m---------------------------------------------------------------------------\u001b[0m",
                        "\u001b[1;31mKeyboardInterrupt\u001b[0m                         Traceback (most recent call last)",
                        "\u001b[1;32m<ipython-input-22-850d376ae79b>\u001b[0m in \u001b[0;36m<module>\u001b[1;34m\u001b[0m\n\u001b[0;32m      3\u001b[0m \u001b[1;32mwhile\u001b[0m \u001b[1;32mTrue\u001b[0m\u001b[1;33m:\u001b[0m\u001b[1;33m\u001b[0m\u001b[1;33m\u001b[0m\u001b[0m\n\u001b[0;32m      4\u001b[0m     \u001b[0mn\u001b[0m\u001b[1;33m+=\u001b[0m\u001b[1;36m1\u001b[0m\u001b[1;33m\u001b[0m\u001b[1;33m\u001b[0m\u001b[0m\n\u001b[1;32m----> 5\u001b[1;33m     \u001b[1;32mif\u001b[0m \u001b[0mlen\u001b[0m\u001b[1;33m(\u001b[0m\u001b[0mcollatz\u001b[0m\u001b[1;33m(\u001b[0m\u001b[0mn\u001b[0m\u001b[1;33m)\u001b[0m\u001b[1;33m)\u001b[0m \u001b[1;33m>\u001b[0m \u001b[1;36m500\u001b[0m\u001b[1;33m:\u001b[0m\u001b[1;33m\u001b[0m\u001b[1;33m\u001b[0m\u001b[0m\n\u001b[0m\u001b[0;32m      6\u001b[0m         \u001b[0mcount\u001b[0m\u001b[1;33m+=\u001b[0m\u001b[1;36m1\u001b[0m\u001b[1;33m\u001b[0m\u001b[1;33m\u001b[0m\u001b[0m\n\u001b[0;32m      7\u001b[0m         \u001b[0mprint\u001b[0m\u001b[1;33m(\u001b[0m\u001b[0mcount\u001b[0m\u001b[1;33m,\u001b[0m \u001b[0mn\u001b[0m\u001b[1;33m)\u001b[0m\u001b[1;33m\u001b[0m\u001b[1;33m\u001b[0m\u001b[0m\n",
                        "\u001b[1;32m<ipython-input-4-8f19596a1b90>\u001b[0m in \u001b[0;36mcollatz\u001b[1;34m(n)\u001b[0m\n\u001b[0;32m      5\u001b[0m     \u001b[1;32mwhile\u001b[0m \u001b[0mn\u001b[0m\u001b[1;33m>\u001b[0m\u001b[1;36m1\u001b[0m\u001b[1;33m:\u001b[0m\u001b[1;33m\u001b[0m\u001b[1;33m\u001b[0m\u001b[0m\n\u001b[0;32m      6\u001b[0m         \u001b[1;32mif\u001b[0m \u001b[0mn\u001b[0m\u001b[1;33m%\u001b[0m\u001b[1;36m2\u001b[0m\u001b[1;33m==\u001b[0m\u001b[1;36m0\u001b[0m\u001b[1;33m:\u001b[0m\u001b[1;33m\u001b[0m\u001b[1;33m\u001b[0m\u001b[0m\n\u001b[1;32m----> 7\u001b[1;33m             \u001b[0mn\u001b[0m\u001b[1;33m=\u001b[0m\u001b[0mn\u001b[0m\u001b[1;33m//\u001b[0m\u001b[1;36m2\u001b[0m\u001b[1;33m\u001b[0m\u001b[1;33m\u001b[0m\u001b[0m\n\u001b[0m\u001b[0;32m      8\u001b[0m         \u001b[1;32melse\u001b[0m\u001b[1;33m:\u001b[0m\u001b[1;33m\u001b[0m\u001b[1;33m\u001b[0m\u001b[0m\n\u001b[0;32m      9\u001b[0m             \u001b[0mn\u001b[0m\u001b[1;33m=\u001b[0m\u001b[1;36m3\u001b[0m\u001b[1;33m*\u001b[0m\u001b[0mn\u001b[0m \u001b[1;33m+\u001b[0m \u001b[1;36m1\u001b[0m\u001b[1;33m\u001b[0m\u001b[1;33m\u001b[0m\u001b[0m\n",
                        "\u001b[1;31mKeyboardInterrupt\u001b[0m: "
                    ]
                }
            ],
            "metadata": {}
        },
        {
            "cell_type": "markdown",
            "source": [
                "## 로마 문자(기호) -> 아라비아 숫자로 "
            ],
            "metadata": {}
        },
        {
            "cell_type": "markdown",
            "source": [
                "![image-20210928165007845](https://raw.githubusercontent.com/is3js/screenshots/main/image-20210928165007845.png)\r\n",
                "\r\n",
                "![image-20210928165014112](https://raw.githubusercontent.com/is3js/screenshots/main/image-20210928165014112.png)\r\n",
                "\r\n"
            ],
            "metadata": {}
        },
        {
            "cell_type": "markdown",
            "source": [
                "### 로마 숫자 표기법\r\n",
                "\r\n",
                "![image-20210928165213769](https://raw.githubusercontent.com/is3js/screenshots/main/image-20210928165213769.png)\r\n",
                "\r\n",
                "![image-20210928165245431](https://raw.githubusercontent.com/is3js/screenshots/main/image-20210928165245431.png)\r\n",
                "\r\n",
                "- X, XX, XXX : 10, 20, 30\r\n",
                "  - **XL : 40**\r\n",
                "\r\n",
                "\r\n",
                "\r\n",
                "![image-20210928165353548](https://raw.githubusercontent.com/is3js/screenshots/main/image-20210928165353548.png)\r\n",
                "\r\n",
                "- L, LX, LXX, LXXX : 50, 60, 70, 80\r\n",
                "  -  **XC : 90**\r\n",
                "\r\n",
                "\r\n",
                "\r\n",
                "![image-20210928165541773](https://raw.githubusercontent.com/is3js/screenshots/main/image-20210928165541773.png)\r\n",
                "\r\n",
                "- C, CC, CCC : 100 200 300 \r\n",
                "  - **CD : 400**\r\n",
                "\r\n",
                "\r\n",
                "\r\n",
                "![image-20210928165645098](https://raw.githubusercontent.com/is3js/screenshots/main/image-20210928165645098.png)\r\n",
                "\r\n",
                "- D, DC, DCC, DCCC: 500, 600, 700, 800\r\n",
                "  - **MC : 900**\r\n",
                "\r\n",
                "![image-20210928165730181](https://raw.githubusercontent.com/is3js/screenshots/main/image-20210928165730181.png)\r\n",
                "\r\n",
                "- 규칙발견하기\r\n",
                "  - **기본적으로는 `가산표기법` : 기호의 값을 그냥 합산하면 됨. **\r\n",
                "  - **너무 길어지는 경우, `감산표기법`**: \r\n",
                "    - **큰 수 앞에(왼쪽에) 작은 수를 넣으면, 큰 수(오른)에서  작은 수(왼)를 빼라는 뜻.**\r\n",
                "    - 예) 4, 9, 40, 90, 400, 900 ..\r\n",
                "\r\n",
                "\r\n",
                "\r\n"
            ],
            "metadata": {}
        },
        {
            "cell_type": "code",
            "execution_count": 25,
            "source": [
                "string = \"MDCLXVI\"\r\n",
                "\r\n",
                "print(string[0])\r\n",
                "print(string[6])\r\n",
                "\r\n",
                "for i in range(len(string)):\r\n",
                "    print(string[i], end=\" \")\r\n",
                "print()\r\n",
                "\r\n",
                "print(\"M\" + \"D\" + \"C\" + \"L\" + \"X\" + \"V\" + \"I\")"
            ],
            "outputs": [
                {
                    "output_type": "stream",
                    "name": "stdout",
                    "text": [
                        "M\n",
                        "I\n",
                        "M D C L X V I \n",
                        "MDCLXVI\n"
                    ]
                }
            ],
            "metadata": {}
        },
        {
            "cell_type": "markdown",
            "source": [
                "### getValueOf(symbol) : 로마 문자를 아라비아 숫자로 변환"
            ],
            "metadata": {}
        },
        {
            "cell_type": "code",
            "execution_count": 31,
            "source": [
                "# 함수로 매칭..\r\n",
                "def getValueOf(symbol):\r\n",
                "    if symbol == 'M': return 1000\r\n",
                "    elif symbol == 'D': return 500\r\n",
                "    elif symbol == 'C': return 100\r\n",
                "    elif symbol == 'L': return 50\r\n",
                "    elif symbol == 'X': return 10\r\n",
                "    elif symbol == 'V': return 5\r\n",
                "    elif symbol == 'I': return 1\r\n",
                "\r\n",
                "roman = \"MDCLXVI\"\r\n",
                "\r\n",
                "for i in range(len(roman)):\r\n",
                "    #print(getValueOf(roman[i]))\r\n",
                "    print(roman[i] ,\":\", getValueOf(roman[i]))\r\n",
                "\r\n"
            ],
            "outputs": [
                {
                    "output_type": "stream",
                    "name": "stdout",
                    "text": [
                        "M : 1000\n",
                        "D : 500\n",
                        "C : 100\n",
                        "L : 50\n",
                        "X : 10\n",
                        "V : 5\n",
                        "I : 1\n"
                    ]
                }
            ],
            "metadata": {}
        },
        {
            "cell_type": "markdown",
            "source": [
                "### dict로 매칭되는 데이터 매핑\r\n",
                " - 함수로 길게 if elif...로 매칭을 시켜 return해줄 필요가 없다."
            ],
            "metadata": {}
        },
        {
            "cell_type": "code",
            "execution_count": 35,
            "source": [
                "romanDict = {\r\n",
                "    'M':1000, 'D':500, 'C':100, 'L':50, 'X':10, 'V':5, 'I':1\r\n",
                "}\r\n",
                "\r\n",
                "roman = \"MDCLXVI\"\r\n",
                "\r\n",
                "for i in range(len(roman)):\r\n",
                "    #print(getValueOf(roman[i]))\r\n",
                "    print(roman[i] ,\":\", romanDict[roman[i]])"
            ],
            "outputs": [
                {
                    "output_type": "stream",
                    "name": "stdout",
                    "text": [
                        "M : 1000\n",
                        "D : 500\n",
                        "C : 100\n",
                        "L : 50\n",
                        "X : 10\n",
                        "V : 5\n",
                        "I : 1\n"
                    ]
                }
            ],
            "metadata": {}
        },
        {
            "cell_type": "markdown",
            "source": [
                "### 단순 가산만 해주기\r\n",
                " - 가산표기법은 고려안한 상태로 로마문자->숫자변환->단순 가산만\r\n",
                " - **어차피 숫자로 변환후 각 대응되는 숫자를 누적해서 더하던지 빼던지 해야함 -> 변수에 누적합**"
            ],
            "metadata": {}
        },
        {
            "cell_type": "code",
            "execution_count": 37,
            "source": [
                "roman = \"MDCLXVI\"\r\n",
                "\r\n",
                "arabic = 0\r\n",
                "\r\n",
                "for i in range(len(roman)):\r\n",
                "    #arabic += getValueOf(roman[i])\r\n",
                "    arabic += romanDict[roman[i]]\r\n",
                "\r\n",
                "print(arabic)\r\n"
            ],
            "outputs": [
                {
                    "output_type": "stream",
                    "name": "stdout",
                    "text": [
                        "1666\n"
                    ]
                }
            ],
            "metadata": {}
        },
        {
            "cell_type": "markdown",
            "source": [
                "### 감산 생각해주기\r\n",
                " - i번째 수에서, i+1(다음수)보다 작은 숫자라고 판명되면 arabic에 -= 빼주면 된다.\r\n",
                "     - for문에 i+1이 들어온 순간,, 바깥  for문에서는 1개 적게 끝나고 + 맨 마지막꺼는 추가로 더해준다?\r\n",
                "     - 또는, 여기서는, 감산 확인 if문 자체를... 마지막 인덱스는 포함안되도록, i <( n-1)로 추가 조건주기\r\n"
            ],
            "metadata": {}
        },
        {
            "cell_type": "code",
            "execution_count": 41,
            "source": [
                "def toArabicNumber(roman):\r\n",
                "    arabic = 0\r\n",
                "\r\n",
                "    for i in range(len(roman)):\r\n",
                "        # 마지막 [n-1]에서는 검사안하도록.. and 조건을 주자. \r\n",
                "        # - 그외에는.. 다 검사하게 되어있다..\r\n",
                "        if (i< len(roman)-1) and romanDict[roman[i]] < romanDict[roman[i+1]]:\r\n",
                "            arabic -= romanDict[roman[i]]\r\n",
                "        else:\r\n",
                "            arabic += romanDict[roman[i]]\r\n",
                "\r\n",
                "    return arabic\r\n",
                "\r\n",
                "\r\n",
                "romans = ['CCLXIX', 'LXXX', 'XXIX']\r\n",
                "arabics =[]\r\n",
                "for roman in romans:\r\n",
                "    arabics.append(toArabicNumber(roman))\r\n",
                "\r\n",
                "print(arabics)"
            ],
            "outputs": [
                {
                    "output_type": "stream",
                    "name": "stdout",
                    "text": [
                        "[269, 80, 29]\n"
                    ]
                }
            ],
            "metadata": {}
        },
        {
            "cell_type": "markdown",
            "source": [
                "### 연습문제: 아라비아 숫자를 로마문자로 변환가능할까?\r\n",
                " - 참고 : www.wolframalpha.com\r\n",
                "     - `roman numerals 1666`\r\n",
                "     - `roman numerals MDCLXVI`"
            ],
            "metadata": {}
        },
        {
            "cell_type": "markdown",
            "source": [
                "## 아라비아숫자를 로마문자(숫자)로"
            ],
            "metadata": {}
        },
        {
            "cell_type": "markdown",
            "source": [
                " - my) 단위숫자로 제거하는데, 단위와 단위사이에 감산법이 걸릴 때 먼저 감산법으로 제거해준다.\r\n",
                "\r\n",
                "![image-20210930162015769](https://raw.githubusercontent.com/is3js/screenshots/main/image-20210930162015769.png)"
            ],
            "metadata": {}
        },
        {
            "cell_type": "code",
            "execution_count": 42,
            "source": [
                "romanDict"
            ],
            "outputs": [
                {
                    "output_type": "execute_result",
                    "data": {
                        "text/plain": [
                            "{'M': 1000, 'D': 500, 'C': 100, 'L': 50, 'X': 10, 'V': 5, 'I': 1}"
                        ]
                    },
                    "metadata": {},
                    "execution_count": 42
                }
            ],
            "metadata": {}
        },
        {
            "cell_type": "code",
            "execution_count": 43,
            "source": [
                "# 이번에는 거꾸로 매핑\r\n",
                "romanDict = {\r\n",
                "    1:'I',\r\n",
                "    5:'V',\r\n",
                "    10:'X',\r\n",
                "    50:'L',\r\n",
                "    100:'C',\r\n",
                "    500:'D',\r\n",
                "    1000:'M',\r\n",
                "}"
            ],
            "outputs": [],
            "metadata": {}
        },
        {
            "cell_type": "code",
            "execution_count": 44,
            "source": [
                "print(romanDict.keys())\r\n",
                "print(romanDict.values())\r\n",
                "print(romanDict.items())"
            ],
            "outputs": [
                {
                    "output_type": "stream",
                    "name": "stdout",
                    "text": [
                        "dict_keys([1, 5, 10, 50, 100, 500, 1000])\n",
                        "dict_values(['I', 'V', 'X', 'L', 'C', 'D', 'M'])\n",
                        "dict_items([(1, 'I'), (5, 'V'), (10, 'X'), (50, 'L'), (100, 'C'), (500, 'D'), (1000, 'M')])\n"
                    ]
                }
            ],
            "metadata": {}
        },
        {
            "cell_type": "code",
            "execution_count": 45,
            "source": [
                "for key in romanDict.keys():\r\n",
                "    print(key,\":\", romanDict[key])"
            ],
            "outputs": [
                {
                    "output_type": "stream",
                    "name": "stdout",
                    "text": [
                        "1 : I\n",
                        "5 : V\n",
                        "10 : X\n",
                        "50 : L\n",
                        "100 : C\n",
                        "500 : D\n",
                        "1000 : M\n"
                    ]
                }
            ],
            "metadata": {}
        },
        {
            "cell_type": "markdown",
            "source": [
                "### 1부터 9까지만 아라비아->로마문자로 변환해보기\r\n",
                " - n을 받으면, 1까지 돌아가면서, romanDict에서 꺼내서 처리해보기\r\n",
                " - 중간중간 예외가 생긴다."
            ],
            "metadata": {}
        },
        {
            "cell_type": "code",
            "execution_count": 49,
            "source": [
                "# 작성하고 보니까..\r\n",
                "# 1) 감산법 적용 숫자들은 따로 먼저 찾아서 처리해주고 그만큼 감산\r\n",
                "# 2) 5 등의 단위숫자들은 들어있는 만큼 감산 (N>=단위 로 확인해서 가진것만큼 제한다.)\r\n",
                "# 3) 단위숫자들 다끝나고 나머지 숫자들(5이하의 수) I의 1로 갯수만큼 돌린다.\r\n",
                "def romanNumber1(n):\r\n",
                "\r\n",
                "    str = \"\"\r\n",
                "\r\n",
                "    while n>=1 : # n<1 즉, n=0일때 종료된다. while 조건 -> not 조건에서 종료 // 조건 -> while not조건 동안 계속\r\n",
                "        # 감산법이 적용되는 놈들.. 4, 9, 40, 90, 등을 먼저 처리해줘야한다.\r\n",
                "        if n==9:\r\n",
                "            # 9면, IX를 출력해야한다. -> 1로 가져와야하고, 10으로 가져와야한다.\r\n",
                "            str += romanDict[1] + romanDict[10]\r\n",
                "            # 가져왔으면 그만큼.. n에서 빼줘야한다..\r\n",
                "            n-=9 \r\n",
                "        elif n==4: # IV\r\n",
                "            str += romanDict[1] + romanDict[5]\r\n",
                "            n-=4\r\n",
                "        elif n>=5: # 4, 9의 감산이 아닌 상태에서의 5이상.. 5,6,7,8  V + (n-5) * I 가 아니라..\r\n",
                "            # 5를 로마자로 V로 변환하여 추가해주고, 5만 감산시키는 작전.. 나머지는 나중에 처리하도록 n에 남겨둔다.\r\n",
                "            # 단위로서, 반복적으로 제거되도록한다?\r\n",
                "            str += romanDict[5] \r\n",
                "            n-=5\r\n",
                "        else:\r\n",
                "            # 5보다 작은 것들은 그 갯수만큼.. I를 반복해서 더해주면 된다.\r\n",
                "            for _ in range(n):\r\n",
                "                str += romanDict[1]\r\n",
                "            n-=n \r\n",
                "\r\n",
                "\r\n",
                "    return str\r\n",
                "\r\n",
                "romanNumber1(8)"
            ],
            "outputs": [
                {
                    "output_type": "execute_result",
                    "data": {
                        "text/plain": [
                            "'VIII'"
                        ]
                    },
                    "metadata": {},
                    "execution_count": 49
                }
            ],
            "metadata": {}
        },
        {
            "cell_type": "code",
            "execution_count": 50,
            "source": [
                "for n in range(1, 10):\r\n",
                "    print(n, \":\", romanNumber1(n))"
            ],
            "outputs": [
                {
                    "output_type": "stream",
                    "name": "stdout",
                    "text": [
                        "1 : I\n",
                        "2 : II\n",
                        "3 : III\n",
                        "4 : IV\n",
                        "5 : V\n",
                        "6 : VI\n",
                        "7 : VII\n",
                        "8 : VIII\n",
                        "9 : IX\n"
                    ]
                }
            ],
            "metadata": {}
        },
        {
            "cell_type": "markdown",
            "source": [
                "### 100미만의 숫자로 확장하기\r\n",
                " - 1~9까지는 romanNumber1()로 처리하는 것도 포함된다."
            ],
            "metadata": {}
        },
        {
            "cell_type": "code",
            "execution_count": 52,
            "source": [
                "# 1. 단위숫자 가지고 있는 것부터 거름\r\n",
                "# 1-1. 단위숫자 거르기 전에 그 범위내 감산법 대상부터처 처리, [n>=50] 4, 9, 40, [90]\r\n",
                "# 1-1. 단위숫자 제거 \r\n",
                "# 2. 그 다음 단위숫자 가지고 거름\r\n",
                "# 2-1. 감산법..\r\n",
                "# 자리수가 바뀌면 그 때의 함수로 처리해서 return받는다.\r\n",
                "def romanNumber2(n):\r\n",
                "    str = \"\" \r\n",
                "    # 100미만에서 단위숫자인 50을 들고 있으면, 50을 안가질때까지 제해야하므로 while로 가져온다.\r\n",
                "    while n>=50:\r\n",
                "        # 50이상을 가지고 있어도, 40, 90 등 감산부터 처리한다.\r\n",
                "        if n>=90: # 90 -> 10 + 100 로 먼저 처리한다.\r\n",
                "            str += romanDict[10] + romanDict[100]\r\n",
                "            n -= 90\r\n",
                "        else:\r\n",
                "            # 88이나 가지고 있다면.. 감산법 없으면, ㅇ단위 숫자부터 제한다.\r\n",
                "            str += romanDict[50]\r\n",
                "            n-=50 \r\n",
                "    # 감산, 및 단위숫자 제거가 되서 50미만이 됨.\r\n",
                "\r\n",
                "    # 그 다음 단위숫자를 처리한다.\r\n",
                "    while n>=10 : \r\n",
                "        if n>=40:\r\n",
                "            str += romanDict[10] + romanDict[50]\r\n",
                "            n-=40\r\n",
                "        else:\r\n",
                "            str += romanDict[10]\r\n",
                "            n-=10\r\n",
                "    \r\n",
                "    # 10~99까지 처리되었으면, 1~9의 함수결과와 더한다.\r\n",
                "    return str + romanNumber1(n)\r\n",
                "\r\n",
                "romanNumber2(99)\r\n"
            ],
            "outputs": [
                {
                    "output_type": "execute_result",
                    "data": {
                        "text/plain": [
                            "'XCIX'"
                        ]
                    },
                    "metadata": {},
                    "execution_count": 52
                }
            ],
            "metadata": {}
        },
        {
            "cell_type": "code",
            "execution_count": 53,
            "source": [
                "# 10, 20 ~ 90까지 해보자.\r\n",
                "for n in range(10, 100, 10):\r\n",
                "    print(n, \":\", romanNumber2(n))"
            ],
            "outputs": [
                {
                    "output_type": "stream",
                    "name": "stdout",
                    "text": [
                        "10 : X\n",
                        "20 : XX\n",
                        "30 : XXX\n",
                        "40 : XL\n",
                        "50 : L\n",
                        "60 : LX\n",
                        "70 : LXX\n",
                        "80 : LXXX\n",
                        "90 : XC\n"
                    ]
                }
            ],
            "metadata": {}
        },
        {
            "cell_type": "markdown",
            "source": [
                "### 4000미만의 숫자로 더 확장하기\r\n",
                " - 단위가 5000이상은 없다고 치기 때문에 3999로 제한함.. 4000이면 5000 - 1000으로 감산되어야함."
            ],
            "metadata": {}
        },
        {
            "cell_type": "code",
            "execution_count": 55,
            "source": [
                "def romanNumber3(n):\r\n",
                "    \r\n",
                "    str = \"\"\r\n",
                "\r\n",
                "    while n>=1000:\r\n",
                "        # 이놈은 상위에 존재하는 감산법(4000)이 없기 때문에.. 단위숫자만 제한다.\r\n",
                "        str += romanDict[1000]\r\n",
                "        n-=1000\r\n",
                "\r\n",
                "    while n>=500:\r\n",
                "        # 900감산해주기\r\n",
                "        if n>=900:\r\n",
                "            str += romanDict[100] + romanDict[1000]\r\n",
                "            n-=900\r\n",
                "        else:\r\n",
                "            str += romanDict[500]\r\n",
                "            n-=500\r\n",
                "\r\n",
                "    while n>= 100:\r\n",
                "        if n>=400:\r\n",
                "            str += romanDict[100] + romanDict[500]\r\n",
                "            n-=400\r\n",
                "        else:\r\n",
                "            str += romanDict[100]\r\n",
                "            n -= 100 \r\n",
                "    return str + romanNumber2(n)\r\n",
                "\r\n",
                "for n in range(100, 1000, 100):\r\n",
                "    print(n, \":\", romanNumber3(n))"
            ],
            "outputs": [
                {
                    "output_type": "stream",
                    "name": "stdout",
                    "text": [
                        "100 : C\n",
                        "200 : CC\n",
                        "300 : CCC\n",
                        "400 : CD\n",
                        "500 : D\n",
                        "600 : DC\n",
                        "700 : DCC\n",
                        "800 : DCCC\n",
                        "900 : CM\n"
                    ]
                }
            ],
            "metadata": {}
        },
        {
            "cell_type": "markdown",
            "source": [
                "### 패턴이 보인다."
            ],
            "metadata": {}
        },
        {
            "cell_type": "markdown",
            "source": [
                " - while마다 패턴이 있으니, 그 패턴에 맞게 필요한 요소들을 list로 구성해서 만들어보자.\r\n",
                "\r\n",
                "![image-20210930170716150](https://raw.githubusercontent.com/is3js/screenshots/main/image-20210930170716150.png)\r\n",
                "\r\n",
                "- null string에다가 범위(단위를 가지고 있는) 동안에는\r\n",
                "\r\n",
                "  - 감산법\r\n",
                "\r\n",
                "  - 단위 반복 제거\r\n",
                "\r\n",
                "    \r\n",
                "\r\n",
                "    ![image-20210930170813702](https://raw.githubusercontent.com/is3js/screenshots/main/image-20210930170813702.png)\r\n",
                "    ![image-20210930170846688](https://raw.githubusercontent.com/is3js/screenshots/main/image-20210930170846688.png)\r\n",
                "\r\n",
                "\r\n",
                "\r\n",
                "- dict에서 꺼내쓰는 대신 (**key:value를    index가 동일한 위치에 각각을 list1:list2로 선언해서 사용**)\r\n",
                "  - **각 패턴에 들어가는 숫자들이 짝을 이루도록** list의 **같은 index에 나열**해서 사용한다.\r\n",
                "    - whlie에 들어갈 단위    [1000,      500,   100, ...]\r\n",
                "    - if에 들어갈 감산법처리 [4000(X), 900,   400, ...]\r\n",
                "    - str+=에 들어갈 감산법용 로마숫자 900이면 100(C)과 1000(M)가 같은 index line에 오도록 list 2개를 나열\r\n",
                "      ![image-20210930171524960](https://raw.githubusercontent.com/is3js/screenshots/main/image-20210930171524960.png)\r\n",
                "      - 이부분을 지정하는 것이 까다로우니까.. 걍 같은 index에 나열해서 임의의 쌍을 지어놓는 것임.\r\n",
                "        ![image-20210930171617831](https://raw.githubusercontent.com/is3js/screenshots/main/image-20210930171617831.png)\r\n",
                "        ![image-20210930171637933](https://raw.githubusercontent.com/is3js/screenshots/main/image-20210930171637933.png)\r\n",
                "        ![image-20210930171825096](https://raw.githubusercontent.com/is3js/screenshots/main/image-20210930171825096.png)\r\n",
                "\r\n",
                "\r\n",
                "\r\n",
                "\r\n",
                "\r\n",
                "\r\n",
                "\r\n",
                "\r\n",
                "\r\n",
                "![image-20210930170945904](https://raw.githubusercontent.com/is3js/screenshots/main/image-20210930170945904.png)"
            ],
            "metadata": {}
        },
        {
            "cell_type": "markdown",
            "source": [
                "### dict로 모든 것을 다 지정해놓고 사용하면 더 간단해진다.\r\n",
                " - 단위뿐만 아니라 감산법의 범위도 list에 다 몰아놓고, 그 때의 로마문자도 dict에 다 몰아놓은 상태에서 while 패턴을 돌린다.\r\n",
                " ![image-20210930172105516](https://raw.githubusercontent.com/is3js/screenshots/main/image-20210930172105516.png)\r\n",
                "\r\n",
                " - 테스트\r\n",
                "  ![image-20210930172320015](https://raw.githubusercontent.com/is3js/screenshots/main/image-20210930172320015.png)\r\n",
                "\r\n",
                "\r\n"
            ],
            "metadata": {}
        },
        {
            "cell_type": "code",
            "execution_count": 57,
            "source": [
                "romanDict2 = {\r\n",
                "    1:'I', 4:'IV',\r\n",
                "    5:'V', 9:'IX',\r\n",
                "    10:'X', 40:'XL',\r\n",
                "    50:'L', 90:'XC',\r\n",
                "    100:'C', 400:'CD',\r\n",
                "    500:'D', 900:'CM',\r\n",
                "    1000:'M',\r\n",
                "}\r\n",
                "\r\n",
                "keyValues = [1000, 900, 500, 400, 100, 90, 50, 40, 10, 9, 5, 4, 1]"
            ],
            "outputs": [],
            "metadata": {}
        },
        {
            "cell_type": "code",
            "execution_count": 60,
            "source": [
                "# 감산법구간도.. 단위구간처럼  while >=  그만큼 제하기를 할 수 있다.\r\n",
                "# 1000과 500사이 900이 등장하면.. 이미 1000을 다 돌린 상태기 때문에.. 999이하라서 900을 while에 돌리는 것이 가능하다.\r\n",
                "# - 비록 단위숫자가 아니면 1번밖에 해당이 안되지만.. while에 들어가도 상관없다 1번만 수행하고 나오면 되므로.\r\n",
                "\r\n",
                "def toRomanNumber(n):\r\n",
                "    str=\"\"\r\n",
                "    for i in range(len(keyValues)):\r\n",
                "        while n >= keyValues[i]:\r\n",
                "            str += romanDict2[keyValues[i]]\r\n",
                "            n -= keyValues[i]\r\n",
                "\r\n",
                "    return str \r\n",
                "\r\n",
                "\r\n",
                "toRomanNumber(155)"
            ],
            "outputs": [
                {
                    "output_type": "execute_result",
                    "data": {
                        "text/plain": [
                            "'CLV'"
                        ]
                    },
                    "metadata": {},
                    "execution_count": 60
                }
            ],
            "metadata": {}
        },
        {
            "cell_type": "markdown",
            "source": [
                "\r\n",
                "\r\n",
                "## 스무고개와 이진탐색?\r\n",
                "\r\n",
                "- 예/아니오 로 대답할 수 있는 질문을 하고 답을 맞춤\r\n",
                "\r\n",
                "  ![image-20211002200740168](https://raw.githubusercontent.com/is3js/screenshots/main/image-20211002200740168.png)\r\n",
                "\r\n",
                "\r\n",
                "### 임의의 수\r\n",
                "- 임의의 수를 python에서는 **random 모듈**을 사용한다.\r\n",
                "\r\n",
                "  - **random.`randint`**와 `np.random.randint(a,b)` : 모두 a<= x <= b 의 `랜덤숫자 1개` **뽑아내기(a와 b둘다 포함됨)**\r\n",
                "    - (1, 1000) : 1부터 1000까지의 수중 균등분포(uniform dist, 모두 확률이 같음.)로 난수를 만듬.\r\n",
                "    - **np.random.`rand(m,n)` :** **0 ~ 1사이의 균일분포**  난수 `matrix array`(m,n) 생성\r\n",
                "    - **np.random.`randn(m,n)` :** **평균0, 표준편차1의 가우시안 `표준정규분포`** 난수를 `matrix array`(m,n) 생성\r\n",
                "\r\n",
                "  \r\n",
                "\r\n"
            ],
            "metadata": {}
        },
        {
            "cell_type": "code",
            "execution_count": 127,
            "source": [
                "import random\r\n",
                "\r\n",
                "answer = random.randint(1, 1000)\r\n",
                "print(answer)"
            ],
            "outputs": [
                {
                    "output_type": "stream",
                    "name": "stdout",
                    "text": [
                        "168\n"
                    ]
                }
            ],
            "metadata": {}
        },
        {
            "cell_type": "markdown",
            "source": [
                "### 질문방법\r\n",
                "\r\n",
                "- 1~1000사이의 답에 가까워지도록 **범위를 줄여갈 수 있는 질문을 해야함**\r\n",
                "  - 특히 범위의 중간값으로 물어보면 빠르다. 범위를 절반으로 줄여나간다.\r\n",
                "\r\n",
                "- 좁혀나갈 때\r\n",
                "  - answer가 mid보다 큰쪽에 있다면? [mid+1]을 시작부터 범위를 좁히면 된다.\r\n",
                "    ![image-20211002202447429](https://raw.githubusercontent.com/is3js/screenshots/main/image-20211002202447429.png)\r\n",
                "  - answer가 mid보다 작거나 같다면? 탐색범위는 커봤자 mid가 끝이므로 [mid]를 끝으로 좁힘\r\n",
                "    ![image-20211002202500641](https://raw.githubusercontent.com/is3js/screenshots/main/image-20211002202500641.png)"
            ],
            "metadata": {}
        },
        {
            "cell_type": "code",
            "execution_count": 129,
            "source": [
                "start = 1\r\n",
                "end = 1000\r\n",
                "\r\n",
                "mid = (start + end) //2\r\n",
                "mid"
            ],
            "outputs": [
                {
                    "output_type": "execute_result",
                    "data": {
                        "text/plain": [
                            "500"
                        ]
                    },
                    "metadata": {},
                    "execution_count": 129
                }
            ],
            "metadata": {}
        },
        {
            "cell_type": "code",
            "execution_count": 136,
            "source": [
                "import random\r\n",
                "answer = random.randint(1, 1000)\r\n",
                "\r\n",
                "# 임의의 수를 찾아가는데, 그 범위는 1~1000사이라고 가정함.\r\n",
                "start = 1\r\n",
                "end = 1000\r\n",
                "\r\n",
                "# 범위를 줄여나가도록 질문할건데, 줄어드는 범위에서 시작<끝을 유지해야됨.\r\n",
                "# 즉, 예를 들어 [5,5]로 start == end 로 [범위가 같아질때까지, 내부에서 좁혀간다.] \r\n",
                "# **탐색은, index가 움직일 때는, start, end index가 같아지는 것이 정답, base case**\r\n",
                "#     즉, while [not start == end] -> while [start < end, 아직 안같아질때까지는] : [내부에서 좁혀간다]\r\n",
                "#     즉, 같아지면 끝 ==> 같아지도록 만들면서 안같아지는 동안 update\r\n",
                "\r\n",
                "# **탐색으로서, start == end로 좁혀져 정답이 될때까지, start와 end를 좁힐 것이다.**\r\n",
                "# **while내부에서는 계속 좁히면서 && while 조건은 아직 같아질때동안 좁힌다.**\r\n",
                "# **while을 빠져나오는 순간이 같아진 정답의 순간이라, 뽑아서 쓰면 된다.**\r\n",
                "\r\n",
                "while start < end :\r\n",
                "    # 내부에서 start == end되도록 좁혀간다.\r\n",
                "    mid = (start+end)//2\r\n",
                "    print(f\"start{start} end{end} mid{mid} >>> answer{answer}\")\r\n",
                "    if mid < answer :\r\n",
                "        start = mid+1\r\n",
                "    else: \r\n",
                "        # mid >= answer : answer가 mid에 있을수도..\r\n",
                "        end = mid \r\n",
                "# while을 빠져나왔으면 start == end으로 찾은거나 마찬가지 상황\r\n",
                "print(\"while not [원하는순간]:내부update 이라면, 현재 while빠져나왔을때가 정답이다.>>\",start, end, answer)"
            ],
            "outputs": [
                {
                    "output_type": "stream",
                    "name": "stdout",
                    "text": [
                        "start1 end1000 mid500 >>> answer92\n",
                        "start1 end500 mid250 >>> answer92\n",
                        "start1 end250 mid125 >>> answer92\n",
                        "start1 end125 mid63 >>> answer92\n",
                        "start64 end125 mid94 >>> answer92\n",
                        "start64 end94 mid79 >>> answer92\n",
                        "start80 end94 mid87 >>> answer92\n",
                        "start88 end94 mid91 >>> answer92\n",
                        "start92 end94 mid93 >>> answer92\n",
                        "start92 end93 mid92 >>> answer92\n",
                        "while not [원하는순간]:내부update 이라면, 현재 while빠져나왔을때가 정답이다.>> 92 92 92\n"
                    ]
                }
            ],
            "metadata": {}
        },
        {
            "cell_type": "markdown",
            "source": [
                "### guesst : start, end가 옮겨다니는, 정답 answer를 찾는 숫자탐색 질문을 함수로"
            ],
            "metadata": {}
        },
        {
            "cell_type": "code",
            "execution_count": 137,
            "source": [
                "def guess(answer, start, end):\r\n",
                "    while start<end:\r\n",
                "        mid = (start + end )//2\r\n",
                "        if mid<answer:\r\n",
                "            start = mid+1\r\n",
                "        else:\r\n",
                "            end = mid \r\n",
                "    # while을 빠져나오는 순간 = not [start < end] = [star == end] 같아지는 순간 = 탐색 찾은 순간\r\n",
                "    return start \r\n"
            ],
            "outputs": [],
            "metadata": {}
        },
        {
            "cell_type": "code",
            "execution_count": 139,
            "source": [
                "# 오류검사.\r\n",
                "# 10000개를 1~1000사이 난수를 생성한 뒤, 추측한값과 정답이 같은지 비교하자.\r\n",
                "# 10000개의 난수를 시도했는데도 오류가 없으면 맞는 함수임.\r\n",
                "start = 1\r\n",
                "end = 1000\r\n",
                "\r\n",
                "for _ in range(10000):\r\n",
                "    answer = random.randint(start, end)\r\n",
                "    result = guess(answer, start, end)\r\n",
                "\r\n",
                "    if answer != result :\r\n",
                "        print('이진탐색으로 정답을 찾지 못했습니다.', answer, result)"
            ],
            "outputs": [],
            "metadata": {}
        },
        {
            "cell_type": "markdown",
            "source": [
                "### guess2 스무고개를 몇번 넘어야할까? counting도 같이해보자.\r\n",
                " - 현재 중간값을 이용해서 1~1000 중 탐색범위를 절반씩 줄여서, 탐색범위 1에서 정답으로 빠져나왔다.\r\n",
                "     - 이 때도, 같아질때까지의 횟수가 존재한다.\r\n",
                " - 1000 -> 500 -> 250 -> 125 -> 62 -> 31 -> 15 -> 7 -> 3 -> 1 \r\n",
                "     - 전진횟수 : while문을 돌면서 탐색범위를 줄인 횟수임.(9~10번 돌고, 10~11번만에 맞춘다고 함.)\r\n",
                "     ![image-20211002204301806](https://raw.githubusercontent.com/is3js/screenshots/main/image-20211002204301806.png)\r\n",
                "\r\n",
                "\r\n"
            ],
            "metadata": {}
        },
        {
            "cell_type": "code",
            "execution_count": 142,
            "source": [
                "# while문 안에서 count을 해주면, 몇번만에 start == end로 정답을 찾았는지 알 수 있다.\r\n",
                "# 이번엔 찾은 숫자를 반환하지말고, <찾을때까지의 count>를 반환하게 해보자.\r\n",
                "# - 답은 무조건 찾는 것은 위에서 확인했다.\r\n",
                "def guess2(answer, start, end):\r\n",
                "\r\n",
                "    count = 0\r\n",
                "\r\n",
                "    while start<end:\r\n",
                "        count+=1\r\n",
                "        mid = (start + end )//2\r\n",
                "        if mid<answer:\r\n",
                "            start = mid+1\r\n",
                "        else:\r\n",
                "            end = mid \r\n",
                "\r\n",
                "    return count"
            ],
            "outputs": [],
            "metadata": {}
        },
        {
            "cell_type": "code",
            "execution_count": 146,
            "source": [
                "print(guess2(500, 1, 1000)) # 중간값에 걸린 경우 9번만에 찾고\r\n",
                "print(guess2(750, 1, 1000)) # 중간값에 걸린 경우 9번만에 찾고\r\n",
                "print(guess2(700, 1, 1000)) # 중간값에 안걸리면 10번이 걸린다. 1024 -> 탐색범위:1가지 가야됨. 2**10 -> 2**0 : 1번 후진\r\n",
                "print(guess2(10, 1, 1000))\r\n",
                "print(guess2(1, 1, 1000))"
            ],
            "outputs": [
                {
                    "output_type": "stream",
                    "name": "stdout",
                    "text": [
                        "9\n",
                        "9\n",
                        "10\n",
                        "10\n",
                        "10\n"
                    ]
                }
            ],
            "metadata": {}
        },
        {
            "cell_type": "code",
            "execution_count": 150,
            "source": [
                "# guess2를 이용해서, 탐색범위를 1~1000이 아니라 1~ end를 늘려서 확인해보자.\r\n",
                "\r\n",
                "start = 1\r\n",
                "for n in range(21):\r\n",
                "    # end가 달라진다.(1~21 + for문 속 2**n로 기하급수적으로 커진다.)\r\n",
                "    end= 2 ** n\r\n",
                "    # 탐색범위커짐에 따라, 1000개를 조사해보면, 해당 탐색범위에서의 maxcount가 정해질 거싱다. \r\n",
                "    maxcount = 0\r\n",
                "    for _ in range(1000):\r\n",
                "        answer = random.randint(start, end)\r\n",
                "        count = guess2(answer, start, end)\r\n",
                "        maxcount = max(maxcount, count)\r\n",
                "        # if maxcount < count:\r\n",
                "            # maxcount = count \r\n",
                "    # 현재 end가 2의 n승이라.. 중간값에 걸린 경우라치고 1번 빨리 찾아서 최대값 찾는 것은 딱히 의미가 없긴 하다.\r\n",
                "    print(start, end,\"범위에 따른 1000개 test시 maxcount:\", maxcount, 2**n)\r\n",
                "\r\n",
                "\r\n",
                "    \r\n",
                "\r\n"
            ],
            "outputs": [
                {
                    "output_type": "stream",
                    "name": "stdout",
                    "text": [
                        "1 1 범위에 따른 1000개 test시 maxcount: 0 1\n",
                        "1 2 범위에 따른 1000개 test시 maxcount: 1 2\n",
                        "1 4 범위에 따른 1000개 test시 maxcount: 2 4\n",
                        "1 8 범위에 따른 1000개 test시 maxcount: 3 8\n",
                        "1 16 범위에 따른 1000개 test시 maxcount: 4 16\n",
                        "1 32 범위에 따른 1000개 test시 maxcount: 5 32\n",
                        "1 64 범위에 따른 1000개 test시 maxcount: 6 64\n",
                        "1 128 범위에 따른 1000개 test시 maxcount: 7 128\n",
                        "1 256 범위에 따른 1000개 test시 maxcount: 8 256\n",
                        "1 512 범위에 따른 1000개 test시 maxcount: 9 512\n",
                        "1 1024 범위에 따른 1000개 test시 maxcount: 10 1024\n",
                        "1 2048 범위에 따른 1000개 test시 maxcount: 11 2048\n",
                        "1 4096 범위에 따른 1000개 test시 maxcount: 12 4096\n",
                        "1 8192 범위에 따른 1000개 test시 maxcount: 13 8192\n",
                        "1 16384 범위에 따른 1000개 test시 maxcount: 14 16384\n",
                        "1 32768 범위에 따른 1000개 test시 maxcount: 15 32768\n",
                        "1 65536 범위에 따른 1000개 test시 maxcount: 16 65536\n",
                        "1 131072 범위에 따른 1000개 test시 maxcount: 17 131072\n",
                        "1 262144 범위에 따른 1000개 test시 maxcount: 18 262144\n",
                        "1 524288 범위에 따른 1000개 test시 maxcount: 19 524288\n",
                        "1 1048576 범위에 따른 1000개 test시 maxcount: 20 1048576\n"
                    ]
                }
            ],
            "metadata": {}
        },
        {
            "cell_type": "markdown",
            "source": [
                "#### 질문 횟수(maxcount)는 end범이에 따라 달라진다.\r\n",
                "![image-20211002211842395](https://raw.githubusercontent.com/is3js/screenshots/main/image-20211002211842395.png)\r\n",
                "- 만약 범위가`[1, 2**n]`이라면, 이진탐색의 maxcount는 n번, `질문도 n번 필요`하다.\r\n",
                "    - **답을 찾는다.== 탐색범위가 start == end로 1개의 탐색범위만 남는다.**\r\n",
                "    - **어떤 무엇을 찾을 때, 절반씩 탐색범위를 줄이는 방법 사용한다면,**\r\n",
                "        - `lg2(N)`번 만큼의 횟수로 답을 찾을 수 있다.\r\n",
                "        - 분할정복 = Divide and Conquer의 문제다"
            ],
            "metadata": {}
        },
        {
            "cell_type": "markdown",
            "source": [
                "### 연습문제: 계란 낙하실험 문제\r\n",
                "![image-20211002212219029](https://raw.githubusercontent.com/is3js/screenshots/main/image-20211002212219029.png)\r\n",
                " - Q.어느 층에서 떨어트리면, 계란이 깨지기 시작하는데, 그 층은 어디일까? `1~n 중에 임의의수T 를 깨짐/안깨짐의 계란 n개로 판단(계란을 중간값마다 던져보기)`\r\n",
                "     - 몇개의 계란이 필요할까? \r\n",
                "         - 중앙값마다 던져서 찾아나가기! -> log2(n)개가 필요하다.\r\n",
                "         - **[1,n]까지 T층를 찾는다면, 이진탐색으로 `처음에 가운데가서 떨궈보는 것`으로 찾기 시작해야한다.**\r\n",
                "         - 계란 수(목숨수) = 질문 수 = ???중앙값마다 던져서 1개 층이 남을때까지 필요한 갯수 \r\n",
                "             - 1~n까지라면.. n=2\\*\\*k승이라 쳤을 때, k == log2(n)개 계란, 목숨, 질문이 필요함.\r\n",
                "             - [1, `2**k`]시 이진탐색 k번 필요 -> `2**k` == n -> lg2(n)번 이진탐색 필요\r\n",
                "\r\n",
                "![image-20211002212836865](https://raw.githubusercontent.com/is3js/screenshots/main/image-20211002212836865.png)\r\n",
                "\r\n",
                " - 계란이 하나밖이라면?\r\n",
                "     - lg2(n)번을 중간마다 가서 떨궈보는 식으로 하면 계란이 많이 필요하다.\r\n",
                " - 계란이 최대 몇개 필요할까??\r\n",
                "     - lg2(n)??\r\n",
                "     - **떨군 계란이 안깨질 수도 있으므로 목숨=질문=계란이 아껴진다.**\r\n",
                " - 계란이 2개라면?\r\n",
                "     - 1번은 깨져도 괜찮다... 그것을 이용해서 안깨지도록 계속 시도해야한다."
            ],
            "metadata": {}
        },
        {
            "cell_type": "markdown",
            "source": [
                "## 계란낙하실험"
            ],
            "metadata": {}
        },
        {
            "cell_type": "markdown",
            "source": [
                "### 계란 낙하실험 문제\r\n",
                "\r\n",
                "- `1~n` 중 임의의 수 `T`를 찾는 문제다\t\r\n",
                "\r\n",
                "  - 스무고개(이진탐색의 최악의상황)시에는 중앙값마다 비교하는 질문이 최대 `lg2(n)`개 필요했다.\r\n",
                "\r\n",
                "  - **`1~T-1`까지는 계란이 안깨지는 옵션 = 질문을 안던진 것과같은 옵션이 추가**되었다.\r\n",
                "\r\n",
                "    ![image-20211003204128983](https://raw.githubusercontent.com/is3js/screenshots/main/image-20211003204128983.png)\r\n",
                "\r\n",
                "  - 계란이 깨지는 최소의높이 T를 구해야한다.\r\n",
                "\r\n",
                "\r\n",
                "\r\n",
                "- 문제는 여러 개가 나올 수 있다.\r\n",
                "\r\n",
                "  ![image-20211003204245640](https://raw.githubusercontent.com/is3js/screenshots/main/image-20211003204245640.png)\r\n"
            ],
            "metadata": {}
        },
        {
            "cell_type": "markdown",
            "source": [
                "#### 깨질 것인가? 안 깨질 것인가?부터 설계\r\n",
                " - mid등의 변수를 answer와 비교하는 대신, isSafe()함수를 가지고 비교하게 된다.\r\n",
                " - 계란이 1개일 경우, 1층부터 올라가면서 지속적으로 깨지냐? 안깨지냐?를 판단해야하므로 함수로 만들어야한다."
            ],
            "metadata": {}
        },
        {
            "cell_type": "code",
            "execution_count": 153,
            "source": [
                "# 1-n중에 아무거나 하나를 T로 가정함.\r\n",
                "import random \r\n",
                "\r\n",
                "n = 100\r\n",
                "answer = random.randint(1,n) # 만약 T가 75가 나왔다면? 1-74까지 안깨짐. 75-100까지 깨짐\r\n",
                "# 우리는 answer를 찾아야한다.\r\n",
                "\r\n",
                "\r\n",
                "# 1. 어떤 수(중간값?)을 줬을 때, 깨지는지 안깨지는지 부터 판단되어야한다.\r\n",
                "def isSafe(height):\r\n",
                "    if height < answer:\r\n",
                "        return True \r\n",
                "    else: \r\n",
                "        return False"
            ],
            "outputs": [],
            "metadata": {}
        },
        {
            "cell_type": "markdown",
            "source": [
                "#### 계란이 하나인 경우? (1부터 순차탐색, sequential search)\r\n",
                " - **계란이 1개다? `스무고개(중간값으로 범위줄이는 이진탐색 최악상황)`를 못한다. `질문`을 못던짐.** \r\n",
                "    - 접근방식이 달라진다\r\n",
                " - **제일 낮은층부터 +1씩 올라가면서 떨어뜨리며, 깨지는 순간이 정답임.**\r\n",
                "    - 시간은 오래 걸리지만 깨지는 순간이.. 정답이된다.\r\n",
                "\r\n",
                "![image-20211003205328240](https://raw.githubusercontent.com/is3js/screenshots/main/image-20211003205328240.png)\r\n",
                "![image-20211003205333882](https://raw.githubusercontent.com/is3js/screenshots/main/image-20211003205333882.png)\r\n",
                "\r\n",
                "![image-20211003205340107](https://raw.githubusercontent.com/is3js/screenshots/main/image-20211003205340107.png)\r\n",
                "\r\n",
                "\r\n"
            ],
            "metadata": {}
        },
        {
            "cell_type": "code",
            "execution_count": 154,
            "source": [
                "# 계란1개: answer값까지 for문으로 1부터 1칸씩 올라가면서, 깨지냐?를 판단하면 된다. 깨지는 순간의 height가 정답이다.\r\n",
                "# 제한범위로 n을 인자로 받는다.\r\n",
                "def eggDrop1(n):\r\n",
                "    for height in range(1, n+1):\r\n",
                "        if not isSafe(height):\r\n",
                "            return height \r\n",
                "\r\n",
                "# n = 100\r\n",
                "print(answer, eggDrop1(n))"
            ],
            "outputs": [
                {
                    "output_type": "stream",
                    "name": "stdout",
                    "text": [
                        "72 72\n"
                    ]
                }
            ],
            "metadata": {}
        },
        {
            "cell_type": "markdown",
            "source": [
                "#### 계란이 많은 경우?(스무고개와 비슷 but 종착역이 다름)\r\n",
                "- **`요약` : 이제는 [start==end같아서 찾는것의 직전]까지만 가고 싶은 것이 원하는 조건일 때(계란낙하실험):  [while not 원하는조건]  == [ while (start+1) < end ]: start에서 한칸 더 간것이 end가 될때까지 돌림. + start는 answer가 될 수없게끔  update시킴. -> `[start][end]`상태로 끝나서 [end]가 answer가 됨.** \r\n",
                "  - start는 안깨진 상태를 유지하면서 좁히고, end는 깨지는 상태를 유지하면서 좁혀야 [start안깨짐][+1= end깨짐]으로 만날 수 있다.\r\n",
                "\r\n",
                "- 막 던져도 된다면, 질문을 많이 할 수 있다면, **컴퓨터로는 그 횟수를 최소로 하기 위해서 `중앙값 스무고개(속 이진탐색)`**을 쓴다.\r\n",
                "  - 계란 1개의 경우, 1부터.. T까지 T번을.. 실험해야함.(그중 T-1까지는 안전해야함)\r\n",
                "\r\n",
                "\r\n",
                "\r\n",
                "- 계란이 많은 경우, n을 받아서 1~n까지 중 T를 탐색하는 것이니 **스무고개**로 찾아간다.\r\n",
                "\r\n",
                "  - **스무고개와 비슷하지만, 찾는 index가 좀 달라진다.**\r\n",
                "\r\n",
                "    ![image-20211003210716038](https://raw.githubusercontent.com/is3js/screenshots/main/image-20211003210716038.png)\r\n",
                "    ![image-20211003210722107](https://raw.githubusercontent.com/is3js/screenshots/main/image-20211003210722107.png)\r\n",
                "\r\n",
                "- **스무고개는 1개의 값을 정확하게 맞추기 위해 start==end(이진탐색최악상황)이 정답인 순간이지만**\r\n",
                "\r\n",
                "  - 계란 낙하실험은 **`start+1` == `end`가 종착역으로**\r\n",
                "    - while start+1  < end : 내부 좁히기 -> 나와서는 `start+1 == end`인 순간이며, **`end`가 answer(T)인 상태다**\r\n",
                "      - `start` 와 `end`가 붙기전에,  **`start+1` == `end`가 되어버리면, `start는 안깨지는 자리`가 될 수 있다.**\r\n",
                "      - **해석으로서는**, start와 end가 같아져서 찾는게 아니라,  그 1칸 전으로서 **`start에서 한칸 더 간 것`이 `end가 되는 순간`까지** : while not(직전까지) start+1 == end: 내부 좁아지기 -> while (start+1) < end\r\n",
                "        - 굳이 start==end가 되도록,  start = mid를 통한 update를 안시켜도된다. 계란낭비X\r\n",
                "\r\n",
                "  - **`start에서 한칸 더 간 것이 end가 될때까지`** 진행하는 방법을 쓰자.\r\n",
                "    - while을 빠져나온 순간 end == start+1로서, \r\n",
                "      - start: 계란깨지기 직전\r\n",
                "        - 굳이 start==end가 되도록,  start = mid+1를 통한 update를 굳이 안시켜도된다. 계란낭비X \r\n",
                "          - 이진탐색, 스무고개에서는 update시켜서 start==end가 되어야 답이고, 그 답을 꺼내야하므로 괜춘. 여기서는 깨트릴 필요X\r\n",
                "            - 추가로 이 때, answer의 앞에 위치할 start는 아예 닿지 못하게 start update도 **가능범위-1(`start = mid`)로 안전하게 간다.**\r\n",
                "              - 원래는(start <= ) mid < answer <= n일 경우\r\n",
                "                - `start = mid+1`로 땡겨서 **start에가 mid일 수 있게끔 했는데**\r\n",
                "                - `start = end`로, **애초부터 start는 answer에 닿을 수 없게 update**\r\n",
                "      - end: 계란깨지기 시작하는 answer\r\n",
                "        - return end"
            ],
            "metadata": {}
        },
        {
            "cell_type": "code",
            "execution_count": 158,
            "source": [
                "# 스무고개, 이진탐색과 달리 answer를 이제 직접사용하질 않는다.\r\n",
                "# 이제 answer vs mid 비교를.. isSafe를 가지고 한다.\r\n",
                "# 1) if isSafe(mid): mid일때 안깨진다:  mid < answer 인 상태\r\n",
                "# 2) else: mid일때 깨진다: >= answer인 상태\r\n",
                "\r\n",
                "\r\n",
                "# **`요약` : 이제는 [start==end같아서 찾는것의 직전]까지만 가고 싶은 것이 원하는 조건일 때(계란낙하실험):  [while not 원하는조건]  == [ while (start+1) < end ]: start에서 한칸 더 간것이 end가 될때까지 돌림. + start는 answer가 될 수없게끔  update시킴. -> `[start][end]`상태로 끝나서 [end]가 answer가 됨.**\r\n",
                "\r\n",
                "\r\n",
                "def eggDrop2(n):\r\n",
                "    start = 1\r\n",
                "    end = n\r\n",
                "    while (start+1) < end :\r\n",
                "        mid = (start + end )//2\r\n",
                "        # new)중간층에서 낙하실험한다\r\n",
                "        # 이제 answer vs mid 비교를.. isSafe를 가지고 한다.\r\n",
                "        # new) 안깨졌다면? [그것을 start로하여 안전확보후] 그것보다 위에서 낙하실험한다.\r\n",
                "        if isSafe(mid): # mid < answer <= n 상태\r\n",
                "            #스무고개, 이진탐색: start = mid+1 으로 update하여, start가 answer와 같아질 수도 있게끔.\r\n",
                "            # **start는 아예 mid에 안닫도록 update도 조심한다.**\r\n",
                "            # new) start는 항상 안깨지는 위치를 유지해야한다. start는 안깨지고/ ends는 깨지고 -> [start][end=start+1]의 형태로 간다. 그래야 [end]가 답이 된다.\r\n",
                "            # new) 깨질지도 모르는 m+1부터 실험하지말고, 확실히 안깨지는 mid부터 실험하자. \r\n",
                "            start=mid \r\n",
                "\r\n",
                "        # new) mid에서 깨졌다면? 그것보다 아래에서 낙하실험한다. 그 mid가 정답이어서 깨지는 최소의 높이일 수도 있으며\r\n",
                "        #      end를 mid로 땡겨온다.\r\n",
                "        # new) start는 안깨진 상태를 유지하면서 좁히고, end는 깨지는 상태를 유지하면서 좁혀야 [start안깨짐][+1= end깨짐]으로 만날 수 있다.\r\n",
                "        else: # answer<= mid <= n 상태\r\n",
                "            end = mid\r\n",
                "    # 다돌고나면, start에서 1칸 더 간 것이 end로 [start][end]로 좁혀졌고, \r\n",
                "    # [start]는 answer에 닿을수 없으니 [end]가 answer다.\r\n",
                "    return end\r\n",
                "\r\n",
                "\r\n",
                "n=100\r\n",
                "print(answer, eggDrop2(n))\r\n"
            ],
            "outputs": [
                {
                    "output_type": "stream",
                    "name": "stdout",
                    "text": [
                        "72 72\n"
                    ]
                }
            ],
            "metadata": {}
        },
        {
            "cell_type": "markdown",
            "source": [
                "### 계란 많을 때, [start][end] 최종형태의 이진탐색의 필요 계란(질문)갯수는?\r\n",
                "\r\n",
                "\r\n",
                "- 1~n까지 이정배에서\r\n",
                "\r\n",
                "  - 임의의 값을 찾아 들어갔을 때, 절반씩 쪼개어 들어가면\r\n",
                "\r\n",
                "    - n 개 남음 > n/2 개 남음 > ... >  n/2^k 개남음\r\n",
                "      - 최종적으로 **n / (2^k) == 1개남아서 정답**이 될때까지 필요한 질문의 갯수는 **k**다\r\n",
                "      - k = `lg2(n)`개\r\n",
                "\r\n",
                "    ![image-20211005165325500](https://raw.githubusercontent.com/is3js/screenshots/main/image-20211005165325500.png)\r\n",
                "\r\n",
                "  \r\n",
                "\r\n"
            ],
            "metadata": {}
        },
        {
            "cell_type": "code",
            "execution_count": 159,
            "source": [
                "def countEggDrop2(n):\r\n",
                "    start = 1\r\n",
                "    end = n\r\n",
                "    count = 0 # 횟수 카운트\r\n",
                "    while (start+1) < end :\r\n",
                "        mid = (start + end )//2\r\n",
                "        if isSafe(mid): \r\n",
                "            start=mid \r\n",
                "        else: \r\n",
                "            end = mid\r\n",
                "        count+=1\r\n",
                "    # 답 end대신 count를 반환\r\n",
                "    return count\r\n",
                "\r\n",
                "\r\n",
                "n=100\r\n",
                "print(answer, countEggDrop2(n))"
            ],
            "outputs": [
                {
                    "output_type": "stream",
                    "name": "stdout",
                    "text": [
                        "72 7\n"
                    ]
                }
            ],
            "metadata": {}
        },
        {
            "cell_type": "code",
            "execution_count": 161,
            "source": [
                "# 횟수를 구할 줄 아니, end변화에 따른 그 횟수 중 최대값을 1000개가지고 테스트\r\n",
                "for i in range(1, 21):\r\n",
                "    maxcount = 0\r\n",
                "    end = 2**i \r\n",
                "\r\n",
                "    maxcount=float('-inf')\r\n",
                "\r\n",
                "    for _ in range(1000):\r\n",
                "        answer = random.randint(1, end)\r\n",
                "        count = countEggDrop2(end) # isSafe()필요. 그 내부의 answer도 필요..\r\n",
                "        maxcount = max(maxcount, count)\r\n",
                "    print(end, maxcount)\r\n"
            ],
            "outputs": [
                {
                    "output_type": "stream",
                    "name": "stdout",
                    "text": [
                        "2 0\n",
                        "4 2\n",
                        "8 3\n",
                        "16 4\n",
                        "32 5\n",
                        "64 6\n",
                        "128 7\n",
                        "256 8\n",
                        "512 9\n",
                        "1024 10\n",
                        "2048 11\n",
                        "4096 12\n",
                        "8192 13\n",
                        "16384 14\n",
                        "32768 15\n",
                        "65536 16\n",
                        "131072 17\n",
                        "262144 18\n",
                        "524288 19\n",
                        "1048576 20\n"
                    ]
                }
            ],
            "metadata": {}
        },
        {
            "cell_type": "code",
            "execution_count": null,
            "source": [
                "### 계란이 2개 뿐이라면?\r\n"
            ],
            "outputs": [],
            "metadata": {}
        },
        {
            "cell_type": "markdown",
            "source": [
                "#### "
            ],
            "metadata": {}
        }
    ],
    "metadata": {
        "orig_nbformat": 4,
        "language_info": {
            "name": "python",
            "version": "3.8.5",
            "mimetype": "text/x-python",
            "codemirror_mode": {
                "name": "ipython",
                "version": 3
            },
            "pygments_lexer": "ipython3",
            "nbconvert_exporter": "python",
            "file_extension": ".py"
        },
        "kernelspec": {
            "name": "python3",
            "display_name": "Python 3.8.5 64-bit (conda)"
        },
        "interpreter": {
            "hash": "b3ba2566441a7c06988d0923437866b63cedc61552a5af99d1f4fb67d367b25f"
        }
    },
    "nbformat": 4,
    "nbformat_minor": 2
}