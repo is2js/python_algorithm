{
    "cells": [
        {
            "cell_type": "code",
            "execution_count": null,
            "source": [],
            "outputs": [],
            "metadata": {}
        },
        {
            "cell_type": "markdown",
            "source": [
                "출저 : 주니온TV(유튜브)"
            ],
            "metadata": {}
        },
        {
            "cell_type": "markdown",
            "source": [
                "## 콜라츠의 추측: 우박수 문제\r\n",
                "\r\n",
                " - 쉬운데 어렵다. 대학에서 잘 가르킨다.\r\n",
                " ![image-20210927120303710](https://raw.githubusercontent.com/is3js/screenshots/main/image-20210927120303710.png)\r\n",
                "\r\n",
                " ![image-20210927120351739](https://raw.githubusercontent.com/is3js/screenshots/main/image-20210927120351739.png)\r\n",
                "\r\n",
                "\r\n",
                " "
            ],
            "metadata": {}
        },
        {
            "cell_type": "markdown",
            "source": [
                "### 구현(collatz) : 콜라츠 수열을 만들어 반환\r\n",
                " - 증명은 못할정도로 어렵지만, 구현은 쉽다.\r\n",
                " ![image-20210927120854123](https://raw.githubusercontent.com/is3js/screenshots/main/image-20210927120854123.png)"
            ],
            "metadata": {}
        },
        {
            "cell_type": "code",
            "execution_count": 4,
            "source": [
                "def collatz(n):\r\n",
                "    # 0. n부터 나누기2로 줄거나 or *3+1로 커지는데, 그것을  n==1될때까지 모은다.\r\n",
                "    seq = [n]\r\n",
                "    # 1. 콜라츠는 1이되면 종료한다. 1보다 클때까지만 돌린다.\r\n",
                "    while n>1:\r\n",
                "        if n%2==0:\r\n",
                "            n=n//2\r\n",
                "        else:\r\n",
                "            n=3*n + 1\r\n",
                "        seq.append(n)\r\n",
                "    return seq\r\n",
                "\r\n",
                "\r\n",
                "collatz(10)"
            ],
            "outputs": [
                {
                    "output_type": "execute_result",
                    "data": {
                        "text/plain": [
                            "[10, 5, 16, 8, 4, 2, 1]"
                        ]
                    },
                    "metadata": {},
                    "execution_count": 4
                }
            ],
            "metadata": {}
        },
        {
            "cell_type": "code",
            "execution_count": null,
            "source": [
                "for i in range(1, 10):\r\n",
                "    print(collatz(i))"
            ],
            "outputs": [],
            "metadata": {}
        },
        {
            "cell_type": "markdown",
            "source": [
                "### 규칙발견을 위해, seq-len을 end=\" \"로 출력해보자.\r\n",
                " - 수열의 길이에 규칙이 있는지 봤는데, 안보인다..."
            ],
            "metadata": {}
        },
        {
            "cell_type": "code",
            "execution_count": null,
            "source": [
                "for i in range(1, 100):\r\n",
                "    print(len(collatz(i)), end=\" \")"
            ],
            "outputs": [],
            "metadata": {}
        },
        {
            "cell_type": "markdown",
            "source": [
                "### 규칙은 없지만, 쉬워서 문제는 우박수처럼 쏟아진다.\r\n",
                "\r\n",
                "![image-20210927121646260](https://raw.githubusercontent.com/is3js/screenshots/main/image-20210927121646260.png)\r\n",
                "\r\n",
                "- 손으로는 계산못한다.\r\n",
                "\r\n",
                "![image-20210927121732546](https://raw.githubusercontent.com/is3js/screenshots/main/image-20210927121732546.png)\r\n",
                "\r\n"
            ],
            "metadata": {}
        },
        {
            "cell_type": "markdown",
            "source": [
                " - 조건을 만족시키는 가장 작은 수는? \r\n",
                "     - **input index가 정해지지 않은 경우, 그냥  while True:로 무한루프  i=0, i+=1로 시작하자.**\r\n",
                "     - 1부터 시작하며, +1씩 나가면서, 조건을 만족할 때 바로 return(break)해버리면 `가장 작은 수`다.\r\n",
                "        - **두번째 수는? count변수를 만들어 조건 만족할때마다 +1 해서 체크한다.**\r\n",
                "     - 끝을 모르는 경우 while True: + break(or return)의 무한루프를 돈다."
            ],
            "metadata": {}
        },
        {
            "cell_type": "code",
            "execution_count": 9,
            "source": [
                "# 콜라츠 수열의 길이가 100인 숫자들 중에서 가장 작은 수는?\r\n",
                "n=0\r\n",
                "while True:\r\n",
                "    n+=1\r\n",
                "    if len(collatz(n)) == 100:\r\n",
                "        break \r\n",
                "\r\n",
                "print(\"길이가 100인 가장 작은 우박수는?\", n)"
            ],
            "outputs": [
                {
                    "output_type": "stream",
                    "name": "stdout",
                    "text": [
                        "길이가 100인 가장 작은 우박수는? 322\n"
                    ]
                }
            ],
            "metadata": {}
        },
        {
            "cell_type": "code",
            "execution_count": 16,
            "source": [
                "# 10000이하의 콜라츠 수열의 길이가 가장긴 수는?\r\n",
                "# -> 1부터 10000까지를 돌아야한다 -> for문으로가능 / 너무 많지 않기 때문에 다돌아도 됨.\r\n",
                "# -> 돌면서 여러개 중에 가장 긴것 찾기 -> for문위에 변수에 curr변수 update\r\n",
                "# --> update 당시의 i도 알아야한다면...  curr = max(curr, ??? )로 한줄업데이트 불가능.ㅠ -> if문으로 풀어서 + 변수도 챙겨야한다.\r\n",
                "\r\n",
                "max_len = 0\r\n",
                "max_halestone = []\r\n",
                "\r\n",
                "for n in range(1, 10000+1):\r\n",
                "     #curr_len = max(curr_len, len(collatz(i)))\r\n",
                "     # 만약, 수열자체도 필요하다면, \r\n",
                "     halestone = collatz(n)\r\n",
                "     length = len(halestone)\r\n",
                "     if max_len < len(halestone):\r\n",
                "         max_len = length\r\n",
                "         max_halestone = halestone\r\n",
                "\r\n",
                "\r\n",
                "print(\"10,000이하 가장 긴 우박수의 길이와 우박수 :\", max_len, max_halestone[0])"
            ],
            "outputs": [
                {
                    "output_type": "stream",
                    "name": "stdout",
                    "text": [
                        "10,000이하 가장 긴 우박수의 길이와 우박수 : 262 6171\n"
                    ]
                }
            ],
            "metadata": {}
        },
        {
            "cell_type": "markdown",
            "source": [
                "### 연습문제: 콜라츠수열의 길이가 500보다 큰 첫번째 자연수는?\r\n",
                " - 콜라츠수열의 길이가 500보다 큰 첫번째 자연수는?\r\n",
                "     - 첫번째 자연수 -> 조건을 만족하면 바로 return한 수\r\n",
                " - 콜라츠수열의 길이가 500보다 큰 10번째 자연수의  콜라츠 수열 길이는?\r\n",
                "     - 10번재 자연수 -> 조건을 만족할 때마다 count따로 해줘야함."
            ],
            "metadata": {}
        },
        {
            "cell_type": "code",
            "execution_count": 22,
            "source": [
                "n=0\r\n",
                "count = 0\r\n",
                "while True:\r\n",
                "    n+=1\r\n",
                "    if len(collatz(n)) > 500:\r\n",
                "        count+=1\r\n",
                "        print(count, n)\r\n",
                "        if count ==10:\r\n",
                "            break\r\n",
                "\r\n",
                "n"
            ],
            "outputs": [
                {
                    "output_type": "stream",
                    "name": "stdout",
                    "text": [
                        "1 626331\n",
                        "2 704623\n"
                    ]
                },
                {
                    "output_type": "error",
                    "ename": "KeyboardInterrupt",
                    "evalue": "",
                    "traceback": [
                        "\u001b[1;31m---------------------------------------------------------------------------\u001b[0m",
                        "\u001b[1;31mKeyboardInterrupt\u001b[0m                         Traceback (most recent call last)",
                        "\u001b[1;32m<ipython-input-22-850d376ae79b>\u001b[0m in \u001b[0;36m<module>\u001b[1;34m\u001b[0m\n\u001b[0;32m      3\u001b[0m \u001b[1;32mwhile\u001b[0m \u001b[1;32mTrue\u001b[0m\u001b[1;33m:\u001b[0m\u001b[1;33m\u001b[0m\u001b[1;33m\u001b[0m\u001b[0m\n\u001b[0;32m      4\u001b[0m     \u001b[0mn\u001b[0m\u001b[1;33m+=\u001b[0m\u001b[1;36m1\u001b[0m\u001b[1;33m\u001b[0m\u001b[1;33m\u001b[0m\u001b[0m\n\u001b[1;32m----> 5\u001b[1;33m     \u001b[1;32mif\u001b[0m \u001b[0mlen\u001b[0m\u001b[1;33m(\u001b[0m\u001b[0mcollatz\u001b[0m\u001b[1;33m(\u001b[0m\u001b[0mn\u001b[0m\u001b[1;33m)\u001b[0m\u001b[1;33m)\u001b[0m \u001b[1;33m>\u001b[0m \u001b[1;36m500\u001b[0m\u001b[1;33m:\u001b[0m\u001b[1;33m\u001b[0m\u001b[1;33m\u001b[0m\u001b[0m\n\u001b[0m\u001b[0;32m      6\u001b[0m         \u001b[0mcount\u001b[0m\u001b[1;33m+=\u001b[0m\u001b[1;36m1\u001b[0m\u001b[1;33m\u001b[0m\u001b[1;33m\u001b[0m\u001b[0m\n\u001b[0;32m      7\u001b[0m         \u001b[0mprint\u001b[0m\u001b[1;33m(\u001b[0m\u001b[0mcount\u001b[0m\u001b[1;33m,\u001b[0m \u001b[0mn\u001b[0m\u001b[1;33m)\u001b[0m\u001b[1;33m\u001b[0m\u001b[1;33m\u001b[0m\u001b[0m\n",
                        "\u001b[1;32m<ipython-input-4-8f19596a1b90>\u001b[0m in \u001b[0;36mcollatz\u001b[1;34m(n)\u001b[0m\n\u001b[0;32m      5\u001b[0m     \u001b[1;32mwhile\u001b[0m \u001b[0mn\u001b[0m\u001b[1;33m>\u001b[0m\u001b[1;36m1\u001b[0m\u001b[1;33m:\u001b[0m\u001b[1;33m\u001b[0m\u001b[1;33m\u001b[0m\u001b[0m\n\u001b[0;32m      6\u001b[0m         \u001b[1;32mif\u001b[0m \u001b[0mn\u001b[0m\u001b[1;33m%\u001b[0m\u001b[1;36m2\u001b[0m\u001b[1;33m==\u001b[0m\u001b[1;36m0\u001b[0m\u001b[1;33m:\u001b[0m\u001b[1;33m\u001b[0m\u001b[1;33m\u001b[0m\u001b[0m\n\u001b[1;32m----> 7\u001b[1;33m             \u001b[0mn\u001b[0m\u001b[1;33m=\u001b[0m\u001b[0mn\u001b[0m\u001b[1;33m//\u001b[0m\u001b[1;36m2\u001b[0m\u001b[1;33m\u001b[0m\u001b[1;33m\u001b[0m\u001b[0m\n\u001b[0m\u001b[0;32m      8\u001b[0m         \u001b[1;32melse\u001b[0m\u001b[1;33m:\u001b[0m\u001b[1;33m\u001b[0m\u001b[1;33m\u001b[0m\u001b[0m\n\u001b[0;32m      9\u001b[0m             \u001b[0mn\u001b[0m\u001b[1;33m=\u001b[0m\u001b[1;36m3\u001b[0m\u001b[1;33m*\u001b[0m\u001b[0mn\u001b[0m \u001b[1;33m+\u001b[0m \u001b[1;36m1\u001b[0m\u001b[1;33m\u001b[0m\u001b[1;33m\u001b[0m\u001b[0m\n",
                        "\u001b[1;31mKeyboardInterrupt\u001b[0m: "
                    ]
                }
            ],
            "metadata": {}
        },
        {
            "cell_type": "markdown",
            "source": [
                "## 로마 문자(기호) -> 아라비아 숫자로 "
            ],
            "metadata": {}
        },
        {
            "cell_type": "markdown",
            "source": [
                "![image-20210928165007845](https://raw.githubusercontent.com/is3js/screenshots/main/image-20210928165007845.png)\r\n",
                "\r\n",
                "![image-20210928165014112](https://raw.githubusercontent.com/is3js/screenshots/main/image-20210928165014112.png)\r\n",
                "\r\n"
            ],
            "metadata": {}
        },
        {
            "cell_type": "markdown",
            "source": [
                "### 로마 숫자 표기법\r\n",
                "\r\n",
                "![image-20210928165213769](https://raw.githubusercontent.com/is3js/screenshots/main/image-20210928165213769.png)\r\n",
                "\r\n",
                "![image-20210928165245431](https://raw.githubusercontent.com/is3js/screenshots/main/image-20210928165245431.png)\r\n",
                "\r\n",
                "- X, XX, XXX : 10, 20, 30\r\n",
                "  - **XL : 40**\r\n",
                "\r\n",
                "\r\n",
                "\r\n",
                "![image-20210928165353548](https://raw.githubusercontent.com/is3js/screenshots/main/image-20210928165353548.png)\r\n",
                "\r\n",
                "- L, LX, LXX, LXXX : 50, 60, 70, 80\r\n",
                "  -  **XC : 90**\r\n",
                "\r\n",
                "\r\n",
                "\r\n",
                "![image-20210928165541773](https://raw.githubusercontent.com/is3js/screenshots/main/image-20210928165541773.png)\r\n",
                "\r\n",
                "- C, CC, CCC : 100 200 300 \r\n",
                "  - **CD : 400**\r\n",
                "\r\n",
                "\r\n",
                "\r\n",
                "![image-20210928165645098](https://raw.githubusercontent.com/is3js/screenshots/main/image-20210928165645098.png)\r\n",
                "\r\n",
                "- D, DC, DCC, DCCC: 500, 600, 700, 800\r\n",
                "  - **MC : 900**\r\n",
                "\r\n",
                "![image-20210928165730181](https://raw.githubusercontent.com/is3js/screenshots/main/image-20210928165730181.png)\r\n",
                "\r\n",
                "- 규칙발견하기\r\n",
                "  - **기본적으로는 `가산표기법` : 기호의 값을 그냥 합산하면 됨. **\r\n",
                "  - **너무 길어지는 경우, `감산표기법`**: \r\n",
                "    - **큰 수 앞에(왼쪽에) 작은 수를 넣으면, 큰 수(오른)에서  작은 수(왼)를 빼라는 뜻.**\r\n",
                "    - 예) 4, 9, 40, 90, 400, 900 ..\r\n",
                "\r\n",
                "\r\n",
                "\r\n"
            ],
            "metadata": {}
        },
        {
            "cell_type": "code",
            "execution_count": 25,
            "source": [
                "string = \"MDCLXVI\"\r\n",
                "\r\n",
                "print(string[0])\r\n",
                "print(string[6])\r\n",
                "\r\n",
                "for i in range(len(string)):\r\n",
                "    print(string[i], end=\" \")\r\n",
                "print()\r\n",
                "\r\n",
                "print(\"M\" + \"D\" + \"C\" + \"L\" + \"X\" + \"V\" + \"I\")"
            ],
            "outputs": [
                {
                    "output_type": "stream",
                    "name": "stdout",
                    "text": [
                        "M\n",
                        "I\n",
                        "M D C L X V I \n",
                        "MDCLXVI\n"
                    ]
                }
            ],
            "metadata": {}
        },
        {
            "cell_type": "markdown",
            "source": [
                "### getValueOf(symbol) : 로마 문자를 아라비아 숫자로 변환"
            ],
            "metadata": {}
        },
        {
            "cell_type": "code",
            "execution_count": 31,
            "source": [
                "# 함수로 매칭..\r\n",
                "def getValueOf(symbol):\r\n",
                "    if symbol == 'M': return 1000\r\n",
                "    elif symbol == 'D': return 500\r\n",
                "    elif symbol == 'C': return 100\r\n",
                "    elif symbol == 'L': return 50\r\n",
                "    elif symbol == 'X': return 10\r\n",
                "    elif symbol == 'V': return 5\r\n",
                "    elif symbol == 'I': return 1\r\n",
                "\r\n",
                "roman = \"MDCLXVI\"\r\n",
                "\r\n",
                "for i in range(len(roman)):\r\n",
                "    #print(getValueOf(roman[i]))\r\n",
                "    print(roman[i] ,\":\", getValueOf(roman[i]))\r\n",
                "\r\n"
            ],
            "outputs": [
                {
                    "output_type": "stream",
                    "name": "stdout",
                    "text": [
                        "M : 1000\n",
                        "D : 500\n",
                        "C : 100\n",
                        "L : 50\n",
                        "X : 10\n",
                        "V : 5\n",
                        "I : 1\n"
                    ]
                }
            ],
            "metadata": {}
        },
        {
            "cell_type": "markdown",
            "source": [
                "### dict로 매칭되는 데이터 매핑\r\n",
                " - 함수로 길게 if elif...로 매칭을 시켜 return해줄 필요가 없다."
            ],
            "metadata": {}
        },
        {
            "cell_type": "code",
            "execution_count": 35,
            "source": [
                "romanDict = {\r\n",
                "    'M':1000, 'D':500, 'C':100, 'L':50, 'X':10, 'V':5, 'I':1\r\n",
                "}\r\n",
                "\r\n",
                "roman = \"MDCLXVI\"\r\n",
                "\r\n",
                "for i in range(len(roman)):\r\n",
                "    #print(getValueOf(roman[i]))\r\n",
                "    print(roman[i] ,\":\", romanDict[roman[i]])"
            ],
            "outputs": [
                {
                    "output_type": "stream",
                    "name": "stdout",
                    "text": [
                        "M : 1000\n",
                        "D : 500\n",
                        "C : 100\n",
                        "L : 50\n",
                        "X : 10\n",
                        "V : 5\n",
                        "I : 1\n"
                    ]
                }
            ],
            "metadata": {}
        },
        {
            "cell_type": "markdown",
            "source": [
                "### 단순 가산만 해주기\r\n",
                " - 가산표기법은 고려안한 상태로 로마문자->숫자변환->단순 가산만\r\n",
                " - **어차피 숫자로 변환후 각 대응되는 숫자를 누적해서 더하던지 빼던지 해야함 -> 변수에 누적합**"
            ],
            "metadata": {}
        },
        {
            "cell_type": "code",
            "execution_count": 37,
            "source": [
                "roman = \"MDCLXVI\"\r\n",
                "\r\n",
                "arabic = 0\r\n",
                "\r\n",
                "for i in range(len(roman)):\r\n",
                "    #arabic += getValueOf(roman[i])\r\n",
                "    arabic += romanDict[roman[i]]\r\n",
                "\r\n",
                "print(arabic)\r\n"
            ],
            "outputs": [
                {
                    "output_type": "stream",
                    "name": "stdout",
                    "text": [
                        "1666\n"
                    ]
                }
            ],
            "metadata": {}
        },
        {
            "cell_type": "markdown",
            "source": [
                "### 감산 생각해주기\r\n",
                " - i번째 수에서, i+1(다음수)보다 작은 숫자라고 판명되면 arabic에 -= 빼주면 된다.\r\n",
                "     - for문에 i+1이 들어온 순간,, 바깥  for문에서는 1개 적게 끝나고 + 맨 마지막꺼는 추가로 더해준다?\r\n",
                "     - 또는, 여기서는, 감산 확인 if문 자체를... 마지막 인덱스는 포함안되도록, i <( n-1)로 추가 조건주기\r\n"
            ],
            "metadata": {}
        },
        {
            "cell_type": "code",
            "execution_count": 41,
            "source": [
                "def toArabicNumber(roman):\r\n",
                "    arabic = 0\r\n",
                "\r\n",
                "    for i in range(len(roman)):\r\n",
                "        # 마지막 [n-1]에서는 검사안하도록.. and 조건을 주자. \r\n",
                "        # - 그외에는.. 다 검사하게 되어있다..\r\n",
                "        if (i< len(roman)-1) and romanDict[roman[i]] < romanDict[roman[i+1]]:\r\n",
                "            arabic -= romanDict[roman[i]]\r\n",
                "        else:\r\n",
                "            arabic += romanDict[roman[i]]\r\n",
                "\r\n",
                "    return arabic\r\n",
                "\r\n",
                "\r\n",
                "romans = ['CCLXIX', 'LXXX', 'XXIX']\r\n",
                "arabics =[]\r\n",
                "for roman in romans:\r\n",
                "    arabics.append(toArabicNumber(roman))\r\n",
                "\r\n",
                "print(arabics)"
            ],
            "outputs": [
                {
                    "output_type": "stream",
                    "name": "stdout",
                    "text": [
                        "[269, 80, 29]\n"
                    ]
                }
            ],
            "metadata": {}
        },
        {
            "cell_type": "markdown",
            "source": [
                "### 연습문제: 아라비아 숫자를 로마문자로 변환가능할까?\r\n",
                " - 참고 : www.wolframalpha.com\r\n",
                "     - `roman numerals 1666`\r\n",
                "     - `roman numerals MDCLXVI`"
            ],
            "metadata": {}
        },
        {
            "cell_type": "markdown",
            "source": [
                "## 아라비아숫자를 로마문자(숫자)로"
            ],
            "metadata": {}
        },
        {
            "cell_type": "markdown",
            "source": [
                " - my) 단위숫자로 제거하는데, 단위와 단위사이에 감산법이 걸릴 때 먼저 감산법으로 제거해준다.\r\n",
                "\r\n",
                "![image-20210930162015769](https://raw.githubusercontent.com/is3js/screenshots/main/image-20210930162015769.png)"
            ],
            "metadata": {}
        },
        {
            "cell_type": "code",
            "execution_count": 42,
            "source": [
                "romanDict"
            ],
            "outputs": [
                {
                    "output_type": "execute_result",
                    "data": {
                        "text/plain": [
                            "{'M': 1000, 'D': 500, 'C': 100, 'L': 50, 'X': 10, 'V': 5, 'I': 1}"
                        ]
                    },
                    "metadata": {},
                    "execution_count": 42
                }
            ],
            "metadata": {}
        },
        {
            "cell_type": "code",
            "execution_count": 43,
            "source": [
                "# 이번에는 거꾸로 매핑\r\n",
                "romanDict = {\r\n",
                "    1:'I',\r\n",
                "    5:'V',\r\n",
                "    10:'X',\r\n",
                "    50:'L',\r\n",
                "    100:'C',\r\n",
                "    500:'D',\r\n",
                "    1000:'M',\r\n",
                "}"
            ],
            "outputs": [],
            "metadata": {}
        },
        {
            "cell_type": "code",
            "execution_count": 44,
            "source": [
                "print(romanDict.keys())\r\n",
                "print(romanDict.values())\r\n",
                "print(romanDict.items())"
            ],
            "outputs": [
                {
                    "output_type": "stream",
                    "name": "stdout",
                    "text": [
                        "dict_keys([1, 5, 10, 50, 100, 500, 1000])\n",
                        "dict_values(['I', 'V', 'X', 'L', 'C', 'D', 'M'])\n",
                        "dict_items([(1, 'I'), (5, 'V'), (10, 'X'), (50, 'L'), (100, 'C'), (500, 'D'), (1000, 'M')])\n"
                    ]
                }
            ],
            "metadata": {}
        },
        {
            "cell_type": "code",
            "execution_count": 45,
            "source": [
                "for key in romanDict.keys():\r\n",
                "    print(key,\":\", romanDict[key])"
            ],
            "outputs": [
                {
                    "output_type": "stream",
                    "name": "stdout",
                    "text": [
                        "1 : I\n",
                        "5 : V\n",
                        "10 : X\n",
                        "50 : L\n",
                        "100 : C\n",
                        "500 : D\n",
                        "1000 : M\n"
                    ]
                }
            ],
            "metadata": {}
        },
        {
            "cell_type": "markdown",
            "source": [
                "### 1부터 9까지만 아라비아->로마문자로 변환해보기\r\n",
                " - n을 받으면, 1까지 돌아가면서, romanDict에서 꺼내서 처리해보기\r\n",
                " - 중간중간 예외가 생긴다."
            ],
            "metadata": {}
        },
        {
            "cell_type": "code",
            "execution_count": 49,
            "source": [
                "# 작성하고 보니까..\r\n",
                "# 1) 감산법 적용 숫자들은 따로 먼저 찾아서 처리해주고 그만큼 감산\r\n",
                "# 2) 5 등의 단위숫자들은 들어있는 만큼 감산 (N>=단위 로 확인해서 가진것만큼 제한다.)\r\n",
                "# 3) 단위숫자들 다끝나고 나머지 숫자들(5이하의 수) I의 1로 갯수만큼 돌린다.\r\n",
                "def romanNumber1(n):\r\n",
                "\r\n",
                "    str = \"\"\r\n",
                "\r\n",
                "    while n>=1 : # n<1 즉, n=0일때 종료된다. while 조건 -> not 조건에서 종료 // 조건 -> while not조건 동안 계속\r\n",
                "        # 감산법이 적용되는 놈들.. 4, 9, 40, 90, 등을 먼저 처리해줘야한다.\r\n",
                "        if n==9:\r\n",
                "            # 9면, IX를 출력해야한다. -> 1로 가져와야하고, 10으로 가져와야한다.\r\n",
                "            str += romanDict[1] + romanDict[10]\r\n",
                "            # 가져왔으면 그만큼.. n에서 빼줘야한다..\r\n",
                "            n-=9 \r\n",
                "        elif n==4: # IV\r\n",
                "            str += romanDict[1] + romanDict[5]\r\n",
                "            n-=4\r\n",
                "        elif n>=5: # 4, 9의 감산이 아닌 상태에서의 5이상.. 5,6,7,8  V + (n-5) * I 가 아니라..\r\n",
                "            # 5를 로마자로 V로 변환하여 추가해주고, 5만 감산시키는 작전.. 나머지는 나중에 처리하도록 n에 남겨둔다.\r\n",
                "            # 단위로서, 반복적으로 제거되도록한다?\r\n",
                "            str += romanDict[5] \r\n",
                "            n-=5\r\n",
                "        else:\r\n",
                "            # 5보다 작은 것들은 그 갯수만큼.. I를 반복해서 더해주면 된다.\r\n",
                "            for _ in range(n):\r\n",
                "                str += romanDict[1]\r\n",
                "            n-=n \r\n",
                "\r\n",
                "\r\n",
                "    return str\r\n",
                "\r\n",
                "romanNumber1(8)"
            ],
            "outputs": [
                {
                    "output_type": "execute_result",
                    "data": {
                        "text/plain": [
                            "'VIII'"
                        ]
                    },
                    "metadata": {},
                    "execution_count": 49
                }
            ],
            "metadata": {}
        },
        {
            "cell_type": "code",
            "execution_count": 50,
            "source": [
                "for n in range(1, 10):\r\n",
                "    print(n, \":\", romanNumber1(n))"
            ],
            "outputs": [
                {
                    "output_type": "stream",
                    "name": "stdout",
                    "text": [
                        "1 : I\n",
                        "2 : II\n",
                        "3 : III\n",
                        "4 : IV\n",
                        "5 : V\n",
                        "6 : VI\n",
                        "7 : VII\n",
                        "8 : VIII\n",
                        "9 : IX\n"
                    ]
                }
            ],
            "metadata": {}
        },
        {
            "cell_type": "markdown",
            "source": [
                "### 100미만의 숫자로 확장하기\r\n",
                " - 1~9까지는 romanNumber1()로 처리하는 것도 포함된다."
            ],
            "metadata": {}
        },
        {
            "cell_type": "code",
            "execution_count": 52,
            "source": [
                "# 1. 단위숫자 가지고 있는 것부터 거름\r\n",
                "# 1-1. 단위숫자 거르기 전에 그 범위내 감산법 대상부터처 처리, [n>=50] 4, 9, 40, [90]\r\n",
                "# 1-1. 단위숫자 제거 \r\n",
                "# 2. 그 다음 단위숫자 가지고 거름\r\n",
                "# 2-1. 감산법..\r\n",
                "# 자리수가 바뀌면 그 때의 함수로 처리해서 return받는다.\r\n",
                "def romanNumber2(n):\r\n",
                "    str = \"\" \r\n",
                "    # 100미만에서 단위숫자인 50을 들고 있으면, 50을 안가질때까지 제해야하므로 while로 가져온다.\r\n",
                "    while n>=50:\r\n",
                "        # 50이상을 가지고 있어도, 40, 90 등 감산부터 처리한다.\r\n",
                "        if n>=90: # 90 -> 10 + 100 로 먼저 처리한다.\r\n",
                "            str += romanDict[10] + romanDict[100]\r\n",
                "            n -= 90\r\n",
                "        else:\r\n",
                "            # 88이나 가지고 있다면.. 감산법 없으면, ㅇ단위 숫자부터 제한다.\r\n",
                "            str += romanDict[50]\r\n",
                "            n-=50 \r\n",
                "    # 감산, 및 단위숫자 제거가 되서 50미만이 됨.\r\n",
                "\r\n",
                "    # 그 다음 단위숫자를 처리한다.\r\n",
                "    while n>=10 : \r\n",
                "        if n>=40:\r\n",
                "            str += romanDict[10] + romanDict[50]\r\n",
                "            n-=40\r\n",
                "        else:\r\n",
                "            str += romanDict[10]\r\n",
                "            n-=10\r\n",
                "    \r\n",
                "    # 10~99까지 처리되었으면, 1~9의 함수결과와 더한다.\r\n",
                "    return str + romanNumber1(n)\r\n",
                "\r\n",
                "romanNumber2(99)\r\n"
            ],
            "outputs": [
                {
                    "output_type": "execute_result",
                    "data": {
                        "text/plain": [
                            "'XCIX'"
                        ]
                    },
                    "metadata": {},
                    "execution_count": 52
                }
            ],
            "metadata": {}
        },
        {
            "cell_type": "code",
            "execution_count": 53,
            "source": [
                "# 10, 20 ~ 90까지 해보자.\r\n",
                "for n in range(10, 100, 10):\r\n",
                "    print(n, \":\", romanNumber2(n))"
            ],
            "outputs": [
                {
                    "output_type": "stream",
                    "name": "stdout",
                    "text": [
                        "10 : X\n",
                        "20 : XX\n",
                        "30 : XXX\n",
                        "40 : XL\n",
                        "50 : L\n",
                        "60 : LX\n",
                        "70 : LXX\n",
                        "80 : LXXX\n",
                        "90 : XC\n"
                    ]
                }
            ],
            "metadata": {}
        },
        {
            "cell_type": "markdown",
            "source": [
                "### 4000미만의 숫자로 더 확장하기\r\n",
                " - 단위가 5000이상은 없다고 치기 때문에 3999로 제한함.. 4000이면 5000 - 1000으로 감산되어야함."
            ],
            "metadata": {}
        },
        {
            "cell_type": "code",
            "execution_count": 55,
            "source": [
                "def romanNumber3(n):\r\n",
                "    \r\n",
                "    str = \"\"\r\n",
                "\r\n",
                "    while n>=1000:\r\n",
                "        # 이놈은 상위에 존재하는 감산법(4000)이 없기 때문에.. 단위숫자만 제한다.\r\n",
                "        str += romanDict[1000]\r\n",
                "        n-=1000\r\n",
                "\r\n",
                "    while n>=500:\r\n",
                "        # 900감산해주기\r\n",
                "        if n>=900:\r\n",
                "            str += romanDict[100] + romanDict[1000]\r\n",
                "            n-=900\r\n",
                "        else:\r\n",
                "            str += romanDict[500]\r\n",
                "            n-=500\r\n",
                "\r\n",
                "    while n>= 100:\r\n",
                "        if n>=400:\r\n",
                "            str += romanDict[100] + romanDict[500]\r\n",
                "            n-=400\r\n",
                "        else:\r\n",
                "            str += romanDict[100]\r\n",
                "            n -= 100 \r\n",
                "    return str + romanNumber2(n)\r\n",
                "\r\n",
                "for n in range(100, 1000, 100):\r\n",
                "    print(n, \":\", romanNumber3(n))"
            ],
            "outputs": [
                {
                    "output_type": "stream",
                    "name": "stdout",
                    "text": [
                        "100 : C\n",
                        "200 : CC\n",
                        "300 : CCC\n",
                        "400 : CD\n",
                        "500 : D\n",
                        "600 : DC\n",
                        "700 : DCC\n",
                        "800 : DCCC\n",
                        "900 : CM\n"
                    ]
                }
            ],
            "metadata": {}
        },
        {
            "cell_type": "markdown",
            "source": [
                "### 패턴이 보인다."
            ],
            "metadata": {}
        },
        {
            "cell_type": "markdown",
            "source": [
                " - while마다 패턴이 있으니, 그 패턴에 맞게 필요한 요소들을 list로 구성해서 만들어보자.\r\n",
                "\r\n",
                "![image-20210930170716150](https://raw.githubusercontent.com/is3js/screenshots/main/image-20210930170716150.png)\r\n",
                "\r\n",
                "- null string에다가 범위(단위를 가지고 있는) 동안에는\r\n",
                "\r\n",
                "  - 감산법\r\n",
                "\r\n",
                "  - 단위 반복 제거\r\n",
                "\r\n",
                "    \r\n",
                "\r\n",
                "    ![image-20210930170813702](https://raw.githubusercontent.com/is3js/screenshots/main/image-20210930170813702.png)\r\n",
                "    ![image-20210930170846688](https://raw.githubusercontent.com/is3js/screenshots/main/image-20210930170846688.png)\r\n",
                "\r\n",
                "\r\n",
                "\r\n",
                "- dict에서 꺼내쓰는 대신 (**key:value를    index가 동일한 위치에 각각을 list1:list2로 선언해서 사용**)\r\n",
                "  - **각 패턴에 들어가는 숫자들이 짝을 이루도록** list의 **같은 index에 나열**해서 사용한다.\r\n",
                "    - whlie에 들어갈 단위    [1000,      500,   100, ...]\r\n",
                "    - if에 들어갈 감산법처리 [4000(X), 900,   400, ...]\r\n",
                "    - str+=에 들어갈 감산법용 로마숫자 900이면 100(C)과 1000(M)가 같은 index line에 오도록 list 2개를 나열\r\n",
                "      ![image-20210930171524960](https://raw.githubusercontent.com/is3js/screenshots/main/image-20210930171524960.png)\r\n",
                "      - 이부분을 지정하는 것이 까다로우니까.. 걍 같은 index에 나열해서 임의의 쌍을 지어놓는 것임.\r\n",
                "        ![image-20210930171617831](https://raw.githubusercontent.com/is3js/screenshots/main/image-20210930171617831.png)\r\n",
                "        ![image-20210930171637933](https://raw.githubusercontent.com/is3js/screenshots/main/image-20210930171637933.png)\r\n",
                "        ![image-20210930171825096](https://raw.githubusercontent.com/is3js/screenshots/main/image-20210930171825096.png)\r\n",
                "\r\n",
                "\r\n",
                "\r\n",
                "\r\n",
                "\r\n",
                "\r\n",
                "\r\n",
                "\r\n",
                "\r\n",
                "![image-20210930170945904](https://raw.githubusercontent.com/is3js/screenshots/main/image-20210930170945904.png)"
            ],
            "metadata": {}
        },
        {
            "cell_type": "markdown",
            "source": [
                "### dict로 모든 것을 다 지정해놓고 사용하면 더 간단해진다.\r\n",
                " - 단위뿐만 아니라 감산법의 범위도 list에 다 몰아놓고, 그 때의 로마문자도 dict에 다 몰아놓은 상태에서 while 패턴을 돌린다.\r\n",
                " ![image-20210930172105516](https://raw.githubusercontent.com/is3js/screenshots/main/image-20210930172105516.png)\r\n",
                "\r\n",
                " - 테스트\r\n",
                "  ![image-20210930172320015](https://raw.githubusercontent.com/is3js/screenshots/main/image-20210930172320015.png)\r\n",
                "\r\n",
                "\r\n"
            ],
            "metadata": {}
        },
        {
            "cell_type": "code",
            "execution_count": 57,
            "source": [
                "romanDict2 = {\r\n",
                "    1:'I', 4:'IV',\r\n",
                "    5:'V', 9:'IX',\r\n",
                "    10:'X', 40:'XL',\r\n",
                "    50:'L', 90:'XC',\r\n",
                "    100:'C', 400:'CD',\r\n",
                "    500:'D', 900:'CM',\r\n",
                "    1000:'M',\r\n",
                "}\r\n",
                "\r\n",
                "keyValues = [1000, 900, 500, 400, 100, 90, 50, 40, 10, 9, 5, 4, 1]"
            ],
            "outputs": [],
            "metadata": {}
        },
        {
            "cell_type": "code",
            "execution_count": 60,
            "source": [
                "# 감산법구간도.. 단위구간처럼  while >=  그만큼 제하기를 할 수 있다.\r\n",
                "# 1000과 500사이 900이 등장하면.. 이미 1000을 다 돌린 상태기 때문에.. 999이하라서 900을 while에 돌리는 것이 가능하다.\r\n",
                "# - 비록 단위숫자가 아니면 1번밖에 해당이 안되지만.. while에 들어가도 상관없다 1번만 수행하고 나오면 되므로.\r\n",
                "\r\n",
                "def toRomanNumber(n):\r\n",
                "    str=\"\"\r\n",
                "    for i in range(len(keyValues)):\r\n",
                "        while n >= keyValues[i]:\r\n",
                "            str += romanDict2[keyValues[i]]\r\n",
                "            n -= keyValues[i]\r\n",
                "\r\n",
                "    return str \r\n",
                "\r\n",
                "\r\n",
                "toRomanNumber(155)"
            ],
            "outputs": [
                {
                    "output_type": "execute_result",
                    "data": {
                        "text/plain": [
                            "'CLV'"
                        ]
                    },
                    "metadata": {},
                    "execution_count": 60
                }
            ],
            "metadata": {}
        },
        {
            "cell_type": "code",
            "execution_count": null,
            "source": [],
            "outputs": [],
            "metadata": {}
        }
    ],
    "metadata": {
        "orig_nbformat": 4,
        "language_info": {
            "name": "python",
            "version": "3.8.5",
            "mimetype": "text/x-python",
            "codemirror_mode": {
                "name": "ipython",
                "version": 3
            },
            "pygments_lexer": "ipython3",
            "nbconvert_exporter": "python",
            "file_extension": ".py"
        },
        "kernelspec": {
            "name": "python3",
            "display_name": "Python 3.8.5 64-bit (conda)"
        },
        "interpreter": {
            "hash": "b3ba2566441a7c06988d0923437866b63cedc61552a5af99d1f4fb67d367b25f"
        }
    },
    "nbformat": 4,
    "nbformat_minor": 2
}