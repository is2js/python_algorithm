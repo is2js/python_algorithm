{
    "cells": [
        {
            "cell_type": "code",
            "execution_count": null,
            "source": [],
            "outputs": [],
            "metadata": {}
        },
        {
            "cell_type": "markdown",
            "source": [
                "출저 : 주니온TV(유튜브)"
            ],
            "metadata": {}
        },
        {
            "cell_type": "code",
            "execution_count": null,
            "source": [
                "ㅇㅇㅇㅇㅇㅇㅇㅇ"
            ],
            "outputs": [],
            "metadata": {}
        },
        {
            "cell_type": "markdown",
            "source": [
                "## 콜라츠의 추측: 우박수 문제\r\n",
                "\r\n",
                " - 쉬운데 어렵다. 대학에서 잘 가르킨다.\r\n",
                " ![image-20210927120303710](https://raw.githubusercontent.com/is3js/screenshots/main/image-20210927120303710.png)\r\n",
                "\r\n",
                " ![image-20210927120351739](https://raw.githubusercontent.com/is3js/screenshots/main/image-20210927120351739.png)\r\n",
                "\r\n",
                "\r\n",
                " "
            ],
            "metadata": {}
        },
        {
            "cell_type": "markdown",
            "source": [
                "### 구현(collatz) : 콜라츠 수열을 만들어 반환\r\n",
                " - 증명은 못할정도로 어렵지만, 구현은 쉽다.\r\n",
                " ![image-20210927120854123](https://raw.githubusercontent.com/is3js/screenshots/main/image-20210927120854123.png)"
            ],
            "metadata": {}
        },
        {
            "cell_type": "code",
            "execution_count": 4,
            "source": [
                "def collatz(n):\r\n",
                "    # 0. n부터 나누기2로 줄거나 or *3+1로 커지는데, 그것을  n==1될때까지 모은다.\r\n",
                "    seq = [n]\r\n",
                "    # 1. 콜라츠는 1이되면 종료한다. 1보다 클때까지만 돌린다.\r\n",
                "    while n>1:\r\n",
                "        if n%2==0:\r\n",
                "            n=n//2\r\n",
                "        else:\r\n",
                "            n=3*n + 1\r\n",
                "        seq.append(n)\r\n",
                "    return seq\r\n",
                "\r\n",
                "\r\n",
                "collatz(10)"
            ],
            "outputs": [
                {
                    "output_type": "execute_result",
                    "data": {
                        "text/plain": [
                            "[10, 5, 16, 8, 4, 2, 1]"
                        ]
                    },
                    "metadata": {},
                    "execution_count": 4
                }
            ],
            "metadata": {}
        },
        {
            "cell_type": "code",
            "execution_count": null,
            "source": [
                "for i in range(1, 10):\r\n",
                "    print(collatz(i))"
            ],
            "outputs": [],
            "metadata": {}
        },
        {
            "cell_type": "markdown",
            "source": [
                "### 규칙발견을 위해, seq-len을 end=\" \"로 출력해보자.\r\n",
                " - 수열의 길이에 규칙이 있는지 봤는데, 안보인다..."
            ],
            "metadata": {}
        },
        {
            "cell_type": "code",
            "execution_count": null,
            "source": [
                "for i in range(1, 100):\r\n",
                "    print(len(collatz(i)), end=\" \")"
            ],
            "outputs": [],
            "metadata": {}
        },
        {
            "cell_type": "markdown",
            "source": [
                "### 규칙은 없지만, 쉬워서 문제는 우박수처럼 쏟아진다.\r\n",
                "\r\n",
                "![image-20210927121646260](https://raw.githubusercontent.com/is3js/screenshots/main/image-20210927121646260.png)\r\n",
                "\r\n",
                "- 손으로는 계산못한다.\r\n",
                "\r\n",
                "![image-20210927121732546](https://raw.githubusercontent.com/is3js/screenshots/main/image-20210927121732546.png)\r\n",
                "\r\n"
            ],
            "metadata": {}
        },
        {
            "cell_type": "markdown",
            "source": [
                " - 조건을 만족시키는 가장 작은 수는? \r\n",
                "     - **input index가 정해지지 않은 경우, 그냥  while True:로 무한루프  i=0, i+=1로 시작하자.**\r\n",
                "     - 1부터 시작하며, +1씩 나가면서, 조건을 만족할 때 바로 return(break)해버리면 `가장 작은 수`다.\r\n",
                "        - **두번째 수는? count변수를 만들어 조건 만족할때마다 +1 해서 체크한다.**\r\n",
                "     - 끝을 모르는 경우 while True: + break(or return)의 무한루프를 돈다."
            ],
            "metadata": {}
        },
        {
            "cell_type": "code",
            "execution_count": 9,
            "source": [
                "# 콜라츠 수열의 길이가 100인 숫자들 중에서 가장 작은 수는?\r\n",
                "n=0\r\n",
                "while True:\r\n",
                "    n+=1\r\n",
                "    if len(collatz(n)) == 100:\r\n",
                "        break \r\n",
                "\r\n",
                "print(\"길이가 100인 가장 작은 우박수는?\", n)"
            ],
            "outputs": [
                {
                    "output_type": "stream",
                    "name": "stdout",
                    "text": [
                        "길이가 100인 가장 작은 우박수는? 322\n"
                    ]
                }
            ],
            "metadata": {}
        },
        {
            "cell_type": "code",
            "execution_count": 16,
            "source": [
                "# 10000이하의 콜라츠 수열의 길이가 가장긴 수는?\r\n",
                "# -> 1부터 10000까지를 돌아야한다 -> for문으로가능 / 너무 많지 않기 때문에 다돌아도 됨.\r\n",
                "# -> 돌면서 여러개 중에 가장 긴것 찾기 -> for문위에 변수에 curr변수 update\r\n",
                "# --> update 당시의 i도 알아야한다면...  curr = max(curr, ??? )로 한줄업데이트 불가능.ㅠ -> if문으로 풀어서 + 변수도 챙겨야한다.\r\n",
                "\r\n",
                "max_len = 0\r\n",
                "max_halestone = []\r\n",
                "\r\n",
                "for n in range(1, 10000+1):\r\n",
                "     #curr_len = max(curr_len, len(collatz(i)))\r\n",
                "     # 만약, 수열자체도 필요하다면, \r\n",
                "     halestone = collatz(n)\r\n",
                "     length = len(halestone)\r\n",
                "     if max_len < len(halestone):\r\n",
                "         max_len = length\r\n",
                "         max_halestone = halestone\r\n",
                "\r\n",
                "\r\n",
                "print(\"10,000이하 가장 긴 우박수의 길이와 우박수 :\", max_len, max_halestone[0])"
            ],
            "outputs": [
                {
                    "output_type": "stream",
                    "name": "stdout",
                    "text": [
                        "10,000이하 가장 긴 우박수의 길이와 우박수 : 262 6171\n"
                    ]
                }
            ],
            "metadata": {}
        },
        {
            "cell_type": "markdown",
            "source": [
                "### 연습문제: 콜라츠수열의 길이가 500보다 큰 첫번째 자연수는?\r\n",
                " - 콜라츠수열의 길이가 500보다 큰 첫번째 자연수는?\r\n",
                "     - 첫번째 자연수 -> 조건을 만족하면 바로 return한 수\r\n",
                " - 콜라츠수열의 길이가 500보다 큰 10번째 자연수의  콜라츠 수열 길이는?\r\n",
                "     - 10번재 자연수 -> 조건을 만족할 때마다 count따로 해줘야함."
            ],
            "metadata": {}
        },
        {
            "cell_type": "code",
            "execution_count": 22,
            "source": [
                "n=0\r\n",
                "count = 0\r\n",
                "while True:\r\n",
                "    n+=1\r\n",
                "    if len(collatz(n)) > 500:\r\n",
                "        count+=1\r\n",
                "        print(count, n)\r\n",
                "        if count ==10:\r\n",
                "            break\r\n",
                "\r\n",
                "n"
            ],
            "outputs": [
                {
                    "output_type": "stream",
                    "name": "stdout",
                    "text": [
                        "1 626331\n",
                        "2 704623\n"
                    ]
                },
                {
                    "output_type": "error",
                    "ename": "KeyboardInterrupt",
                    "evalue": "",
                    "traceback": [
                        "\u001b[1;31m---------------------------------------------------------------------------\u001b[0m",
                        "\u001b[1;31mKeyboardInterrupt\u001b[0m                         Traceback (most recent call last)",
                        "\u001b[1;32m<ipython-input-22-850d376ae79b>\u001b[0m in \u001b[0;36m<module>\u001b[1;34m\u001b[0m\n\u001b[0;32m      3\u001b[0m \u001b[1;32mwhile\u001b[0m \u001b[1;32mTrue\u001b[0m\u001b[1;33m:\u001b[0m\u001b[1;33m\u001b[0m\u001b[1;33m\u001b[0m\u001b[0m\n\u001b[0;32m      4\u001b[0m     \u001b[0mn\u001b[0m\u001b[1;33m+=\u001b[0m\u001b[1;36m1\u001b[0m\u001b[1;33m\u001b[0m\u001b[1;33m\u001b[0m\u001b[0m\n\u001b[1;32m----> 5\u001b[1;33m     \u001b[1;32mif\u001b[0m \u001b[0mlen\u001b[0m\u001b[1;33m(\u001b[0m\u001b[0mcollatz\u001b[0m\u001b[1;33m(\u001b[0m\u001b[0mn\u001b[0m\u001b[1;33m)\u001b[0m\u001b[1;33m)\u001b[0m \u001b[1;33m>\u001b[0m \u001b[1;36m500\u001b[0m\u001b[1;33m:\u001b[0m\u001b[1;33m\u001b[0m\u001b[1;33m\u001b[0m\u001b[0m\n\u001b[0m\u001b[0;32m      6\u001b[0m         \u001b[0mcount\u001b[0m\u001b[1;33m+=\u001b[0m\u001b[1;36m1\u001b[0m\u001b[1;33m\u001b[0m\u001b[1;33m\u001b[0m\u001b[0m\n\u001b[0;32m      7\u001b[0m         \u001b[0mprint\u001b[0m\u001b[1;33m(\u001b[0m\u001b[0mcount\u001b[0m\u001b[1;33m,\u001b[0m \u001b[0mn\u001b[0m\u001b[1;33m)\u001b[0m\u001b[1;33m\u001b[0m\u001b[1;33m\u001b[0m\u001b[0m\n",
                        "\u001b[1;32m<ipython-input-4-8f19596a1b90>\u001b[0m in \u001b[0;36mcollatz\u001b[1;34m(n)\u001b[0m\n\u001b[0;32m      5\u001b[0m     \u001b[1;32mwhile\u001b[0m \u001b[0mn\u001b[0m\u001b[1;33m>\u001b[0m\u001b[1;36m1\u001b[0m\u001b[1;33m:\u001b[0m\u001b[1;33m\u001b[0m\u001b[1;33m\u001b[0m\u001b[0m\n\u001b[0;32m      6\u001b[0m         \u001b[1;32mif\u001b[0m \u001b[0mn\u001b[0m\u001b[1;33m%\u001b[0m\u001b[1;36m2\u001b[0m\u001b[1;33m==\u001b[0m\u001b[1;36m0\u001b[0m\u001b[1;33m:\u001b[0m\u001b[1;33m\u001b[0m\u001b[1;33m\u001b[0m\u001b[0m\n\u001b[1;32m----> 7\u001b[1;33m             \u001b[0mn\u001b[0m\u001b[1;33m=\u001b[0m\u001b[0mn\u001b[0m\u001b[1;33m//\u001b[0m\u001b[1;36m2\u001b[0m\u001b[1;33m\u001b[0m\u001b[1;33m\u001b[0m\u001b[0m\n\u001b[0m\u001b[0;32m      8\u001b[0m         \u001b[1;32melse\u001b[0m\u001b[1;33m:\u001b[0m\u001b[1;33m\u001b[0m\u001b[1;33m\u001b[0m\u001b[0m\n\u001b[0;32m      9\u001b[0m             \u001b[0mn\u001b[0m\u001b[1;33m=\u001b[0m\u001b[1;36m3\u001b[0m\u001b[1;33m*\u001b[0m\u001b[0mn\u001b[0m \u001b[1;33m+\u001b[0m \u001b[1;36m1\u001b[0m\u001b[1;33m\u001b[0m\u001b[1;33m\u001b[0m\u001b[0m\n",
                        "\u001b[1;31mKeyboardInterrupt\u001b[0m: "
                    ]
                }
            ],
            "metadata": {}
        },
        {
            "cell_type": "markdown",
            "source": [
                "## 로마 문자(기호) -> 아라비아 숫자로 "
            ],
            "metadata": {}
        },
        {
            "cell_type": "markdown",
            "source": [
                "![image-20210928165007845](https://raw.githubusercontent.com/is3js/screenshots/main/image-20210928165007845.png)\r\n",
                "\r\n",
                "![image-20210928165014112](https://raw.githubusercontent.com/is3js/screenshots/main/image-20210928165014112.png)\r\n",
                "\r\n"
            ],
            "metadata": {}
        },
        {
            "cell_type": "markdown",
            "source": [
                "### 로마 숫자 표기법\r\n",
                "\r\n",
                "![image-20210928165213769](https://raw.githubusercontent.com/is3js/screenshots/main/image-20210928165213769.png)\r\n",
                "\r\n",
                "![image-20210928165245431](https://raw.githubusercontent.com/is3js/screenshots/main/image-20210928165245431.png)\r\n",
                "\r\n",
                "- X, XX, XXX : 10, 20, 30\r\n",
                "  - **XL : 40**\r\n",
                "\r\n",
                "\r\n",
                "\r\n",
                "![image-20210928165353548](https://raw.githubusercontent.com/is3js/screenshots/main/image-20210928165353548.png)\r\n",
                "\r\n",
                "- L, LX, LXX, LXXX : 50, 60, 70, 80\r\n",
                "  -  **XC : 90**\r\n",
                "\r\n",
                "\r\n",
                "\r\n",
                "![image-20210928165541773](https://raw.githubusercontent.com/is3js/screenshots/main/image-20210928165541773.png)\r\n",
                "\r\n",
                "- C, CC, CCC : 100 200 300 \r\n",
                "  - **CD : 400**\r\n",
                "\r\n",
                "\r\n",
                "\r\n",
                "![image-20210928165645098](https://raw.githubusercontent.com/is3js/screenshots/main/image-20210928165645098.png)\r\n",
                "\r\n",
                "- D, DC, DCC, DCCC: 500, 600, 700, 800\r\n",
                "  - **MC : 900**\r\n",
                "\r\n",
                "![image-20210928165730181](https://raw.githubusercontent.com/is3js/screenshots/main/image-20210928165730181.png)\r\n",
                "\r\n",
                "- 규칙발견하기\r\n",
                "  - **기본적으로는 `가산표기법` : 기호의 값을 그냥 합산하면 됨. **\r\n",
                "  - **너무 길어지는 경우, `감산표기법`**: \r\n",
                "    - **큰 수 앞에(왼쪽에) 작은 수를 넣으면, 큰 수(오른)에서  작은 수(왼)를 빼라는 뜻.**\r\n",
                "    - 예) 4, 9, 40, 90, 400, 900 ..\r\n",
                "\r\n",
                "\r\n",
                "\r\n"
            ],
            "metadata": {}
        },
        {
            "cell_type": "code",
            "execution_count": 25,
            "source": [
                "string = \"MDCLXVI\"\r\n",
                "\r\n",
                "print(string[0])\r\n",
                "print(string[6])\r\n",
                "\r\n",
                "for i in range(len(string)):\r\n",
                "    print(string[i], end=\" \")\r\n",
                "print()\r\n",
                "\r\n",
                "print(\"M\" + \"D\" + \"C\" + \"L\" + \"X\" + \"V\" + \"I\")"
            ],
            "outputs": [
                {
                    "output_type": "stream",
                    "name": "stdout",
                    "text": [
                        "M\n",
                        "I\n",
                        "M D C L X V I \n",
                        "MDCLXVI\n"
                    ]
                }
            ],
            "metadata": {}
        },
        {
            "cell_type": "markdown",
            "source": [
                "### getValueOf(symbol) : 로마 문자를 아라비아 숫자로 변환"
            ],
            "metadata": {}
        },
        {
            "cell_type": "code",
            "execution_count": 31,
            "source": [
                "# 함수로 매칭..\r\n",
                "def getValueOf(symbol):\r\n",
                "    if symbol == 'M': return 1000\r\n",
                "    elif symbol == 'D': return 500\r\n",
                "    elif symbol == 'C': return 100\r\n",
                "    elif symbol == 'L': return 50\r\n",
                "    elif symbol == 'X': return 10\r\n",
                "    elif symbol == 'V': return 5\r\n",
                "    elif symbol == 'I': return 1\r\n",
                "\r\n",
                "roman = \"MDCLXVI\"\r\n",
                "\r\n",
                "for i in range(len(roman)):\r\n",
                "    #print(getValueOf(roman[i]))\r\n",
                "    print(roman[i] ,\":\", getValueOf(roman[i]))\r\n",
                "\r\n"
            ],
            "outputs": [
                {
                    "output_type": "stream",
                    "name": "stdout",
                    "text": [
                        "M : 1000\n",
                        "D : 500\n",
                        "C : 100\n",
                        "L : 50\n",
                        "X : 10\n",
                        "V : 5\n",
                        "I : 1\n"
                    ]
                }
            ],
            "metadata": {}
        },
        {
            "cell_type": "markdown",
            "source": [
                "### dict로 매칭되는 데이터 매핑\r\n",
                " - 함수로 길게 if elif...로 매칭을 시켜 return해줄 필요가 없다."
            ],
            "metadata": {}
        },
        {
            "cell_type": "code",
            "execution_count": 35,
            "source": [
                "romanDict = {\r\n",
                "    'M':1000, 'D':500, 'C':100, 'L':50, 'X':10, 'V':5, 'I':1\r\n",
                "}\r\n",
                "\r\n",
                "roman = \"MDCLXVI\"\r\n",
                "\r\n",
                "for i in range(len(roman)):\r\n",
                "    #print(getValueOf(roman[i]))\r\n",
                "    print(roman[i] ,\":\", romanDict[roman[i]])"
            ],
            "outputs": [
                {
                    "output_type": "stream",
                    "name": "stdout",
                    "text": [
                        "M : 1000\n",
                        "D : 500\n",
                        "C : 100\n",
                        "L : 50\n",
                        "X : 10\n",
                        "V : 5\n",
                        "I : 1\n"
                    ]
                }
            ],
            "metadata": {}
        },
        {
            "cell_type": "markdown",
            "source": [
                "### 단순 가산만 해주기\r\n",
                " - 가산표기법은 고려안한 상태로 로마문자->숫자변환->단순 가산만\r\n",
                " - **어차피 숫자로 변환후 각 대응되는 숫자를 누적해서 더하던지 빼던지 해야함 -> 변수에 누적합**"
            ],
            "metadata": {}
        },
        {
            "cell_type": "code",
            "execution_count": 37,
            "source": [
                "roman = \"MDCLXVI\"\r\n",
                "\r\n",
                "arabic = 0\r\n",
                "\r\n",
                "for i in range(len(roman)):\r\n",
                "    #arabic += getValueOf(roman[i])\r\n",
                "    arabic += romanDict[roman[i]]\r\n",
                "\r\n",
                "print(arabic)\r\n"
            ],
            "outputs": [
                {
                    "output_type": "stream",
                    "name": "stdout",
                    "text": [
                        "1666\n"
                    ]
                }
            ],
            "metadata": {}
        },
        {
            "cell_type": "markdown",
            "source": [
                "### 감산 생각해주기\r\n",
                " - i번째 수에서, i+1(다음수)보다 작은 숫자라고 판명되면 arabic에 -= 빼주면 된다.\r\n",
                "     - for문에 i+1이 들어온 순간,, 바깥  for문에서는 1개 적게 끝나고 + 맨 마지막꺼는 추가로 더해준다?\r\n",
                "     - 또는, 여기서는, 감산 확인 if문 자체를... 마지막 인덱스는 포함안되도록, i <( n-1)로 추가 조건주기\r\n"
            ],
            "metadata": {}
        },
        {
            "cell_type": "code",
            "execution_count": 41,
            "source": [
                "def toArabicNumber(roman):\r\n",
                "    arabic = 0\r\n",
                "\r\n",
                "    for i in range(len(roman)):\r\n",
                "        # 마지막 [n-1]에서는 검사안하도록.. and 조건을 주자. \r\n",
                "        # - 그외에는.. 다 검사하게 되어있다..\r\n",
                "        if (i< len(roman)-1) and romanDict[roman[i]] < romanDict[roman[i+1]]:\r\n",
                "            arabic -= romanDict[roman[i]]\r\n",
                "        else:\r\n",
                "            arabic += romanDict[roman[i]]\r\n",
                "\r\n",
                "    return arabic\r\n",
                "\r\n",
                "\r\n",
                "romans = ['CCLXIX', 'LXXX', 'XXIX']\r\n",
                "arabics =[]\r\n",
                "for roman in romans:\r\n",
                "    arabics.append(toArabicNumber(roman))\r\n",
                "\r\n",
                "print(arabics)"
            ],
            "outputs": [
                {
                    "output_type": "stream",
                    "name": "stdout",
                    "text": [
                        "[269, 80, 29]\n"
                    ]
                }
            ],
            "metadata": {}
        },
        {
            "cell_type": "markdown",
            "source": [
                "### 연습문제: 아라비아 숫자를 로마문자로 변환가능할까?\r\n",
                " - 참고 : www.wolframalpha.com\r\n",
                "     - `roman numerals 1666`\r\n",
                "     - `roman numerals MDCLXVI`"
            ],
            "metadata": {}
        }
    ],
    "metadata": {
        "orig_nbformat": 4,
        "language_info": {
            "name": "python",
            "version": "3.8.5",
            "mimetype": "text/x-python",
            "codemirror_mode": {
                "name": "ipython",
                "version": 3
            },
            "pygments_lexer": "ipython3",
            "nbconvert_exporter": "python",
            "file_extension": ".py"
        },
        "kernelspec": {
            "name": "python3",
            "display_name": "Python 3.8.5 64-bit (conda)"
        },
        "interpreter": {
            "hash": "b3ba2566441a7c06988d0923437866b63cedc61552a5af99d1f4fb67d367b25f"
        }
    },
    "nbformat": 4,
    "nbformat_minor": 2
}