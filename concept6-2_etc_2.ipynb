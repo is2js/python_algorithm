{
    "cells": [
        {
            "cell_type": "code",
            "execution_count": null,
            "source": [],
            "outputs": [],
            "metadata": {}
        },
        {
            "cell_type": "markdown",
            "source": [
                "출저 : 주니온TV(유튜브)"
            ],
            "metadata": {}
        },
        {
            "cell_type": "markdown",
            "source": [
                "## 콜라츠의 추측: 우박수 문제\r\n",
                "\r\n",
                " - 쉬운데 어렵다. 대학에서 잘 가르킨다.\r\n",
                " ![image-20210927120303710](https://raw.githubusercontent.com/is3js/screenshots/main/image-20210927120303710.png)\r\n",
                "\r\n",
                " ![image-20210927120351739](https://raw.githubusercontent.com/is3js/screenshots/main/image-20210927120351739.png)\r\n",
                "\r\n",
                "\r\n",
                " "
            ],
            "metadata": {}
        },
        {
            "cell_type": "markdown",
            "source": [
                "### 구현(collatz) : 콜라츠 수열을 만들어 반환\r\n",
                " - 증명은 못할정도로 어렵지만, 구현은 쉽다.\r\n",
                " ![image-20210927120854123](https://raw.githubusercontent.com/is3js/screenshots/main/image-20210927120854123.png)"
            ],
            "metadata": {}
        },
        {
            "cell_type": "code",
            "execution_count": 4,
            "source": [
                "def collatz(n):\r\n",
                "    # 0. n부터 나누기2로 줄거나 or *3+1로 커지는데, 그것을  n==1될때까지 모은다.\r\n",
                "    seq = [n]\r\n",
                "    # 1. 콜라츠는 1이되면 종료한다. 1보다 클때까지만 돌린다.\r\n",
                "    while n>1:\r\n",
                "        if n%2==0:\r\n",
                "            n=n//2\r\n",
                "        else:\r\n",
                "            n=3*n + 1\r\n",
                "        seq.append(n)\r\n",
                "    return seq\r\n",
                "\r\n",
                "\r\n",
                "collatz(10)"
            ],
            "outputs": [
                {
                    "output_type": "execute_result",
                    "data": {
                        "text/plain": [
                            "[10, 5, 16, 8, 4, 2, 1]"
                        ]
                    },
                    "metadata": {},
                    "execution_count": 4
                }
            ],
            "metadata": {}
        },
        {
            "cell_type": "code",
            "execution_count": null,
            "source": [
                "for i in range(1, 10):\r\n",
                "    print(collatz(i))"
            ],
            "outputs": [],
            "metadata": {}
        },
        {
            "cell_type": "markdown",
            "source": [
                "### 규칙발견을 위해, seq-len을 end=\" \"로 출력해보자.\r\n",
                " - 수열의 길이에 규칙이 있는지 봤는데, 안보인다..."
            ],
            "metadata": {}
        },
        {
            "cell_type": "code",
            "execution_count": null,
            "source": [
                "for i in range(1, 100):\r\n",
                "    print(len(collatz(i)), end=\" \")"
            ],
            "outputs": [],
            "metadata": {}
        },
        {
            "cell_type": "markdown",
            "source": [
                "### 규칙은 없지만, 쉬워서 문제는 우박수처럼 쏟아진다.\r\n",
                "\r\n",
                "![image-20210927121646260](https://raw.githubusercontent.com/is3js/screenshots/main/image-20210927121646260.png)\r\n",
                "\r\n",
                "- 손으로는 계산못한다.\r\n",
                "\r\n",
                "![image-20210927121732546](https://raw.githubusercontent.com/is3js/screenshots/main/image-20210927121732546.png)\r\n",
                "\r\n"
            ],
            "metadata": {}
        },
        {
            "cell_type": "markdown",
            "source": [
                " - 조건을 만족시키는 가장 작은 수는? \r\n",
                "     - **input index가 정해지지 않은 경우, 그냥  while True:로 무한루프로 시작하자.**\r\n",
                "     - 1부터 시작하며, +1씩 나가면서, 조건을 만족할 때 바로 return(break)해버리면 `가장 작은 수`다.\r\n",
                "        - **두번째 수는? count변수를 만들어 조건 만족할때마다 +1 해서 체크한다.**\r\n",
                "     - 끝을 모르는 경우 while True: + break(or return)의 무한루프를 돈다."
            ],
            "metadata": {}
        },
        {
            "cell_type": "code",
            "execution_count": 9,
            "source": [
                "# 콜라츠 수열의 길이가 100인 숫자들 중에서 가장 작은 수는?\r\n",
                "n=0\r\n",
                "while True:\r\n",
                "    n+=1\r\n",
                "    if len(collatz(n)) == 100:\r\n",
                "        break \r\n",
                "\r\n",
                "print(\"길이가 100인 가장 작은 우박수는?\", n)"
            ],
            "outputs": [
                {
                    "output_type": "stream",
                    "name": "stdout",
                    "text": [
                        "길이가 100인 가장 작은 우박수는? 322\n"
                    ]
                }
            ],
            "metadata": {}
        },
        {
            "cell_type": "code",
            "execution_count": 16,
            "source": [
                "# 10000이하의 콜라츠 수열의 길이가 가장긴 수는?\r\n",
                "# -> 1부터 10000까지를 돌아야한다 -> for문으로가능 / 너무 많지 않기 때문에 다돌아도 됨.\r\n",
                "# -> 돌면서 여러개 중에 가장 긴것 찾기 -> for문위에 변수에 curr변수 update\r\n",
                "# --> update 당시의 i도 알아야한다면...  curr = max(curr, ??? )로 한줄업데이트 불가능.ㅠ -> if문으로 풀어서 + 변수도 챙겨야한다.\r\n",
                "\r\n",
                "max_len = 0\r\n",
                "max_halestone = []\r\n",
                "\r\n",
                "for n in range(1, 10000+1):\r\n",
                "     #curr_len = max(curr_len, len(collatz(i)))\r\n",
                "     # 만약, 수열자체도 필요하다면, \r\n",
                "     halestone = collatz(n)\r\n",
                "     length = len(halestone)\r\n",
                "     if max_len < len(halestone):\r\n",
                "         max_len = length\r\n",
                "         max_halestone = halestone\r\n",
                "\r\n",
                "\r\n",
                "print(\"10,000이하 가장 긴 우박수의 길이와 우박수 :\", max_len, max_halestone[0])"
            ],
            "outputs": [
                {
                    "output_type": "stream",
                    "name": "stdout",
                    "text": [
                        "10,000이하 가장 긴 우박수의 길이와 우박수 : 262 6171\n"
                    ]
                }
            ],
            "metadata": {}
        },
        {
            "cell_type": "markdown",
            "source": [
                "### 연습문제: 콜라츠수열의 길이가 500보다 큰 첫번째 자연수는?\r\n",
                " - 콜라츠수열의 길이가 500보다 큰 첫번째 자연수는?\r\n",
                "     - 첫번째 자연수 -> 조건을 만족하면 바로 return한 수\r\n",
                " - 콜라츠수열의 길이가 500보다 큰 10번째 자연수의  콜라츠 수열 길이는?\r\n",
                "     - 10번재 자연수 -> 조건을 만족할 때마다 count따로 해줘야함."
            ],
            "metadata": {}
        },
        {
            "cell_type": "code",
            "execution_count": 21,
            "source": [
                "n=0\r\n",
                "count = 0\r\n",
                "while True:\r\n",
                "    n+=1\r\n",
                "    if len(collatz(n)) > 500:\r\n",
                "        count+=1\r\n",
                "        print(count, n)\r\n",
                "        if count ==10:\r\n",
                "            break\r\n",
                "\r\n",
                "n"
            ],
            "outputs": [
                {
                    "output_type": "stream",
                    "name": "stdout",
                    "text": [
                        "1 626331\n",
                        "2 704623\n"
                    ]
                },
                {
                    "output_type": "error",
                    "ename": "KeyboardInterrupt",
                    "evalue": "",
                    "traceback": [
                        "\u001b[1;31m---------------------------------------------------------------------------\u001b[0m",
                        "\u001b[1;31mKeyboardInterrupt\u001b[0m                         Traceback (most recent call last)",
                        "\u001b[1;32m<ipython-input-21-850d376ae79b>\u001b[0m in \u001b[0;36m<module>\u001b[1;34m\u001b[0m\n\u001b[0;32m      3\u001b[0m \u001b[1;32mwhile\u001b[0m \u001b[1;32mTrue\u001b[0m\u001b[1;33m:\u001b[0m\u001b[1;33m\u001b[0m\u001b[1;33m\u001b[0m\u001b[0m\n\u001b[0;32m      4\u001b[0m     \u001b[0mn\u001b[0m\u001b[1;33m+=\u001b[0m\u001b[1;36m1\u001b[0m\u001b[1;33m\u001b[0m\u001b[1;33m\u001b[0m\u001b[0m\n\u001b[1;32m----> 5\u001b[1;33m     \u001b[1;32mif\u001b[0m \u001b[0mlen\u001b[0m\u001b[1;33m(\u001b[0m\u001b[0mcollatz\u001b[0m\u001b[1;33m(\u001b[0m\u001b[0mn\u001b[0m\u001b[1;33m)\u001b[0m\u001b[1;33m)\u001b[0m \u001b[1;33m>\u001b[0m \u001b[1;36m500\u001b[0m\u001b[1;33m:\u001b[0m\u001b[1;33m\u001b[0m\u001b[1;33m\u001b[0m\u001b[0m\n\u001b[0m\u001b[0;32m      6\u001b[0m         \u001b[0mcount\u001b[0m\u001b[1;33m+=\u001b[0m\u001b[1;36m1\u001b[0m\u001b[1;33m\u001b[0m\u001b[1;33m\u001b[0m\u001b[0m\n\u001b[0;32m      7\u001b[0m         \u001b[0mprint\u001b[0m\u001b[1;33m(\u001b[0m\u001b[0mcount\u001b[0m\u001b[1;33m,\u001b[0m \u001b[0mn\u001b[0m\u001b[1;33m)\u001b[0m\u001b[1;33m\u001b[0m\u001b[1;33m\u001b[0m\u001b[0m\n",
                        "\u001b[1;32m<ipython-input-4-8f19596a1b90>\u001b[0m in \u001b[0;36mcollatz\u001b[1;34m(n)\u001b[0m\n\u001b[0;32m      8\u001b[0m         \u001b[1;32melse\u001b[0m\u001b[1;33m:\u001b[0m\u001b[1;33m\u001b[0m\u001b[1;33m\u001b[0m\u001b[0m\n\u001b[0;32m      9\u001b[0m             \u001b[0mn\u001b[0m\u001b[1;33m=\u001b[0m\u001b[1;36m3\u001b[0m\u001b[1;33m*\u001b[0m\u001b[0mn\u001b[0m \u001b[1;33m+\u001b[0m \u001b[1;36m1\u001b[0m\u001b[1;33m\u001b[0m\u001b[1;33m\u001b[0m\u001b[0m\n\u001b[1;32m---> 10\u001b[1;33m         \u001b[0mseq\u001b[0m\u001b[1;33m.\u001b[0m\u001b[0mappend\u001b[0m\u001b[1;33m(\u001b[0m\u001b[0mn\u001b[0m\u001b[1;33m)\u001b[0m\u001b[1;33m\u001b[0m\u001b[1;33m\u001b[0m\u001b[0m\n\u001b[0m\u001b[0;32m     11\u001b[0m     \u001b[1;32mreturn\u001b[0m \u001b[0mseq\u001b[0m\u001b[1;33m\u001b[0m\u001b[1;33m\u001b[0m\u001b[0m\n\u001b[0;32m     12\u001b[0m \u001b[1;33m\u001b[0m\u001b[0m\n",
                        "\u001b[1;31mKeyboardInterrupt\u001b[0m: "
                    ]
                }
            ],
            "metadata": {}
        }
    ],
    "metadata": {
        "orig_nbformat": 4,
        "language_info": {
            "name": "python",
            "version": "3.8.5",
            "mimetype": "text/x-python",
            "codemirror_mode": {
                "name": "ipython",
                "version": 3
            },
            "pygments_lexer": "ipython3",
            "nbconvert_exporter": "python",
            "file_extension": ".py"
        },
        "kernelspec": {
            "name": "python3",
            "display_name": "Python 3.8.5 64-bit (conda)"
        },
        "interpreter": {
            "hash": "b3ba2566441a7c06988d0923437866b63cedc61552a5af99d1f4fb67d367b25f"
        }
    },
    "nbformat": 4,
    "nbformat_minor": 2
}