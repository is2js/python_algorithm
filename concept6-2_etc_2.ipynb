{
    "cells": [
        {
            "cell_type": "code",
            "execution_count": null,
            "source": [],
            "outputs": [],
            "metadata": {}
        },
        {
            "cell_type": "markdown",
            "source": [
                "출저 : 주니온TV(유튜브)"
            ],
            "metadata": {}
        },
        {
            "cell_type": "markdown",
            "source": [
                "## 콜라츠의 추측: 우박수 문제\r\n",
                "\r\n",
                " - 쉬운데 어렵다. 대학에서 잘 가르킨다.\r\n",
                " ![image-20210927120303710](https://raw.githubusercontent.com/is3js/screenshots/main/image-20210927120303710.png)\r\n",
                "\r\n",
                " ![image-20210927120351739](https://raw.githubusercontent.com/is3js/screenshots/main/image-20210927120351739.png)\r\n",
                "\r\n",
                "\r\n",
                " "
            ],
            "metadata": {}
        },
        {
            "cell_type": "markdown",
            "source": [
                "### 구현(collatz) : 콜라츠 수열을 만들어 반환\r\n",
                " - 증명은 못할정도로 어렵지만, 구현은 쉽다.\r\n",
                " ![image-20210927120854123](https://raw.githubusercontent.com/is3js/screenshots/main/image-20210927120854123.png)"
            ],
            "metadata": {}
        },
        {
            "cell_type": "code",
            "execution_count": 4,
            "source": [
                "def collatz(n):\r\n",
                "    # 0. n부터 나누기2로 줄거나 or *3+1로 커지는데, 그것을  n==1될때까지 모은다.\r\n",
                "    seq = [n]\r\n",
                "    # 1. 콜라츠는 1이되면 종료한다. 1보다 클때까지만 돌린다.\r\n",
                "    while n>1:\r\n",
                "        if n%2==0:\r\n",
                "            n=n//2\r\n",
                "        else:\r\n",
                "            n=3*n + 1\r\n",
                "        seq.append(n)\r\n",
                "    return seq\r\n",
                "\r\n",
                "\r\n",
                "collatz(10)"
            ],
            "outputs": [
                {
                    "output_type": "execute_result",
                    "data": {
                        "text/plain": [
                            "[10, 5, 16, 8, 4, 2, 1]"
                        ]
                    },
                    "metadata": {},
                    "execution_count": 4
                }
            ],
            "metadata": {}
        },
        {
            "cell_type": "code",
            "execution_count": null,
            "source": [
                "for i in range(1, 10):\r\n",
                "    print(collatz(i))"
            ],
            "outputs": [],
            "metadata": {}
        },
        {
            "cell_type": "markdown",
            "source": [
                "### 규칙발견을 위해, seq-len을 end=\" \"로 출력해보자.\r\n",
                " - 수열의 길이에 규칙이 있는지 봤는데, 안보인다..."
            ],
            "metadata": {}
        },
        {
            "cell_type": "code",
            "execution_count": null,
            "source": [
                "for i in range(1, 100):\r\n",
                "    print(len(collatz(i)), end=\" \")"
            ],
            "outputs": [],
            "metadata": {}
        },
        {
            "cell_type": "markdown",
            "source": [
                "### 규칙은 없지만, 쉬워서 문제는 우박수처럼 쏟아진다.\r\n",
                "\r\n",
                "![image-20210927121646260](https://raw.githubusercontent.com/is3js/screenshots/main/image-20210927121646260.png)\r\n",
                "\r\n",
                "- 손으로는 계산못한다.\r\n",
                "\r\n",
                "![image-20210927121732546](https://raw.githubusercontent.com/is3js/screenshots/main/image-20210927121732546.png)\r\n",
                "\r\n"
            ],
            "metadata": {}
        },
        {
            "cell_type": "markdown",
            "source": [
                " - 조건을 만족시키는 가장 작은 수는?\r\n",
                "     - 1부터 시작하며, +1씩 나가면서, 조건을 만족할 때 바로 return(break)해버리면 `가장 작은 수`다.\r\n",
                "        - **두번째 수는? count변수를 만들어 조건 만족할때마다 +1 해서 체크한다.**\r\n",
                "     - 끝을 모르는 경우 while True: + break(or return)의 무한루프를 돈다."
            ],
            "metadata": {}
        },
        {
            "cell_type": "code",
            "execution_count": 9,
            "source": [
                "# 콜라츠 수열의 길이가 100인 숫자들 중에서 가장 작은 수는?\r\n",
                "n=0\r\n",
                "while True:\r\n",
                "    n+=1\r\n",
                "    if len(collatz(n)) == 100:\r\n",
                "        break \r\n",
                "\r\n",
                "print(\"길이가 100인 가장 작은 우박수는?\", n)"
            ],
            "outputs": [
                {
                    "output_type": "stream",
                    "name": "stdout",
                    "text": [
                        "길이가 100인 가장 작은 우박수는? 322\n"
                    ]
                }
            ],
            "metadata": {}
        },
        {
            "cell_type": "code",
            "execution_count": 11,
            "source": [
                "# 10000이하의 콜라츠 수열의 길이가 가장긴 수는?\r\n",
                "# -> 1부터 10000까지를 돌아야한다 -> for문으로가능 / 너무 많지 않기 때문에 다돌아도 됨.\r\n",
                "# -> 돌면서 여러개 중에 가장 긴것 찾기 -> for문위에 변수에 curr변수 update\r\n",
                "# --> update 당시의 i도 알아야한다면...  curr = max(curr, ??? )로 한줄업데이트 불가능.ㅠ -> if문으로 풀어서 + 변수도 챙겨야한다.\r\n",
                "\r\n",
                "max_len = 0\r\n",
                "max_n = 1\r\n",
                "\r\n",
                "for n in range(1, 10000+1):\r\n",
                "     #curr_len = max(curr_len, len(collatz(i)))\r\n",
                "     if max_len < len(collatz(n)):\r\n",
                "         max_len = len(collatz(n))\r\n",
                "         max_n = n\r\n",
                "\r\n",
                "\r\n",
                "print(max_len, max_n)"
            ],
            "outputs": [
                {
                    "output_type": "stream",
                    "name": "stdout",
                    "text": [
                        "262 6171\n"
                    ]
                }
            ],
            "metadata": {}
        },
        {
            "cell_type": "code",
            "execution_count": null,
            "source": [],
            "outputs": [],
            "metadata": {}
        }
    ],
    "metadata": {
        "orig_nbformat": 4,
        "language_info": {
            "name": "python",
            "version": "3.8.5",
            "mimetype": "text/x-python",
            "codemirror_mode": {
                "name": "ipython",
                "version": 3
            },
            "pygments_lexer": "ipython3",
            "nbconvert_exporter": "python",
            "file_extension": ".py"
        },
        "kernelspec": {
            "name": "python3",
            "display_name": "Python 3.8.5 64-bit (conda)"
        },
        "interpreter": {
            "hash": "b3ba2566441a7c06988d0923437866b63cedc61552a5af99d1f4fb67d367b25f"
        }
    },
    "nbformat": 4,
    "nbformat_minor": 2
}