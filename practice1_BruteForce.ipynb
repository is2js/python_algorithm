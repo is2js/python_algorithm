{
 "cells": [
  {
   "cell_type": "markdown",
   "source": [
    "## BruteForce문제만 모아서 보기"
   ],
   "metadata": {}
  },
  {
   "cell_type": "markdown",
   "source": [
    "### level1 투자의 귀재 규식이1 \r\n",
    "\r\n",
    "규식이는 친구들 사이에서 투자의 귀재로 알려져 있습니다. 페이수북과 인수타그램에 자신의 성과를 과시하기 때문인데요. 사실 규식이가 그 정도의 실력자는 아닙니다. 성과가 좋을 때에만 SNS에 공유해서 그렇게 비춰질 뿐이죠.\r\n",
    "\r\n",
    "계속해서 멋진 모습을 보여주기 위해, 특정 기간 중 수익이 가장 큰 구간을 찾아내는 함수 sublist_max를 작성해 보려고 합니다.\r\n",
    "\r\n",
    "Brute Force 방법을 이용해서 이 문제를 한 번 풀어봅시다!\r\n",
    "\r\n",
    "함수 설명\r\n",
    "우선 함수 sublist_max는 파라미터로 리스트 profits를 받는데요. profits에는 며칠 동안의 수익이 담겨 있습니다. 예를 들어서 profits가 [7, -3, 4, -8]이라면 첫 날에는 7달러를 벌었고, 둘째 날에는 3달러를 잃었고, 셋째 날에는 4달러를 벌었고, 마지막 날에는 8달러를 잃은 거죠.\r\n",
    "\r\n",
    "sublist_max 함수는 profits에서 최대 수익을 내는 구간의 수익을 리턴합니다.\r\n",
    "\r\n",
    "profits가 [7, -3, 4, -8]이라면 무엇을 리턴해야 할까요? profits에서 가장 많은 수익을 낸 구간은 [7, -3, 4]입니다. 이 구간에서 낸 수익은 8달러이니, 8을 리턴하면 되겠죠!\r\n",
    "\r\n",
    "만약 profits가 [-2, -3, 4, -1, -2, 1, 5, -3]이라면? profits에서 수익이 가장 큰 구간은 [4, -1, -2, 1, 5]입니다. 이 구간에서 낸 수익은 7달러이니, 7을 리턴하겠죠\r\n",
    "\r\n",
    "```python\r\n",
    "def sublist_max(profits):\r\n",
    "    # 코드를 작성하세요. \r\n",
    "\r\n",
    "\r\n",
    "# 테스트\r\n",
    "print(sublist_max([4, 3, 8, -2, -5, -3, -5, -3]))\r\n",
    "print(sublist_max([2, 3, 1, -1, -2, 5, -1, -1]))\r\n",
    "print(sublist_max([7, -3, 14, -8, -5, 6, 8, -5, -4, 10, -1, 8]))\r\n",
    "```"
   ],
   "metadata": {}
  },
  {
   "cell_type": "code",
   "execution_count": 1,
   "source": [
    "# - 누적합 -> [4], [4,3]을 도는(+ 그들의합) 과정이라고 생각하자.\r\n",
    "# - 누적합이든 / 최대/최소값 저장이든 for문앞에 -> 변수 선언후 쌓아두기 or 치환하기\r\n",
    "# - 순서대로 가면서for1(시작점), 순서대로 for2 보태서 커지는 누적합들을 비교해야함.\r\n",
    "# ex> 1 시작 -> 1과 1+3과 1+3-2와...    1+3-2+4-1+7 등 누적합들을 비교하면서 커져야한다.\r\n",
    "# - j~끝 까지 커지면서 누적되는 것들의 합을 비교하기 위해서는\r\n",
    "# - i용 최대누적합 변수빼기 -> for i 시작  +  j용 total변수빼기 for  total +=[j] 누적합산 후,\r\n",
    "# -   각 j누적된 total마다 i바깥의 전체누적합변수와 max()로 비교해서 갈아치우기\r\n",
    "# - 원래 있던 값(max_profits)에 대해 새로운 값(total)과 비교해서 큰값으로 대치하기\r\n",
    "# -   x = max(x, y)\r\n",
    "def sublist_max(profits):\r\n",
    "    max_profit = profits[0]\r\n",
    "    \r\n",
    "    for i in range(len(profits)):\r\n",
    "        # 2. \r\n",
    "        # i부터 ~ 끝까지 j로 돌면서, 각 합들을 append해줄 총액 변수\r\n",
    "        # i=0 : 01 누적합, 012 누적합, 0123 누적합이 저장된다. for j 바깥에 선언해야 각 i마다 j로 돌아도 유지된다.\r\n",
    "        # **누적되는 과정( += 로 실시간 j에서 누적) 에서 max()로 비교해서 현재 최대누적합 i전체용 max_profit과 비교해줘야한다.**\r\n",
    "        total = 0\r\n",
    "        for j in range(i, len(profits)):\r\n",
    "            # 1. \r\n",
    "            # 리스트가 1개라 i는 인덱싱에 사용하지 않는다. 바깥에서 j의 시작점을 내려준다.\r\n",
    "            # 0-0123, 1-123, 2-23, 3-3\r\n",
    "\r\n",
    "            # 3.\r\n",
    "            total += profits[j]  # for j를 돌면서 조합마다의 누적합이 total에 저장된다. \r\n",
    "            # 각 i~끝까지의 조합마다 현재의 최강값과 비교해줘야한다.\r\n",
    "            max_profit = max(max_profit, total)\r\n",
    "            \r\n",
    "        return max_profit\r\n",
    "    \r\n",
    "sublist_max([4, 3, 8, -2, -5, -3, -5, -3])"
   ],
   "outputs": [
    {
     "output_type": "execute_result",
     "data": {
      "text/plain": [
       "15"
      ]
     },
     "metadata": {},
     "execution_count": 1
    }
   ],
   "metadata": {}
  },
  {
   "cell_type": "code",
   "execution_count": null,
   "source": [],
   "outputs": [],
   "metadata": {}
  },
  {
   "cell_type": "code",
   "execution_count": null,
   "source": [],
   "outputs": [],
   "metadata": {}
  }
 ],
 "metadata": {
  "orig_nbformat": 4,
  "language_info": {
   "name": "python",
   "version": "3.8.5",
   "mimetype": "text/x-python",
   "codemirror_mode": {
    "name": "ipython",
    "version": 3
   },
   "pygments_lexer": "ipython3",
   "nbconvert_exporter": "python",
   "file_extension": ".py"
  },
  "kernelspec": {
   "name": "python3",
   "display_name": "Python 3.8.5 64-bit (conda)"
  },
  "interpreter": {
   "hash": "b3ba2566441a7c06988d0923437866b63cedc61552a5af99d1f4fb67d367b25f"
  }
 },
 "nbformat": 4,
 "nbformat_minor": 2
}