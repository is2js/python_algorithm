{
    "cells": [
        {
            "cell_type": "markdown",
            "source": [
                "## Divide and conquer"
            ],
            "metadata": {}
        },
        {
            "cell_type": "markdown",
            "source": [
                "### 거듭제곱 빠르게 계산하기"
            ],
            "metadata": {}
        },
        {
            "cell_type": "markdown",
            "source": [
                "\r\n",
                "거듭 제곱을 계산하는 함수 power를 작성하고 싶습니다. power는 파라미터로 자연수 x와 자연수 y를 받고, xy를 리턴합니다.\r\n",
                "\r\n",
                "가장 쉽게 생각할 수 있는 방법은 반복문으로 단순하게 x를 y번 곱해 주는 방법입니다.\r\n",
                "```python\r\n",
                "def power(x, y):\r\n",
                "    total = 1\r\n",
                "    \r\n",
                "    # x를 y번 곱해 준다\r\n",
                "    for i in range(y):\r\n",
                "        total *= x\r\n",
                "    \r\n",
                "    return total\r\n",
                "```\r\n",
                "이 알고리즘의 시간 복잡도는 O(y)인데요. O(lgy)로 더 빠르게 할 수는 없을까요?\r\n",
                "\r\n",
                "주의: return x ** y는 답이 아닙니다. 우리는 거듭 제곱을 구하는 원리를 파악하여 효율적인 ‘알고리즘’을 구현하고 싶은 것입니다\r\n"
            ],
            "metadata": {}
        },
        {
            "cell_type": "code",
            "execution_count": null,
            "source": [
                "# 번외)\r\n",
                "# - 변수 for index를 도는 것을 -> 인덱싱/할당으로 데이터 처리/변형하는 것뿐만 아니라 단순 반복에도 사용할 수 있다.\r\n",
                "# - 변수를 미리 선언하면, 매 for돌아서 처리할때마다, 직전에 처리한 값을 모아주는 개념이다. \r\n",
                "# - 변수는 일반) 누적합(default 0 or 시작값)/누적곱(default 1 or 시작값) / list ->  append 등을 사용해서 처리함."
            ],
            "outputs": [],
            "metadata": {}
        },
        {
            "cell_type": "code",
            "execution_count": 3,
            "source": [
                "# 거듭제곱은 재귀적이다. 2^x = 2^x-1 * 2\r\n",
                "# base case -> n==0 -> return 1 / recursive case  return n-1 * x\r\n",
                "def power(x, y):\r\n",
                "    if y==0:\r\n",
                "        return 1\r\n",
                "    \r\n",
                "    return power(x, y-1) * x\r\n",
                "# 테스트\r\n",
                "print(power(3, 5))\r\n",
                "print(power(5, 6))\r\n",
                "print(power(7, 9))"
            ],
            "outputs": [
                {
                    "output_type": "stream",
                    "name": "stdout",
                    "text": [
                        "243\n",
                        "15625\n",
                        "40353607\n"
                    ]
                }
            ],
            "metadata": {}
        },
        {
            "cell_type": "code",
            "execution_count": 4,
            "source": [
                "# 재귀를 기하급수적으로 줄일려면, n과 n-1과의 관계많이 아니라 **n과 n//2**도 생각해보자!\r\n",
                "# 즉, 재귀를 **똑같은 문제 2개**로 나누어 풀 수 도 있다.\r\n",
                "# - 이 문제는 같은 수x가 n번 곱해진 것이니 x^(n//2) * x^(n//2) 으로도 나타낼 수 있다.\r\n",
                "# - 홀짝문제는 작성후 차차 개선한다.\r\n",
                "# - 원래 부분문제 + 중복되는 부분문제는 Dynamic programming으로 풀어야하는데, 여기선 금방 답이 나온다.\r\n",
                "# - 최적 부분 + 중복되는 부분문제의 Dynamic이라도 Memo or Tabul or Tabul공간최적이 아니라 -> 똑같이 반으로 중복되는 것을 변수로 간단히 푸는 방법도 있다.\r\n",
                "def power(x, y):\r\n",
                "    # base case\r\n",
                "    if y == 0:\r\n",
                "        return 1\r\n",
                "\r\n",
                "    # 부분 문제 power(x, y//2)는 최소 2번 곱하면서 반복되므로 변수에 저장한다.\r\n",
                "    # 계산을 한 번만 하기 위해서 변수에 저장\r\n",
                "    subresult = power(x, y // 2)\r\n",
                "    \r\n",
                "    # 문제를 최대한 똑같은 크기의 문제 두 개로 나눠준다 (짝수, 홀수 경우 따로)\r\n",
                "    # - 짝수의 경우 그냥 부분문제를 return한다.\r\n",
                "    if y % 2 == 0:\r\n",
                "        return subresult * subresult\r\n",
                "    # - 홀수의 경우 7//2 -> 3 몫에다가 항상 나머지가 1이다. 1+ n//2 + n//2\r\n",
                "    else:\r\n",
                "        return x * subresult * subresult\r\n",
                "\r\n",
                "\r\n",
                "# 테스트\r\n",
                "print(power(3, 5))\r\n",
                "print(power(5, 6))\r\n",
                "print(power(7, 9))"
            ],
            "outputs": [
                {
                    "output_type": "stream",
                    "name": "stdout",
                    "text": [
                        "243\n",
                        "15625\n",
                        "40353607\n"
                    ]
                }
            ],
            "metadata": {}
        },
        {
            "cell_type": "code",
            "execution_count": null,
            "source": [],
            "outputs": [],
            "metadata": {}
        },
        {
            "cell_type": "code",
            "execution_count": null,
            "source": [],
            "outputs": [],
            "metadata": {}
        }
    ],
    "metadata": {
        "orig_nbformat": 4,
        "language_info": {
            "name": "python",
            "version": "3.8.5",
            "mimetype": "text/x-python",
            "codemirror_mode": {
                "name": "ipython",
                "version": 3
            },
            "pygments_lexer": "ipython3",
            "nbconvert_exporter": "python",
            "file_extension": ".py"
        },
        "kernelspec": {
            "name": "python3",
            "display_name": "Python 3.8.5 64-bit (conda)"
        },
        "interpreter": {
            "hash": "b3ba2566441a7c06988d0923437866b63cedc61552a5af99d1f4fb67d367b25f"
        }
    },
    "nbformat": 4,
    "nbformat_minor": 2
}