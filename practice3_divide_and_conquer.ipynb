{
    "cells": [
        {
            "cell_type": "markdown",
            "source": [
                "## Divide and conquer"
            ],
            "metadata": {}
        },
        {
            "cell_type": "markdown",
            "source": [
                "### lv1 거듭제곱 빠르게 계산하기(중복부분문제 새관점)"
            ],
            "metadata": {}
        },
        {
            "cell_type": "markdown",
            "source": [
                "\r\n",
                "거듭 제곱을 계산하는 함수 power를 작성하고 싶습니다. power는 파라미터로 자연수 x와 자연수 y를 받고, xy를 리턴합니다.\r\n",
                "\r\n",
                "가장 쉽게 생각할 수 있는 방법은 반복문으로 단순하게 x를 y번 곱해 주는 방법입니다.\r\n",
                "```python\r\n",
                "def power(x, y):\r\n",
                "    total = 1\r\n",
                "    \r\n",
                "    # x를 y번 곱해 준다\r\n",
                "    for i in range(y):\r\n",
                "        total *= x\r\n",
                "    \r\n",
                "    return total\r\n",
                "```\r\n",
                "이 알고리즘의 시간 복잡도는 O(y)인데요. O(lgy)로 더 빠르게 할 수는 없을까요?\r\n",
                "\r\n",
                "주의: return x ** y는 답이 아닙니다. 우리는 거듭 제곱을 구하는 원리를 파악하여 효율적인 ‘알고리즘’을 구현하고 싶은 것입니다\r\n"
            ],
            "metadata": {}
        },
        {
            "cell_type": "code",
            "execution_count": null,
            "source": [
                "# 번외)\r\n",
                "# - 변수 for index를 도는 것을 -> 인덱싱/할당으로 데이터 처리/변형하는 것뿐만 아니라 단순 반복에도 사용할 수 있다.\r\n",
                "# - 변수를 미리 선언하면, 매 for돌아서 처리할때마다, 직전에 처리한 값을 모아주는 개념이다. \r\n",
                "# - 변수는 일반) 누적합(default 0 or 시작값)/누적곱(default 1 or 시작값) / list ->  append 등을 사용해서 처리함."
            ],
            "outputs": [],
            "metadata": {}
        },
        {
            "cell_type": "code",
            "execution_count": 3,
            "source": [
                "# 거듭제곱은 재귀적이다. 2^x = 2^x-1 * 2\r\n",
                "# base case -> n==0 -> return 1 / recursive case  return n-1 * x\r\n",
                "def power(x, y):\r\n",
                "    if y==0:\r\n",
                "        return 1\r\n",
                "    \r\n",
                "    return power(x, y-1) * x\r\n",
                "# 테스트\r\n",
                "print(power(3, 5))\r\n",
                "print(power(5, 6))\r\n",
                "print(power(7, 9))"
            ],
            "outputs": [
                {
                    "output_type": "stream",
                    "name": "stdout",
                    "text": [
                        "243\n",
                        "15625\n",
                        "40353607\n"
                    ]
                }
            ],
            "metadata": {}
        },
        {
            "cell_type": "code",
            "execution_count": 4,
            "source": [
                "# 재귀를 기하급수적으로 줄일려면, n과 n-1과의 관계많이 아니라 **n과 n//2**도 생각해보자!\r\n",
                "# 즉, 재귀를 **똑같은 문제 2개**로 나누어 풀 수 도 있다.\r\n",
                "# - 이 문제는 같은 수x가 n번 곱해진 것이니 x^(n//2) * x^(n//2) 으로도 나타낼 수 있다.\r\n",
                "# - 홀짝문제는 작성후 차차 개선한다.\r\n",
                "# - 원래 부분문제 + 중복되는 부분문제는 Dynamic programming으로 풀어야하는데, 여기선 금방 답이 나온다.\r\n",
                "# - 최적 부분 + 중복되는 부분문제의 Dynamic이라도 Memo or Tabul or Tabul공간최적이 아니라 -> 똑같이 반으로 중복되는 것을 변수로 간단히 푸는 방법도 있다.\r\n",
                "def power(x, y):\r\n",
                "    # base case\r\n",
                "    if y == 0:\r\n",
                "        return 1\r\n",
                "\r\n",
                "    # 부분 문제 power(x, y//2)는 최소 2번 곱하면서 반복되므로 변수에 저장한다.\r\n",
                "    # 계산을 한 번만 하기 위해서 변수에 저장\r\n",
                "    subresult = power(x, y // 2)\r\n",
                "    \r\n",
                "    # 문제를 최대한 똑같은 크기의 문제 두 개로 나눠준다 (짝수, 홀수 경우 따로)\r\n",
                "    # - 짝수의 경우 그냥 부분문제를 return한다.\r\n",
                "    if y % 2 == 0:\r\n",
                "        return subresult * subresult\r\n",
                "    # - 홀수의 경우 7//2 -> 3 몫에다가 항상 나머지가 1이다. 1+ n//2 + n//2\r\n",
                "    else:\r\n",
                "        return x * subresult * subresult\r\n",
                "\r\n",
                "\r\n",
                "# 테스트\r\n",
                "print(power(3, 5))\r\n",
                "print(power(5, 6))\r\n",
                "print(power(7, 9))"
            ],
            "outputs": [
                {
                    "output_type": "stream",
                    "name": "stdout",
                    "text": [
                        "243\n",
                        "15625\n",
                        "40353607\n"
                    ]
                }
            ],
            "metadata": {}
        },
        {
            "cell_type": "markdown",
            "source": [
                "### lv2 투자 귀재 규식이2(1BF->DC)"
            ],
            "metadata": {}
        },
        {
            "cell_type": "markdown",
            "source": [
                "BruteForce 챕터에서 sublist_max 함수를 Brute Force 방식으로 작성했습니다. 이번에는 같은 문제를 Divide and Conquer 방식으로 풀어볼 텐데요. 시간 복잡도는 O(nlgn)이 되어야 합니다.  \r\n",
                " - BF에서는 2중포문으로 누적합-> max(최대이익, 누적합)\r\n",
                "\r\n",
                "이번 sublist_max 함수는 3개의 파라미터를 받습니다.  \r\n",
                "\r\n",
                "profits: 며칠 동안의 수익이 담겨 있는 리스트  \r\n",
                "start: 살펴볼 구간의 시작 인덱스  \r\n",
                "end: 살펴볼 구간의 끝 인덱스  \r\n",
                "\r\n",
                "sublist_max는 profits의 start부터 end까지 구간에서 가능한 가장 큰 수익을 리턴합니다.  \r\n",
                "\r\n",
                "합병 정렬을 구현할 때 merge_sort 함수를 깔끔하게 작성하기 위해 추가로 merge 함수를 작성했던 것 처럼 퀵 정렬을 구현할 때 quicksort 함수에 추가로 partition 함수를 작성했습니다. 이번에도 sublist_max 함수에 추가로 새로운 함수를 작성하면 도움이 되실 겁니다.\r\n",
                "\r\n",
                " - merge_sort에서는 divide된 input을 재귀로 conquer한 뒤 -> combine하는 과정을 merge 함수로\r\n",
                " - quick_sort에서는 input을 divide하는 과정을 partition 함수로\r\n",
                "\r\n",
                "```python\r\n",
                "def sublist_max(profits, start, end):\r\n",
                "    # 코드를 작성하세요. \r\n",
                "\r\n",
                "\r\n",
                "# 테스트\r\n",
                "list1 = [-2, -3, 4, -1, -2, 1, 5, -3]\r\n",
                "print(sublist_max(list1, 0, len(list1) - 1))\r\n",
                "\r\n",
                "list2 = [4, 7, -6, 9, 2, 6, -5, 7, 3, 1, -1, -7, 2]\r\n",
                "print(sublist_max(list2, 0, len(list2) - 1))\r\n",
                "\r\n",
                "list3 = [9, -8, 0, -7, 8, -6, -3, -8, 9, 2, 8, 3, -5, 1, -7, -1, 10, -1, -9, -5]\r\n",
                "print(sublist_max(list3, 0, len(list3) - 1))\r\n",
                "\r\n",
                "list4 = [-9, -8, -8, 6, -4, 6, -2, -3, -10, -8, -9, -9, 6, 2, 8, -1, -1]\r\n",
                "print(sublist_max(list4, 0, len(list4) - 1))\r\n",
                "```"
            ],
            "metadata": {}
        },
        {
            "cell_type": "code",
            "execution_count": 2,
            "source": [
                "# BF가 아닌 방식으로 푼다고 마음을 먹었다면,\r\n",
                "# -> input을 부분문제로 나눌 생각을 하자.\r\n",
                "# -> 여기서는 start, end가 n이며,  부분문제로 나누는 것은  n = n-1, n-2뿐만 아니라 n//2도 있다고 했다.\r\n",
                "# left-> right로 이어지는 구간들이 생기는데, 여기를 억지로 n//2씩 최대구간을 구하면?\r\n",
                "# -> max( 왼족에서의 최대수익구간 , 오른쪽) 해서 더 큰 최대수익구간을 구하면 될 것 같지만\r\n",
                "# -> 억지로 반을 쪼갠 덕분에 **왼~오른을 관통해서 생긴 구간**에서 최대 수익이 생길 수 있다.\r\n",
                "# -> 이 부분을 따로 작성해줘야한다. 먼저 큰 틀 부터 작성해보자.\r\n",
                "# --- 번호순서대로 따라가보자.\r\n",
                "\r\n",
                "\r\n",
                "# 5. 왼쪽~오른쪽 관통해서 최대수익이 나는 경우도 생각하기 -> 복잡해서 함수로\r\n",
                "# - 억지로 left/ right의 n//2 한 부분 문제에서, 끼워맞춰야하는 부분이다.\r\n",
                "# - 전체구간이 필요하니 parameter는 그대로 profits, start, end를 받는다\r\n",
                "# ---- 관통하는 구간의 경우 중간에서부터 생각하는게 중요하다. ----\r\n",
                "# - [-2, -3, 4, -1, -2, 1, 5, -3]의 왼쪽 반과 오른쪽 반을 나눠서 따로 살펴보자.\r\n",
                "# - 왼쪽 반의 일부를 포함시킬 때 가능한 모든 경우\r\n",
                "# 1. [-1] → 수익은 −1\r\n",
                "# 2. [4, -1] → 수익은 3\r\n",
                "# 3. [-3, 4, -1] → 수익은 0\r\n",
                "# 4. [-2, -3, 4, -1] → 수익은 −2  위 네 경우 중 2번의 수익이 가장 크다.\r\n",
                "#  - 이번에는 오른쪽 반의 일부를 포함시킬 때 가능한 모든 경우\r\n",
                "# 1. [-2] → 수익은 −2\r\n",
                "# 2. [-2, 1] → 수익은 −1\r\n",
                "# 3. [-2, 1, 5] → 수익은 4\r\n",
                "# 4. [-2, 1, 5, -3] → 수익은 1 -> 위 네 경우 중 3번의 수익이 가장 크다.\r\n",
                "# 즉, test_list의 왼쪽 반 일부와 오른쪽 반 일부를 포함하는 경우 중, \r\n",
                "# 가장 큰 수익을 내는 구간은 3의 수익을 내는 [4, -1]과 4의 수익을 내는 [-2, 1, 5]를 연결시킨 구간이다.\r\n",
                "# 이 구간의 총 수익은 3+4의 결괏값인 7이기 때문에, max_crossing_sum(test_list, 0, 7)은 7을 리턴합니다.\r\n",
                "# -> left의 끝 / right의 시작에서 출발하여, 각각의 누적합이 젤 큰 것을 더하면 된다.\r\n",
                "# -> 한쪽이 음수가 나와서 반대쪽 최대수익구간을 방해하는 경우도 있지만, 관통을 해야하니 더해야한다.\r\n",
                "# -> 관통은 반드시 해야하므로.. 음수가 나와서 한쪽 최대수익을 방해해도 자연스러운 것.\r\n",
                "\r\n",
                "def max_crossing_sum(profits, start, end):\r\n",
                "    # 5-1) 관통도 왼쪽/오른쪽의 중간에서 시작한다.\r\n",
                "    mid = (start + end) // 2\r\n",
                "    # 5-2) 왼쪽끝에서부터 <왼쪽으로의 누적합>을 더해나가면서 최대수익을 찾는데, \r\n",
                "    #       최소값이 0이면서 최대수익을 찾아나간다.\r\n",
                "    left_sum = 0 # 왼쪽 누적합 보관소. 누적합의 시작은 0이다.\r\n",
                "    left_max = profits[mid] # 왼쪽 누적합 최대값. 최대값의 시작은 max칠꺼니 첫번째 원소넣어두기\r\n",
                "    # range(,,-1)로 시작한 순간 a,b는 꺼구로 가기 시작한다.  b전-> b+1까지 , b-1->b까지\r\n",
                "    for i in range(mid, start -1, -1):\r\n",
                "        left_sum += profits[i] # 현재의 누적합이다. -> 기존 left_max와, 현재의 누적합을 비교해야함\r\n",
                "        left_max = max(left_max, left_sum)\r\n",
                "\r\n",
                "    # 5-3) 오른쪽도 똑같이 구해준다. 오른쪽 시작~ 누적합구해나가면서 치환하기\r\n",
                "    right_sum = 0\r\n",
                "    right_max = profits[mid+1]\r\n",
                "\r\n",
                "    for i in range(mid+1, end+1):\r\n",
                "        right_sum += profits[i]\r\n",
                "        right_max = max(right_sum, right_max)\r\n",
                "    \r\n",
                "    # 5-4 관통할 왼쪽시작1~왼쪽으로 누적최대값구간 + 오른쪽 을 리턴해준다.\r\n",
                "    return left_max + right_max\r\n",
                "\r\n",
                "        \r\n",
                "\r\n",
                "\r\n",
                "def sublist_max(profits, start, end):\r\n",
                "    # Base case\r\n",
                "    # 1. 하지만, input을 나누기전에 base case부터 먼저 작성해야한다.\r\n",
                "    # - n//2로 줄어드는 start, end가 부분문제가 안되는 경우는? \r\n",
                "    # - 나눌 수 없는 1개일 경우 -> 그 값을 그냥 반환하면 된다.(1개의 최대합 -> 자기자신)\r\n",
                "    if start == end :\r\n",
                "        return profits[start]\r\n",
                "\r\n",
                "    # Recursive case\r\n",
                "    # 2. 이제 input을 Divide하면서 Recursive를 푼다.\r\n",
                "    mid = (start + end) // 2\r\n",
                "    # 3. 부분문제를 원래함수( , 부분)으로 풀었다고 가정하고 원래문제를 conquer하는 부분작성해야한다.\r\n",
                "    max_left = sublist_max(profits, start, mid)\r\n",
                "    max_right = sublist_max(profits, mid+1, end)\r\n",
                "    # return max(max_left, max_right)\r\n",
                "    # 4. 여기서 중요한게, 억지로 절반을 나눠 각각의 최대수익구간을 찾았지만, \r\n",
                "    # - 관통해서 최대수익을 내는 부분이 누락되었다.\r\n",
                "    # 6. 5.에서 작성한 [input을 부분문제 n//2로 나누다보니 생긴 관통부분]까지 계산해서\r\n",
                "    #    최적부분문제로 원래문제의 답을 구한다.\r\n",
                "    max_cross = max_crossing_sum(profits, start, end)\r\n",
                "\r\n",
                "    return max(max_left, max_right, max_cross)\r\n",
                "\r\n",
                "\r\n",
                "\r\n",
                "# 테스트\r\n",
                "list1 = [-2, -3, 4, -1, -2, 1, 5, -3]\r\n",
                "print(sublist_max(list1, 0, len(list1) - 1))\r\n",
                "\r\n",
                "list2 = [4, 7, -6, 9, 2, 6, -5, 7, 3, 1, -1, -7, 2]\r\n",
                "print(sublist_max(list2, 0, len(list2) - 1))\r\n",
                "\r\n",
                "list3 = [9, -8, 0, -7, 8, -6, -3, -8, 9, 2, 8, 3, -5, 1, -7, -1, 10, -1, -9, -5]\r\n",
                "print(sublist_max(list3, 0, len(list3) - 1))\r\n",
                "\r\n",
                "list4 = [-9, -8, -8, 6, -4, 6, -2, -3, -10, -8, -9, -9, 6, 2, 8, -1, -1]\r\n",
                "print(sublist_max(list4, 0, len(list4) - 1))"
            ],
            "outputs": [
                {
                    "output_type": "stream",
                    "name": "stdout",
                    "text": [
                        "7\n",
                        "28\n",
                        "22\n",
                        "16\n"
                    ]
                }
            ],
            "metadata": {}
        },
        {
            "cell_type": "code",
            "execution_count": null,
            "source": [],
            "outputs": [],
            "metadata": {}
        }
    ],
    "metadata": {
        "orig_nbformat": 4,
        "language_info": {
            "name": "python",
            "version": "3.8.5",
            "mimetype": "text/x-python",
            "codemirror_mode": {
                "name": "ipython",
                "version": 3
            },
            "pygments_lexer": "ipython3",
            "nbconvert_exporter": "python",
            "file_extension": ".py"
        },
        "kernelspec": {
            "name": "python3",
            "display_name": "Python 3.8.5 64-bit (conda)"
        },
        "interpreter": {
            "hash": "b3ba2566441a7c06988d0923437866b63cedc61552a5af99d1f4fb67d367b25f"
        }
    },
    "nbformat": 4,
    "nbformat_minor": 2
}