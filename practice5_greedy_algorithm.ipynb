{
    "cells": [
        {
            "cell_type": "markdown",
            "source": [
                "## Greedy Algorithm 문제 모아보기"
            ],
            "metadata": {}
        },
        {
            "cell_type": "markdown",
            "source": [
                "### lv1 빠르게 산 오르기(부분문제->택1이 최대->Greedy)"
            ],
            "metadata": {}
        },
        {
            "cell_type": "markdown",
            "source": [
                "신입 사원 장그래는 마부장님을 따라 등산을 가게 되었습니다.\r\n",
                "\r\n",
                "탈수를 방지하기 위해서 1km당 1L의 물을 반드시 마셔야 하는데요. 다행히 등산길 곳곳에는 물통을 채울 수 있는 약수터가 마련되어 있습니다. 다만 매번 줄서 기다려야 한다는 번거로움이 있기 때문에, 시간을 아끼기 위해서는 최대한 적은 약수터를 들르고 싶습니다.\r\n",
                "\r\n",
                "함수 select_stops는 파라미터로 약수터 위치 리스트 water_stops와 물통 용량 capacity를 받고, 장그래가 들를 약수터 위치 리스트를 리턴합니다. 앞서 설명한 대로 약수터는 최대한 적게 들러야겠죠.\r\n",
                "\r\n",
                "참고로 모든 위치는 km 단위이고 용량은 L 단위입니다. 그리고 등산하기 전에는 이미 물통이 가득 채워져 있으며, 약수터에 들르면 늘 물통을 가득 채운다고 가정합시다.\r\n",
                "\r\n",
                "예시를 하나 볼게요.\r\n",
                "```python\r\n",
                "# 약수터 위치: [1km, 4km, 5km, 7km, 11km, 12km, 13km, 16km, 18km, 20km, 22km, 24km, 26km]\r\n",
                "# 물통 용량: 4L\r\n",
                "select_stops([1, 4, 5, 7, 11, 12, 13, 16, 18, 20, 22, 24, 26], 4)\r\n",
                "```\r\n",
                "처음에 4L의 물통이 채워져 있기 때문에, 장그래는 약수터에 들르지 않고 최대 4km 지점까지 올라갈 수 있습니다. 탈수 없이 계속 올라가기 위해서는 1km 지점이나 4km 지점에서 물통을 채워야겠죠?\r\n",
                "\r\n",
                "최대한 적은 약수터를 들르면서 올라가야 하고, 마지막에 산 정상인 26km 지점의 약수터를 들르면 성공적인 등산입니다.  \r\n",
                "\r\n",
                "```python\r\n",
                "def select_stops(water_stops, capacity):\r\n",
                "    # 코드를 작성하세요. \r\n",
                "\r\n",
                "\r\n",
                "# 테스트\r\n",
                "list1 = [1, 4, 5, 7, 11, 12, 13, 16, 18, 20, 22, 24, 26]\r\n",
                "print(select_stops(list1, 4))\r\n",
                "\r\n",
                "list2 = [5, 8, 12, 17, 20, 22, 23, 24, 28, 32, 38, 42, 44, 47]\r\n",
                "print(select_stops(list2, 6))\r\n",
                "```"
            ],
            "metadata": {}
        },
        {
            "cell_type": "code",
            "execution_count": 2,
            "source": [
                "# 일단 DC부분문제 부터 찾아보면\r\n",
                "# 26 = 22 + 24 다. 근데 배반의 경우가 아니다.\r\n",
                "# 근데, Dynamic배반의 부분문제(최적 부분문제)가 아니라 택1 해야하는 Greedy에 가깝다.\r\n",
                "# 연료를 아끼면서 빨리 가야하므로 최대값을 선택해야하니 Greedy가 맞다.\r\n",
                "\r\n",
                "# Greedy시키는 로직을 짜야하는데, 최대간격이 4며, i + 4에서 가장가까운 왼쪽을 찾아야한다.\r\n",
                "# - 이럴 때는, i+4를 넘어가는 곳의 index에서 -1해주면 가장 먼곳이 된다.\r\n",
                "\r\n",
                "\r\n",
                "\r\n",
                "\r\n",
                "\r\n",
                "#  Greedy 알고리즘을 공간최적화처럼.. 푸는데,\r\n",
                "#  1) i번째 약수터를 list에 append해야하는데, 제한조건이  i번째 - 직전 > 4 일 때는 i-1번째를 append해야한다.\r\n",
                "#  2) 이 때, 직전약수터는 i-1이 아니다. [선택되어진 직전] 약수터이므로 따로 저장공간이 필요하다.\r\n",
                "#     원래는  i - 직전 <= 4일 때, 성공조건이므로 append해야할 것 같은데...\r\n",
                "#     탐욕적이라서 그런지... <i번째를 갈 수 없는 조건> 해당시 -> <i-1>을 추가.\r\n",
                "\r\n",
                "def select_stops(water_stops, capacity):\r\n",
                "    # 약수터 위치 리스트\r\n",
                "    # - 1. 반환해야할 들린 약수터들 변수 \r\n",
                "    stop_list = []\r\n",
                "\r\n",
                "    # - 2. 돌아가면서 직전보다는 4보단 작거나 같지만 제일 먼 것을 \r\n",
                "    #  현재 [i] + 용량 보다 큰 것을 찾고, 그 직전인 [i-1]이 젤 큰놈이다.\r\n",
                "    #  for를 돌면서 직전값들을 저장해놔야하므로 변수를 선언해놓자.\r\n",
                "    prev_stop = 0\r\n",
                "    for i in range(len(water_stops)):\r\n",
                "        # -3. 하다보니.. 현재의 약수터 [1] 4 5 가... 직전 값 prev_stop과의 차이가 4이상 나는가를 판단해야한다.\r\n",
                "        # 직전의 i인 [i-1] 에 +4 것보다 i가 큰지를 판단해야하는데, 돌면서 커지는 순간에 그 직전 [i-1]을 append시키면 된다.\r\n",
                "        if water_stops[i] - prev_stop > capacity:\r\n",
                "            stop_list.append(water_stops[i-1])\r\n",
                "            # - 4. 찾았으면, prev_stop도 바꿔넣어줘야함.\r\n",
                "            prev_stop = water_stops[i-1]\r\n",
                "\r\n",
                "    # - 4. 이 로직에서는 마지막약수터 검사후 -> 잘해봤짜 직전것 까지 들어간다.\r\n",
                "    #  하지만, 마지막 약수터는 무조건 들러야한다. 직전것을 처리해줄 때 마지막 것 포함되는지 따로 생각해서 넣어주기!\r\n",
                "    stop_list.append(water_stops[-1])\r\n",
                "    return stop_list\r\n",
                "\r\n",
                "\r\n",
                "# 테스트\r\n",
                "list1 = [1, 4, 5, 7, 11, 12, 13, 16, 18, 20, 22, 24, 26]\r\n",
                "print(select_stops(list1, 4))\r\n",
                "\r\n",
                "list2 = [5, 8, 12, 17, 20, 22, 23, 24, 28, 32, 38, 42, 44, 47]\r\n",
                "print(select_stops(list2, 6))\r\n"
            ],
            "outputs": [
                {
                    "output_type": "stream",
                    "name": "stdout",
                    "text": [
                        "[4, 7, 11, 13, 16, 20, 24, 26]\n",
                        "[5, 8, 12, 17, 23, 28, 32, 38, 44, 47]\n"
                    ]
                }
            ],
            "metadata": {}
        },
        {
            "cell_type": "code",
            "execution_count": null,
            "source": [],
            "outputs": [],
            "metadata": {}
        },
        {
            "cell_type": "code",
            "execution_count": null,
            "source": [],
            "outputs": [],
            "metadata": {}
        }
    ],
    "metadata": {
        "orig_nbformat": 4,
        "language_info": {
            "name": "python",
            "version": "3.8.5",
            "mimetype": "text/x-python",
            "codemirror_mode": {
                "name": "ipython",
                "version": 3
            },
            "pygments_lexer": "ipython3",
            "nbconvert_exporter": "python",
            "file_extension": ".py"
        },
        "kernelspec": {
            "name": "python3",
            "display_name": "Python 3.8.5 64-bit (conda)"
        },
        "interpreter": {
            "hash": "b3ba2566441a7c06988d0923437866b63cedc61552a5af99d1f4fb67d367b25f"
        }
    },
    "nbformat": 4,
    "nbformat_minor": 2
}