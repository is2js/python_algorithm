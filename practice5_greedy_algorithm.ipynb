{
    "cells": [
        {
            "cell_type": "markdown",
            "source": [
                "## Greedy Algorithm 문제 모아보기"
            ],
            "metadata": {}
        },
        {
            "cell_type": "markdown",
            "source": [
                "## lv1"
            ],
            "metadata": {}
        },
        {
            "cell_type": "markdown",
            "source": [
                "### (codeit) (쳌) 빠르게 산 오르기(부분문제->택1이 최대->Greedy)"
            ],
            "metadata": {}
        },
        {
            "cell_type": "markdown",
            "source": [
                "신입 사원 장그래는 마부장님을 따라 등산을 가게 되었습니다.\r\n",
                "\r\n",
                "탈수를 방지하기 위해서 1km당 1L의 물을 반드시 마셔야 하는데요. 다행히 등산길 곳곳에는 물통을 채울 수 있는 약수터가 마련되어 있습니다. 다만 매번 줄서 기다려야 한다는 번거로움이 있기 때문에, 시간을 아끼기 위해서는 최대한 적은 약수터를 들르고 싶습니다.\r\n",
                "\r\n",
                "함수 select_stops는 파라미터로 약수터 위치 리스트 water_stops와 물통 용량 capacity를 받고, 장그래가 들를 약수터 위치 리스트를 리턴합니다. 앞서 설명한 대로 약수터는 최대한 적게 들러야겠죠.\r\n",
                "\r\n",
                "참고로 모든 위치는 km 단위이고 용량은 L 단위입니다. 그리고 등산하기 전에는 이미 물통이 가득 채워져 있으며, 약수터에 들르면 늘 물통을 가득 채운다고 가정합시다.\r\n",
                "\r\n",
                "예시를 하나 볼게요.\r\n",
                "```python\r\n",
                "# 약수터 위치: [1km, 4km, 5km, 7km, 11km, 12km, 13km, 16km, 18km, 20km, 22km, 24km, 26km]\r\n",
                "# 물통 용량: 4L\r\n",
                "select_stops([1, 4, 5, 7, 11, 12, 13, 16, 18, 20, 22, 24, 26], 4)\r\n",
                "```\r\n",
                "처음에 4L의 물통이 채워져 있기 때문에, 장그래는 약수터에 들르지 않고 최대 4km 지점까지 올라갈 수 있습니다. 탈수 없이 계속 올라가기 위해서는 1km 지점이나 4km 지점에서 물통을 채워야겠죠?\r\n",
                "\r\n",
                "최대한 적은 약수터를 들르면서 올라가야 하고, 마지막에 산 정상인 26km 지점의 약수터를 들르면 성공적인 등산입니다.  \r\n",
                "\r\n",
                "```python\r\n",
                "def select_stops(water_stops, capacity):\r\n",
                "    # 코드를 작성하세요. \r\n",
                "\r\n",
                "\r\n",
                "# 테스트\r\n",
                "list1 = [1, 4, 5, 7, 11, 12, 13, 16, 18, 20, 22, 24, 26]\r\n",
                "print(select_stops(list1, 4))\r\n",
                "\r\n",
                "list2 = [5, 8, 12, 17, 20, 22, 23, 24, 28, 32, 38, 42, 44, 47]\r\n",
                "print(select_stops(list2, 6))\r\n",
                "```"
            ],
            "metadata": {}
        },
        {
            "cell_type": "code",
            "execution_count": 10,
            "source": [
                "# 리뷰2\r\n",
                "# **필요한 값(직전약수터)은, 초기항을 주고 for문에서 update시켜 유지시킨다고 생각하면 된다.**\r\n",
                "# -> 찾아나가는데, 조건에 의한 직전값(초기항=0)이 필요하며, 다음 찾은 값이 직전값으로 update되는 for문위의 변수 개념도 들어간다. + 거기에 수학개념도.\r\n",
                "# 앞에서 찾아갈 예정이다. i로 약수터를 돌면서, 지나갈 약수터를 빈list에 append로 뺄 것이다.\r\n",
                "# -> 비교 대신이 필요함. 직전약수터(초기0) 변수를 만들고, 직전까지의 변수를 for문 안에서 다음 약수터 발견시, 그놈으로 update해준다.\r\n",
                "\r\n",
                "# 0. [BruteForce]로 해결되는지 확인한다.\r\n",
                "# 1. 부분 문제가 있는지 살펴본다 -> [input을 Divide and Conquer의 재귀]로 해결할 수 있다.\r\n",
                "# 2. [최적 부분 문제]( 부분의최대 -> 전체 최대 or 부분의최소 -> 전체의 최소 or 부분의효율 -> 전체의 효율)인지 확인한다.\r\n",
                "# 3. 최적 부분 문제 + @의 @가 [부분문제가 중복] 되는지 확인한다 -> Dynamic(Memo or Tabul or Tabul공간최적화)\r\n",
                "# 4. 최적 부분 문제 + @의 @가 [탐욕적 선택 속성] (각 부분을 나누는 배반의 기준이 가장 큰 값을 선택했을 때(즉, 택1)가 정답) -> Greedy로 해결\r\n",
                "# \r\n",
                "# 1) BF -> 각 약수터(stop)을 들릴수도 or 안들릴수도 -> 2*n의 조합 -> 각 사이가 4를 넘지 않게 추림 -> 젤 짧은 것 추림\r\n",
                "# 2) 부분문제 -> DC -> 중복많이됨? ㅁㄹ -> 부분문제 중 택1해야한다 & n에 대해 부분문제는 n-1~n-4까지 가능.\r\n",
                "#    \"빠르게\" -> 부분문제 중 택1해야하는 \"Greedy\" -> (최소동전갯수) : n(숫자형) + unit_list + 부분문제 없이 풀릴수도 있다.\r\n",
                "#    여기서는 부분문제로 택1이 안된다. -> 앞에서부터 update해나가면서 조건에 맞는 놈을 0~i~n-1까지 돌면서 골라모은다.\r\n",
                "# 3) 제약조건: 직전약수터와 4이하로 떨어지면서 제일 많이 떨어진 약수터를 고르는 로직\r\n",
                "#     **직전의 약수터가 필요하니, prev_stop을 변수로 두고 [올려주면서 확정되면 update]해나가자**\r\n",
                "#     **i로 돌면서, 조건4를 넘어가는 첫번째 놈을 찾은 뒤 -> i-1의 직전놈을 빼오자.**\r\n",
                "#     **직전이 확정된 상태로, [ 현재의 값을 찾으며 도는데, 해당조건의 직전놈을 찾아야하니 i로 돌면서 ---> i-1을 챙긴다.]**\r\n",
                "#     **약수터list를 돌면서, i번째 약수터가 가야할 약수터인지 판단하여 빈list에 모은다. 근데 그 기준을 직전 약수터로 둔다.**\r\n",
                "#     **직전의 약수터를 update할 때는, << 4보다 큰차이 >>가 날때까지 약수터를 i로 돌면서, 이미 확정된 prev_stop과의 차이를 계산하며, 조건을 만족하는 i-1을 챙긴다.**\r\n",
                "#  - 확정되는 것은 직전의 약수터 -> i-1, i ...를 돌아가며 4 넘는 것 발견시 직전것을 직전약수터로 update후 append\r\n",
                "#  - 직전것까지 챙기면서 마지막 약수터까지 갔다면.. 마지막약수터는 안챙기니 마지막에 따로 챙겨준다.\r\n",
                "\r\n",
                "#  ** curr_stop=0 으로 시작해도된다. 핵심은.. 부분문제와 상관없이, 첨부터 시작하여 조건만족하도록 골라모으면서 기준stop을 update해서 계속 판단하게 한다.**\r\n",
                "\r\n",
                "def select_stops(water_stops, capacity):\r\n",
                "    stop_list = []  # 조건을 만족해서 지나갈 약수터를 모은다.\r\n",
                "\r\n",
                "    prev_stop = 0\r\n",
                "\r\n",
                "    for i in range(len(water_stops)):\r\n",
                "        if water_stops[i] - prev_stop > capacity and (i>0):\r\n",
                "            prev_stop = water_stops[i-1]\r\n",
                "            stop_list.append(prev_stop)\r\n",
                "\r\n",
                "    # 직전항을 챙기다보니, i는 못챙긴다. 맨마지막 약수터는 무조건 들어가야됨.\r\n",
                "    stop_list.append(water_stops[-1])\r\n",
                "\r\n",
                "    return stop_list\r\n",
                "\r\n",
                "\r\n",
                "\r\n",
                "list1 = [1, 4, 5, 7, 11, 12, 13, 16, 18, 20, 22, 24, 26]\r\n",
                "print(select_stops(list1, 4))\r\n",
                "\r\n",
                "list2 = [5, 8, 12, 17, 20, 22, 23, 24, 28, 32, 38, 42, 44, 47]\r\n",
                "print(select_stops(list2, 6))"
            ],
            "outputs": [
                {
                    "output_type": "stream",
                    "name": "stdout",
                    "text": [
                        "[4, 7, 11, 13, 16, 20, 24, 26]\n",
                        "[5, 8, 12, 17, 23, 28, 32, 38, 44, 47]\n"
                    ]
                }
            ],
            "metadata": {}
        },
        {
            "cell_type": "code",
            "execution_count": 2,
            "source": [
                "# 일단 DC부분문제 부터 찾아보면\r\n",
                "# 26 = 22 + 24 다. 근데 배반의 경우가 아니다.\r\n",
                "# 근데, Dynamic배반의 부분문제(최적 부분문제)가 아니라 택1 해야하는 Greedy에 가깝다.\r\n",
                "# 연료를 아끼면서 빨리 가야하므로 최대값을 선택해야하니 Greedy가 맞다.\r\n",
                "\r\n",
                "# Greedy시키는 로직을 짜야하는데, 최대간격이 4며, i + 4에서 가장가까운 왼쪽을 찾아야한다.\r\n",
                "# - 이럴 때는, i+4를 넘어가는 곳의 index에서 -1해주면 가장 먼곳이 된다.\r\n",
                "\r\n",
                "\r\n",
                "\r\n",
                "#  Greedy 알고리즘을 공간최적화처럼.. 푸는데,\r\n",
                "#  1) i번째 약수터를 list에 append해야하는데, 제한조건이  i번째 - 직전 > 4 일 때는 i-1번째를 append해야한다.\r\n",
                "#  2) 이 때, 직전약수터는 i-1이 아니다. [선택되어진 직전] 약수터이므로 따로 저장공간이 필요하다.\r\n",
                "#     원래는  i - 직전 <= 4일 때, 성공조건이므로 append해야할 것 같은데...\r\n",
                "#     탐욕적이라서 그런지... <i번째를 갈 수 없는 조건> 해당시 -> <i-1>을 추가.\r\n",
                "\r\n",
                "def select_stops(water_stops, capacity):\r\n",
                "    # 약수터 위치 리스트\r\n",
                "    # - 1. 반환해야할 들린 약수터들 변수 \r\n",
                "    stop_list = []\r\n",
                "\r\n",
                "    # - 2. 돌아가면서 직전보다는 4보단 작거나 같지만 제일 먼 것을 \r\n",
                "    #  현재 [i] + 용량 보다 큰 것을 찾고, 그 직전인 [i-1]이 젤 큰놈이다.\r\n",
                "    #  for를 돌면서 직전값들을 저장해놔야하므로 변수를 선언해놓자.\r\n",
                "    prev_stop = 0\r\n",
                "    for i in range(len(water_stops)):\r\n",
                "        # -3. 하다보니.. 현재의 약수터 [1] 4 5 가... 직전 값 prev_stop과의 차이가 4이상 나는가를 판단해야한다.\r\n",
                "        # 직전의 i인 [i-1] 에 +4 것보다 i가 큰지를 판단해야하는데, 돌면서 커지는 순간에 그 직전 [i-1]을 append시키면 된다.\r\n",
                "        if water_stops[i] - prev_stop > capacity:\r\n",
                "            stop_list.append(water_stops[i-1])\r\n",
                "            # - 4. 찾았으면, prev_stop도 바꿔넣어줘야함.\r\n",
                "            prev_stop = water_stops[i-1]\r\n",
                "\r\n",
                "    # - 4. 이 로직에서는 마지막약수터 검사후 -> 잘해봤짜 직전것 까지 들어간다.\r\n",
                "    #  하지만, 마지막 약수터는 무조건 들러야한다. 직전것을 처리해줄 때 마지막 것 포함되는지 따로 생각해서 넣어주기!\r\n",
                "    stop_list.append(water_stops[-1])\r\n",
                "    return stop_list\r\n",
                "\r\n",
                "\r\n",
                "# 테스트\r\n",
                "list1 = [1, 4, 5, 7, 11, 12, 13, 16, 18, 20, 22, 24, 26]\r\n",
                "print(select_stops(list1, 4))\r\n",
                "\r\n",
                "list2 = [5, 8, 12, 17, 20, 22, 23, 24, 28, 32, 38, 42, 44, 47]\r\n",
                "print(select_stops(list2, 6))\r\n"
            ],
            "outputs": [
                {
                    "output_type": "stream",
                    "name": "stdout",
                    "text": [
                        "[4, 7, 11, 13, 16, 20, 24, 26]\n",
                        "[5, 8, 12, 17, 23, 28, 32, 38, 44, 47]\n"
                    ]
                }
            ],
            "metadata": {}
        },
        {
            "cell_type": "markdown",
            "source": [
                "### lv2 투자 귀재 규식이3(BF->DC->greedy)"
            ],
            "metadata": {}
        },
        {
            "cell_type": "markdown",
            "source": [
                "이미 sublist_max 함수를 각각 Brute Force과 Divide and Conquer 방식으로 작성했는데요. \r\n",
                " - Brute Force로 풀었을 때는 시간 복잡도가 O(n2), \r\n",
                "    - 2중 포문에 구간합=누적합 의 최대치 by max\r\n",
                " - Divide and Conquer를 사용했을 때는 O(nlgn)였습니다.\r\n",
                "    - input 길이n list를 을 n//2로 나눈뒤 left 최대합 + right최대합 + 억지로 나누느라 못챙긴 관통합 cross 의 max\r\n",
                " - my) n미포함 or 포함으로 나눈 뒤, 둘중에 큰 경우를 max()로 찾는 greedy -> **규칙이 발견됬으면, 부분문제로 푸는게 아니라 첨부터 for문 돌면서 update해 나간다?!**\r\n",
                "    - greedy는 sorted( , reverse=True) or max(부분1, 부분2)로  부분문제 조건최대 택1의 일반 문제다. 직전까지의변수+for+현재항으로변수없뎃\r\n",
                "    \r\n",
                "\r\n",
                "이번 과제에서는 시간 복잡도를 O(n)로 한 번 더 단축해보세요!\r\n",
                "\r\n",
                "```python\r\n",
                "def sublist_max(profits):\r\n",
                "    # 코드를 작성하세요.\r\n",
                "    \r\n",
                "\r\n",
                "# 테스트\r\n",
                "print(sublist_max([7, -3, 4, -8]))\r\n",
                "print(sublist_max([-2, -3, 4, -1, -2, 1, 5, -3, -1]))\r\n",
                "```"
            ],
            "metadata": {}
        },
        {
            "cell_type": "code",
            "execution_count": 6,
            "source": [
                "# 리뷰2\r\n",
                "\r\n",
                "# **Greedy는 부분문제(의 값으로 update될 수 있는[직전까지의 정답]을 이용한 (택1(max)의 규칙)만 발견되면, 첨부터 (초기항=curr 변수를) for문 돌면서 max값을 update해서 현재까지 와서 끝낸다.**\r\n",
                "# -> 부분문제의 개념은 규칙발견후 사라짐. -> for문 1개로 update해서 끝내니 시간복잡도가 O(n)으로 줄어듬\r\n",
                "# -> 규칙상 함수(n-1)항에 해당하는 부분이 --> 첨부터 update될때는 직전까지의 정답이 된다.\r\n",
                "# -> 규칙발견후 초기항을 잘 두고, -> 그 다음항부터 update를 시작한다.\r\n",
                "\r\n",
                "# [7, -3, 4, -8] -\r\n",
                "# -> [7,-3,4]의 직전(n-1항?)과..  -8을 포함한 구간합=누적합.. 중 최대값은..\r\n",
                "# -> 1) -8 포함X의 최대값(직전항)  vs  2) -8포함 최대값  을 max()로 비교하면 되는데\r\n",
                "# -> 1) 직전까지의 정답이라.. update시킬 for문 위의 변수이며.\r\n",
                "# 2)는 구간이라는 것은 맨마지막까지 이어지는 부분이라.. 뒤에서부터 확인한다.\r\n",
                "#  [-8]만, [4, -8] 구간,  [-3,4,-8]구간 [7,-3,4,-8] \r\n",
                "\r\n",
                "#   1. [-8]     ==> 3) 마지막항까지, 직전까지의 계산 활용 못한다.\r\n",
                "#   2. [4, -8]  ==> 4) 직전까지의 계산 + [-8](마지막항)한 것으로 쉽게 계싼할 수 잇음. 대신 직전까지의 계산을 변수로 챙겨놓고 update시켜놨어야함.\r\n",
                "#   3. [-3, 4, -8]\r\n",
                "#   4. [7, -3, 4, -8]\r\n",
                "\r\n",
                "# ****\r\n",
                "#  4) [직전까지의 최대 전 조합들]+[-8]은... -8까지 이어지는 부분어서,    직전까지의정답이 짧은 구간에서 나온 경우   직전정답+[-8]로는 못푼다.\r\n",
                "\r\n",
                "#  **4) max(sum([-8]), sum([4, -8]), sum([-3, 4, -8]), sum([7, -3, 4, -8]))를 계산하는데 있어서도 <<< 직전까지의 계산값 >>>을 활용할 수 있다.**\r\n",
                "#  -- 직전까지의 계산 : [4]를 포함한 구간합 중 최대값. max(sum([4]), sum([-3, 4]), sum([7, -3, 4]))\r\n",
                "#  -- 3) [-8]과 4) 직전까지의 계산식의 최대값(2.3.4 중 1개 선택됨) + [-8]  을 비교하면 된다.-> 그럴려면, 직전까지의 계산도 변수에 담아서 update해와야한다.\r\n",
                "#  **greedy 등 [직전항과의 규칙 발견]시, <<직전까지의 정답>>뿐만 아니라, <<직전까지의 계산>>도 update로 받아와서 활용해 <<현재의 정답 >> by 직전까지의 정답 + 현재항[i] + <<현재의 계산>> by 직전까지의 계산 을 완성하자.**\r\n",
                "#  -- 직전항과의 규칙이 완성되면, for 1개로 update시켜 끝까지 갈 수 있다.\r\n",
                "\r\n",
                "#  **max_check_2 = max(sum([4]), sum([-3, 4]), sum([7, -3, 4]))을 구했을 때의 값 저장해놓았으면,\r\n",
                "#  **max_check_1 = max(max_check_2 - 8, -8) 이렇게 구할 수 있다.**\r\n",
                "\r\n",
                "# ****\r\n",
                "\r\n",
                "def sublist_max(profits):\r\n",
                "\r\n",
                "    max_profit_so_far = profits[0] # 1) 경우, 직전까지의 정답\r\n",
                "    max_calc_so_far = profits[0] # 2) 경우, 직전까지의 계산(직전항을 포함한 구간합최대) -> 직전까지의 계산을 빌려쓰고 싶어서, for문위변수에 담고 업데이트까지한다.\r\n",
                "\r\n",
                "    for i in range(1, len(profits)):\r\n",
                "        max_calc_so_far = max(profits[i], max_calc_so_far + profits[i] ) # 2)를 update(현재항 포함 구간합최대)하는 부분임.   max(현재항 단독, (vs)  직전까지의 계산(직전항을 포함하는 구간합최대) + 현재항)\r\n",
                "        max_profit_so_far = max(max_profit_so_far, max_calc_so_far)\r\n",
                "    \r\n",
                "    return max_profit_so_far\r\n",
                "\r\n",
                "\r\n",
                "# 테스트\r\n",
                "print(sublist_max([7, -3, 4, -8]))\r\n",
                "print(sublist_max([-2, -3, 4, -1, -2, 1, 5, -3, -1]))"
            ],
            "outputs": [
                {
                    "output_type": "stream",
                    "name": "stdout",
                    "text": [
                        "8\n",
                        "7\n"
                    ]
                }
            ],
            "metadata": {}
        },
        {
            "cell_type": "code",
            "execution_count": 3,
            "source": [
                "# 규식이2에서는 input(구간)의 divide를 억지로 n//2로 나누어 왼/오/교차의 부분문제를 풀었는데\r\n",
                "# 규식이3에서는 input을 피보나치처럼 << 부분문제인 함수(n-1)을 풀었다고 가정>>하고 재귀식을 완성한다.\r\n",
                "# profits = [7, -3, 4, -8]의 최대 수익은 아래 두 가지 중 하나 \r\n",
                "# 1) 부분 문제 [7, -3, 4]의 최대 수익 (sublist_max([7, -3, 4])) -> n-1의 부분문제 정답 -> 풀었다고 가정.\r\n",
                "#  - max_profit_so_far = sublist_max([7, -3, 4])\r\n",
                "# 2) 부분 문제 [7, -3, 4, -8]에서 <<모든 조합들에>> -8 을 포함한 구간의 최대 수익\r\n",
                "#   마지막 요소 -8가 <<반드시>>포함돼서 최대 수익이 기존 값에서 변하는 경우죠. -8가 포함되는 구간은 -8이 포함된 구간들은 총 네 개의 구간이 있습니다.\r\n",
                "#   1. [-8]     => **단독으로 마지막요소** (생각)\r\n",
                "#   2. [4, -8]  => 그외에 [직전 조합들] + [마지막요소] 합\r\n",
                "#   3. [-3, 4, -8]\r\n",
                "#   4. [7, -3, 4, -8]\r\n",
                "#  - max_check = max(sum([-8]), sum([4, -8]), sum([-3, 4, -8]), sum([7, -3, 4, -8]))\r\n",
                "# 3) 본래 문제 = max( 1), 2))\r\n",
                "#  - max_profit_so_far = max(max_profit_so_far, max_check)\r\n",
                "#   **divide를 마지막항 미포함/포함으로 나눈다면, 마지막항포함문제 ->  [미포함의 조합] + 마지막항 활용해서 max() 등을 사용해서 푼다.**\r\n",
                "#   **for문에서 현재(i)에 대한 직전항은 for문위에 띄워둔 변수에 저장되어있다고 가정하고 사용 -> 마지막에 업데이트**\r\n",
                "# 4) 직전을 활용하자.\r\n",
                "# 4-1) max_profit_so_far = sublist_max([7, -3, 4]) 이 정보는 바로 전 요소까지의 부분 문제의 답을 그대로 쓰면됨.(풀었다고 가정)\r\n",
                "#  **풀었다고 가정 -> 0번째는 1개의 값 그대로 넣어줌 -> for는 1부터 시작.**\r\n",
                "# 4-2) max_check_1 = max(sum([-8]), sum([4, -8]), sum([-3, 4, -8]), sum([7, -3, 4, -8]))\r\n",
                "#  **하나하나 계산할 필요 없이, 바로 전 부분 문제에서 계산한 \r\n",
                "#  **max_check_2 = max(sum([4]), sum([-3, 4]), sum([7, -3, 4]))을 구했을 때의 값 저장해놓았으면,\r\n",
                "#  **max_check_1 = max(max_check_2 - 8, -8) 이렇게 구할 수 있다.**\r\n",
                "#   n-1-1. [4]     \r\n",
                "#   n-1-2. [-3, 4]\r\n",
                "#   n-1-3. [7, -3, 4]\r\n",
                "\r\n",
                "#   1. [-8]     ==> 2) 마지막항까지\r\n",
                "#   2. [4, -8]  ==> 1) 직전까지의 마지막항 포함 조합들 + [-8](마지막항)한 것과, \r\n",
                "#   3. [-3, 4, -8]\r\n",
                "#   4. [7, -3, 4, -8]\r\n",
                "\r\n",
                "#  max( [직전까지들의 합] + (-8, 마지막항) , 마지막항)\r\n",
                "# - 직전까지들의합의 최대 = max_check그대로.\r\n",
                "# - 마지막항(-8) = profits[i](현재)\r\n",
                "# - for문끝에 업데이트 방법 : max_check = max( max_check + profits[i], profits[i])\r\n",
                "\r\n",
                "# 5) 본래문제 : max_profit_so_far(현재까지 최대수익)\r\n",
                "#               = max(  max_profit_so_far(직전까지 최대수익), max_check(막항포함최대수익) )\r\n",
                "\r\n",
                "# 즉, 마지막항을 포함한 부분문제도, 직전까지 구한 것(for문위변수)+ i로 구할 수 있다.\r\n",
                "def sublist_max(profits):\r\n",
                "    # 1) 마지막항 미포함 최대수익 = 직전까지의 최대수익\r\n",
                "    # - greedy문제로서, 직전까지 max 저장값 -> 0번째 값 넣고 1부터 시작하자.\r\n",
                "    # - 직전값을 활용해서 푸는데, 0번째 값에 현재항이 0이 될순 X\r\n",
                "    max_profit_so_far = profits[0] # 반복문에서 현재까지의 부분 문제의 답\r\n",
                "    # 2) 마지막항 포함 최대수익 -> for문 내부시에는 1), 2)을 max시켜야함.\r\n",
                "    # - default로는 0번째 값을 준다. 직전의 마지막포함 최대수익을 쪼개서 생각하여 활용해야한다.\r\n",
                "    # - 현재 마지막항 포함 최대수익 = (직전이 각 조합들 + 마지막항 더하기) + 마지막항 단독 새로 생김 -> 2개를 비교해야함.\r\n",
                "    max_check = profits[0] # 가장 끝 요소를 포함하는 구간의 최대 합\r\n",
                "    \r\n",
                "    # 반복문을 통하여 각 요소까지의 최대 수익을 저장한다\r\n",
                "    # - max로 갈아치우는 과정이기 때문에, default값을 0번째 요소를 이미 줘놨다. 1부터 시작하자.\r\n",
                "    for i in range(1, len(profits)):\r\n",
                "        # 새로운 요소를 포함하는 구간의 최대합을 비교를 통해 정한다\r\n",
                "        # for문 내부에서 업데이트할 현재 max_profit_so_far은 현재문제의 정답을 구하는 것이다. 바로 이게 나와선 안돈다.\r\n",
                "        # - max_profit_so_far = max( 1)직전까지의 정답 = max_profit_so_far, 2) 현재항포함 n-1변형문제)\r\n",
                "        # - 2)max_check가 먼저 해결되어야한다.\r\n",
                "        # - 현재 마지막항포함 n-1최대값  = 직전 마지막항포함 n-1 최대값조합들 + 마지막항(현재항)  vs  마지막항단독(현재항)\r\n",
                "        max_check = max(max_check + profits[i], profits[i])\r\n",
                "        \r\n",
                "        # 최대 구간 합을 비교를 통해 정한다\r\n",
                "        max_profit_so_far = max(max_profit_so_far, max_check)\r\n",
                "    \r\n",
                "    return max_profit_so_far\r\n",
                "\r\n",
                "# 테스트\r\n",
                "print(sublist_max([7, -3, 4, -8]))\r\n",
                "print(sublist_max([-2, -3, 4, -1, -2, 1, 5, -3, -1]))"
            ],
            "outputs": [
                {
                    "output_type": "stream",
                    "name": "stdout",
                    "text": [
                        "8\n",
                        "7\n"
                    ]
                }
            ],
            "metadata": {}
        },
        {
            "cell_type": "code",
            "execution_count": null,
            "source": [],
            "outputs": [],
            "metadata": {}
        },
        {
            "cell_type": "code",
            "execution_count": null,
            "source": [],
            "outputs": [],
            "metadata": {}
        }
    ],
    "metadata": {
        "orig_nbformat": 4,
        "language_info": {
            "name": "python",
            "version": "3.8.5",
            "mimetype": "text/x-python",
            "codemirror_mode": {
                "name": "ipython",
                "version": 3
            },
            "pygments_lexer": "ipython3",
            "nbconvert_exporter": "python",
            "file_extension": ".py"
        },
        "kernelspec": {
            "name": "python3",
            "display_name": "Python 3.8.5 64-bit (conda)"
        },
        "interpreter": {
            "hash": "b3ba2566441a7c06988d0923437866b63cedc61552a5af99d1f4fb67d367b25f"
        }
    },
    "nbformat": 4,
    "nbformat_minor": 2
}