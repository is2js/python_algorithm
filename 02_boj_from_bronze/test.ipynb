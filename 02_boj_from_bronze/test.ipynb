{
 "cells": [
  {
   "cell_type": "code",
   "execution_count": 28,
   "source": [
    "# !pip install pythonds\r\n",
    "from pythonds.basic.stack import Stack\r\n",
    "\r\n",
    "S = Stack()\r\n",
    "[x for x in dir(S) if '__' not in x ]\r\n",
    "\r\n",
    "type(S.items)"
   ],
   "outputs": [
    {
     "output_type": "execute_result",
     "data": {
      "text/plain": [
       "list"
      ]
     },
     "metadata": {},
     "execution_count": 28
    }
   ],
   "metadata": {}
  },
  {
   "cell_type": "markdown",
   "source": [],
   "metadata": {}
  },
  {
   "cell_type": "code",
   "execution_count": null,
   "source": [
    "class ArrayStack():\r\n",
    "    \r\n",
    "    def __init__(self):\r\n",
    "        self.data = [] \r\n",
    "\r\n",
    "    def size(self):\r\n",
    "        return len(self.data)\r\n",
    "    \r\n",
    "    def isEmpty(self):\r\n",
    "        return self.size == 0\r\n",
    "\r\n",
    "    def push(self, item):\r\n",
    "        self.data.append(item)\r\n",
    "\r\n",
    "    def pop(self):\r\n",
    "        return self.data.pop()\r\n",
    "\r\n",
    "    def peek(self):\r\n",
    "        return self.data[-1]\r\n"
   ],
   "outputs": [],
   "metadata": {}
  },
  {
   "cell_type": "code",
   "execution_count": 29,
   "source": [
    "# 서로 순서를 가진 것들을 stack에 넣어서 순서유지해야하는데,\r\n",
    "# 그 끝을 알려주는 매칭된 dict\r\n",
    "match = {\r\n",
    "    ')' : '(',\r\n",
    "    '}' : '{',\r\n",
    "    ']' : '[',\r\n",
    "}\r\n",
    "\r\n",
    "\r\n",
    "# 서로순서를 기억할 arraystack\r\n",
    "S = ArrayStack()\r\n",
    "\r\n",
    "\r\n",
    "expr = \"([ㅋㅋㅋㅇㄹ{ㄴㅇㄹ}ㄴㅁㅇㄹ]ㅁㄴㅇ)\"\r\n",
    "\r\n",
    "for c in expr:\r\n",
    "    # 일단 여는괄호를 만나면 push\r\n",
    "    if c in '({[':\r\n",
    "        S.push(c)\r\n",
    "    # 여는 괄호가 아닌, 닫는 괄호를 만나면, 여는 괄호를 꺼내야한다.\r\n",
    "    elif c in match:\r\n",
    "        # 꺼내기 전에 일단 있긴 한지 물어보자.\r\n",
    "        if S.isEmpty():\r\n",
    "            print(\"종료\")\r\n",
    "        else:\r\n",
    "            # 괄호를 꺼냈을 때, 그것은 매칭되는 열린괄호여야한다.\r\n",
    "            t = S.pop()\r\n",
    "            if match.get(c) != t:\r\n",
    "                print(\"종료\")\r\n",
    "\r\n",
    "# 열린괄호는 넣고 닫힌괄호는 직전꺼 pop해서 열린괄호와 매칭되는지 확인\r\n",
    "# 넣은 열린괄호수에 맞게 닫힌 괄호 검사후 아무것도 안남아야한다.\r\n",
    "print(S.isEmpty())\r\n",
    "\r\n",
    "\r\n",
    "\r\n",
    "\r\n"
   ],
   "outputs": [
    {
     "output_type": "error",
     "ename": "SyntaxError",
     "evalue": "unexpected EOF while parsing (<ipython-input-29-c22b1930af10>, line 19)",
     "traceback": [
      "\u001b[1;36m  File \u001b[1;32m\"<ipython-input-29-c22b1930af10>\"\u001b[1;36m, line \u001b[1;32m19\u001b[0m\n\u001b[1;33m    \u001b[0m\n\u001b[1;37m    ^\u001b[0m\n\u001b[1;31mSyntaxError\u001b[0m\u001b[1;31m:\u001b[0m unexpected EOF while parsing\n"
     ]
    }
   ],
   "metadata": {}
  },
  {
   "cell_type": "markdown",
   "source": [],
   "metadata": {}
  },
  {
   "cell_type": "markdown",
   "source": [],
   "metadata": {}
  },
  {
   "cell_type": "markdown",
   "source": [],
   "metadata": {}
  }
 ],
 "metadata": {
  "orig_nbformat": 4,
  "language_info": {
   "name": "python",
   "version": "3.8.5",
   "mimetype": "text/x-python",
   "codemirror_mode": {
    "name": "ipython",
    "version": 3
   },
   "pygments_lexer": "ipython3",
   "nbconvert_exporter": "python",
   "file_extension": ".py"
  },
  "kernelspec": {
   "name": "python3",
   "display_name": "Python 3.8.5 64-bit (conda)"
  },
  "interpreter": {
   "hash": "b3ba2566441a7c06988d0923437866b63cedc61552a5af99d1f4fb67d367b25f"
  }
 },
 "nbformat": 4,
 "nbformat_minor": 2
}