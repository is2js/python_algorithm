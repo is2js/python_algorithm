{
 "cells": [
  {
   "cell_type": "code",
   "execution_count": 6,
   "source": [
    "# Greedy종특 : N + unit_list를 받음.\r\n",
    "# - 여기선  input:N이 부분문제가 재귀로 안펼쳐짐. n-500 , n//2 의 수준이 아님.\r\n",
    "# **greedy는 문제에서 주어지는 것이 memo나 tabul과 비슷하게 (N,[단위리스트])형태지만, N이 범주형(N번째 등)가 아니라 숫자형(value)일 수 있으며, (value, [단위리스트])가 부분문제로 안나눠질 수 있다. 그럴 땐 탐욕적 속성이 풀리도록 update해서 풀어버린다. update과정에서 value가 unit_list(역순정렬, greedy)에 의해 기하급수적으로 쪼개진다.**\r\n",
    "# -- 1500 -> 500 + 1100? , 100 + 1400? (X)\r\n",
    "# -- 1500을 unit 제일 큰것으로 나눠서  1500//x 를 누적으로 세고 + 1500 % x를 가 부분문제의 input:N이 된다.\r\n",
    "# -- top-down이나, bottom-up의 순차적인 패턴이 아니다.\r\n",
    "# --> 할수있는 만큼 해버리는 greedy(그냥 1가지 방법으로 푸는) update방식이며, 부분문제가 없다.\r\n",
    "\r\n",
    "# - 부분문제(재귀)로 안풀고, 끝까지 1가지 방식으로 풀어버리는 greedy가 있다.\r\n",
    "\r\n",
    "def min_coin_count(money, coin_list):\r\n",
    "    # return: 사용된 동전의 갯수\r\n",
    "    curr_count = 0\r\n",
    "\r\n",
    "    # unit_list가 큰순으로 쓰일 예정인데, 정렬을 보장 못받음.\r\n",
    "    sorted_coin_list = sorted(coin_list, reverse=True)\r\n",
    "    # 동전을 큰순으로 시작해서, 몇개까지 들어가는지 세면서, 금액을 나머지로 업데이트 해준다.\r\n",
    "    for coin in sorted_coin_list:\r\n",
    "        count, money = divmod(money, coin)\r\n",
    "        curr_count += count\r\n",
    "    \r\n",
    "    return curr_count\r\n",
    "\r\n",
    "min_coin_count(23520,  [100, 500, 50, 10])\r\n",
    "\r\n",
    "\r\n",
    "\r\n",
    "\r\n"
   ],
   "outputs": [
    {
     "output_type": "execute_result",
     "data": {
      "text/plain": [
       "49"
      ]
     },
     "metadata": {},
     "execution_count": 6
    }
   ],
   "metadata": {}
  },
  {
   "cell_type": "code",
   "execution_count": 1,
   "source": [
    "def min_coin_count(value, coin_list):\r\n",
    "    \r\n",
    "\r\n",
    "# 테스트\r\n",
    "default_coin_list = [100, 500, 50, 10]\r\n",
    "\r\n",
    "print(min_coin_count(1440, default_coin_list))\r\n",
    "print(min_coin_count(1700, default_coin_list))\r\n",
    "print(min_coin_count(23520, default_coin_list))\r\n",
    "print(min_coin_count(32590, default_coin_list))"
   ],
   "outputs": [
    {
     "output_type": "error",
     "ename": "IndentationError",
     "evalue": "expected an indented block (<ipython-input-1-dfd5f421c205>, line 5)",
     "traceback": [
      "\u001b[1;36m  File \u001b[1;32m\"<ipython-input-1-dfd5f421c205>\"\u001b[1;36m, line \u001b[1;32m5\u001b[0m\n\u001b[1;33m    default_coin_list = [100, 500, 10, 50]\u001b[0m\n\u001b[1;37m    ^\u001b[0m\n\u001b[1;31mIndentationError\u001b[0m\u001b[1;31m:\u001b[0m expected an indented block\n"
     ]
    }
   ],
   "metadata": {}
  }
 ],
 "metadata": {
  "orig_nbformat": 4,
  "language_info": {
   "name": "python",
   "version": "3.8.5",
   "mimetype": "text/x-python",
   "codemirror_mode": {
    "name": "ipython",
    "version": 3
   },
   "pygments_lexer": "ipython3",
   "nbconvert_exporter": "python",
   "file_extension": ".py"
  },
  "kernelspec": {
   "name": "python3",
   "display_name": "Python 3.8.5 64-bit (conda)"
  },
  "interpreter": {
   "hash": "b3ba2566441a7c06988d0923437866b63cedc61552a5af99d1f4fb67d367b25f"
  }
 },
 "nbformat": 4,
 "nbformat_minor": 2
}